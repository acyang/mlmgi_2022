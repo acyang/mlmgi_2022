{
  "cells": [
    {
      "cell_type": "code",
      "execution_count": 2,
      "metadata": {
        "id": "4JPVMnBMO65U"
      },
      "outputs": [],
      "source": [
        "%matplotlib inline"
      ]
    },
    {
      "cell_type": "code",
      "execution_count": 3,
      "metadata": {},
      "outputs": [],
      "source": [
        "#!pip install tensorflow-addons"
      ]
    },
    {
      "cell_type": "code",
      "execution_count": 4,
      "metadata": {
        "id": "KqwBy20oO65Z",
        "outputId": "2915b469-0e6d-40a9-8e68-7519c4ba78e8"
      },
      "outputs": [],
      "source": [
        "import tensorflow as tf\n",
        "import tensorflow_addons as tfa\n",
        "import matplotlib.pyplot as plt\n",
        "import numpy as np\n",
        "\n",
        "from itertools import tee\n",
        "from sklearn.metrics import r2_score"
      ]
    },
    {
      "cell_type": "code",
      "execution_count": 5,
      "metadata": {},
      "outputs": [],
      "source": [
        "def fun( x ):\n",
        "    np.random.seed(685)\n",
        "    noise = np.random.normal(0, 0.1, size=x.shape) # 1st arg: mean of the distribution, 2nd arg: Standard deviation of the distribution\n",
        "    return np.power(x, 2) + noise"
      ]
    },
    {
      "cell_type": "code",
      "execution_count": 6,
      "metadata": {
        "id": "W9nUrCWaP7kU",
        "outputId": "2915b469-0e6d-40a9-8e68-7519c4ba78e8"
      },
      "outputs": [
        {
          "name": "stdout",
          "output_type": "stream",
          "text": [
            "(100, 1) (100, 1)\n"
          ]
        },
        {
          "data": {
            "image/png": "[encoded data removed]",
            "text/plain": [
              "<Figure size 432x288 with 1 Axes>"
            ]
          },
          "metadata": {
            "needs_background": "light"
          },
          "output_type": "display_data"
        }
      ],
      "source": [
        "tf.random.set_seed(342)\n",
        "\n",
        "# preparing dataset\n",
        "x = np.linspace(-1, 1, 100)[:, np.newaxis]          # shape (100, 1)\n",
        "#x = np.linspace(-1, 1, 100)[:, None]\n",
        "#x = np.linspace(-1, 1, 100).reshape(-1,1)\n",
        "\n",
        "# y =x^2\n",
        "#y = np.power(x, 2) + noise \n",
        "y = fun(x)                         # shape (100, 1) + white noise\n",
        "\n",
        "print(x.shape,y.shape)\n",
        "\n",
        "# plot data\n",
        "plt.scatter(x, y)\n",
        "plt.show()"
      ]
    },
    {
      "cell_type": "code",
      "execution_count": 7,
      "metadata": {},
      "outputs": [],
      "source": [
        "# Use these code in python > 3.10\n",
        "#from itertools import tee, pairwise\n",
        "#print( pairwise(df.iloc[:-1,0].items()) )"
      ]
    },
    {
      "cell_type": "code",
      "execution_count": 8,
      "metadata": {},
      "outputs": [],
      "source": [
        "from itertools import tee\n",
        "def pairwise(iterable):\n",
        "    # pairwise('ABCDEFG') --> AB BC CD DE EF FG\n",
        "    # copy iterable object, default n = 2\n",
        "    a, b = tee(iterable, 2)\n",
        "    # shift second iterable list\n",
        "    next(b, None)\n",
        "    # zip will concate two iterable objects, the length equals the shoest one.\n",
        "    return zip(a, b)"
      ]
    },
    {
      "cell_type": "code",
      "execution_count": 9,
      "metadata": {},
      "outputs": [
        {
          "data": {
            "image/png": "[encoded data removed]",
            "text/plain": [
              "<Figure size 432x288 with 1 Axes>"
            ]
          },
          "metadata": {
            "needs_background": "light"
          },
          "output_type": "display_data"
        }
      ],
      "source": [
        "middle = []\n",
        "formula_val = []\n",
        "for e1, e2 in pairwise(x):\n",
        "    middle.append( 0.5 * (e1+e2) )\n",
        "    formula_val.append( ( 0.5 * (e1+e2))**2 )\n",
        "\n",
        "x_val = np.array(middle)\n",
        "y_val = np.array(formula_val)\n",
        "\n",
        "plt.scatter(x, y)\n",
        "plt.scatter(x_val, y_val, color='r')\n",
        "plt.show()"
      ]
    },
    {
      "cell_type": "markdown",
      "metadata": {
        "id": "xCJTb0D0O65c"
      },
      "source": [
        "![nn](https://i.imgur.com/AboATTY.png)"
      ]
    },
    {
      "cell_type": "code",
      "execution_count": 10,
      "metadata": {},
      "outputs": [],
      "source": [
        "# Model Subclassing\n",
        "\n",
        "class network(tf.keras.Model):\n",
        "    def __init__(self):\n",
        "        super(network,self).__init__()\n",
        "        self.layer_1 = tf.keras.layers.Dense(2 , activation='relu')\n",
        "        self.layer_2 = tf.keras.layers.Dense(3 , activation='relu')\n",
        "        self.layer_3 = tf.keras.layers.Dense(3 , activation='relu')\n",
        "        self.layer_4 = tf.keras.layers.Dense(2 , activation='relu')\n",
        "        self.layer_5 = tf.keras.layers.Dense(1)\n",
        "        \n",
        "    def call(self,x):\n",
        "        x_1 = self.layer_1(x)\n",
        "        x_2 = self.layer_2(x_1)\n",
        "        x_3 = self.layer_3(x_2)\n",
        "        x_4 = self.layer_4(x_3)\n",
        "        predict = self.layer_5(x_4)\n",
        "        return predict\n",
        "\n",
        "model_sub = network()\n"
      ]
    },
    {
      "cell_type": "code",
      "execution_count": 12,
      "metadata": {},
      "outputs": [],
      "source": [
        "model_sub.compile(\n",
        "    optimizer=tf.keras.optimizers.Adam(learning_rate=0.001),  # Optimizer\n",
        "    # Loss function to minimize\n",
        "    loss=tf.keras.losses.MeanSquaredError(),\n",
        "    # List of metrics to monitor\n",
        "    metrics=[ tf.keras.metrics.MeanAbsoluteError(),\n",
        "        tf.keras.metrics.MeanSquaredError(), \n",
        "        tf.keras.metrics.RootMeanSquaredError()\n",
        "        ],\n",
        ")"
      ]
    },
    {
      "cell_type": "code",
      "execution_count": 13,
      "metadata": {},
      "outputs": [
        {
          "name": "stdout",
          "output_type": "stream",
          "text": [
            "Fit model on training data\n"
          ]
        },
        {
          "name": "stderr",
          "output_type": "stream",
          "text": [
            "Training:   0%|           0/1000 ETA: ?s,  ?epochs/s"
          ]
        },
        {
          "name": "stdout",
          "output_type": "stream",
          "text": [
            "Epoch 1/1000\n"
          ]
        },
        {
          "name": "stderr",
          "output_type": "stream",
          "text": [
            "2/2██████████ ETA: 00:00s - loss: 0.1118 - mean_absolute_error: 0.2433 - mean_squared_error: 0.1118 - root_mean_squared_error: 0.3343\n",
            "Training:   0%|           1/1000 ETA: 28:13s,   1.70s/epochs"
          ]
        },
        {
          "name": "stdout",
          "output_type": "stream",
          "text": [
            "Epoch 2/1000\n"
          ]
        },
        {
          "name": "stderr",
          "output_type": "stream",
          "text": [
            "2/2██████████ ETA: 00:00s - loss: 0.1060 - mean_absolute_error: 0.2355 - mean_squared_error: 0.1060 - root_mean_squared_error: 0.3256\n"
          ]
        },
        {
          "name": "stdout",
          "output_type": "stream",
          "text": [
            "Epoch 3/1000\n"
          ]
        },
        {
          "name": "stderr",
          "output_type": "stream",
          "text": [
            "2/2██████████ ETA: 00:00s - loss: 0.1003 - mean_absolute_error: 0.2278 - mean_squared_error: 0.1003 - root_mean_squared_error: 0.3167\n"
          ]
        },
        {
          "name": "stdout",
          "output_type": "stream",
          "text": [
            "Epoch 4/1000\n"
          ]
        },
        {
          "name": "stderr",
          "output_type": "stream",
          "text": [
            "2/2██████████ ETA: 00:00s - loss: 0.0953 - mean_absolute_error: 0.2209 - mean_squared_error: 0.0953 - root_mean_squared_error: 0.3086\n"
          ]
        },
        {
          "name": "stdout",
          "output_type": "stream",
          "text": [
            "Epoch 5/1000\n"
          ]
        },
        {
          "name": "stderr",
          "output_type": "stream",
          "text": [
            "2/2██████████ ETA: 00:00s - loss: 0.0902 - mean_absolute_error: 0.2150 - mean_squared_error: 0.0902 - root_mean_squared_error: 0.3004\n"
          ]
        },
        {
          "name": "stdout",
          "output_type": "stream",
          "text": [
            "Epoch 6/1000\n"
          ]
        },
        {
          "name": "stderr",
          "output_type": "stream",
          "text": [
            "2/2██████████ ETA: 00:00s - loss: 0.0854 - mean_absolute_error: 0.2088 - mean_squared_error: 0.0854 - root_mean_squared_error: 0.2922\n"
          ]
        },
        {
          "name": "stdout",
          "output_type": "stream",
          "text": [
            "Epoch 7/1000\n"
          ]
        },
        {
          "name": "stderr",
          "output_type": "stream",
          "text": [
            "2/2██████████ ETA: 00:00s - loss: 0.0805 - mean_absolute_error: 0.2025 - mean_squared_error: 0.0805 - root_mean_squared_error: 0.2838\n",
            "Training:   1%|           7/1000 ETA: 03:11s,   5.18epochs/s"
          ]
        },
        {
          "name": "stdout",
          "output_type": "stream",
          "text": [
            "Epoch 8/1000\n"
          ]
        },
        {
          "name": "stderr",
          "output_type": "stream",
          "text": [
            "2/2██████████ ETA: 00:00s - loss: 0.0762 - mean_absolute_error: 0.1972 - mean_squared_error: 0.0762 - root_mean_squared_error: 0.2760\n"
          ]
        },
        {
          "name": "stdout",
          "output_type": "stream",
          "text": [
            "Epoch 9/1000\n"
          ]
        },
        {
          "name": "stderr",
          "output_type": "stream",
          "text": [
            "2/2██████████ ETA: 00:00s - loss: 0.0724 - mean_absolute_error: 0.1926 - mean_squared_error: 0.0724 - root_mean_squared_error: 0.2690\n"
          ]
        },
        {
          "name": "stdout",
          "output_type": "stream",
          "text": [
            "Epoch 10/1000\n"
          ]
        },
        {
          "name": "stderr",
          "output_type": "stream",
          "text": [
            "2/2██████████ ETA: 00:00s - loss: 0.0685 - mean_absolute_error: 0.1878 - mean_squared_error: 0.0685 - root_mean_squared_error: 0.2617\n"
          ]
        },
        {
          "name": "stdout",
          "output_type": "stream",
          "text": [
            "Epoch 11/1000\n"
          ]
        },
        {
          "name": "stderr",
          "output_type": "stream",
          "text": [
            "2/2██████████ ETA: 00:00s - loss: 0.0652 - mean_absolute_error: 0.1846 - mean_squared_error: 0.0652 - root_mean_squared_error: 0.2553\n"
          ]
        },
        {
          "name": "stdout",
          "output_type": "stream",
          "text": [
            "Epoch 12/1000\n"
          ]
        },
        {
          "name": "stderr",
          "output_type": "stream",
          "text": [
            "2/2██████████ ETA: 00:00s - loss: 0.0617 - mean_absolute_error: 0.1809 - mean_squared_error: 0.0617 - root_mean_squared_error: 0.2484\n",
            "Training:   1%|           12/1000 ETA: 01:43s,   9.58epochs/s"
          ]
        },
        {
          "name": "stdout",
          "output_type": "stream",
          "text": [
            "Epoch 13/1000\n"
          ]
        },
        {
          "name": "stderr",
          "output_type": "stream",
          "text": [
            "2/2██████████ ETA: 00:00s - loss: 0.0590 - mean_absolute_error: 0.1782 - mean_squared_error: 0.0590 - root_mean_squared_error: 0.2429\n"
          ]
        },
        {
          "name": "stdout",
          "output_type": "stream",
          "text": [
            "Epoch 14/1000\n"
          ]
        },
        {
          "name": "stderr",
          "output_type": "stream",
          "text": [
            "2/2██████████ ETA: 00:00s - loss: 0.0563 - mean_absolute_error: 0.1753 - mean_squared_error: 0.0563 - root_mean_squared_error: 0.2373\n"
          ]
        },
        {
          "name": "stdout",
          "output_type": "stream",
          "text": [
            "Epoch 15/1000\n"
          ]
        },
        {
          "name": "stderr",
          "output_type": "stream",
          "text": [
            "2/2██████████ ETA: 00:00s - loss: 0.0538 - mean_absolute_error: 0.1732 - mean_squared_error: 0.0538 - root_mean_squared_error: 0.2321\n"
          ]
        },
        {
          "name": "stdout",
          "output_type": "stream",
          "text": [
            "Epoch 16/1000\n"
          ]
        },
        {
          "name": "stderr",
          "output_type": "stream",
          "text": [
            "2/2██████████ ETA: 00:00s - loss: 0.0520 - mean_absolute_error: 0.1720 - mean_squared_error: 0.0520 - root_mean_squared_error: 0.2281\n"
          ]
        },
        {
          "name": "stdout",
          "output_type": "stream",
          "text": [
            "Epoch 17/1000\n"
          ]
        },
        {
          "name": "stderr",
          "output_type": "stream",
          "text": [
            "2/2██████████ ETA: 00:00s - loss: 0.0500 - mean_absolute_error: 0.1705 - mean_squared_error: 0.0500 - root_mean_squared_error: 0.2236\n",
            "Training:   2%|▏          17/1000 ETA: 01:08s,  14.44epochs/s"
          ]
        },
        {
          "name": "stdout",
          "output_type": "stream",
          "text": [
            "Epoch 18/1000\n"
          ]
        },
        {
          "name": "stderr",
          "output_type": "stream",
          "text": [
            "2/2██████████ ETA: 00:00s - loss: 0.0487 - mean_absolute_error: 0.1699 - mean_squared_error: 0.0487 - root_mean_squared_error: 0.2208\n"
          ]
        },
        {
          "name": "stdout",
          "output_type": "stream",
          "text": [
            "Epoch 19/1000\n"
          ]
        },
        {
          "name": "stderr",
          "output_type": "stream",
          "text": [
            "2/2██████████ ETA: 00:00s - loss: 0.0473 - mean_absolute_error: 0.1689 - mean_squared_error: 0.0473 - root_mean_squared_error: 0.2175\n"
          ]
        },
        {
          "name": "stdout",
          "output_type": "stream",
          "text": [
            "Epoch 20/1000\n"
          ]
        },
        {
          "name": "stderr",
          "output_type": "stream",
          "text": [
            "2/2██████████ ETA: 00:00s - loss: 0.0460 - mean_absolute_error: 0.1680 - mean_squared_error: 0.0460 - root_mean_squared_error: 0.2145\n"
          ]
        },
        {
          "name": "stdout",
          "output_type": "stream",
          "text": [
            "Epoch 21/1000\n"
          ]
        },
        {
          "name": "stderr",
          "output_type": "stream",
          "text": [
            "2/2██████████ ETA: 00:00s - loss: 0.0452 - mean_absolute_error: 0.1683 - mean_squared_error: 0.0452 - root_mean_squared_error: 0.2127\n"
          ]
        },
        {
          "name": "stdout",
          "output_type": "stream",
          "text": [
            "Epoch 22/1000\n"
          ]
        },
        {
          "name": "stderr",
          "output_type": "stream",
          "text": [
            "2/2██████████ ETA: 00:00s - loss: 0.0442 - mean_absolute_error: 0.1679 - mean_squared_error: 0.0442 - root_mean_squared_error: 0.2103\n"
          ]
        },
        {
          "name": "stdout",
          "output_type": "stream",
          "text": [
            "Epoch 23/1000\n"
          ]
        },
        {
          "name": "stderr",
          "output_type": "stream",
          "text": [
            "2/2██████████ ETA: 00:00s - loss: 0.0439 - mean_absolute_error: 0.1688 - mean_squared_error: 0.0439 - root_mean_squared_error: 0.2094\n",
            "Training:   2%|▏          23/1000 ETA: 00:47s,  20.65epochs/s"
          ]
        },
        {
          "name": "stdout",
          "output_type": "stream",
          "text": [
            "Epoch 24/1000\n"
          ]
        },
        {
          "name": "stderr",
          "output_type": "stream",
          "text": [
            "2/2██████████ ETA: 00:00s - loss: 0.0432 - mean_absolute_error: 0.1690 - mean_squared_error: 0.0432 - root_mean_squared_error: 0.2078\n"
          ]
        },
        {
          "name": "stdout",
          "output_type": "stream",
          "text": [
            "Epoch 25/1000\n"
          ]
        },
        {
          "name": "stderr",
          "output_type": "stream",
          "text": [
            "2/2██████████ ETA: 00:00s - loss: 0.0427 - mean_absolute_error: 0.1693 - mean_squared_error: 0.0427 - root_mean_squared_error: 0.2067\n"
          ]
        },
        {
          "name": "stdout",
          "output_type": "stream",
          "text": [
            "Epoch 26/1000\n"
          ]
        },
        {
          "name": "stderr",
          "output_type": "stream",
          "text": [
            "2/2██████████ ETA: 00:00s - loss: 0.0424 - mean_absolute_error: 0.1698 - mean_squared_error: 0.0424 - root_mean_squared_error: 0.2059\n"
          ]
        },
        {
          "name": "stdout",
          "output_type": "stream",
          "text": [
            "Epoch 27/1000\n"
          ]
        },
        {
          "name": "stderr",
          "output_type": "stream",
          "text": [
            "2/2██████████ ETA: 00:00s - loss: 0.0421 - mean_absolute_error: 0.1700 - mean_squared_error: 0.0421 - root_mean_squared_error: 0.2052\n"
          ]
        },
        {
          "name": "stdout",
          "output_type": "stream",
          "text": [
            "Epoch 28/1000\n"
          ]
        },
        {
          "name": "stderr",
          "output_type": "stream",
          "text": [
            "2/2██████████ ETA: 00:00s - loss: 0.0418 - mean_absolute_error: 0.1698 - mean_squared_error: 0.0418 - root_mean_squared_error: 0.2044\n",
            "Training:   3%|▎          28/1000 ETA: 00:37s,  25.61epochs/s"
          ]
        },
        {
          "name": "stdout",
          "output_type": "stream",
          "text": [
            "Epoch 29/1000\n"
          ]
        },
        {
          "name": "stderr",
          "output_type": "stream",
          "text": [
            "2/2██████████ ETA: 00:00s - loss: 0.0414 - mean_absolute_error: 0.1697 - mean_squared_error: 0.0414 - root_mean_squared_error: 0.2035\n"
          ]
        },
        {
          "name": "stdout",
          "output_type": "stream",
          "text": [
            "Epoch 30/1000\n"
          ]
        },
        {
          "name": "stderr",
          "output_type": "stream",
          "text": [
            "2/2██████████ ETA: 00:00s - loss: 0.0412 - mean_absolute_error: 0.1696 - mean_squared_error: 0.0412 - root_mean_squared_error: 0.2031\n"
          ]
        },
        {
          "name": "stdout",
          "output_type": "stream",
          "text": [
            "Epoch 31/1000\n"
          ]
        },
        {
          "name": "stderr",
          "output_type": "stream",
          "text": [
            "2/2██████████ ETA: 00:00s - loss: 0.0409 - mean_absolute_error: 0.1692 - mean_squared_error: 0.0409 - root_mean_squared_error: 0.2023\n"
          ]
        },
        {
          "name": "stdout",
          "output_type": "stream",
          "text": [
            "Epoch 32/1000\n"
          ]
        },
        {
          "name": "stderr",
          "output_type": "stream",
          "text": [
            "2/2██████████ ETA: 00:00s - loss: 0.0407 - mean_absolute_error: 0.1690 - mean_squared_error: 0.0407 - root_mean_squared_error: 0.2017\n"
          ]
        },
        {
          "name": "stdout",
          "output_type": "stream",
          "text": [
            "Epoch 33/1000\n"
          ]
        },
        {
          "name": "stderr",
          "output_type": "stream",
          "text": [
            "2/2██████████ ETA: 00:00s - loss: 0.0404 - mean_absolute_error: 0.1685 - mean_squared_error: 0.0404 - root_mean_squared_error: 0.2010\n"
          ]
        },
        {
          "name": "stdout",
          "output_type": "stream",
          "text": [
            "Epoch 34/1000\n"
          ]
        },
        {
          "name": "stderr",
          "output_type": "stream",
          "text": [
            "2/2██████████ ETA: 00:00s - loss: 0.0401 - mean_absolute_error: 0.1680 - mean_squared_error: 0.0401 - root_mean_squared_error: 0.2002\n",
            "Training:   3%|▎          34/1000 ETA: 00:30s,  31.43epochs/s"
          ]
        },
        {
          "name": "stdout",
          "output_type": "stream",
          "text": [
            "Epoch 35/1000\n"
          ]
        },
        {
          "name": "stderr",
          "output_type": "stream",
          "text": [
            "2/2██████████ ETA: 00:00s - loss: 0.0398 - mean_absolute_error: 0.1674 - mean_squared_error: 0.0398 - root_mean_squared_error: 0.1996\n"
          ]
        },
        {
          "name": "stdout",
          "output_type": "stream",
          "text": [
            "Epoch 36/1000\n"
          ]
        },
        {
          "name": "stderr",
          "output_type": "stream",
          "text": [
            "2/2██████████ ETA: 00:00s - loss: 0.0395 - mean_absolute_error: 0.1667 - mean_squared_error: 0.0395 - root_mean_squared_error: 0.1988\n"
          ]
        },
        {
          "name": "stdout",
          "output_type": "stream",
          "text": [
            "Epoch 37/1000\n"
          ]
        },
        {
          "name": "stderr",
          "output_type": "stream",
          "text": [
            "2/2██████████ ETA: 00:00s - loss: 0.0392 - mean_absolute_error: 0.1659 - mean_squared_error: 0.0392 - root_mean_squared_error: 0.1980\n"
          ]
        },
        {
          "name": "stdout",
          "output_type": "stream",
          "text": [
            "Epoch 38/1000\n"
          ]
        },
        {
          "name": "stderr",
          "output_type": "stream",
          "text": [
            "2/2██████████ ETA: 00:00s - loss: 0.0388 - mean_absolute_error: 0.1650 - mean_squared_error: 0.0388 - root_mean_squared_error: 0.1971\n"
          ]
        },
        {
          "name": "stdout",
          "output_type": "stream",
          "text": [
            "Epoch 39/1000\n"
          ]
        },
        {
          "name": "stderr",
          "output_type": "stream",
          "text": [
            "2/2██████████ ETA: 00:00s - loss: 0.0385 - mean_absolute_error: 0.1641 - mean_squared_error: 0.0385 - root_mean_squared_error: 0.1962\n",
            "Training:   4%|▍          39/1000 ETA: 00:27s,  35.33epochs/s"
          ]
        },
        {
          "name": "stdout",
          "output_type": "stream",
          "text": [
            "Epoch 40/1000\n"
          ]
        },
        {
          "name": "stderr",
          "output_type": "stream",
          "text": [
            "2/2██████████ ETA: 00:00s - loss: 0.0382 - mean_absolute_error: 0.1633 - mean_squared_error: 0.0382 - root_mean_squared_error: 0.1954\n"
          ]
        },
        {
          "name": "stdout",
          "output_type": "stream",
          "text": [
            "Epoch 41/1000\n"
          ]
        },
        {
          "name": "stderr",
          "output_type": "stream",
          "text": [
            "2/2██████████ ETA: 00:00s - loss: 0.0379 - mean_absolute_error: 0.1624 - mean_squared_error: 0.0379 - root_mean_squared_error: 0.1946\n"
          ]
        },
        {
          "name": "stdout",
          "output_type": "stream",
          "text": [
            "Epoch 42/1000\n"
          ]
        },
        {
          "name": "stderr",
          "output_type": "stream",
          "text": [
            "2/2██████████ ETA: 00:00s - loss: 0.0375 - mean_absolute_error: 0.1615 - mean_squared_error: 0.0375 - root_mean_squared_error: 0.1937\n"
          ]
        },
        {
          "name": "stdout",
          "output_type": "stream",
          "text": [
            "Epoch 43/1000\n"
          ]
        },
        {
          "name": "stderr",
          "output_type": "stream",
          "text": [
            "2/2██████████ ETA: 00:00s - loss: 0.0372 - mean_absolute_error: 0.1606 - mean_squared_error: 0.0372 - root_mean_squared_error: 0.1928\n"
          ]
        },
        {
          "name": "stdout",
          "output_type": "stream",
          "text": [
            "Epoch 44/1000\n"
          ]
        },
        {
          "name": "stderr",
          "output_type": "stream",
          "text": [
            "2/2██████████ ETA: 00:00s - loss: 0.0368 - mean_absolute_error: 0.1597 - mean_squared_error: 0.0368 - root_mean_squared_error: 0.1919\n"
          ]
        },
        {
          "name": "stdout",
          "output_type": "stream",
          "text": [
            "Epoch 45/1000\n"
          ]
        },
        {
          "name": "stderr",
          "output_type": "stream",
          "text": [
            "2/2██████████ ETA: 00:00s - loss: 0.0365 - mean_absolute_error: 0.1588 - mean_squared_error: 0.0365 - root_mean_squared_error: 0.1910\n",
            "Training:   4%|▍          45/1000 ETA: 00:24s,  39.10epochs/s"
          ]
        },
        {
          "name": "stdout",
          "output_type": "stream",
          "text": [
            "Epoch 46/1000\n"
          ]
        },
        {
          "name": "stderr",
          "output_type": "stream",
          "text": [
            "2/2██████████ ETA: 00:00s - loss: 0.0361 - mean_absolute_error: 0.1578 - mean_squared_error: 0.0361 - root_mean_squared_error: 0.1901\n"
          ]
        },
        {
          "name": "stdout",
          "output_type": "stream",
          "text": [
            "Epoch 47/1000\n"
          ]
        },
        {
          "name": "stderr",
          "output_type": "stream",
          "text": [
            "2/2██████████ ETA: 00:00s - loss: 0.0358 - mean_absolute_error: 0.1568 - mean_squared_error: 0.0358 - root_mean_squared_error: 0.1892\n"
          ]
        },
        {
          "name": "stdout",
          "output_type": "stream",
          "text": [
            "Epoch 48/1000\n"
          ]
        },
        {
          "name": "stderr",
          "output_type": "stream",
          "text": [
            "2/2██████████ ETA: 00:00s - loss: 0.0354 - mean_absolute_error: 0.1558 - mean_squared_error: 0.0354 - root_mean_squared_error: 0.1883\n"
          ]
        },
        {
          "name": "stdout",
          "output_type": "stream",
          "text": [
            "Epoch 49/1000\n"
          ]
        },
        {
          "name": "stderr",
          "output_type": "stream",
          "text": [
            "2/2██████████ ETA: 00:00s - loss: 0.0351 - mean_absolute_error: 0.1547 - mean_squared_error: 0.0351 - root_mean_squared_error: 0.1873\n"
          ]
        },
        {
          "name": "stdout",
          "output_type": "stream",
          "text": [
            "Epoch 50/1000\n"
          ]
        },
        {
          "name": "stderr",
          "output_type": "stream",
          "text": [
            "2/2██████████ ETA: 00:00s - loss: 0.0348 - mean_absolute_error: 0.1537 - mean_squared_error: 0.0348 - root_mean_squared_error: 0.1864\n",
            "Training:   5%|▌          50/1000 ETA: 00:23s,  41.25epochs/s"
          ]
        },
        {
          "name": "stdout",
          "output_type": "stream",
          "text": [
            "Epoch 51/1000\n"
          ]
        },
        {
          "name": "stderr",
          "output_type": "stream",
          "text": [
            "2/2██████████ ETA: 00:00s - loss: 0.0344 - mean_absolute_error: 0.1527 - mean_squared_error: 0.0344 - root_mean_squared_error: 0.1855\n"
          ]
        },
        {
          "name": "stdout",
          "output_type": "stream",
          "text": [
            "Epoch 52/1000\n"
          ]
        },
        {
          "name": "stderr",
          "output_type": "stream",
          "text": [
            "2/2██████████ ETA: 00:00s - loss: 0.0341 - mean_absolute_error: 0.1516 - mean_squared_error: 0.0341 - root_mean_squared_error: 0.1847\n"
          ]
        },
        {
          "name": "stdout",
          "output_type": "stream",
          "text": [
            "Epoch 53/1000\n"
          ]
        },
        {
          "name": "stderr",
          "output_type": "stream",
          "text": [
            "2/2██████████ ETA: 00:00s - loss: 0.0338 - mean_absolute_error: 0.1505 - mean_squared_error: 0.0338 - root_mean_squared_error: 0.1837\n"
          ]
        },
        {
          "name": "stdout",
          "output_type": "stream",
          "text": [
            "Epoch 54/1000\n"
          ]
        },
        {
          "name": "stderr",
          "output_type": "stream",
          "text": [
            "2/2██████████ ETA: 00:00s - loss: 0.0334 - mean_absolute_error: 0.1495 - mean_squared_error: 0.0334 - root_mean_squared_error: 0.1828\n"
          ]
        },
        {
          "name": "stdout",
          "output_type": "stream",
          "text": [
            "Epoch 55/1000\n"
          ]
        },
        {
          "name": "stderr",
          "output_type": "stream",
          "text": [
            "2/2██████████ ETA: 00:00s - loss: 0.0331 - mean_absolute_error: 0.1485 - mean_squared_error: 0.0331 - root_mean_squared_error: 0.1819\n"
          ]
        },
        {
          "name": "stdout",
          "output_type": "stream",
          "text": [
            "Epoch 56/1000\n"
          ]
        },
        {
          "name": "stderr",
          "output_type": "stream",
          "text": [
            "2/2██████████ ETA: 00:00s - loss: 0.0328 - mean_absolute_error: 0.1475 - mean_squared_error: 0.0328 - root_mean_squared_error: 0.1810\n",
            "Training:   6%|▌          56/1000 ETA: 00:21s,  43.45epochs/s"
          ]
        },
        {
          "name": "stdout",
          "output_type": "stream",
          "text": [
            "Epoch 57/1000\n"
          ]
        },
        {
          "name": "stderr",
          "output_type": "stream",
          "text": [
            "2/2██████████ ETA: 00:00s - loss: 0.0324 - mean_absolute_error: 0.1465 - mean_squared_error: 0.0324 - root_mean_squared_error: 0.1801\n"
          ]
        },
        {
          "name": "stdout",
          "output_type": "stream",
          "text": [
            "Epoch 58/1000\n"
          ]
        },
        {
          "name": "stderr",
          "output_type": "stream",
          "text": [
            "2/2██████████ ETA: 00:00s - loss: 0.0321 - mean_absolute_error: 0.1456 - mean_squared_error: 0.0321 - root_mean_squared_error: 0.1792\n"
          ]
        },
        {
          "name": "stdout",
          "output_type": "stream",
          "text": [
            "Epoch 59/1000\n"
          ]
        },
        {
          "name": "stderr",
          "output_type": "stream",
          "text": [
            "2/2██████████ ETA: 00:00s - loss: 0.0318 - mean_absolute_error: 0.1448 - mean_squared_error: 0.0318 - root_mean_squared_error: 0.1783\n"
          ]
        },
        {
          "name": "stdout",
          "output_type": "stream",
          "text": [
            "Epoch 60/1000\n"
          ]
        },
        {
          "name": "stderr",
          "output_type": "stream",
          "text": [
            "2/2██████████ ETA: 00:00s - loss: 0.0314 - mean_absolute_error: 0.1438 - mean_squared_error: 0.0314 - root_mean_squared_error: 0.1772\n"
          ]
        },
        {
          "name": "stdout",
          "output_type": "stream",
          "text": [
            "Epoch 61/1000\n"
          ]
        },
        {
          "name": "stderr",
          "output_type": "stream",
          "text": [
            "2/2██████████ ETA: 00:00s - loss: 0.0311 - mean_absolute_error: 0.1428 - mean_squared_error: 0.0311 - root_mean_squared_error: 0.1763\n",
            "Training:   6%|▌          61/1000 ETA: 00:20s,  44.95epochs/s"
          ]
        },
        {
          "name": "stdout",
          "output_type": "stream",
          "text": [
            "Epoch 62/1000\n"
          ]
        },
        {
          "name": "stderr",
          "output_type": "stream",
          "text": [
            "2/2██████████ ETA: 00:00s - loss: 0.0307 - mean_absolute_error: 0.1419 - mean_squared_error: 0.0307 - root_mean_squared_error: 0.1753\n"
          ]
        },
        {
          "name": "stdout",
          "output_type": "stream",
          "text": [
            "Epoch 63/1000\n"
          ]
        },
        {
          "name": "stderr",
          "output_type": "stream",
          "text": [
            "2/2██████████ ETA: 00:00s - loss: 0.0304 - mean_absolute_error: 0.1409 - mean_squared_error: 0.0304 - root_mean_squared_error: 0.1743\n"
          ]
        },
        {
          "name": "stdout",
          "output_type": "stream",
          "text": [
            "Epoch 64/1000\n"
          ]
        },
        {
          "name": "stderr",
          "output_type": "stream",
          "text": [
            "2/2██████████ ETA: 00:00s - loss: 0.0301 - mean_absolute_error: 0.1400 - mean_squared_error: 0.0301 - root_mean_squared_error: 0.1734\n"
          ]
        },
        {
          "name": "stdout",
          "output_type": "stream",
          "text": [
            "Epoch 65/1000\n"
          ]
        },
        {
          "name": "stderr",
          "output_type": "stream",
          "text": [
            "2/2██████████ ETA: 00:00s - loss: 0.0297 - mean_absolute_error: 0.1391 - mean_squared_error: 0.0297 - root_mean_squared_error: 0.1724\n"
          ]
        },
        {
          "name": "stdout",
          "output_type": "stream",
          "text": [
            "Epoch 66/1000\n"
          ]
        },
        {
          "name": "stderr",
          "output_type": "stream",
          "text": [
            "2/2██████████ ETA: 00:00s - loss: 0.0294 - mean_absolute_error: 0.1383 - mean_squared_error: 0.0294 - root_mean_squared_error: 0.1714\n",
            "Training:   7%|▋          66/1000 ETA: 00:22s,  42.32epochs/s"
          ]
        },
        {
          "name": "stdout",
          "output_type": "stream",
          "text": [
            "Epoch 67/1000\n"
          ]
        },
        {
          "name": "stderr",
          "output_type": "stream",
          "text": [
            "2/2██████████ ETA: 00:00s - loss: 0.0290 - mean_absolute_error: 0.1374 - mean_squared_error: 0.0290 - root_mean_squared_error: 0.1704\n"
          ]
        },
        {
          "name": "stdout",
          "output_type": "stream",
          "text": [
            "Epoch 68/1000\n"
          ]
        },
        {
          "name": "stderr",
          "output_type": "stream",
          "text": [
            "2/2██████████ ETA: 00:00s - loss: 0.0287 - mean_absolute_error: 0.1366 - mean_squared_error: 0.0287 - root_mean_squared_error: 0.1693\n"
          ]
        },
        {
          "name": "stdout",
          "output_type": "stream",
          "text": [
            "Epoch 69/1000\n"
          ]
        },
        {
          "name": "stderr",
          "output_type": "stream",
          "text": [
            "2/2██████████ ETA: 00:00s - loss: 0.0283 - mean_absolute_error: 0.1357 - mean_squared_error: 0.0283 - root_mean_squared_error: 0.1683\n"
          ]
        },
        {
          "name": "stdout",
          "output_type": "stream",
          "text": [
            "Epoch 70/1000\n"
          ]
        },
        {
          "name": "stderr",
          "output_type": "stream",
          "text": [
            "2/2██████████ ETA: 00:00s - loss: 0.0280 - mean_absolute_error: 0.1349 - mean_squared_error: 0.0280 - root_mean_squared_error: 0.1674\n"
          ]
        },
        {
          "name": "stdout",
          "output_type": "stream",
          "text": [
            "Epoch 71/1000\n"
          ]
        },
        {
          "name": "stderr",
          "output_type": "stream",
          "text": [
            "2/2██████████ ETA: 00:00s - loss: 0.0277 - mean_absolute_error: 0.1342 - mean_squared_error: 0.0277 - root_mean_squared_error: 0.1664\n",
            "Training:   7%|▋          71/1000 ETA: 00:21s,  43.81epochs/s"
          ]
        },
        {
          "name": "stdout",
          "output_type": "stream",
          "text": [
            "Epoch 72/1000\n"
          ]
        },
        {
          "name": "stderr",
          "output_type": "stream",
          "text": [
            "2/2██████████ ETA: 00:00s - loss: 0.0274 - mean_absolute_error: 0.1333 - mean_squared_error: 0.0274 - root_mean_squared_error: 0.1654\n"
          ]
        },
        {
          "name": "stdout",
          "output_type": "stream",
          "text": [
            "Epoch 73/1000\n"
          ]
        },
        {
          "name": "stderr",
          "output_type": "stream",
          "text": [
            "2/2██████████ ETA: 00:00s - loss: 0.0270 - mean_absolute_error: 0.1324 - mean_squared_error: 0.0270 - root_mean_squared_error: 0.1644\n"
          ]
        },
        {
          "name": "stdout",
          "output_type": "stream",
          "text": [
            "Epoch 74/1000\n"
          ]
        },
        {
          "name": "stderr",
          "output_type": "stream",
          "text": [
            "2/2██████████ ETA: 00:00s - loss: 0.0267 - mean_absolute_error: 0.1314 - mean_squared_error: 0.0267 - root_mean_squared_error: 0.1634\n"
          ]
        },
        {
          "name": "stdout",
          "output_type": "stream",
          "text": [
            "Epoch 75/1000\n"
          ]
        },
        {
          "name": "stderr",
          "output_type": "stream",
          "text": [
            "2/2██████████ ETA: 00:00s - loss: 0.0264 - mean_absolute_error: 0.1304 - mean_squared_error: 0.0264 - root_mean_squared_error: 0.1624\n"
          ]
        },
        {
          "name": "stdout",
          "output_type": "stream",
          "text": [
            "Epoch 76/1000\n"
          ]
        },
        {
          "name": "stderr",
          "output_type": "stream",
          "text": [
            "2/2██████████ ETA: 00:00s - loss: 0.0261 - mean_absolute_error: 0.1295 - mean_squared_error: 0.0261 - root_mean_squared_error: 0.1615\n"
          ]
        },
        {
          "name": "stdout",
          "output_type": "stream",
          "text": [
            "Epoch 77/1000\n"
          ]
        },
        {
          "name": "stderr",
          "output_type": "stream",
          "text": [
            "2/2██████████ ETA: 00:00s - loss: 0.0257 - mean_absolute_error: 0.1285 - mean_squared_error: 0.0257 - root_mean_squared_error: 0.1604\n",
            "Training:   8%|▊          77/1000 ETA: 00:19s,  46.57epochs/s"
          ]
        },
        {
          "name": "stdout",
          "output_type": "stream",
          "text": [
            "Epoch 78/1000\n"
          ]
        },
        {
          "name": "stderr",
          "output_type": "stream",
          "text": [
            "2/2██████████ ETA: 00:00s - loss: 0.0254 - mean_absolute_error: 0.1275 - mean_squared_error: 0.0254 - root_mean_squared_error: 0.1594\n"
          ]
        },
        {
          "name": "stdout",
          "output_type": "stream",
          "text": [
            "Epoch 79/1000\n"
          ]
        },
        {
          "name": "stderr",
          "output_type": "stream",
          "text": [
            "2/2██████████ ETA: 00:00s - loss: 0.0251 - mean_absolute_error: 0.1266 - mean_squared_error: 0.0251 - root_mean_squared_error: 0.1585\n"
          ]
        },
        {
          "name": "stdout",
          "output_type": "stream",
          "text": [
            "Epoch 80/1000\n"
          ]
        },
        {
          "name": "stderr",
          "output_type": "stream",
          "text": [
            "2/2██████████ ETA: 00:00s - loss: 0.0248 - mean_absolute_error: 0.1256 - mean_squared_error: 0.0248 - root_mean_squared_error: 0.1575\n"
          ]
        },
        {
          "name": "stdout",
          "output_type": "stream",
          "text": [
            "Epoch 81/1000\n"
          ]
        },
        {
          "name": "stderr",
          "output_type": "stream",
          "text": [
            "2/2██████████ ETA: 00:00s - loss: 0.0245 - mean_absolute_error: 0.1247 - mean_squared_error: 0.0245 - root_mean_squared_error: 0.1565\n"
          ]
        },
        {
          "name": "stdout",
          "output_type": "stream",
          "text": [
            "Epoch 82/1000\n"
          ]
        },
        {
          "name": "stderr",
          "output_type": "stream",
          "text": [
            "2/2██████████ ETA: 00:00s - loss: 0.0242 - mean_absolute_error: 0.1237 - mean_squared_error: 0.0242 - root_mean_squared_error: 0.1555\n",
            "Training:   8%|▊          82/1000 ETA: 00:19s,  47.36epochs/s"
          ]
        },
        {
          "name": "stdout",
          "output_type": "stream",
          "text": [
            "Epoch 83/1000\n"
          ]
        },
        {
          "name": "stderr",
          "output_type": "stream",
          "text": [
            "2/2██████████ ETA: 00:00s - loss: 0.0239 - mean_absolute_error: 0.1228 - mean_squared_error: 0.0239 - root_mean_squared_error: 0.1546\n"
          ]
        },
        {
          "name": "stdout",
          "output_type": "stream",
          "text": [
            "Epoch 84/1000\n"
          ]
        },
        {
          "name": "stderr",
          "output_type": "stream",
          "text": [
            "2/2██████████ ETA: 00:00s - loss: 0.0236 - mean_absolute_error: 0.1218 - mean_squared_error: 0.0236 - root_mean_squared_error: 0.1536\n"
          ]
        },
        {
          "name": "stdout",
          "output_type": "stream",
          "text": [
            "Epoch 85/1000\n"
          ]
        },
        {
          "name": "stderr",
          "output_type": "stream",
          "text": [
            "2/2██████████ ETA: 00:00s - loss: 0.0233 - mean_absolute_error: 0.1210 - mean_squared_error: 0.0233 - root_mean_squared_error: 0.1526\n"
          ]
        },
        {
          "name": "stdout",
          "output_type": "stream",
          "text": [
            "Epoch 86/1000\n"
          ]
        },
        {
          "name": "stderr",
          "output_type": "stream",
          "text": [
            "2/2██████████ ETA: 00:00s - loss: 0.0230 - mean_absolute_error: 0.1202 - mean_squared_error: 0.0230 - root_mean_squared_error: 0.1517\n"
          ]
        },
        {
          "name": "stdout",
          "output_type": "stream",
          "text": [
            "Epoch 87/1000\n"
          ]
        },
        {
          "name": "stderr",
          "output_type": "stream",
          "text": [
            "2/2██████████ ETA: 00:00s - loss: 0.0227 - mean_absolute_error: 0.1192 - mean_squared_error: 0.0227 - root_mean_squared_error: 0.1506\n"
          ]
        },
        {
          "name": "stdout",
          "output_type": "stream",
          "text": [
            "Epoch 88/1000\n"
          ]
        },
        {
          "name": "stderr",
          "output_type": "stream",
          "text": [
            "2/2██████████ ETA: 00:00s - loss: 0.0224 - mean_absolute_error: 0.1184 - mean_squared_error: 0.0224 - root_mean_squared_error: 0.1497\n",
            "Training:   9%|▉          88/1000 ETA: 00:18s,  49.22epochs/s"
          ]
        },
        {
          "name": "stdout",
          "output_type": "stream",
          "text": [
            "Epoch 89/1000\n"
          ]
        },
        {
          "name": "stderr",
          "output_type": "stream",
          "text": [
            "2/2██████████ ETA: 00:00s - loss: 0.0221 - mean_absolute_error: 0.1176 - mean_squared_error: 0.0221 - root_mean_squared_error: 0.1487\n"
          ]
        },
        {
          "name": "stdout",
          "output_type": "stream",
          "text": [
            "Epoch 90/1000\n"
          ]
        },
        {
          "name": "stderr",
          "output_type": "stream",
          "text": [
            "2/2██████████ ETA: 00:00s - loss: 0.0218 - mean_absolute_error: 0.1168 - mean_squared_error: 0.0218 - root_mean_squared_error: 0.1478\n"
          ]
        },
        {
          "name": "stdout",
          "output_type": "stream",
          "text": [
            "Epoch 91/1000\n"
          ]
        },
        {
          "name": "stderr",
          "output_type": "stream",
          "text": [
            "2/2██████████ ETA: 00:00s - loss: 0.0216 - mean_absolute_error: 0.1159 - mean_squared_error: 0.0216 - root_mean_squared_error: 0.1468\n"
          ]
        },
        {
          "name": "stdout",
          "output_type": "stream",
          "text": [
            "Epoch 92/1000\n"
          ]
        },
        {
          "name": "stderr",
          "output_type": "stream",
          "text": [
            "2/2██████████ ETA: 00:00s - loss: 0.0212 - mean_absolute_error: 0.1149 - mean_squared_error: 0.0212 - root_mean_squared_error: 0.1458\n"
          ]
        },
        {
          "name": "stdout",
          "output_type": "stream",
          "text": [
            "Epoch 93/1000\n"
          ]
        },
        {
          "name": "stderr",
          "output_type": "stream",
          "text": [
            "2/2██████████ ETA: 00:00s - loss: 0.0210 - mean_absolute_error: 0.1139 - mean_squared_error: 0.0210 - root_mean_squared_error: 0.1448\n"
          ]
        },
        {
          "name": "stdout",
          "output_type": "stream",
          "text": [
            "Epoch 94/1000\n"
          ]
        },
        {
          "name": "stderr",
          "output_type": "stream",
          "text": [
            "2/2██████████ ETA: 00:00s - loss: 0.0207 - mean_absolute_error: 0.1129 - mean_squared_error: 0.0207 - root_mean_squared_error: 0.1438\n",
            "Training:   9%|▉          94/1000 ETA: 00:18s,  50.26epochs/s"
          ]
        },
        {
          "name": "stdout",
          "output_type": "stream",
          "text": [
            "Epoch 95/1000\n"
          ]
        },
        {
          "name": "stderr",
          "output_type": "stream",
          "text": [
            "2/2██████████ ETA: 00:00s - loss: 0.0204 - mean_absolute_error: 0.1119 - mean_squared_error: 0.0204 - root_mean_squared_error: 0.1428\n"
          ]
        },
        {
          "name": "stdout",
          "output_type": "stream",
          "text": [
            "Epoch 96/1000\n"
          ]
        },
        {
          "name": "stderr",
          "output_type": "stream",
          "text": [
            "2/2██████████ ETA: 00:00s - loss: 0.0201 - mean_absolute_error: 0.1109 - mean_squared_error: 0.0201 - root_mean_squared_error: 0.1418\n"
          ]
        },
        {
          "name": "stdout",
          "output_type": "stream",
          "text": [
            "Epoch 97/1000\n"
          ]
        },
        {
          "name": "stderr",
          "output_type": "stream",
          "text": [
            "2/2██████████ ETA: 00:00s - loss: 0.0198 - mean_absolute_error: 0.1097 - mean_squared_error: 0.0198 - root_mean_squared_error: 0.1407\n"
          ]
        },
        {
          "name": "stdout",
          "output_type": "stream",
          "text": [
            "Epoch 98/1000\n"
          ]
        },
        {
          "name": "stderr",
          "output_type": "stream",
          "text": [
            "2/2██████████ ETA: 00:00s - loss: 0.0195 - mean_absolute_error: 0.1087 - mean_squared_error: 0.0195 - root_mean_squared_error: 0.1397\n"
          ]
        },
        {
          "name": "stdout",
          "output_type": "stream",
          "text": [
            "Epoch 99/1000\n"
          ]
        },
        {
          "name": "stderr",
          "output_type": "stream",
          "text": [
            "2/2██████████ ETA: 00:00s - loss: 0.0192 - mean_absolute_error: 0.1075 - mean_squared_error: 0.0192 - root_mean_squared_error: 0.1386\n"
          ]
        },
        {
          "name": "stdout",
          "output_type": "stream",
          "text": [
            "Epoch 100/1000\n"
          ]
        },
        {
          "name": "stderr",
          "output_type": "stream",
          "text": [
            "2/2██████████ ETA: 00:00s - loss: 0.0189 - mean_absolute_error: 0.1064 - mean_squared_error: 0.0189 - root_mean_squared_error: 0.1374\n",
            "Training:  10%|█          100/1000 ETA: 00:18s,  49.70epochs/s"
          ]
        },
        {
          "name": "stdout",
          "output_type": "stream",
          "text": [
            "Epoch 101/1000\n"
          ]
        },
        {
          "name": "stderr",
          "output_type": "stream",
          "text": [
            "2/2██████████ ETA: 00:00s - loss: 0.0186 - mean_absolute_error: 0.1053 - mean_squared_error: 0.0186 - root_mean_squared_error: 0.1363\n"
          ]
        },
        {
          "name": "stdout",
          "output_type": "stream",
          "text": [
            "Epoch 102/1000\n"
          ]
        },
        {
          "name": "stderr",
          "output_type": "stream",
          "text": [
            "2/2██████████ ETA: 00:00s - loss: 0.0183 - mean_absolute_error: 0.1041 - mean_squared_error: 0.0183 - root_mean_squared_error: 0.1351\n"
          ]
        },
        {
          "name": "stdout",
          "output_type": "stream",
          "text": [
            "Epoch 103/1000\n"
          ]
        },
        {
          "name": "stderr",
          "output_type": "stream",
          "text": [
            "2/2██████████ ETA: 00:00s - loss: 0.0179 - mean_absolute_error: 0.1031 - mean_squared_error: 0.0179 - root_mean_squared_error: 0.1338\n"
          ]
        },
        {
          "name": "stdout",
          "output_type": "stream",
          "text": [
            "Epoch 104/1000\n"
          ]
        },
        {
          "name": "stderr",
          "output_type": "stream",
          "text": [
            "2/2██████████ ETA: 00:00s - loss: 0.0176 - mean_absolute_error: 0.1020 - mean_squared_error: 0.0176 - root_mean_squared_error: 0.1326\n"
          ]
        },
        {
          "name": "stdout",
          "output_type": "stream",
          "text": [
            "Epoch 105/1000\n"
          ]
        },
        {
          "name": "stderr",
          "output_type": "stream",
          "text": [
            "2/2██████████ ETA: 00:00s - loss: 0.0172 - mean_absolute_error: 0.1010 - mean_squared_error: 0.0172 - root_mean_squared_error: 0.1313\n"
          ]
        },
        {
          "name": "stdout",
          "output_type": "stream",
          "text": [
            "Epoch 106/1000\n"
          ]
        },
        {
          "name": "stderr",
          "output_type": "stream",
          "text": [
            "2/2██████████ ETA: 00:00s - loss: 0.0169 - mean_absolute_error: 0.1002 - mean_squared_error: 0.0169 - root_mean_squared_error: 0.1302\n",
            "Training:  11%|█          106/1000 ETA: 00:17s,  50.21epochs/s"
          ]
        },
        {
          "name": "stdout",
          "output_type": "stream",
          "text": [
            "Epoch 107/1000\n"
          ]
        },
        {
          "name": "stderr",
          "output_type": "stream",
          "text": [
            "2/2██████████ ETA: 00:00s - loss: 0.0167 - mean_absolute_error: 0.0994 - mean_squared_error: 0.0167 - root_mean_squared_error: 0.1291\n"
          ]
        },
        {
          "name": "stdout",
          "output_type": "stream",
          "text": [
            "Epoch 108/1000\n"
          ]
        },
        {
          "name": "stderr",
          "output_type": "stream",
          "text": [
            "2/2██████████ ETA: 00:00s - loss: 0.0165 - mean_absolute_error: 0.0988 - mean_squared_error: 0.0165 - root_mean_squared_error: 0.1284\n"
          ]
        },
        {
          "name": "stdout",
          "output_type": "stream",
          "text": [
            "Epoch 109/1000\n"
          ]
        },
        {
          "name": "stderr",
          "output_type": "stream",
          "text": [
            "2/2██████████ ETA: 00:00s - loss: 0.0163 - mean_absolute_error: 0.0985 - mean_squared_error: 0.0163 - root_mean_squared_error: 0.1277\n"
          ]
        },
        {
          "name": "stdout",
          "output_type": "stream",
          "text": [
            "Epoch 110/1000\n"
          ]
        },
        {
          "name": "stderr",
          "output_type": "stream",
          "text": [
            "2/2██████████ ETA: 00:00s - loss: 0.0161 - mean_absolute_error: 0.0980 - mean_squared_error: 0.0161 - root_mean_squared_error: 0.1270\n"
          ]
        },
        {
          "name": "stdout",
          "output_type": "stream",
          "text": [
            "Epoch 111/1000\n"
          ]
        },
        {
          "name": "stderr",
          "output_type": "stream",
          "text": [
            "2/2██████████ ETA: 00:00s - loss: 0.0159 - mean_absolute_error: 0.0975 - mean_squared_error: 0.0159 - root_mean_squared_error: 0.1262\n"
          ]
        },
        {
          "name": "stdout",
          "output_type": "stream",
          "text": [
            "Epoch 112/1000\n"
          ]
        },
        {
          "name": "stderr",
          "output_type": "stream",
          "text": [
            "2/2██████████ ETA: 00:00s - loss: 0.0157 - mean_absolute_error: 0.0970 - mean_squared_error: 0.0157 - root_mean_squared_error: 0.1254\n",
            "Training:  11%|█          112/1000 ETA: 00:17s,  49.87epochs/s"
          ]
        },
        {
          "name": "stdout",
          "output_type": "stream",
          "text": [
            "Epoch 113/1000\n"
          ]
        },
        {
          "name": "stderr",
          "output_type": "stream",
          "text": [
            "2/2██████████ ETA: 00:00s - loss: 0.0156 - mean_absolute_error: 0.0967 - mean_squared_error: 0.0156 - root_mean_squared_error: 0.1248\n"
          ]
        },
        {
          "name": "stdout",
          "output_type": "stream",
          "text": [
            "Epoch 114/1000\n"
          ]
        },
        {
          "name": "stderr",
          "output_type": "stream",
          "text": [
            "2/2██████████ ETA: 00:00s - loss: 0.0153 - mean_absolute_error: 0.0960 - mean_squared_error: 0.0153 - root_mean_squared_error: 0.1239\n"
          ]
        },
        {
          "name": "stdout",
          "output_type": "stream",
          "text": [
            "Epoch 115/1000\n"
          ]
        },
        {
          "name": "stderr",
          "output_type": "stream",
          "text": [
            "2/2██████████ ETA: 00:00s - loss: 0.0152 - mean_absolute_error: 0.0955 - mean_squared_error: 0.0152 - root_mean_squared_error: 0.1234\n"
          ]
        },
        {
          "name": "stdout",
          "output_type": "stream",
          "text": [
            "Epoch 116/1000\n"
          ]
        },
        {
          "name": "stderr",
          "output_type": "stream",
          "text": [
            "2/2██████████ ETA: 00:00s - loss: 0.0151 - mean_absolute_error: 0.0950 - mean_squared_error: 0.0151 - root_mean_squared_error: 0.1227\n"
          ]
        },
        {
          "name": "stdout",
          "output_type": "stream",
          "text": [
            "Epoch 117/1000\n"
          ]
        },
        {
          "name": "stderr",
          "output_type": "stream",
          "text": [
            "2/2██████████ ETA: 00:00s - loss: 0.0149 - mean_absolute_error: 0.0944 - mean_squared_error: 0.0149 - root_mean_squared_error: 0.1222\n"
          ]
        },
        {
          "name": "stdout",
          "output_type": "stream",
          "text": [
            "Epoch 118/1000\n"
          ]
        },
        {
          "name": "stderr",
          "output_type": "stream",
          "text": [
            "2/2██████████ ETA: 00:00s - loss: 0.0148 - mean_absolute_error: 0.0937 - mean_squared_error: 0.0148 - root_mean_squared_error: 0.1215\n",
            "Training:  12%|█▏         118/1000 ETA: 00:19s,  46.40epochs/s"
          ]
        },
        {
          "name": "stdout",
          "output_type": "stream",
          "text": [
            "Epoch 119/1000\n"
          ]
        },
        {
          "name": "stderr",
          "output_type": "stream",
          "text": [
            "2/2██████████ ETA: 00:00s - loss: 0.0146 - mean_absolute_error: 0.0931 - mean_squared_error: 0.0146 - root_mean_squared_error: 0.1210\n"
          ]
        },
        {
          "name": "stdout",
          "output_type": "stream",
          "text": [
            "Epoch 120/1000\n"
          ]
        },
        {
          "name": "stderr",
          "output_type": "stream",
          "text": [
            "2/2██████████ ETA: 00:00s - loss: 0.0145 - mean_absolute_error: 0.0927 - mean_squared_error: 0.0145 - root_mean_squared_error: 0.1206\n"
          ]
        },
        {
          "name": "stdout",
          "output_type": "stream",
          "text": [
            "Epoch 121/1000\n"
          ]
        },
        {
          "name": "stderr",
          "output_type": "stream",
          "text": [
            "2/2██████████ ETA: 00:00s - loss: 0.0144 - mean_absolute_error: 0.0923 - mean_squared_error: 0.0144 - root_mean_squared_error: 0.1201\n"
          ]
        },
        {
          "name": "stdout",
          "output_type": "stream",
          "text": [
            "Epoch 122/1000\n"
          ]
        },
        {
          "name": "stderr",
          "output_type": "stream",
          "text": [
            "2/2██████████ ETA: 00:00s - loss: 0.0143 - mean_absolute_error: 0.0919 - mean_squared_error: 0.0143 - root_mean_squared_error: 0.1197\n"
          ]
        },
        {
          "name": "stdout",
          "output_type": "stream",
          "text": [
            "Epoch 123/1000\n"
          ]
        },
        {
          "name": "stderr",
          "output_type": "stream",
          "text": [
            "2/2██████████ ETA: 00:00s - loss: 0.0142 - mean_absolute_error: 0.0915 - mean_squared_error: 0.0142 - root_mean_squared_error: 0.1192\n",
            "Training:  12%|█▏         123/1000 ETA: 00:18s,  47.03epochs/s"
          ]
        },
        {
          "name": "stdout",
          "output_type": "stream",
          "text": [
            "Epoch 124/1000\n"
          ]
        },
        {
          "name": "stderr",
          "output_type": "stream",
          "text": [
            "2/2██████████ ETA: 00:00s - loss: 0.0141 - mean_absolute_error: 0.0910 - mean_squared_error: 0.0141 - root_mean_squared_error: 0.1187\n"
          ]
        },
        {
          "name": "stdout",
          "output_type": "stream",
          "text": [
            "Epoch 125/1000\n"
          ]
        },
        {
          "name": "stderr",
          "output_type": "stream",
          "text": [
            "2/2██████████ ETA: 00:00s - loss: 0.0140 - mean_absolute_error: 0.0907 - mean_squared_error: 0.0140 - root_mean_squared_error: 0.1183\n"
          ]
        },
        {
          "name": "stdout",
          "output_type": "stream",
          "text": [
            "Epoch 126/1000\n"
          ]
        },
        {
          "name": "stderr",
          "output_type": "stream",
          "text": [
            "2/2██████████ ETA: 00:00s - loss: 0.0139 - mean_absolute_error: 0.0904 - mean_squared_error: 0.0139 - root_mean_squared_error: 0.1179\n"
          ]
        },
        {
          "name": "stdout",
          "output_type": "stream",
          "text": [
            "Epoch 127/1000\n"
          ]
        },
        {
          "name": "stderr",
          "output_type": "stream",
          "text": [
            "2/2██████████ ETA: 00:00s - loss: 0.0138 - mean_absolute_error: 0.0900 - mean_squared_error: 0.0138 - root_mean_squared_error: 0.1174\n"
          ]
        },
        {
          "name": "stdout",
          "output_type": "stream",
          "text": [
            "Epoch 128/1000\n"
          ]
        },
        {
          "name": "stderr",
          "output_type": "stream",
          "text": [
            "2/2██████████ ETA: 00:00s - loss: 0.0137 - mean_absolute_error: 0.0898 - mean_squared_error: 0.0137 - root_mean_squared_error: 0.1171\n",
            "Training:  13%|█▎         128/1000 ETA: 00:18s,  47.49epochs/s"
          ]
        },
        {
          "name": "stdout",
          "output_type": "stream",
          "text": [
            "Epoch 129/1000\n"
          ]
        },
        {
          "name": "stderr",
          "output_type": "stream",
          "text": [
            "2/2██████████ ETA: 00:00s - loss: 0.0136 - mean_absolute_error: 0.0895 - mean_squared_error: 0.0136 - root_mean_squared_error: 0.1167\n"
          ]
        },
        {
          "name": "stdout",
          "output_type": "stream",
          "text": [
            "Epoch 130/1000\n"
          ]
        },
        {
          "name": "stderr",
          "output_type": "stream",
          "text": [
            "2/2██████████ ETA: 00:00s - loss: 0.0136 - mean_absolute_error: 0.0893 - mean_squared_error: 0.0136 - root_mean_squared_error: 0.1164\n"
          ]
        },
        {
          "name": "stdout",
          "output_type": "stream",
          "text": [
            "Epoch 131/1000\n"
          ]
        },
        {
          "name": "stderr",
          "output_type": "stream",
          "text": [
            "2/2██████████ ETA: 00:00s - loss: 0.0135 - mean_absolute_error: 0.0890 - mean_squared_error: 0.0135 - root_mean_squared_error: 0.1161\n"
          ]
        },
        {
          "name": "stdout",
          "output_type": "stream",
          "text": [
            "Epoch 132/1000\n"
          ]
        },
        {
          "name": "stderr",
          "output_type": "stream",
          "text": [
            "2/2██████████ ETA: 00:00s - loss: 0.0134 - mean_absolute_error: 0.0887 - mean_squared_error: 0.0134 - root_mean_squared_error: 0.1158\n"
          ]
        },
        {
          "name": "stdout",
          "output_type": "stream",
          "text": [
            "Epoch 133/1000\n"
          ]
        },
        {
          "name": "stderr",
          "output_type": "stream",
          "text": [
            "2/2██████████ ETA: 00:00s - loss: 0.0133 - mean_absolute_error: 0.0884 - mean_squared_error: 0.0133 - root_mean_squared_error: 0.1154\n",
            "Training:  13%|█▎         133/1000 ETA: 00:18s,  47.40epochs/s"
          ]
        },
        {
          "name": "stdout",
          "output_type": "stream",
          "text": [
            "Epoch 134/1000\n"
          ]
        },
        {
          "name": "stderr",
          "output_type": "stream",
          "text": [
            "2/2██████████ ETA: 00:00s - loss: 0.0132 - mean_absolute_error: 0.0881 - mean_squared_error: 0.0132 - root_mean_squared_error: 0.1151\n"
          ]
        },
        {
          "name": "stdout",
          "output_type": "stream",
          "text": [
            "Epoch 135/1000\n"
          ]
        },
        {
          "name": "stderr",
          "output_type": "stream",
          "text": [
            "2/2██████████ ETA: 00:00s - loss: 0.0132 - mean_absolute_error: 0.0879 - mean_squared_error: 0.0132 - root_mean_squared_error: 0.1149\n"
          ]
        },
        {
          "name": "stdout",
          "output_type": "stream",
          "text": [
            "Epoch 136/1000\n"
          ]
        },
        {
          "name": "stderr",
          "output_type": "stream",
          "text": [
            "2/2██████████ ETA: 00:00s - loss: 0.0132 - mean_absolute_error: 0.0877 - mean_squared_error: 0.0132 - root_mean_squared_error: 0.1147\n"
          ]
        },
        {
          "name": "stdout",
          "output_type": "stream",
          "text": [
            "Epoch 137/1000\n"
          ]
        },
        {
          "name": "stderr",
          "output_type": "stream",
          "text": [
            "2/2██████████ ETA: 00:00s - loss: 0.0131 - mean_absolute_error: 0.0874 - mean_squared_error: 0.0131 - root_mean_squared_error: 0.1144\n"
          ]
        },
        {
          "name": "stdout",
          "output_type": "stream",
          "text": [
            "Epoch 138/1000\n"
          ]
        },
        {
          "name": "stderr",
          "output_type": "stream",
          "text": [
            "2/2██████████ ETA: 00:00s - loss: 0.0130 - mean_absolute_error: 0.0872 - mean_squared_error: 0.0130 - root_mean_squared_error: 0.1141\n",
            "Training:  14%|█▍         138/1000 ETA: 00:18s,  47.63epochs/s"
          ]
        },
        {
          "name": "stdout",
          "output_type": "stream",
          "text": [
            "Epoch 139/1000\n"
          ]
        },
        {
          "name": "stderr",
          "output_type": "stream",
          "text": [
            "2/2██████████ ETA: 00:00s - loss: 0.0130 - mean_absolute_error: 0.0870 - mean_squared_error: 0.0130 - root_mean_squared_error: 0.1139\n"
          ]
        },
        {
          "name": "stdout",
          "output_type": "stream",
          "text": [
            "Epoch 140/1000\n"
          ]
        },
        {
          "name": "stderr",
          "output_type": "stream",
          "text": [
            "2/2██████████ ETA: 00:00s - loss: 0.0129 - mean_absolute_error: 0.0866 - mean_squared_error: 0.0129 - root_mean_squared_error: 0.1136\n"
          ]
        },
        {
          "name": "stdout",
          "output_type": "stream",
          "text": [
            "Epoch 141/1000\n"
          ]
        },
        {
          "name": "stderr",
          "output_type": "stream",
          "text": [
            "2/2██████████ ETA: 00:00s - loss: 0.0129 - mean_absolute_error: 0.0864 - mean_squared_error: 0.0129 - root_mean_squared_error: 0.1134\n"
          ]
        },
        {
          "name": "stdout",
          "output_type": "stream",
          "text": [
            "Epoch 142/1000\n"
          ]
        },
        {
          "name": "stderr",
          "output_type": "stream",
          "text": [
            "2/2██████████ ETA: 00:00s - loss: 0.0128 - mean_absolute_error: 0.0862 - mean_squared_error: 0.0128 - root_mean_squared_error: 0.1131\n"
          ]
        },
        {
          "name": "stdout",
          "output_type": "stream",
          "text": [
            "Epoch 143/1000\n"
          ]
        },
        {
          "name": "stderr",
          "output_type": "stream",
          "text": [
            "2/2██████████ ETA: 00:00s - loss: 0.0128 - mean_absolute_error: 0.0860 - mean_squared_error: 0.0128 - root_mean_squared_error: 0.1130\n",
            "Training:  14%|█▍         143/1000 ETA: 00:18s,  46.03epochs/s"
          ]
        },
        {
          "name": "stdout",
          "output_type": "stream",
          "text": [
            "Epoch 144/1000\n"
          ]
        },
        {
          "name": "stderr",
          "output_type": "stream",
          "text": [
            "2/2██████████ ETA: 00:00s - loss: 0.0127 - mean_absolute_error: 0.0858 - mean_squared_error: 0.0127 - root_mean_squared_error: 0.1127\n"
          ]
        },
        {
          "name": "stdout",
          "output_type": "stream",
          "text": [
            "Epoch 145/1000\n"
          ]
        },
        {
          "name": "stderr",
          "output_type": "stream",
          "text": [
            "2/2██████████ ETA: 00:00s - loss: 0.0127 - mean_absolute_error: 0.0856 - mean_squared_error: 0.0127 - root_mean_squared_error: 0.1125\n"
          ]
        },
        {
          "name": "stdout",
          "output_type": "stream",
          "text": [
            "Epoch 146/1000\n"
          ]
        },
        {
          "name": "stderr",
          "output_type": "stream",
          "text": [
            "2/2██████████ ETA: 00:00s - loss: 0.0126 - mean_absolute_error: 0.0855 - mean_squared_error: 0.0126 - root_mean_squared_error: 0.1123\n"
          ]
        },
        {
          "name": "stdout",
          "output_type": "stream",
          "text": [
            "Epoch 147/1000\n"
          ]
        },
        {
          "name": "stderr",
          "output_type": "stream",
          "text": [
            "2/2██████████ ETA: 00:00s - loss: 0.0126 - mean_absolute_error: 0.0853 - mean_squared_error: 0.0126 - root_mean_squared_error: 0.1121\n"
          ]
        },
        {
          "name": "stdout",
          "output_type": "stream",
          "text": [
            "Epoch 148/1000\n"
          ]
        },
        {
          "name": "stderr",
          "output_type": "stream",
          "text": [
            "2/2██████████ ETA: 00:00s - loss: 0.0125 - mean_absolute_error: 0.0850 - mean_squared_error: 0.0125 - root_mean_squared_error: 0.1119\n",
            "Training:  15%|█▍         148/1000 ETA: 00:18s,  45.83epochs/s"
          ]
        },
        {
          "name": "stdout",
          "output_type": "stream",
          "text": [
            "Epoch 149/1000\n"
          ]
        },
        {
          "name": "stderr",
          "output_type": "stream",
          "text": [
            "2/2██████████ ETA: 00:00s - loss: 0.0125 - mean_absolute_error: 0.0848 - mean_squared_error: 0.0125 - root_mean_squared_error: 0.1117\n"
          ]
        },
        {
          "name": "stdout",
          "output_type": "stream",
          "text": [
            "Epoch 150/1000\n"
          ]
        },
        {
          "name": "stderr",
          "output_type": "stream",
          "text": [
            "2/2██████████ ETA: 00:00s - loss: 0.0124 - mean_absolute_error: 0.0846 - mean_squared_error: 0.0124 - root_mean_squared_error: 0.1115\n"
          ]
        },
        {
          "name": "stdout",
          "output_type": "stream",
          "text": [
            "Epoch 151/1000\n"
          ]
        },
        {
          "name": "stderr",
          "output_type": "stream",
          "text": [
            "2/2██████████ ETA: 00:00s - loss: 0.0124 - mean_absolute_error: 0.0844 - mean_squared_error: 0.0124 - root_mean_squared_error: 0.1113\n"
          ]
        },
        {
          "name": "stdout",
          "output_type": "stream",
          "text": [
            "Epoch 152/1000\n"
          ]
        },
        {
          "name": "stderr",
          "output_type": "stream",
          "text": [
            "2/2██████████ ETA: 00:00s - loss: 0.0124 - mean_absolute_error: 0.0842 - mean_squared_error: 0.0124 - root_mean_squared_error: 0.1112\n"
          ]
        },
        {
          "name": "stdout",
          "output_type": "stream",
          "text": [
            "Epoch 153/1000\n"
          ]
        },
        {
          "name": "stderr",
          "output_type": "stream",
          "text": [
            "2/2██████████ ETA: 00:00s - loss: 0.0123 - mean_absolute_error: 0.0840 - mean_squared_error: 0.0123 - root_mean_squared_error: 0.1109\n",
            "Training:  15%|█▌         153/1000 ETA: 00:18s,  46.54epochs/s"
          ]
        },
        {
          "name": "stdout",
          "output_type": "stream",
          "text": [
            "Epoch 154/1000\n"
          ]
        },
        {
          "name": "stderr",
          "output_type": "stream",
          "text": [
            "2/2██████████ ETA: 00:00s - loss: 0.0123 - mean_absolute_error: 0.0838 - mean_squared_error: 0.0123 - root_mean_squared_error: 0.1108\n"
          ]
        },
        {
          "name": "stdout",
          "output_type": "stream",
          "text": [
            "Epoch 155/1000\n"
          ]
        },
        {
          "name": "stderr",
          "output_type": "stream",
          "text": [
            "2/2██████████ ETA: 00:00s - loss: 0.0122 - mean_absolute_error: 0.0837 - mean_squared_error: 0.0122 - root_mean_squared_error: 0.1106\n"
          ]
        },
        {
          "name": "stdout",
          "output_type": "stream",
          "text": [
            "Epoch 156/1000\n"
          ]
        },
        {
          "name": "stderr",
          "output_type": "stream",
          "text": [
            "2/2██████████ ETA: 00:00s - loss: 0.0122 - mean_absolute_error: 0.0834 - mean_squared_error: 0.0122 - root_mean_squared_error: 0.1103\n"
          ]
        },
        {
          "name": "stdout",
          "output_type": "stream",
          "text": [
            "Epoch 157/1000\n"
          ]
        },
        {
          "name": "stderr",
          "output_type": "stream",
          "text": [
            "2/2██████████ ETA: 00:00s - loss: 0.0121 - mean_absolute_error: 0.0833 - mean_squared_error: 0.0121 - root_mean_squared_error: 0.1101\n"
          ]
        },
        {
          "name": "stdout",
          "output_type": "stream",
          "text": [
            "Epoch 158/1000\n"
          ]
        },
        {
          "name": "stderr",
          "output_type": "stream",
          "text": [
            "2/2██████████ ETA: 00:00s - loss: 0.0121 - mean_absolute_error: 0.0831 - mean_squared_error: 0.0121 - root_mean_squared_error: 0.1100\n",
            "Training:  16%|█▌         158/1000 ETA: 00:18s,  46.05epochs/s"
          ]
        },
        {
          "name": "stdout",
          "output_type": "stream",
          "text": [
            "Epoch 159/1000\n"
          ]
        },
        {
          "name": "stderr",
          "output_type": "stream",
          "text": [
            "2/2██████████ ETA: 00:00s - loss: 0.0120 - mean_absolute_error: 0.0829 - mean_squared_error: 0.0120 - root_mean_squared_error: 0.1098\n"
          ]
        },
        {
          "name": "stdout",
          "output_type": "stream",
          "text": [
            "Epoch 160/1000\n"
          ]
        },
        {
          "name": "stderr",
          "output_type": "stream",
          "text": [
            "2/2██████████ ETA: 00:00s - loss: 0.0120 - mean_absolute_error: 0.0827 - mean_squared_error: 0.0120 - root_mean_squared_error: 0.1095\n"
          ]
        },
        {
          "name": "stdout",
          "output_type": "stream",
          "text": [
            "Epoch 161/1000\n"
          ]
        },
        {
          "name": "stderr",
          "output_type": "stream",
          "text": [
            "2/2██████████ ETA: 00:00s - loss: 0.0119 - mean_absolute_error: 0.0826 - mean_squared_error: 0.0119 - root_mean_squared_error: 0.1093\n"
          ]
        },
        {
          "name": "stdout",
          "output_type": "stream",
          "text": [
            "Epoch 162/1000\n"
          ]
        },
        {
          "name": "stderr",
          "output_type": "stream",
          "text": [
            "2/2██████████ ETA: 00:00s - loss: 0.0119 - mean_absolute_error: 0.0824 - mean_squared_error: 0.0119 - root_mean_squared_error: 0.1091\n"
          ]
        },
        {
          "name": "stdout",
          "output_type": "stream",
          "text": [
            "Epoch 163/1000\n"
          ]
        },
        {
          "name": "stderr",
          "output_type": "stream",
          "text": [
            "2/2██████████ ETA: 00:00s - loss: 0.0119 - mean_absolute_error: 0.0823 - mean_squared_error: 0.0119 - root_mean_squared_error: 0.1089\n",
            "Training:  16%|█▋         163/1000 ETA: 00:18s,  46.06epochs/s"
          ]
        },
        {
          "name": "stdout",
          "output_type": "stream",
          "text": [
            "Epoch 164/1000\n"
          ]
        },
        {
          "name": "stderr",
          "output_type": "stream",
          "text": [
            "2/2██████████ ETA: 00:00s - loss: 0.0118 - mean_absolute_error: 0.0821 - mean_squared_error: 0.0118 - root_mean_squared_error: 0.1086\n"
          ]
        },
        {
          "name": "stdout",
          "output_type": "stream",
          "text": [
            "Epoch 165/1000\n"
          ]
        },
        {
          "name": "stderr",
          "output_type": "stream",
          "text": [
            "2/2██████████ ETA: 00:00s - loss: 0.0118 - mean_absolute_error: 0.0819 - mean_squared_error: 0.0118 - root_mean_squared_error: 0.1084\n"
          ]
        },
        {
          "name": "stdout",
          "output_type": "stream",
          "text": [
            "Epoch 166/1000\n"
          ]
        },
        {
          "name": "stderr",
          "output_type": "stream",
          "text": [
            "2/2██████████ ETA: 00:00s - loss: 0.0117 - mean_absolute_error: 0.0817 - mean_squared_error: 0.0117 - root_mean_squared_error: 0.1082\n"
          ]
        },
        {
          "name": "stdout",
          "output_type": "stream",
          "text": [
            "Epoch 167/1000\n"
          ]
        },
        {
          "name": "stderr",
          "output_type": "stream",
          "text": [
            "2/2██████████ ETA: 00:00s - loss: 0.0117 - mean_absolute_error: 0.0817 - mean_squared_error: 0.0117 - root_mean_squared_error: 0.1080\n"
          ]
        },
        {
          "name": "stdout",
          "output_type": "stream",
          "text": [
            "Epoch 168/1000\n"
          ]
        },
        {
          "name": "stderr",
          "output_type": "stream",
          "text": [
            "2/2██████████ ETA: 00:00s - loss: 0.0116 - mean_absolute_error: 0.0815 - mean_squared_error: 0.0116 - root_mean_squared_error: 0.1078\n",
            "Training:  17%|█▋         168/1000 ETA: 00:18s,  45.37epochs/s"
          ]
        },
        {
          "name": "stdout",
          "output_type": "stream",
          "text": [
            "Epoch 169/1000\n"
          ]
        },
        {
          "name": "stderr",
          "output_type": "stream",
          "text": [
            "2/2██████████ ETA: 00:00s - loss: 0.0116 - mean_absolute_error: 0.0814 - mean_squared_error: 0.0116 - root_mean_squared_error: 0.1076\n"
          ]
        },
        {
          "name": "stdout",
          "output_type": "stream",
          "text": [
            "Epoch 170/1000\n"
          ]
        },
        {
          "name": "stderr",
          "output_type": "stream",
          "text": [
            "2/2██████████ ETA: 00:00s - loss: 0.0115 - mean_absolute_error: 0.0814 - mean_squared_error: 0.0115 - root_mean_squared_error: 0.1074\n"
          ]
        },
        {
          "name": "stdout",
          "output_type": "stream",
          "text": [
            "Epoch 171/1000\n"
          ]
        },
        {
          "name": "stderr",
          "output_type": "stream",
          "text": [
            "2/2██████████ ETA: 00:00s - loss: 0.0115 - mean_absolute_error: 0.0812 - mean_squared_error: 0.0115 - root_mean_squared_error: 0.1072\n"
          ]
        },
        {
          "name": "stdout",
          "output_type": "stream",
          "text": [
            "Epoch 172/1000\n"
          ]
        },
        {
          "name": "stderr",
          "output_type": "stream",
          "text": [
            "2/2██████████ ETA: 00:00s - loss: 0.0115 - mean_absolute_error: 0.0811 - mean_squared_error: 0.0115 - root_mean_squared_error: 0.1071\n"
          ]
        },
        {
          "name": "stdout",
          "output_type": "stream",
          "text": [
            "Epoch 173/1000\n"
          ]
        },
        {
          "name": "stderr",
          "output_type": "stream",
          "text": [
            "2/2██████████ ETA: 00:00s - loss: 0.0114 - mean_absolute_error: 0.0810 - mean_squared_error: 0.0114 - root_mean_squared_error: 0.1068\n",
            "Training:  17%|█▋         173/1000 ETA: 00:18s,  45.70epochs/s"
          ]
        },
        {
          "name": "stdout",
          "output_type": "stream",
          "text": [
            "Epoch 174/1000\n"
          ]
        },
        {
          "name": "stderr",
          "output_type": "stream",
          "text": [
            "2/2██████████ ETA: 00:00s - loss: 0.0114 - mean_absolute_error: 0.0809 - mean_squared_error: 0.0114 - root_mean_squared_error: 0.1067\n"
          ]
        },
        {
          "name": "stdout",
          "output_type": "stream",
          "text": [
            "Epoch 175/1000\n"
          ]
        },
        {
          "name": "stderr",
          "output_type": "stream",
          "text": [
            "2/2██████████ ETA: 00:00s - loss: 0.0113 - mean_absolute_error: 0.0808 - mean_squared_error: 0.0113 - root_mean_squared_error: 0.1065\n"
          ]
        },
        {
          "name": "stdout",
          "output_type": "stream",
          "text": [
            "Epoch 176/1000\n"
          ]
        },
        {
          "name": "stderr",
          "output_type": "stream",
          "text": [
            "2/2██████████ ETA: 00:00s - loss: 0.0113 - mean_absolute_error: 0.0807 - mean_squared_error: 0.0113 - root_mean_squared_error: 0.1063\n"
          ]
        },
        {
          "name": "stdout",
          "output_type": "stream",
          "text": [
            "Epoch 177/1000\n"
          ]
        },
        {
          "name": "stderr",
          "output_type": "stream",
          "text": [
            "2/2██████████ ETA: 00:00s - loss: 0.0113 - mean_absolute_error: 0.0805 - mean_squared_error: 0.0113 - root_mean_squared_error: 0.1061\n"
          ]
        },
        {
          "name": "stdout",
          "output_type": "stream",
          "text": [
            "Epoch 178/1000\n"
          ]
        },
        {
          "name": "stderr",
          "output_type": "stream",
          "text": [
            "2/2██████████ ETA: 00:00s - loss: 0.0112 - mean_absolute_error: 0.0804 - mean_squared_error: 0.0112 - root_mean_squared_error: 0.1060\n"
          ]
        },
        {
          "name": "stdout",
          "output_type": "stream",
          "text": [
            "Epoch 179/1000\n"
          ]
        },
        {
          "name": "stderr",
          "output_type": "stream",
          "text": [
            "2/2██████████ ETA: 00:00s - loss: 0.0112 - mean_absolute_error: 0.0803 - mean_squared_error: 0.0112 - root_mean_squared_error: 0.1058\n",
            "Training:  18%|█▊         179/1000 ETA: 00:17s,  47.07epochs/s"
          ]
        },
        {
          "name": "stdout",
          "output_type": "stream",
          "text": [
            "Epoch 180/1000\n"
          ]
        },
        {
          "name": "stderr",
          "output_type": "stream",
          "text": [
            "2/2██████████ ETA: 00:00s - loss: 0.0111 - mean_absolute_error: 0.0800 - mean_squared_error: 0.0111 - root_mean_squared_error: 0.1056\n"
          ]
        },
        {
          "name": "stdout",
          "output_type": "stream",
          "text": [
            "Epoch 181/1000\n"
          ]
        },
        {
          "name": "stderr",
          "output_type": "stream",
          "text": [
            "2/2██████████ ETA: 00:00s - loss: 0.0111 - mean_absolute_error: 0.0798 - mean_squared_error: 0.0111 - root_mean_squared_error: 0.1054\n"
          ]
        },
        {
          "name": "stdout",
          "output_type": "stream",
          "text": [
            "Epoch 182/1000\n"
          ]
        },
        {
          "name": "stderr",
          "output_type": "stream",
          "text": [
            "2/2██████████ ETA: 00:00s - loss: 0.0111 - mean_absolute_error: 0.0795 - mean_squared_error: 0.0111 - root_mean_squared_error: 0.1051\n"
          ]
        },
        {
          "name": "stdout",
          "output_type": "stream",
          "text": [
            "Epoch 183/1000\n"
          ]
        },
        {
          "name": "stderr",
          "output_type": "stream",
          "text": [
            "2/2██████████ ETA: 00:00s - loss: 0.0110 - mean_absolute_error: 0.0793 - mean_squared_error: 0.0110 - root_mean_squared_error: 0.1049\n"
          ]
        },
        {
          "name": "stdout",
          "output_type": "stream",
          "text": [
            "Epoch 184/1000\n"
          ]
        },
        {
          "name": "stderr",
          "output_type": "stream",
          "text": [
            "2/2██████████ ETA: 00:00s - loss: 0.0110 - mean_absolute_error: 0.0791 - mean_squared_error: 0.0110 - root_mean_squared_error: 0.1048\n",
            "Training:  18%|█▊         184/1000 ETA: 00:17s,  46.83epochs/s"
          ]
        },
        {
          "name": "stdout",
          "output_type": "stream",
          "text": [
            "Epoch 185/1000\n"
          ]
        },
        {
          "name": "stderr",
          "output_type": "stream",
          "text": [
            "2/2██████████ ETA: 00:00s - loss: 0.0109 - mean_absolute_error: 0.0790 - mean_squared_error: 0.0109 - root_mean_squared_error: 0.1046\n"
          ]
        },
        {
          "name": "stdout",
          "output_type": "stream",
          "text": [
            "Epoch 186/1000\n"
          ]
        },
        {
          "name": "stderr",
          "output_type": "stream",
          "text": [
            "2/2██████████ ETA: 00:00s - loss: 0.0109 - mean_absolute_error: 0.0788 - mean_squared_error: 0.0109 - root_mean_squared_error: 0.1044\n"
          ]
        },
        {
          "name": "stdout",
          "output_type": "stream",
          "text": [
            "Epoch 187/1000\n"
          ]
        },
        {
          "name": "stderr",
          "output_type": "stream",
          "text": [
            "2/2██████████ ETA: 00:00s - loss: 0.0109 - mean_absolute_error: 0.0788 - mean_squared_error: 0.0109 - root_mean_squared_error: 0.1043\n"
          ]
        },
        {
          "name": "stdout",
          "output_type": "stream",
          "text": [
            "Epoch 188/1000\n"
          ]
        },
        {
          "name": "stderr",
          "output_type": "stream",
          "text": [
            "2/2██████████ ETA: 00:00s - loss: 0.0108 - mean_absolute_error: 0.0785 - mean_squared_error: 0.0108 - root_mean_squared_error: 0.1040\n"
          ]
        },
        {
          "name": "stdout",
          "output_type": "stream",
          "text": [
            "Epoch 189/1000\n"
          ]
        },
        {
          "name": "stderr",
          "output_type": "stream",
          "text": [
            "2/2██████████ ETA: 00:00s - loss: 0.0108 - mean_absolute_error: 0.0783 - mean_squared_error: 0.0108 - root_mean_squared_error: 0.1039\n"
          ]
        },
        {
          "name": "stdout",
          "output_type": "stream",
          "text": [
            "Epoch 190/1000\n"
          ]
        },
        {
          "name": "stderr",
          "output_type": "stream",
          "text": [
            "2/2██████████ ETA: 00:00s - loss: 0.0107 - mean_absolute_error: 0.0781 - mean_squared_error: 0.0107 - root_mean_squared_error: 0.1037\n",
            "Training:  19%|█▉         190/1000 ETA: 00:16s,  48.39epochs/s"
          ]
        },
        {
          "name": "stdout",
          "output_type": "stream",
          "text": [
            "Epoch 191/1000\n"
          ]
        },
        {
          "name": "stderr",
          "output_type": "stream",
          "text": [
            "2/2██████████ ETA: 00:00s - loss: 0.0107 - mean_absolute_error: 0.0780 - mean_squared_error: 0.0107 - root_mean_squared_error: 0.1035\n"
          ]
        },
        {
          "name": "stdout",
          "output_type": "stream",
          "text": [
            "Epoch 192/1000\n"
          ]
        },
        {
          "name": "stderr",
          "output_type": "stream",
          "text": [
            "2/2██████████ ETA: 00:00s - loss: 0.0107 - mean_absolute_error: 0.0778 - mean_squared_error: 0.0107 - root_mean_squared_error: 0.1034\n"
          ]
        },
        {
          "name": "stdout",
          "output_type": "stream",
          "text": [
            "Epoch 193/1000\n"
          ]
        },
        {
          "name": "stderr",
          "output_type": "stream",
          "text": [
            "2/2██████████ ETA: 00:00s - loss: 0.0107 - mean_absolute_error: 0.0777 - mean_squared_error: 0.0107 - root_mean_squared_error: 0.1033\n"
          ]
        },
        {
          "name": "stdout",
          "output_type": "stream",
          "text": [
            "Epoch 194/1000\n"
          ]
        },
        {
          "name": "stderr",
          "output_type": "stream",
          "text": [
            "2/2██████████ ETA: 00:00s - loss: 0.0106 - mean_absolute_error: 0.0774 - mean_squared_error: 0.0106 - root_mean_squared_error: 0.1031\n"
          ]
        },
        {
          "name": "stdout",
          "output_type": "stream",
          "text": [
            "Epoch 195/1000\n"
          ]
        },
        {
          "name": "stderr",
          "output_type": "stream",
          "text": [
            "2/2██████████ ETA: 00:00s - loss: 0.0106 - mean_absolute_error: 0.0772 - mean_squared_error: 0.0106 - root_mean_squared_error: 0.1029\n",
            "Training:  20%|█▉         195/1000 ETA: 00:16s,  48.50epochs/s"
          ]
        },
        {
          "name": "stdout",
          "output_type": "stream",
          "text": [
            "Epoch 196/1000\n"
          ]
        },
        {
          "name": "stderr",
          "output_type": "stream",
          "text": [
            "2/2██████████ ETA: 00:00s - loss: 0.0105 - mean_absolute_error: 0.0771 - mean_squared_error: 0.0105 - root_mean_squared_error: 0.1027\n"
          ]
        },
        {
          "name": "stdout",
          "output_type": "stream",
          "text": [
            "Epoch 197/1000\n"
          ]
        },
        {
          "name": "stderr",
          "output_type": "stream",
          "text": [
            "2/2██████████ ETA: 00:00s - loss: 0.0105 - mean_absolute_error: 0.0770 - mean_squared_error: 0.0105 - root_mean_squared_error: 0.1026\n"
          ]
        },
        {
          "name": "stdout",
          "output_type": "stream",
          "text": [
            "Epoch 198/1000\n"
          ]
        },
        {
          "name": "stderr",
          "output_type": "stream",
          "text": [
            "2/2██████████ ETA: 00:00s - loss: 0.0105 - mean_absolute_error: 0.0770 - mean_squared_error: 0.0105 - root_mean_squared_error: 0.1025\n"
          ]
        },
        {
          "name": "stdout",
          "output_type": "stream",
          "text": [
            "Epoch 199/1000\n"
          ]
        },
        {
          "name": "stderr",
          "output_type": "stream",
          "text": [
            "2/2██████████ ETA: 00:00s - loss: 0.0105 - mean_absolute_error: 0.0769 - mean_squared_error: 0.0105 - root_mean_squared_error: 0.1023\n"
          ]
        },
        {
          "name": "stdout",
          "output_type": "stream",
          "text": [
            "Epoch 200/1000\n"
          ]
        },
        {
          "name": "stderr",
          "output_type": "stream",
          "text": [
            "2/2██████████ ETA: 00:00s - loss: 0.0104 - mean_absolute_error: 0.0768 - mean_squared_error: 0.0104 - root_mean_squared_error: 0.1022\n",
            "Training:  20%|██         200/1000 ETA: 00:18s,  43.42epochs/s"
          ]
        },
        {
          "name": "stdout",
          "output_type": "stream",
          "text": [
            "Epoch 201/1000\n"
          ]
        },
        {
          "name": "stderr",
          "output_type": "stream",
          "text": [
            "2/2██████████ ETA: 00:00s - loss: 0.0104 - mean_absolute_error: 0.0768 - mean_squared_error: 0.0104 - root_mean_squared_error: 0.1021\n"
          ]
        },
        {
          "name": "stdout",
          "output_type": "stream",
          "text": [
            "Epoch 202/1000\n"
          ]
        },
        {
          "name": "stderr",
          "output_type": "stream",
          "text": [
            "2/2██████████ ETA: 00:00s - loss: 0.0104 - mean_absolute_error: 0.0767 - mean_squared_error: 0.0104 - root_mean_squared_error: 0.1020\n"
          ]
        },
        {
          "name": "stdout",
          "output_type": "stream",
          "text": [
            "Epoch 203/1000\n"
          ]
        },
        {
          "name": "stderr",
          "output_type": "stream",
          "text": [
            "2/2██████████ ETA: 00:00s - loss: 0.0104 - mean_absolute_error: 0.0766 - mean_squared_error: 0.0104 - root_mean_squared_error: 0.1018\n"
          ]
        },
        {
          "name": "stdout",
          "output_type": "stream",
          "text": [
            "Epoch 204/1000\n"
          ]
        },
        {
          "name": "stderr",
          "output_type": "stream",
          "text": [
            "2/2██████████ ETA: 00:00s - loss: 0.0104 - mean_absolute_error: 0.0766 - mean_squared_error: 0.0104 - root_mean_squared_error: 0.1018\n"
          ]
        },
        {
          "name": "stdout",
          "output_type": "stream",
          "text": [
            "Epoch 205/1000\n"
          ]
        },
        {
          "name": "stderr",
          "output_type": "stream",
          "text": [
            "2/2██████████ ETA: 00:00s - loss: 0.0103 - mean_absolute_error: 0.0765 - mean_squared_error: 0.0103 - root_mean_squared_error: 0.1016\n",
            "Training:  20%|██         205/1000 ETA: 00:18s,  43.92epochs/s"
          ]
        },
        {
          "name": "stdout",
          "output_type": "stream",
          "text": [
            "Epoch 206/1000\n"
          ]
        },
        {
          "name": "stderr",
          "output_type": "stream",
          "text": [
            "2/2██████████ ETA: 00:00s - loss: 0.0103 - mean_absolute_error: 0.0764 - mean_squared_error: 0.0103 - root_mean_squared_error: 0.1015\n"
          ]
        },
        {
          "name": "stdout",
          "output_type": "stream",
          "text": [
            "Epoch 207/1000\n"
          ]
        },
        {
          "name": "stderr",
          "output_type": "stream",
          "text": [
            "2/2██████████ ETA: 00:00s - loss: 0.0103 - mean_absolute_error: 0.0763 - mean_squared_error: 0.0103 - root_mean_squared_error: 0.1014\n"
          ]
        },
        {
          "name": "stdout",
          "output_type": "stream",
          "text": [
            "Epoch 208/1000\n"
          ]
        },
        {
          "name": "stderr",
          "output_type": "stream",
          "text": [
            "2/2██████████ ETA: 00:00s - loss: 0.0103 - mean_absolute_error: 0.0763 - mean_squared_error: 0.0103 - root_mean_squared_error: 0.1013\n"
          ]
        },
        {
          "name": "stdout",
          "output_type": "stream",
          "text": [
            "Epoch 209/1000\n"
          ]
        },
        {
          "name": "stderr",
          "output_type": "stream",
          "text": [
            "2/2██████████ ETA: 00:00s - loss: 0.0102 - mean_absolute_error: 0.0763 - mean_squared_error: 0.0102 - root_mean_squared_error: 0.1012\n"
          ]
        },
        {
          "name": "stdout",
          "output_type": "stream",
          "text": [
            "Epoch 210/1000\n"
          ]
        },
        {
          "name": "stderr",
          "output_type": "stream",
          "text": [
            "2/2██████████ ETA: 00:00s - loss: 0.0102 - mean_absolute_error: 0.0763 - mean_squared_error: 0.0102 - root_mean_squared_error: 0.1010\n",
            "Training:  21%|██         210/1000 ETA: 00:17s,  44.17epochs/s"
          ]
        },
        {
          "name": "stdout",
          "output_type": "stream",
          "text": [
            "Epoch 211/1000\n"
          ]
        },
        {
          "name": "stderr",
          "output_type": "stream",
          "text": [
            "2/2██████████ ETA: 00:00s - loss: 0.0102 - mean_absolute_error: 0.0763 - mean_squared_error: 0.0102 - root_mean_squared_error: 0.1010\n"
          ]
        },
        {
          "name": "stdout",
          "output_type": "stream",
          "text": [
            "Epoch 212/1000\n"
          ]
        },
        {
          "name": "stderr",
          "output_type": "stream",
          "text": [
            "2/2██████████ ETA: 00:00s - loss: 0.0102 - mean_absolute_error: 0.0762 - mean_squared_error: 0.0102 - root_mean_squared_error: 0.1008\n"
          ]
        },
        {
          "name": "stdout",
          "output_type": "stream",
          "text": [
            "Epoch 213/1000\n"
          ]
        },
        {
          "name": "stderr",
          "output_type": "stream",
          "text": [
            "2/2██████████ ETA: 00:00s - loss: 0.0101 - mean_absolute_error: 0.0761 - mean_squared_error: 0.0101 - root_mean_squared_error: 0.1007\n"
          ]
        },
        {
          "name": "stdout",
          "output_type": "stream",
          "text": [
            "Epoch 214/1000\n"
          ]
        },
        {
          "name": "stderr",
          "output_type": "stream",
          "text": [
            "2/2██████████ ETA: 00:00s - loss: 0.0101 - mean_absolute_error: 0.0762 - mean_squared_error: 0.0101 - root_mean_squared_error: 0.1007\n"
          ]
        },
        {
          "name": "stdout",
          "output_type": "stream",
          "text": [
            "Epoch 215/1000\n"
          ]
        },
        {
          "name": "stderr",
          "output_type": "stream",
          "text": [
            "2/2██████████ ETA: 00:00s - loss: 0.0101 - mean_absolute_error: 0.0762 - mean_squared_error: 0.0101 - root_mean_squared_error: 0.1006\n",
            "Training:  22%|██▏        215/1000 ETA: 00:17s,  44.19epochs/s"
          ]
        },
        {
          "name": "stdout",
          "output_type": "stream",
          "text": [
            "Epoch 216/1000\n"
          ]
        },
        {
          "name": "stderr",
          "output_type": "stream",
          "text": [
            "2/2██████████ ETA: 00:00s - loss: 0.0101 - mean_absolute_error: 0.0761 - mean_squared_error: 0.0101 - root_mean_squared_error: 0.1005\n"
          ]
        },
        {
          "name": "stdout",
          "output_type": "stream",
          "text": [
            "Epoch 217/1000\n"
          ]
        },
        {
          "name": "stderr",
          "output_type": "stream",
          "text": [
            "2/2██████████ ETA: 00:00s - loss: 0.0101 - mean_absolute_error: 0.0760 - mean_squared_error: 0.0101 - root_mean_squared_error: 0.1004\n"
          ]
        },
        {
          "name": "stdout",
          "output_type": "stream",
          "text": [
            "Epoch 218/1000\n"
          ]
        },
        {
          "name": "stderr",
          "output_type": "stream",
          "text": [
            "2/2██████████ ETA: 00:00s - loss: 0.0101 - mean_absolute_error: 0.0760 - mean_squared_error: 0.0101 - root_mean_squared_error: 0.1003\n"
          ]
        },
        {
          "name": "stdout",
          "output_type": "stream",
          "text": [
            "Epoch 219/1000\n"
          ]
        },
        {
          "name": "stderr",
          "output_type": "stream",
          "text": [
            "2/2██████████ ETA: 00:00s - loss: 0.0100 - mean_absolute_error: 0.0759 - mean_squared_error: 0.0100 - root_mean_squared_error: 0.1002\n"
          ]
        },
        {
          "name": "stdout",
          "output_type": "stream",
          "text": [
            "Epoch 220/1000\n"
          ]
        },
        {
          "name": "stderr",
          "output_type": "stream",
          "text": [
            "2/2██████████ ETA: 00:00s - loss: 0.0100 - mean_absolute_error: 0.0758 - mean_squared_error: 0.0100 - root_mean_squared_error: 0.1002\n",
            "Training:  22%|██▏        220/1000 ETA: 00:17s,  45.19epochs/s"
          ]
        },
        {
          "name": "stdout",
          "output_type": "stream",
          "text": [
            "Epoch 221/1000\n"
          ]
        },
        {
          "name": "stderr",
          "output_type": "stream",
          "text": [
            "2/2██████████ ETA: 00:00s - loss: 0.0100 - mean_absolute_error: 0.0757 - mean_squared_error: 0.0100 - root_mean_squared_error: 0.1000\n"
          ]
        },
        {
          "name": "stdout",
          "output_type": "stream",
          "text": [
            "Epoch 222/1000\n"
          ]
        },
        {
          "name": "stderr",
          "output_type": "stream",
          "text": [
            "2/2██████████ ETA: 00:00s - loss: 0.0100 - mean_absolute_error: 0.0756 - mean_squared_error: 0.0100 - root_mean_squared_error: 0.0999\n"
          ]
        },
        {
          "name": "stdout",
          "output_type": "stream",
          "text": [
            "Epoch 223/1000\n"
          ]
        },
        {
          "name": "stderr",
          "output_type": "stream",
          "text": [
            "2/2██████████ ETA: 00:00s - loss: 0.0100 - mean_absolute_error: 0.0755 - mean_squared_error: 0.0100 - root_mean_squared_error: 0.0998\n"
          ]
        },
        {
          "name": "stdout",
          "output_type": "stream",
          "text": [
            "Epoch 224/1000\n"
          ]
        },
        {
          "name": "stderr",
          "output_type": "stream",
          "text": [
            "2/2██████████ ETA: 00:00s - loss: 0.0099 - mean_absolute_error: 0.0754 - mean_squared_error: 0.0099 - root_mean_squared_error: 0.0997\n"
          ]
        },
        {
          "name": "stdout",
          "output_type": "stream",
          "text": [
            "Epoch 225/1000\n"
          ]
        },
        {
          "name": "stderr",
          "output_type": "stream",
          "text": [
            "2/2██████████ ETA: 00:00s - loss: 0.0099 - mean_absolute_error: 0.0754 - mean_squared_error: 0.0099 - root_mean_squared_error: 0.0997\n",
            "Training:  22%|██▎        225/1000 ETA: 00:16s,  46.52epochs/s"
          ]
        },
        {
          "name": "stdout",
          "output_type": "stream",
          "text": [
            "Epoch 226/1000\n"
          ]
        },
        {
          "name": "stderr",
          "output_type": "stream",
          "text": [
            "2/2██████████ ETA: 00:00s - loss: 0.0099 - mean_absolute_error: 0.0754 - mean_squared_error: 0.0099 - root_mean_squared_error: 0.0996\n"
          ]
        },
        {
          "name": "stdout",
          "output_type": "stream",
          "text": [
            "Epoch 227/1000\n"
          ]
        },
        {
          "name": "stderr",
          "output_type": "stream",
          "text": [
            "2/2██████████ ETA: 00:00s - loss: 0.0099 - mean_absolute_error: 0.0753 - mean_squared_error: 0.0099 - root_mean_squared_error: 0.0996\n"
          ]
        },
        {
          "name": "stdout",
          "output_type": "stream",
          "text": [
            "Epoch 228/1000\n"
          ]
        },
        {
          "name": "stderr",
          "output_type": "stream",
          "text": [
            "2/2██████████ ETA: 00:00s - loss: 0.0099 - mean_absolute_error: 0.0753 - mean_squared_error: 0.0099 - root_mean_squared_error: 0.0995\n"
          ]
        },
        {
          "name": "stdout",
          "output_type": "stream",
          "text": [
            "Epoch 229/1000\n"
          ]
        },
        {
          "name": "stderr",
          "output_type": "stream",
          "text": [
            "2/2██████████ ETA: 00:00s - loss: 0.0099 - mean_absolute_error: 0.0752 - mean_squared_error: 0.0099 - root_mean_squared_error: 0.0994\n"
          ]
        },
        {
          "name": "stdout",
          "output_type": "stream",
          "text": [
            "Epoch 230/1000\n"
          ]
        },
        {
          "name": "stderr",
          "output_type": "stream",
          "text": [
            "2/2██████████ ETA: 00:00s - loss: 0.0099 - mean_absolute_error: 0.0752 - mean_squared_error: 0.0099 - root_mean_squared_error: 0.0993\n",
            "Training:  23%|██▎        230/1000 ETA: 00:16s,  47.18epochs/s"
          ]
        },
        {
          "name": "stdout",
          "output_type": "stream",
          "text": [
            "Epoch 231/1000\n"
          ]
        },
        {
          "name": "stderr",
          "output_type": "stream",
          "text": [
            "2/2██████████ ETA: 00:00s - loss: 0.0099 - mean_absolute_error: 0.0752 - mean_squared_error: 0.0099 - root_mean_squared_error: 0.0993\n"
          ]
        },
        {
          "name": "stdout",
          "output_type": "stream",
          "text": [
            "Epoch 232/1000\n"
          ]
        },
        {
          "name": "stderr",
          "output_type": "stream",
          "text": [
            "2/2██████████ ETA: 00:00s - loss: 0.0098 - mean_absolute_error: 0.0752 - mean_squared_error: 0.0098 - root_mean_squared_error: 0.0992\n"
          ]
        },
        {
          "name": "stdout",
          "output_type": "stream",
          "text": [
            "Epoch 233/1000\n"
          ]
        },
        {
          "name": "stderr",
          "output_type": "stream",
          "text": [
            "2/2██████████ ETA: 00:00s - loss: 0.0098 - mean_absolute_error: 0.0753 - mean_squared_error: 0.0098 - root_mean_squared_error: 0.0991\n"
          ]
        },
        {
          "name": "stdout",
          "output_type": "stream",
          "text": [
            "Epoch 234/1000\n"
          ]
        },
        {
          "name": "stderr",
          "output_type": "stream",
          "text": [
            "2/2██████████ ETA: 00:00s - loss: 0.0098 - mean_absolute_error: 0.0753 - mean_squared_error: 0.0098 - root_mean_squared_error: 0.0991\n"
          ]
        },
        {
          "name": "stdout",
          "output_type": "stream",
          "text": [
            "Epoch 235/1000\n"
          ]
        },
        {
          "name": "stderr",
          "output_type": "stream",
          "text": [
            "2/2██████████ ETA: 00:00s - loss: 0.0098 - mean_absolute_error: 0.0753 - mean_squared_error: 0.0098 - root_mean_squared_error: 0.0989\n"
          ]
        },
        {
          "name": "stdout",
          "output_type": "stream",
          "text": [
            "Epoch 236/1000\n"
          ]
        },
        {
          "name": "stderr",
          "output_type": "stream",
          "text": [
            "2/2██████████ ETA: 00:00s - loss: 0.0098 - mean_absolute_error: 0.0755 - mean_squared_error: 0.0098 - root_mean_squared_error: 0.0990\n",
            "Training:  24%|██▎        236/1000 ETA: 00:15s,  48.89epochs/s"
          ]
        },
        {
          "name": "stdout",
          "output_type": "stream",
          "text": [
            "Epoch 237/1000\n"
          ]
        },
        {
          "name": "stderr",
          "output_type": "stream",
          "text": [
            "2/2██████████ ETA: 00:00s - loss: 0.0098 - mean_absolute_error: 0.0755 - mean_squared_error: 0.0098 - root_mean_squared_error: 0.0989\n"
          ]
        },
        {
          "name": "stdout",
          "output_type": "stream",
          "text": [
            "Epoch 238/1000\n"
          ]
        },
        {
          "name": "stderr",
          "output_type": "stream",
          "text": [
            "2/2██████████ ETA: 00:00s - loss: 0.0098 - mean_absolute_error: 0.0755 - mean_squared_error: 0.0098 - root_mean_squared_error: 0.0989\n"
          ]
        },
        {
          "name": "stdout",
          "output_type": "stream",
          "text": [
            "Epoch 239/1000\n"
          ]
        },
        {
          "name": "stderr",
          "output_type": "stream",
          "text": [
            "2/2██████████ ETA: 00:00s - loss: 0.0098 - mean_absolute_error: 0.0754 - mean_squared_error: 0.0098 - root_mean_squared_error: 0.0988"
          ]
        },
        {
          "name": "stdout",
          "output_type": "stream",
          "text": [
            "Epoch 240/1000\n"
          ]
        },
        {
          "name": "stderr",
          "output_type": "stream",
          "text": [
            "\n",
            "2/2██████████ ETA: 00:00s - loss: 0.0097 - mean_absolute_error: 0.0754 - mean_squared_error: 0.0097 - root_mean_squared_error: 0.0987\n"
          ]
        },
        {
          "name": "stdout",
          "output_type": "stream",
          "text": [
            "Epoch 241/1000\n"
          ]
        },
        {
          "name": "stderr",
          "output_type": "stream",
          "text": [
            "2/2██████████ ETA: 00:00s - loss: 0.0097 - mean_absolute_error: 0.0754 - mean_squared_error: 0.0097 - root_mean_squared_error: 0.0987\n"
          ]
        },
        {
          "name": "stdout",
          "output_type": "stream",
          "text": [
            "Epoch 242/1000\n"
          ]
        },
        {
          "name": "stderr",
          "output_type": "stream",
          "text": [
            "2/2██████████ ETA: 00:00s - loss: 0.0097 - mean_absolute_error: 0.0754 - mean_squared_error: 0.0097 - root_mean_squared_error: 0.0986\n",
            "Training:  24%|██▍        242/1000 ETA: 00:15s,  49.90epochs/s"
          ]
        },
        {
          "name": "stdout",
          "output_type": "stream",
          "text": [
            "Epoch 243/1000\n"
          ]
        },
        {
          "name": "stderr",
          "output_type": "stream",
          "text": [
            "2/2██████████ ETA: 00:00s - loss: 0.0097 - mean_absolute_error: 0.0753 - mean_squared_error: 0.0097 - root_mean_squared_error: 0.0986\n"
          ]
        },
        {
          "name": "stdout",
          "output_type": "stream",
          "text": [
            "Epoch 244/1000\n"
          ]
        },
        {
          "name": "stderr",
          "output_type": "stream",
          "text": [
            "2/2██████████ ETA: 00:00s - loss: 0.0097 - mean_absolute_error: 0.0752 - mean_squared_error: 0.0097 - root_mean_squared_error: 0.0985\n"
          ]
        },
        {
          "name": "stdout",
          "output_type": "stream",
          "text": [
            "Epoch 245/1000\n"
          ]
        },
        {
          "name": "stderr",
          "output_type": "stream",
          "text": [
            "2/2██████████ ETA: 00:00s - loss: 0.0097 - mean_absolute_error: 0.0753 - mean_squared_error: 0.0097 - root_mean_squared_error: 0.0985\n"
          ]
        },
        {
          "name": "stdout",
          "output_type": "stream",
          "text": [
            "Epoch 246/1000\n"
          ]
        },
        {
          "name": "stderr",
          "output_type": "stream",
          "text": [
            "2/2██████████ ETA: 00:00s - loss: 0.0097 - mean_absolute_error: 0.0753 - mean_squared_error: 0.0097 - root_mean_squared_error: 0.0984\n"
          ]
        },
        {
          "name": "stdout",
          "output_type": "stream",
          "text": [
            "Epoch 247/1000\n"
          ]
        },
        {
          "name": "stderr",
          "output_type": "stream",
          "text": [
            "2/2██████████ ETA: 00:00s - loss: 0.0097 - mean_absolute_error: 0.0753 - mean_squared_error: 0.0097 - root_mean_squared_error: 0.0984\n"
          ]
        },
        {
          "name": "stdout",
          "output_type": "stream",
          "text": [
            "Epoch 248/1000\n"
          ]
        },
        {
          "name": "stderr",
          "output_type": "stream",
          "text": [
            "2/2██████████ ETA: 00:00s - loss: 0.0097 - mean_absolute_error: 0.0753 - mean_squared_error: 0.0097 - root_mean_squared_error: 0.0983\n",
            "Training:  25%|██▍        248/1000 ETA: 00:14s,  50.61epochs/s"
          ]
        },
        {
          "name": "stdout",
          "output_type": "stream",
          "text": [
            "Epoch 249/1000\n"
          ]
        },
        {
          "name": "stderr",
          "output_type": "stream",
          "text": [
            "2/2██████████ ETA: 00:00s - loss: 0.0097 - mean_absolute_error: 0.0753 - mean_squared_error: 0.0097 - root_mean_squared_error: 0.0983\n"
          ]
        },
        {
          "name": "stdout",
          "output_type": "stream",
          "text": [
            "Epoch 250/1000\n"
          ]
        },
        {
          "name": "stderr",
          "output_type": "stream",
          "text": [
            "2/2██████████ ETA: 00:00s - loss: 0.0097 - mean_absolute_error: 0.0752 - mean_squared_error: 0.0097 - root_mean_squared_error: 0.0983\n"
          ]
        },
        {
          "name": "stdout",
          "output_type": "stream",
          "text": [
            "Epoch 251/1000\n"
          ]
        },
        {
          "name": "stderr",
          "output_type": "stream",
          "text": [
            "2/2██████████ ETA: 00:00s - loss: 0.0096 - mean_absolute_error: 0.0752 - mean_squared_error: 0.0096 - root_mean_squared_error: 0.0982\n"
          ]
        },
        {
          "name": "stdout",
          "output_type": "stream",
          "text": [
            "Epoch 252/1000\n"
          ]
        },
        {
          "name": "stderr",
          "output_type": "stream",
          "text": [
            "2/2██████████ ETA: 00:00s - loss: 0.0096 - mean_absolute_error: 0.0752 - mean_squared_error: 0.0096 - root_mean_squared_error: 0.0982\n"
          ]
        },
        {
          "name": "stdout",
          "output_type": "stream",
          "text": [
            "Epoch 253/1000\n"
          ]
        },
        {
          "name": "stderr",
          "output_type": "stream",
          "text": [
            "2/2██████████ ETA: 00:00s - loss: 0.0096 - mean_absolute_error: 0.0752 - mean_squared_error: 0.0096 - root_mean_squared_error: 0.0982\n"
          ]
        },
        {
          "name": "stdout",
          "output_type": "stream",
          "text": [
            "Epoch 254/1000\n"
          ]
        },
        {
          "name": "stderr",
          "output_type": "stream",
          "text": [
            "2/2██████████ ETA: 00:00s - loss: 0.0096 - mean_absolute_error: 0.0752 - mean_squared_error: 0.0096 - root_mean_squared_error: 0.0981\n",
            "Training:  25%|██▌        254/1000 ETA: 00:14s,  50.25epochs/s"
          ]
        },
        {
          "name": "stdout",
          "output_type": "stream",
          "text": [
            "Epoch 255/1000\n"
          ]
        },
        {
          "name": "stderr",
          "output_type": "stream",
          "text": [
            "2/2██████████ ETA: 00:00s - loss: 0.0096 - mean_absolute_error: 0.0752 - mean_squared_error: 0.0096 - root_mean_squared_error: 0.0981\n"
          ]
        },
        {
          "name": "stdout",
          "output_type": "stream",
          "text": [
            "Epoch 256/1000\n"
          ]
        },
        {
          "name": "stderr",
          "output_type": "stream",
          "text": [
            "2/2██████████ ETA: 00:00s - loss: 0.0096 - mean_absolute_error: 0.0752 - mean_squared_error: 0.0096 - root_mean_squared_error: 0.0981\n"
          ]
        },
        {
          "name": "stdout",
          "output_type": "stream",
          "text": [
            "Epoch 257/1000\n"
          ]
        },
        {
          "name": "stderr",
          "output_type": "stream",
          "text": [
            "2/2██████████ ETA: 00:00s - loss: 0.0096 - mean_absolute_error: 0.0753 - mean_squared_error: 0.0096 - root_mean_squared_error: 0.0981\n"
          ]
        },
        {
          "name": "stdout",
          "output_type": "stream",
          "text": [
            "Epoch 258/1000\n"
          ]
        },
        {
          "name": "stderr",
          "output_type": "stream",
          "text": [
            "2/2██████████ ETA: 00:00s - loss: 0.0096 - mean_absolute_error: 0.0754 - mean_squared_error: 0.0096 - root_mean_squared_error: 0.0980\n"
          ]
        },
        {
          "name": "stdout",
          "output_type": "stream",
          "text": [
            "Epoch 259/1000\n"
          ]
        },
        {
          "name": "stderr",
          "output_type": "stream",
          "text": [
            "2/2██████████ ETA: 00:00s - loss: 0.0096 - mean_absolute_error: 0.0754 - mean_squared_error: 0.0096 - root_mean_squared_error: 0.0979\n"
          ]
        },
        {
          "name": "stdout",
          "output_type": "stream",
          "text": [
            "Epoch 260/1000\n"
          ]
        },
        {
          "name": "stderr",
          "output_type": "stream",
          "text": [
            "2/2██████████ ETA: 00:00s - loss: 0.0096 - mean_absolute_error: 0.0754 - mean_squared_error: 0.0096 - root_mean_squared_error: 0.0979\n",
            "Training:  26%|██▌        260/1000 ETA: 00:14s,  49.76epochs/s"
          ]
        },
        {
          "name": "stdout",
          "output_type": "stream",
          "text": [
            "Epoch 261/1000\n"
          ]
        },
        {
          "name": "stderr",
          "output_type": "stream",
          "text": [
            "2/2██████████ ETA: 00:00s - loss: 0.0096 - mean_absolute_error: 0.0754 - mean_squared_error: 0.0096 - root_mean_squared_error: 0.0978\n"
          ]
        },
        {
          "name": "stdout",
          "output_type": "stream",
          "text": [
            "Epoch 262/1000\n"
          ]
        },
        {
          "name": "stderr",
          "output_type": "stream",
          "text": [
            "2/2██████████ ETA: 00:00s - loss: 0.0096 - mean_absolute_error: 0.0755 - mean_squared_error: 0.0096 - root_mean_squared_error: 0.0979\n"
          ]
        },
        {
          "name": "stdout",
          "output_type": "stream",
          "text": [
            "Epoch 263/1000\n"
          ]
        },
        {
          "name": "stderr",
          "output_type": "stream",
          "text": [
            "2/2██████████ ETA: 00:00s - loss: 0.0096 - mean_absolute_error: 0.0755 - mean_squared_error: 0.0096 - root_mean_squared_error: 0.0978\n"
          ]
        },
        {
          "name": "stdout",
          "output_type": "stream",
          "text": [
            "Epoch 264/1000\n"
          ]
        },
        {
          "name": "stderr",
          "output_type": "stream",
          "text": [
            "2/2██████████ ETA: 00:00s - loss: 0.0096 - mean_absolute_error: 0.0754 - mean_squared_error: 0.0096 - root_mean_squared_error: 0.0977\n"
          ]
        },
        {
          "name": "stdout",
          "output_type": "stream",
          "text": [
            "Epoch 265/1000\n"
          ]
        },
        {
          "name": "stderr",
          "output_type": "stream",
          "text": [
            "2/2██████████ ETA: 00:00s - loss: 0.0095 - mean_absolute_error: 0.0753 - mean_squared_error: 0.0095 - root_mean_squared_error: 0.0977\n",
            "Training:  26%|██▋        265/1000 ETA: 00:15s,  48.25epochs/s"
          ]
        },
        {
          "name": "stdout",
          "output_type": "stream",
          "text": [
            "Epoch 266/1000\n"
          ]
        },
        {
          "name": "stderr",
          "output_type": "stream",
          "text": [
            "2/2██████████ ETA: 00:00s - loss: 0.0095 - mean_absolute_error: 0.0753 - mean_squared_error: 0.0095 - root_mean_squared_error: 0.0977\n"
          ]
        },
        {
          "name": "stdout",
          "output_type": "stream",
          "text": [
            "Epoch 267/1000\n"
          ]
        },
        {
          "name": "stderr",
          "output_type": "stream",
          "text": [
            "2/2██████████ ETA: 00:00s - loss: 0.0095 - mean_absolute_error: 0.0752 - mean_squared_error: 0.0095 - root_mean_squared_error: 0.0976\n"
          ]
        },
        {
          "name": "stdout",
          "output_type": "stream",
          "text": [
            "Epoch 268/1000\n"
          ]
        },
        {
          "name": "stderr",
          "output_type": "stream",
          "text": [
            "2/2██████████ ETA: 00:00s - loss: 0.0095 - mean_absolute_error: 0.0752 - mean_squared_error: 0.0095 - root_mean_squared_error: 0.0977\n"
          ]
        },
        {
          "name": "stdout",
          "output_type": "stream",
          "text": [
            "Epoch 269/1000\n"
          ]
        },
        {
          "name": "stderr",
          "output_type": "stream",
          "text": [
            "2/2██████████ ETA: 00:00s - loss: 0.0095 - mean_absolute_error: 0.0752 - mean_squared_error: 0.0095 - root_mean_squared_error: 0.0976\n"
          ]
        },
        {
          "name": "stdout",
          "output_type": "stream",
          "text": [
            "Epoch 270/1000\n"
          ]
        },
        {
          "name": "stderr",
          "output_type": "stream",
          "text": [
            "2/2██████████ ETA: 00:00s - loss: 0.0095 - mean_absolute_error: 0.0752 - mean_squared_error: 0.0095 - root_mean_squared_error: 0.0976\n",
            "Training:  27%|██▋        270/1000 ETA: 00:16s,  43.06epochs/s"
          ]
        },
        {
          "name": "stdout",
          "output_type": "stream",
          "text": [
            "Epoch 271/1000\n"
          ]
        },
        {
          "name": "stderr",
          "output_type": "stream",
          "text": [
            "2/2██████████ ETA: 00:00s - loss: 0.0095 - mean_absolute_error: 0.0752 - mean_squared_error: 0.0095 - root_mean_squared_error: 0.0975\n"
          ]
        },
        {
          "name": "stdout",
          "output_type": "stream",
          "text": [
            "Epoch 272/1000\n"
          ]
        },
        {
          "name": "stderr",
          "output_type": "stream",
          "text": [
            "2/2██████████ ETA: 00:00s - loss: 0.0095 - mean_absolute_error: 0.0753 - mean_squared_error: 0.0095 - root_mean_squared_error: 0.0976\n"
          ]
        },
        {
          "name": "stdout",
          "output_type": "stream",
          "text": [
            "Epoch 273/1000\n"
          ]
        },
        {
          "name": "stderr",
          "output_type": "stream",
          "text": [
            "2/2██████████ ETA: 00:00s - loss: 0.0095 - mean_absolute_error: 0.0754 - mean_squared_error: 0.0095 - root_mean_squared_error: 0.0975\n"
          ]
        },
        {
          "name": "stdout",
          "output_type": "stream",
          "text": [
            "Epoch 274/1000\n"
          ]
        },
        {
          "name": "stderr",
          "output_type": "stream",
          "text": [
            "2/2██████████ ETA: 00:00s - loss: 0.0095 - mean_absolute_error: 0.0754 - mean_squared_error: 0.0095 - root_mean_squared_error: 0.0974\n"
          ]
        },
        {
          "name": "stdout",
          "output_type": "stream",
          "text": [
            "Epoch 275/1000\n"
          ]
        },
        {
          "name": "stderr",
          "output_type": "stream",
          "text": [
            "2/2██████████ ETA: 00:00s - loss: 0.0095 - mean_absolute_error: 0.0754 - mean_squared_error: 0.0095 - root_mean_squared_error: 0.0974\n",
            "Training:  28%|██▊        275/1000 ETA: 00:16s,  43.37epochs/s"
          ]
        },
        {
          "name": "stdout",
          "output_type": "stream",
          "text": [
            "Epoch 276/1000\n"
          ]
        },
        {
          "name": "stderr",
          "output_type": "stream",
          "text": [
            "2/2██████████ ETA: 00:00s - loss: 0.0095 - mean_absolute_error: 0.0754 - mean_squared_error: 0.0095 - root_mean_squared_error: 0.0974\n"
          ]
        },
        {
          "name": "stdout",
          "output_type": "stream",
          "text": [
            "Epoch 277/1000\n"
          ]
        },
        {
          "name": "stderr",
          "output_type": "stream",
          "text": [
            "2/2██████████ ETA: 00:00s - loss: 0.0095 - mean_absolute_error: 0.0753 - mean_squared_error: 0.0095 - root_mean_squared_error: 0.0973\n"
          ]
        },
        {
          "name": "stdout",
          "output_type": "stream",
          "text": [
            "Epoch 278/1000\n"
          ]
        },
        {
          "name": "stderr",
          "output_type": "stream",
          "text": [
            "2/2██████████ ETA: 00:00s - loss: 0.0095 - mean_absolute_error: 0.0753 - mean_squared_error: 0.0095 - root_mean_squared_error: 0.0973\n"
          ]
        },
        {
          "name": "stdout",
          "output_type": "stream",
          "text": [
            "Epoch 279/1000\n"
          ]
        },
        {
          "name": "stderr",
          "output_type": "stream",
          "text": [
            "2/2██████████ ETA: 00:00s - loss: 0.0095 - mean_absolute_error: 0.0753 - mean_squared_error: 0.0095 - root_mean_squared_error: 0.0973\n"
          ]
        },
        {
          "name": "stdout",
          "output_type": "stream",
          "text": [
            "Epoch 280/1000\n"
          ]
        },
        {
          "name": "stderr",
          "output_type": "stream",
          "text": [
            "2/2██████████ ETA: 00:00s - loss: 0.0095 - mean_absolute_error: 0.0753 - mean_squared_error: 0.0095 - root_mean_squared_error: 0.0973\n",
            "Training:  28%|██▊        280/1000 ETA: 00:16s,  43.20epochs/s"
          ]
        },
        {
          "name": "stdout",
          "output_type": "stream",
          "text": [
            "Epoch 281/1000\n"
          ]
        },
        {
          "name": "stderr",
          "output_type": "stream",
          "text": [
            "2/2██████████ ETA: 00:00s - loss: 0.0095 - mean_absolute_error: 0.0752 - mean_squared_error: 0.0095 - root_mean_squared_error: 0.0972\n"
          ]
        },
        {
          "name": "stdout",
          "output_type": "stream",
          "text": [
            "Epoch 282/1000\n"
          ]
        },
        {
          "name": "stderr",
          "output_type": "stream",
          "text": [
            "2/2██████████ ETA: 00:00s - loss: 0.0094 - mean_absolute_error: 0.0752 - mean_squared_error: 0.0094 - root_mean_squared_error: 0.0972\n"
          ]
        },
        {
          "name": "stdout",
          "output_type": "stream",
          "text": [
            "Epoch 283/1000\n"
          ]
        },
        {
          "name": "stderr",
          "output_type": "stream",
          "text": [
            "2/2██████████ ETA: 00:00s - loss: 0.0094 - mean_absolute_error: 0.0752 - mean_squared_error: 0.0094 - root_mean_squared_error: 0.0971\n"
          ]
        },
        {
          "name": "stdout",
          "output_type": "stream",
          "text": [
            "Epoch 284/1000\n"
          ]
        },
        {
          "name": "stderr",
          "output_type": "stream",
          "text": [
            "2/2██████████ ETA: 00:00s - loss: 0.0094 - mean_absolute_error: 0.0753 - mean_squared_error: 0.0094 - root_mean_squared_error: 0.0972\n"
          ]
        },
        {
          "name": "stdout",
          "output_type": "stream",
          "text": [
            "Epoch 285/1000\n"
          ]
        },
        {
          "name": "stderr",
          "output_type": "stream",
          "text": [
            "2/2██████████ ETA: 00:00s - loss: 0.0094 - mean_absolute_error: 0.0753 - mean_squared_error: 0.0094 - root_mean_squared_error: 0.0971\n",
            "Training:  28%|██▊        285/1000 ETA: 00:15s,  44.94epochs/s"
          ]
        },
        {
          "name": "stdout",
          "output_type": "stream",
          "text": [
            "Epoch 286/1000\n"
          ]
        },
        {
          "name": "stderr",
          "output_type": "stream",
          "text": [
            "2/2██████████ ETA: 00:00s - loss: 0.0094 - mean_absolute_error: 0.0752 - mean_squared_error: 0.0094 - root_mean_squared_error: 0.0971\n"
          ]
        },
        {
          "name": "stdout",
          "output_type": "stream",
          "text": [
            "Epoch 287/1000\n"
          ]
        },
        {
          "name": "stderr",
          "output_type": "stream",
          "text": [
            "2/2██████████ ETA: 00:00s - loss: 0.0094 - mean_absolute_error: 0.0753 - mean_squared_error: 0.0094 - root_mean_squared_error: 0.0971\n"
          ]
        },
        {
          "name": "stdout",
          "output_type": "stream",
          "text": [
            "Epoch 288/1000\n"
          ]
        },
        {
          "name": "stderr",
          "output_type": "stream",
          "text": [
            "2/2██████████ ETA: 00:00s - loss: 0.0094 - mean_absolute_error: 0.0752 - mean_squared_error: 0.0094 - root_mean_squared_error: 0.0970\n"
          ]
        },
        {
          "name": "stdout",
          "output_type": "stream",
          "text": [
            "Epoch 289/1000\n"
          ]
        },
        {
          "name": "stderr",
          "output_type": "stream",
          "text": [
            "2/2██████████ ETA: 00:00s - loss: 0.0094 - mean_absolute_error: 0.0752 - mean_squared_error: 0.0094 - root_mean_squared_error: 0.0971\n"
          ]
        },
        {
          "name": "stdout",
          "output_type": "stream",
          "text": [
            "Epoch 290/1000\n"
          ]
        },
        {
          "name": "stderr",
          "output_type": "stream",
          "text": [
            "2/2██████████ ETA: 00:00s - loss: 0.0094 - mean_absolute_error: 0.0751 - mean_squared_error: 0.0094 - root_mean_squared_error: 0.0969\n",
            "Training:  29%|██▉        290/1000 ETA: 00:15s,  45.64epochs/s"
          ]
        },
        {
          "name": "stdout",
          "output_type": "stream",
          "text": [
            "Epoch 291/1000\n"
          ]
        },
        {
          "name": "stderr",
          "output_type": "stream",
          "text": [
            "2/2██████████ ETA: 00:00s - loss: 0.0094 - mean_absolute_error: 0.0751 - mean_squared_error: 0.0094 - root_mean_squared_error: 0.0970\n"
          ]
        },
        {
          "name": "stdout",
          "output_type": "stream",
          "text": [
            "Epoch 292/1000\n"
          ]
        },
        {
          "name": "stderr",
          "output_type": "stream",
          "text": [
            "2/2██████████ ETA: 00:00s - loss: 0.0094 - mean_absolute_error: 0.0751 - mean_squared_error: 0.0094 - root_mean_squared_error: 0.0969\n"
          ]
        },
        {
          "name": "stdout",
          "output_type": "stream",
          "text": [
            "Epoch 293/1000\n"
          ]
        },
        {
          "name": "stderr",
          "output_type": "stream",
          "text": [
            "2/2██████████ ETA: 00:00s - loss: 0.0094 - mean_absolute_error: 0.0751 - mean_squared_error: 0.0094 - root_mean_squared_error: 0.0968\n"
          ]
        },
        {
          "name": "stdout",
          "output_type": "stream",
          "text": [
            "Epoch 294/1000\n"
          ]
        },
        {
          "name": "stderr",
          "output_type": "stream",
          "text": [
            "2/2██████████ ETA: 00:00s - loss: 0.0094 - mean_absolute_error: 0.0751 - mean_squared_error: 0.0094 - root_mean_squared_error: 0.0967\n"
          ]
        },
        {
          "name": "stdout",
          "output_type": "stream",
          "text": [
            "Epoch 295/1000\n"
          ]
        },
        {
          "name": "stderr",
          "output_type": "stream",
          "text": [
            "2/2██████████ ETA: 00:00s - loss: 0.0093 - mean_absolute_error: 0.0751 - mean_squared_error: 0.0093 - root_mean_squared_error: 0.0966\n"
          ]
        },
        {
          "name": "stdout",
          "output_type": "stream",
          "text": [
            "Epoch 296/1000\n"
          ]
        },
        {
          "name": "stderr",
          "output_type": "stream",
          "text": [
            "2/2██████████ ETA: 00:00s - loss: 0.0093 - mean_absolute_error: 0.0753 - mean_squared_error: 0.0093 - root_mean_squared_error: 0.0966\n",
            "Training:  30%|██▉        296/1000 ETA: 00:15s,  46.88epochs/s"
          ]
        },
        {
          "name": "stdout",
          "output_type": "stream",
          "text": [
            "Epoch 297/1000\n"
          ]
        },
        {
          "name": "stderr",
          "output_type": "stream",
          "text": [
            "2/2██████████ ETA: 00:00s - loss: 0.0093 - mean_absolute_error: 0.0754 - mean_squared_error: 0.0093 - root_mean_squared_error: 0.0966\n"
          ]
        },
        {
          "name": "stdout",
          "output_type": "stream",
          "text": [
            "Epoch 298/1000\n"
          ]
        },
        {
          "name": "stderr",
          "output_type": "stream",
          "text": [
            "2/2██████████ ETA: 00:00s - loss: 0.0093 - mean_absolute_error: 0.0754 - mean_squared_error: 0.0093 - root_mean_squared_error: 0.0965\n"
          ]
        },
        {
          "name": "stdout",
          "output_type": "stream",
          "text": [
            "Epoch 299/1000\n"
          ]
        },
        {
          "name": "stderr",
          "output_type": "stream",
          "text": [
            "2/2██████████ ETA: 00:00s - loss: 0.0093 - mean_absolute_error: 0.0753 - mean_squared_error: 0.0093 - root_mean_squared_error: 0.0965\n"
          ]
        },
        {
          "name": "stdout",
          "output_type": "stream",
          "text": [
            "Epoch 300/1000\n"
          ]
        },
        {
          "name": "stderr",
          "output_type": "stream",
          "text": [
            "2/2██████████ ETA: 00:00s - loss: 0.0093 - mean_absolute_error: 0.0752 - mean_squared_error: 0.0093 - root_mean_squared_error: 0.0963\n"
          ]
        },
        {
          "name": "stdout",
          "output_type": "stream",
          "text": [
            "Epoch 301/1000\n"
          ]
        },
        {
          "name": "stderr",
          "output_type": "stream",
          "text": [
            "2/2██████████ ETA: 00:00s - loss: 0.0092 - mean_absolute_error: 0.0751 - mean_squared_error: 0.0092 - root_mean_squared_error: 0.0962\n"
          ]
        },
        {
          "name": "stdout",
          "output_type": "stream",
          "text": [
            "Epoch 302/1000\n"
          ]
        },
        {
          "name": "stderr",
          "output_type": "stream",
          "text": [
            "2/2██████████ ETA: 00:00s - loss: 0.0092 - mean_absolute_error: 0.0749 - mean_squared_error: 0.0092 - root_mean_squared_error: 0.0960\n",
            "Training:  30%|███        302/1000 ETA: 00:14s,  48.88epochs/s"
          ]
        },
        {
          "name": "stdout",
          "output_type": "stream",
          "text": [
            "Epoch 303/1000\n"
          ]
        },
        {
          "name": "stderr",
          "output_type": "stream",
          "text": [
            "2/2██████████ ETA: 00:00s - loss: 0.0092 - mean_absolute_error: 0.0747 - mean_squared_error: 0.0092 - root_mean_squared_error: 0.0959\n"
          ]
        },
        {
          "name": "stdout",
          "output_type": "stream",
          "text": [
            "Epoch 304/1000\n"
          ]
        },
        {
          "name": "stderr",
          "output_type": "stream",
          "text": [
            "2/2██████████ ETA: 00:00s - loss: 0.0092 - mean_absolute_error: 0.0745 - mean_squared_error: 0.0092 - root_mean_squared_error: 0.0959\n"
          ]
        },
        {
          "name": "stdout",
          "output_type": "stream",
          "text": [
            "Epoch 305/1000\n"
          ]
        },
        {
          "name": "stderr",
          "output_type": "stream",
          "text": [
            "2/2██████████ ETA: 00:00s - loss: 0.0092 - mean_absolute_error: 0.0744 - mean_squared_error: 0.0092 - root_mean_squared_error: 0.0958\n"
          ]
        },
        {
          "name": "stdout",
          "output_type": "stream",
          "text": [
            "Epoch 306/1000\n"
          ]
        },
        {
          "name": "stderr",
          "output_type": "stream",
          "text": [
            "2/2██████████ ETA: 00:00s - loss: 0.0092 - mean_absolute_error: 0.0742 - mean_squared_error: 0.0092 - root_mean_squared_error: 0.0958\n"
          ]
        },
        {
          "name": "stdout",
          "output_type": "stream",
          "text": [
            "Epoch 307/1000\n"
          ]
        },
        {
          "name": "stderr",
          "output_type": "stream",
          "text": [
            "2/2██████████ ETA: 00:00s - loss: 0.0092 - mean_absolute_error: 0.0741 - mean_squared_error: 0.0092 - root_mean_squared_error: 0.0958\n",
            "Training:  31%|███        307/1000 ETA: 00:14s,  48.80epochs/s"
          ]
        },
        {
          "name": "stdout",
          "output_type": "stream",
          "text": [
            "Epoch 308/1000\n"
          ]
        },
        {
          "name": "stderr",
          "output_type": "stream",
          "text": [
            "2/2██████████ ETA: 00:00s - loss: 0.0092 - mean_absolute_error: 0.0741 - mean_squared_error: 0.0092 - root_mean_squared_error: 0.0957\n"
          ]
        },
        {
          "name": "stdout",
          "output_type": "stream",
          "text": [
            "Epoch 309/1000\n"
          ]
        },
        {
          "name": "stderr",
          "output_type": "stream",
          "text": [
            "2/2██████████ ETA: 00:00s - loss: 0.0091 - mean_absolute_error: 0.0740 - mean_squared_error: 0.0091 - root_mean_squared_error: 0.0956\n"
          ]
        },
        {
          "name": "stdout",
          "output_type": "stream",
          "text": [
            "Epoch 310/1000\n"
          ]
        },
        {
          "name": "stderr",
          "output_type": "stream",
          "text": [
            "2/2██████████ ETA: 00:00s - loss: 0.0091 - mean_absolute_error: 0.0740 - mean_squared_error: 0.0091 - root_mean_squared_error: 0.0955\n"
          ]
        },
        {
          "name": "stdout",
          "output_type": "stream",
          "text": [
            "Epoch 311/1000\n"
          ]
        },
        {
          "name": "stderr",
          "output_type": "stream",
          "text": [
            "2/2██████████ ETA: 00:00s - loss: 0.0091 - mean_absolute_error: 0.0742 - mean_squared_error: 0.0091 - root_mean_squared_error: 0.0954\n"
          ]
        },
        {
          "name": "stdout",
          "output_type": "stream",
          "text": [
            "Epoch 312/1000\n"
          ]
        },
        {
          "name": "stderr",
          "output_type": "stream",
          "text": [
            "2/2██████████ ETA: 00:00s - loss: 0.0091 - mean_absolute_error: 0.0743 - mean_squared_error: 0.0091 - root_mean_squared_error: 0.0954\n",
            "Training:  31%|███        312/1000 ETA: 00:14s,  48.71epochs/s"
          ]
        },
        {
          "name": "stdout",
          "output_type": "stream",
          "text": [
            "Epoch 313/1000\n"
          ]
        },
        {
          "name": "stderr",
          "output_type": "stream",
          "text": [
            "2/2██████████ ETA: 00:00s - loss: 0.0091 - mean_absolute_error: 0.0744 - mean_squared_error: 0.0091 - root_mean_squared_error: 0.0953\n"
          ]
        },
        {
          "name": "stdout",
          "output_type": "stream",
          "text": [
            "Epoch 314/1000\n"
          ]
        },
        {
          "name": "stderr",
          "output_type": "stream",
          "text": [
            "2/2██████████ ETA: 00:00s - loss: 0.0091 - mean_absolute_error: 0.0746 - mean_squared_error: 0.0091 - root_mean_squared_error: 0.0954\n"
          ]
        },
        {
          "name": "stdout",
          "output_type": "stream",
          "text": [
            "Epoch 315/1000\n"
          ]
        },
        {
          "name": "stderr",
          "output_type": "stream",
          "text": [
            "2/2██████████ ETA: 00:00s - loss: 0.0091 - mean_absolute_error: 0.0746 - mean_squared_error: 0.0091 - root_mean_squared_error: 0.0953\n"
          ]
        },
        {
          "name": "stdout",
          "output_type": "stream",
          "text": [
            "Epoch 316/1000\n"
          ]
        },
        {
          "name": "stderr",
          "output_type": "stream",
          "text": [
            "2/2██████████ ETA: 00:00s - loss: 0.0091 - mean_absolute_error: 0.0747 - mean_squared_error: 0.0091 - root_mean_squared_error: 0.0953\n"
          ]
        },
        {
          "name": "stdout",
          "output_type": "stream",
          "text": [
            "Epoch 317/1000\n"
          ]
        },
        {
          "name": "stderr",
          "output_type": "stream",
          "text": [
            "2/2██████████ ETA: 00:00s - loss: 0.0091 - mean_absolute_error: 0.0746 - mean_squared_error: 0.0091 - root_mean_squared_error: 0.0952\n",
            "Training:  32%|███▏       317/1000 ETA: 00:15s,  43.32epochs/s"
          ]
        },
        {
          "name": "stdout",
          "output_type": "stream",
          "text": [
            "Epoch 318/1000\n"
          ]
        },
        {
          "name": "stderr",
          "output_type": "stream",
          "text": [
            "2/2██████████ ETA: 00:00s - loss: 0.0091 - mean_absolute_error: 0.0746 - mean_squared_error: 0.0091 - root_mean_squared_error: 0.0951\n"
          ]
        },
        {
          "name": "stdout",
          "output_type": "stream",
          "text": [
            "Epoch 319/1000\n"
          ]
        },
        {
          "name": "stderr",
          "output_type": "stream",
          "text": [
            "2/2██████████ ETA: 00:00s - loss: 0.0090 - mean_absolute_error: 0.0745 - mean_squared_error: 0.0090 - root_mean_squared_error: 0.0951\n"
          ]
        },
        {
          "name": "stdout",
          "output_type": "stream",
          "text": [
            "Epoch 320/1000\n"
          ]
        },
        {
          "name": "stderr",
          "output_type": "stream",
          "text": [
            "2/2██████████ ETA: 00:00s - loss: 0.0090 - mean_absolute_error: 0.0744 - mean_squared_error: 0.0090 - root_mean_squared_error: 0.0951\n"
          ]
        },
        {
          "name": "stdout",
          "output_type": "stream",
          "text": [
            "Epoch 321/1000\n"
          ]
        },
        {
          "name": "stderr",
          "output_type": "stream",
          "text": [
            "2/2██████████ ETA: 00:00s - loss: 0.0090 - mean_absolute_error: 0.0743 - mean_squared_error: 0.0090 - root_mean_squared_error: 0.0949\n"
          ]
        },
        {
          "name": "stdout",
          "output_type": "stream",
          "text": [
            "Epoch 322/1000\n"
          ]
        },
        {
          "name": "stderr",
          "output_type": "stream",
          "text": [
            "2/2██████████ ETA: 00:00s - loss: 0.0090 - mean_absolute_error: 0.0743 - mean_squared_error: 0.0090 - root_mean_squared_error: 0.0949\n",
            "Training:  32%|███▏       322/1000 ETA: 00:15s,  44.47epochs/s"
          ]
        },
        {
          "name": "stdout",
          "output_type": "stream",
          "text": [
            "Epoch 323/1000\n"
          ]
        },
        {
          "name": "stderr",
          "output_type": "stream",
          "text": [
            "2/2██████████ ETA: 00:00s - loss: 0.0090 - mean_absolute_error: 0.0743 - mean_squared_error: 0.0090 - root_mean_squared_error: 0.0949\n"
          ]
        },
        {
          "name": "stdout",
          "output_type": "stream",
          "text": [
            "Epoch 324/1000\n"
          ]
        },
        {
          "name": "stderr",
          "output_type": "stream",
          "text": [
            "2/2██████████ ETA: 00:00s - loss: 0.0090 - mean_absolute_error: 0.0743 - mean_squared_error: 0.0090 - root_mean_squared_error: 0.0948\n"
          ]
        },
        {
          "name": "stdout",
          "output_type": "stream",
          "text": [
            "Epoch 325/1000\n"
          ]
        },
        {
          "name": "stderr",
          "output_type": "stream",
          "text": [
            "2/2██████████ ETA: 00:00s - loss: 0.0090 - mean_absolute_error: 0.0742 - mean_squared_error: 0.0090 - root_mean_squared_error: 0.0948\n"
          ]
        },
        {
          "name": "stdout",
          "output_type": "stream",
          "text": [
            "Epoch 326/1000\n"
          ]
        },
        {
          "name": "stderr",
          "output_type": "stream",
          "text": [
            "2/2██████████ ETA: 00:00s - loss: 0.0090 - mean_absolute_error: 0.0741 - mean_squared_error: 0.0090 - root_mean_squared_error: 0.0947\n"
          ]
        },
        {
          "name": "stdout",
          "output_type": "stream",
          "text": [
            "Epoch 327/1000\n"
          ]
        },
        {
          "name": "stderr",
          "output_type": "stream",
          "text": [
            "2/2██████████ ETA: 00:00s - loss: 0.0090 - mean_absolute_error: 0.0740 - mean_squared_error: 0.0090 - root_mean_squared_error: 0.0948\n",
            "Training:  33%|███▎       327/1000 ETA: 00:15s,  43.53epochs/s"
          ]
        },
        {
          "name": "stdout",
          "output_type": "stream",
          "text": [
            "Epoch 328/1000\n"
          ]
        },
        {
          "name": "stderr",
          "output_type": "stream",
          "text": [
            "2/2██████████ ETA: 00:00s - loss: 0.0090 - mean_absolute_error: 0.0739 - mean_squared_error: 0.0090 - root_mean_squared_error: 0.0947\n"
          ]
        },
        {
          "name": "stdout",
          "output_type": "stream",
          "text": [
            "Epoch 329/1000\n"
          ]
        },
        {
          "name": "stderr",
          "output_type": "stream",
          "text": [
            "2/2██████████ ETA: 00:00s - loss: 0.0090 - mean_absolute_error: 0.0739 - mean_squared_error: 0.0090 - root_mean_squared_error: 0.0947\n"
          ]
        },
        {
          "name": "stdout",
          "output_type": "stream",
          "text": [
            "Epoch 330/1000\n"
          ]
        },
        {
          "name": "stderr",
          "output_type": "stream",
          "text": [
            "2/2██████████ ETA: 00:00s - loss: 0.0090 - mean_absolute_error: 0.0739 - mean_squared_error: 0.0090 - root_mean_squared_error: 0.0947\n"
          ]
        },
        {
          "name": "stdout",
          "output_type": "stream",
          "text": [
            "Epoch 331/1000\n"
          ]
        },
        {
          "name": "stderr",
          "output_type": "stream",
          "text": [
            "2/2██████████ ETA: 00:00s - loss: 0.0090 - mean_absolute_error: 0.0739 - mean_squared_error: 0.0090 - root_mean_squared_error: 0.0947\n"
          ]
        },
        {
          "name": "stdout",
          "output_type": "stream",
          "text": [
            "Epoch 332/1000\n"
          ]
        },
        {
          "name": "stderr",
          "output_type": "stream",
          "text": [
            "2/2██████████ ETA: 00:00s - loss: 0.0089 - mean_absolute_error: 0.0738 - mean_squared_error: 0.0089 - root_mean_squared_error: 0.0946\n",
            "Training:  33%|███▎       332/1000 ETA: 00:14s,  45.26epochs/s"
          ]
        },
        {
          "name": "stdout",
          "output_type": "stream",
          "text": [
            "Epoch 333/1000\n"
          ]
        },
        {
          "name": "stderr",
          "output_type": "stream",
          "text": [
            "2/2██████████ ETA: 00:00s - loss: 0.0089 - mean_absolute_error: 0.0738 - mean_squared_error: 0.0089 - root_mean_squared_error: 0.0946\n"
          ]
        },
        {
          "name": "stdout",
          "output_type": "stream",
          "text": [
            "Epoch 334/1000\n"
          ]
        },
        {
          "name": "stderr",
          "output_type": "stream",
          "text": [
            "2/2██████████ ETA: 00:00s - loss: 0.0089 - mean_absolute_error: 0.0738 - mean_squared_error: 0.0089 - root_mean_squared_error: 0.0946\n"
          ]
        },
        {
          "name": "stdout",
          "output_type": "stream",
          "text": [
            "Epoch 335/1000\n"
          ]
        },
        {
          "name": "stderr",
          "output_type": "stream",
          "text": [
            "2/2██████████ ETA: 00:00s - loss: 0.0090 - mean_absolute_error: 0.0737 - mean_squared_error: 0.0090 - root_mean_squared_error: 0.0946\n"
          ]
        },
        {
          "name": "stdout",
          "output_type": "stream",
          "text": [
            "Epoch 336/1000\n"
          ]
        },
        {
          "name": "stderr",
          "output_type": "stream",
          "text": [
            "2/2██████████ ETA: 00:00s - loss: 0.0089 - mean_absolute_error: 0.0737 - mean_squared_error: 0.0089 - root_mean_squared_error: 0.0946\n"
          ]
        },
        {
          "name": "stdout",
          "output_type": "stream",
          "text": [
            "Epoch 337/1000\n"
          ]
        },
        {
          "name": "stderr",
          "output_type": "stream",
          "text": [
            "2/2██████████ ETA: 00:00s - loss: 0.0089 - mean_absolute_error: 0.0738 - mean_squared_error: 0.0089 - root_mean_squared_error: 0.0946\n"
          ]
        },
        {
          "name": "stdout",
          "output_type": "stream",
          "text": [
            "Epoch 338/1000\n"
          ]
        },
        {
          "name": "stderr",
          "output_type": "stream",
          "text": [
            "2/2██████████ ETA: 00:00s - loss: 0.0089 - mean_absolute_error: 0.0738 - mean_squared_error: 0.0089 - root_mean_squared_error: 0.0945\n",
            "Training:  34%|███▍       338/1000 ETA: 00:13s,  47.80epochs/s"
          ]
        },
        {
          "name": "stdout",
          "output_type": "stream",
          "text": [
            "Epoch 339/1000\n"
          ]
        },
        {
          "name": "stderr",
          "output_type": "stream",
          "text": [
            "2/2██████████ ETA: 00:00s - loss: 0.0089 - mean_absolute_error: 0.0738 - mean_squared_error: 0.0089 - root_mean_squared_error: 0.0944\n"
          ]
        },
        {
          "name": "stdout",
          "output_type": "stream",
          "text": [
            "Epoch 340/1000\n"
          ]
        },
        {
          "name": "stderr",
          "output_type": "stream",
          "text": [
            "2/2██████████ ETA: 00:00s - loss: 0.0089 - mean_absolute_error: 0.0739 - mean_squared_error: 0.0089 - root_mean_squared_error: 0.0945\n"
          ]
        },
        {
          "name": "stdout",
          "output_type": "stream",
          "text": [
            "Epoch 341/1000\n"
          ]
        },
        {
          "name": "stderr",
          "output_type": "stream",
          "text": [
            "2/2██████████ ETA: 00:00s - loss: 0.0089 - mean_absolute_error: 0.0740 - mean_squared_error: 0.0089 - root_mean_squared_error: 0.0943\n"
          ]
        },
        {
          "name": "stdout",
          "output_type": "stream",
          "text": [
            "Epoch 342/1000\n"
          ]
        },
        {
          "name": "stderr",
          "output_type": "stream",
          "text": [
            "2/2██████████ ETA: 00:00s - loss: 0.0089 - mean_absolute_error: 0.0741 - mean_squared_error: 0.0089 - root_mean_squared_error: 0.0945\n"
          ]
        },
        {
          "name": "stdout",
          "output_type": "stream",
          "text": [
            "Epoch 343/1000\n"
          ]
        },
        {
          "name": "stderr",
          "output_type": "stream",
          "text": [
            "2/2██████████ ETA: 00:00s - loss: 0.0089 - mean_absolute_error: 0.0740 - mean_squared_error: 0.0089 - root_mean_squared_error: 0.0944\n"
          ]
        },
        {
          "name": "stdout",
          "output_type": "stream",
          "text": [
            "Epoch 344/1000\n"
          ]
        },
        {
          "name": "stderr",
          "output_type": "stream",
          "text": [
            "2/2██████████ ETA: 00:00s - loss: 0.0089 - mean_absolute_error: 0.0739 - mean_squared_error: 0.0089 - root_mean_squared_error: 0.0943\n",
            "Training:  34%|███▍       344/1000 ETA: 00:13s,  48.89epochs/s"
          ]
        },
        {
          "name": "stdout",
          "output_type": "stream",
          "text": [
            "Epoch 345/1000\n"
          ]
        },
        {
          "name": "stderr",
          "output_type": "stream",
          "text": [
            "2/2██████████ ETA: 00:00s - loss: 0.0089 - mean_absolute_error: 0.0738 - mean_squared_error: 0.0089 - root_mean_squared_error: 0.0942\n"
          ]
        },
        {
          "name": "stdout",
          "output_type": "stream",
          "text": [
            "Epoch 346/1000\n"
          ]
        },
        {
          "name": "stderr",
          "output_type": "stream",
          "text": [
            "2/2██████████ ETA: 00:00s - loss: 0.0089 - mean_absolute_error: 0.0738 - mean_squared_error: 0.0089 - root_mean_squared_error: 0.0942\n"
          ]
        },
        {
          "name": "stdout",
          "output_type": "stream",
          "text": [
            "Epoch 347/1000\n"
          ]
        },
        {
          "name": "stderr",
          "output_type": "stream",
          "text": [
            "2/2██████████ ETA: 00:00s - loss: 0.0089 - mean_absolute_error: 0.0738 - mean_squared_error: 0.0089 - root_mean_squared_error: 0.0942\n"
          ]
        },
        {
          "name": "stdout",
          "output_type": "stream",
          "text": [
            "Epoch 348/1000\n"
          ]
        },
        {
          "name": "stderr",
          "output_type": "stream",
          "text": [
            "2/2██████████ ETA: 00:00s - loss: 0.0089 - mean_absolute_error: 0.0739 - mean_squared_error: 0.0089 - root_mean_squared_error: 0.0943\n"
          ]
        },
        {
          "name": "stdout",
          "output_type": "stream",
          "text": [
            "Epoch 349/1000\n"
          ]
        },
        {
          "name": "stderr",
          "output_type": "stream",
          "text": [
            "2/2██████████ ETA: 00:00s - loss: 0.0089 - mean_absolute_error: 0.0738 - mean_squared_error: 0.0089 - root_mean_squared_error: 0.0941\n"
          ]
        },
        {
          "name": "stdout",
          "output_type": "stream",
          "text": [
            "Epoch 350/1000\n"
          ]
        },
        {
          "name": "stderr",
          "output_type": "stream",
          "text": [
            "2/2██████████ ETA: 00:00s - loss: 0.0089 - mean_absolute_error: 0.0738 - mean_squared_error: 0.0089 - root_mean_squared_error: 0.0941\n",
            "Training:  35%|███▌       350/1000 ETA: 00:12s,  50.10epochs/s"
          ]
        },
        {
          "name": "stdout",
          "output_type": "stream",
          "text": [
            "Epoch 351/1000\n"
          ]
        },
        {
          "name": "stderr",
          "output_type": "stream",
          "text": [
            "2/2██████████ ETA: 00:00s - loss: 0.0089 - mean_absolute_error: 0.0738 - mean_squared_error: 0.0089 - root_mean_squared_error: 0.0941\n"
          ]
        },
        {
          "name": "stdout",
          "output_type": "stream",
          "text": [
            "Epoch 352/1000\n"
          ]
        },
        {
          "name": "stderr",
          "output_type": "stream",
          "text": [
            "2/2██████████ ETA: 00:00s - loss: 0.0089 - mean_absolute_error: 0.0738 - mean_squared_error: 0.0089 - root_mean_squared_error: 0.0941\n"
          ]
        },
        {
          "name": "stdout",
          "output_type": "stream",
          "text": [
            "Epoch 353/1000\n"
          ]
        },
        {
          "name": "stderr",
          "output_type": "stream",
          "text": [
            "2/2██████████ ETA: 00:00s - loss: 0.0088 - mean_absolute_error: 0.0739 - mean_squared_error: 0.0088 - root_mean_squared_error: 0.0940\n"
          ]
        },
        {
          "name": "stdout",
          "output_type": "stream",
          "text": [
            "Epoch 354/1000\n"
          ]
        },
        {
          "name": "stderr",
          "output_type": "stream",
          "text": [
            "2/2██████████ ETA: 00:00s - loss: 0.0088 - mean_absolute_error: 0.0740 - mean_squared_error: 0.0088 - root_mean_squared_error: 0.0941\n"
          ]
        },
        {
          "name": "stdout",
          "output_type": "stream",
          "text": [
            "Epoch 355/1000\n"
          ]
        },
        {
          "name": "stderr",
          "output_type": "stream",
          "text": [
            "2/2██████████ ETA: 00:00s - loss: 0.0088 - mean_absolute_error: 0.0741 - mean_squared_error: 0.0088 - root_mean_squared_error: 0.0941\n"
          ]
        },
        {
          "name": "stdout",
          "output_type": "stream",
          "text": [
            "Epoch 356/1000\n"
          ]
        },
        {
          "name": "stderr",
          "output_type": "stream",
          "text": [
            "2/2██████████ ETA: 00:00s - loss: 0.0089 - mean_absolute_error: 0.0742 - mean_squared_error: 0.0089 - root_mean_squared_error: 0.0941\n",
            "Training:  36%|███▌       356/1000 ETA: 00:12s,  51.10epochs/s"
          ]
        },
        {
          "name": "stdout",
          "output_type": "stream",
          "text": [
            "Epoch 357/1000\n"
          ]
        },
        {
          "name": "stderr",
          "output_type": "stream",
          "text": [
            "2/2██████████ ETA: 00:00s - loss: 0.0088 - mean_absolute_error: 0.0742 - mean_squared_error: 0.0088 - root_mean_squared_error: 0.0941\n"
          ]
        },
        {
          "name": "stdout",
          "output_type": "stream",
          "text": [
            "Epoch 358/1000\n"
          ]
        },
        {
          "name": "stderr",
          "output_type": "stream",
          "text": [
            "2/2██████████ ETA: 00:00s - loss: 0.0088 - mean_absolute_error: 0.0741 - mean_squared_error: 0.0088 - root_mean_squared_error: 0.0940\n"
          ]
        },
        {
          "name": "stdout",
          "output_type": "stream",
          "text": [
            "Epoch 359/1000\n"
          ]
        },
        {
          "name": "stderr",
          "output_type": "stream",
          "text": [
            "2/2██████████ ETA: 00:00s - loss: 0.0088 - mean_absolute_error: 0.0741 - mean_squared_error: 0.0088 - root_mean_squared_error: 0.0940\n"
          ]
        },
        {
          "name": "stdout",
          "output_type": "stream",
          "text": [
            "Epoch 360/1000\n"
          ]
        },
        {
          "name": "stderr",
          "output_type": "stream",
          "text": [
            "2/2██████████ ETA: 00:00s - loss: 0.0088 - mean_absolute_error: 0.0739 - mean_squared_error: 0.0088 - root_mean_squared_error: 0.0940\n"
          ]
        },
        {
          "name": "stdout",
          "output_type": "stream",
          "text": [
            "Epoch 361/1000\n"
          ]
        },
        {
          "name": "stderr",
          "output_type": "stream",
          "text": [
            "2/2██████████ ETA: 00:00s - loss: 0.0088 - mean_absolute_error: 0.0737 - mean_squared_error: 0.0088 - root_mean_squared_error: 0.0939\n"
          ]
        },
        {
          "name": "stdout",
          "output_type": "stream",
          "text": [
            "Epoch 362/1000\n"
          ]
        },
        {
          "name": "stderr",
          "output_type": "stream",
          "text": [
            "2/2██████████ ETA: 00:00s - loss: 0.0088 - mean_absolute_error: 0.0736 - mean_squared_error: 0.0088 - root_mean_squared_error: 0.0939\n",
            "Training:  36%|███▌       362/1000 ETA: 00:13s,  45.76epochs/s"
          ]
        },
        {
          "name": "stdout",
          "output_type": "stream",
          "text": [
            "Epoch 363/1000\n"
          ]
        },
        {
          "name": "stderr",
          "output_type": "stream",
          "text": [
            "2/2██████████ ETA: 00:00s - loss: 0.0088 - mean_absolute_error: 0.0736 - mean_squared_error: 0.0088 - root_mean_squared_error: 0.0939\n"
          ]
        },
        {
          "name": "stdout",
          "output_type": "stream",
          "text": [
            "Epoch 364/1000\n"
          ]
        },
        {
          "name": "stderr",
          "output_type": "stream",
          "text": [
            "2/2██████████ ETA: 00:00s - loss: 0.0088 - mean_absolute_error: 0.0735 - mean_squared_error: 0.0088 - root_mean_squared_error: 0.0938\n"
          ]
        },
        {
          "name": "stdout",
          "output_type": "stream",
          "text": [
            "Epoch 365/1000\n"
          ]
        },
        {
          "name": "stderr",
          "output_type": "stream",
          "text": [
            "2/2██████████ ETA: 00:00s - loss: 0.0088 - mean_absolute_error: 0.0735 - mean_squared_error: 0.0088 - root_mean_squared_error: 0.0938\n"
          ]
        },
        {
          "name": "stdout",
          "output_type": "stream",
          "text": [
            "Epoch 366/1000\n"
          ]
        },
        {
          "name": "stderr",
          "output_type": "stream",
          "text": [
            "2/2██████████ ETA: 00:00s - loss: 0.0088 - mean_absolute_error: 0.0734 - mean_squared_error: 0.0088 - root_mean_squared_error: 0.0939\n"
          ]
        },
        {
          "name": "stdout",
          "output_type": "stream",
          "text": [
            "Epoch 367/1000\n"
          ]
        },
        {
          "name": "stderr",
          "output_type": "stream",
          "text": [
            "2/2██████████ ETA: 00:00s - loss: 0.0088 - mean_absolute_error: 0.0734 - mean_squared_error: 0.0088 - root_mean_squared_error: 0.0938\n"
          ]
        },
        {
          "name": "stdout",
          "output_type": "stream",
          "text": [
            "Epoch 368/1000\n"
          ]
        },
        {
          "name": "stderr",
          "output_type": "stream",
          "text": [
            "2/2██████████ ETA: 00:00s - loss: 0.0088 - mean_absolute_error: 0.0735 - mean_squared_error: 0.0088 - root_mean_squared_error: 0.0939\n",
            "Training:  37%|███▋       368/1000 ETA: 00:13s,  47.05epochs/s"
          ]
        },
        {
          "name": "stdout",
          "output_type": "stream",
          "text": [
            "Epoch 369/1000\n"
          ]
        },
        {
          "name": "stderr",
          "output_type": "stream",
          "text": [
            "2/2██████████ ETA: 00:00s - loss: 0.0088 - mean_absolute_error: 0.0735 - mean_squared_error: 0.0088 - root_mean_squared_error: 0.0938\n"
          ]
        },
        {
          "name": "stdout",
          "output_type": "stream",
          "text": [
            "Epoch 370/1000\n"
          ]
        },
        {
          "name": "stderr",
          "output_type": "stream",
          "text": [
            "2/2██████████ ETA: 00:00s - loss: 0.0088 - mean_absolute_error: 0.0734 - mean_squared_error: 0.0088 - root_mean_squared_error: 0.0937\n"
          ]
        },
        {
          "name": "stdout",
          "output_type": "stream",
          "text": [
            "Epoch 371/1000\n"
          ]
        },
        {
          "name": "stderr",
          "output_type": "stream",
          "text": [
            "2/2██████████ ETA: 00:00s - loss: 0.0088 - mean_absolute_error: 0.0734 - mean_squared_error: 0.0088 - root_mean_squared_error: 0.0938\n"
          ]
        },
        {
          "name": "stdout",
          "output_type": "stream",
          "text": [
            "Epoch 372/1000\n"
          ]
        },
        {
          "name": "stderr",
          "output_type": "stream",
          "text": [
            "2/2██████████ ETA: 00:00s - loss: 0.0088 - mean_absolute_error: 0.0735 - mean_squared_error: 0.0088 - root_mean_squared_error: 0.0937\n"
          ]
        },
        {
          "name": "stdout",
          "output_type": "stream",
          "text": [
            "Epoch 373/1000\n"
          ]
        },
        {
          "name": "stderr",
          "output_type": "stream",
          "text": [
            "2/2██████████ ETA: 00:00s - loss: 0.0088 - mean_absolute_error: 0.0734 - mean_squared_error: 0.0088 - root_mean_squared_error: 0.0937\n",
            "Training:  37%|███▋       373/1000 ETA: 00:13s,  45.37epochs/s"
          ]
        },
        {
          "name": "stdout",
          "output_type": "stream",
          "text": [
            "Epoch 374/1000\n"
          ]
        },
        {
          "name": "stderr",
          "output_type": "stream",
          "text": [
            "2/2██████████ ETA: 00:00s - loss: 0.0088 - mean_absolute_error: 0.0734 - mean_squared_error: 0.0088 - root_mean_squared_error: 0.0937\n"
          ]
        },
        {
          "name": "stdout",
          "output_type": "stream",
          "text": [
            "Epoch 375/1000\n"
          ]
        },
        {
          "name": "stderr",
          "output_type": "stream",
          "text": [
            "2/2██████████ ETA: 00:00s - loss: 0.0088 - mean_absolute_error: 0.0734 - mean_squared_error: 0.0088 - root_mean_squared_error: 0.0936\n"
          ]
        },
        {
          "name": "stdout",
          "output_type": "stream",
          "text": [
            "Epoch 376/1000\n"
          ]
        },
        {
          "name": "stderr",
          "output_type": "stream",
          "text": [
            "2/2██████████ ETA: 00:00s - loss: 0.0088 - mean_absolute_error: 0.0735 - mean_squared_error: 0.0088 - root_mean_squared_error: 0.0937\n"
          ]
        },
        {
          "name": "stdout",
          "output_type": "stream",
          "text": [
            "Epoch 377/1000\n"
          ]
        },
        {
          "name": "stderr",
          "output_type": "stream",
          "text": [
            "2/2██████████ ETA: 00:00s - loss: 0.0088 - mean_absolute_error: 0.0734 - mean_squared_error: 0.0088 - root_mean_squared_error: 0.0935\n"
          ]
        },
        {
          "name": "stdout",
          "output_type": "stream",
          "text": [
            "Epoch 378/1000\n"
          ]
        },
        {
          "name": "stderr",
          "output_type": "stream",
          "text": [
            "2/2██████████ ETA: 00:00s - loss: 0.0088 - mean_absolute_error: 0.0735 - mean_squared_error: 0.0088 - root_mean_squared_error: 0.0936\n"
          ]
        },
        {
          "name": "stdout",
          "output_type": "stream",
          "text": [
            "Epoch 379/1000\n"
          ]
        },
        {
          "name": "stderr",
          "output_type": "stream",
          "text": [
            "2/2██████████ ETA: 00:00s - loss: 0.0088 - mean_absolute_error: 0.0736 - mean_squared_error: 0.0088 - root_mean_squared_error: 0.0936\n",
            "Training:  38%|███▊       379/1000 ETA: 00:12s,  47.82epochs/s"
          ]
        },
        {
          "name": "stdout",
          "output_type": "stream",
          "text": [
            "Epoch 380/1000\n"
          ]
        },
        {
          "name": "stderr",
          "output_type": "stream",
          "text": [
            "2/2██████████ ETA: 00:00s - loss: 0.0087 - mean_absolute_error: 0.0736 - mean_squared_error: 0.0087 - root_mean_squared_error: 0.0935\n"
          ]
        },
        {
          "name": "stdout",
          "output_type": "stream",
          "text": [
            "Epoch 381/1000\n"
          ]
        },
        {
          "name": "stderr",
          "output_type": "stream",
          "text": [
            "2/2██████████ ETA: 00:00s - loss: 0.0087 - mean_absolute_error: 0.0735 - mean_squared_error: 0.0087 - root_mean_squared_error: 0.0934\n"
          ]
        },
        {
          "name": "stdout",
          "output_type": "stream",
          "text": [
            "Epoch 382/1000\n"
          ]
        },
        {
          "name": "stderr",
          "output_type": "stream",
          "text": [
            "2/2██████████ ETA: 00:00s - loss: 0.0087 - mean_absolute_error: 0.0735 - mean_squared_error: 0.0087 - root_mean_squared_error: 0.0934\n"
          ]
        },
        {
          "name": "stdout",
          "output_type": "stream",
          "text": [
            "Epoch 383/1000\n"
          ]
        },
        {
          "name": "stderr",
          "output_type": "stream",
          "text": [
            "2/2██████████ ETA: 00:00s - loss: 0.0087 - mean_absolute_error: 0.0736 - mean_squared_error: 0.0087 - root_mean_squared_error: 0.0934\n"
          ]
        },
        {
          "name": "stdout",
          "output_type": "stream",
          "text": [
            "Epoch 384/1000\n"
          ]
        },
        {
          "name": "stderr",
          "output_type": "stream",
          "text": [
            "2/2██████████ ETA: 00:00s - loss: 0.0087 - mean_absolute_error: 0.0736 - mean_squared_error: 0.0087 - root_mean_squared_error: 0.0934\n"
          ]
        },
        {
          "name": "stdout",
          "output_type": "stream",
          "text": [
            "Epoch 385/1000\n"
          ]
        },
        {
          "name": "stderr",
          "output_type": "stream",
          "text": [
            "2/2██████████ ETA: 00:00s - loss: 0.0087 - mean_absolute_error: 0.0737 - mean_squared_error: 0.0087 - root_mean_squared_error: 0.0934\n",
            "Training:  38%|███▊       385/1000 ETA: 00:12s,  49.52epochs/s"
          ]
        },
        {
          "name": "stdout",
          "output_type": "stream",
          "text": [
            "Epoch 386/1000\n"
          ]
        },
        {
          "name": "stderr",
          "output_type": "stream",
          "text": [
            "2/2██████████ ETA: 00:00s - loss: 0.0087 - mean_absolute_error: 0.0736 - mean_squared_error: 0.0087 - root_mean_squared_error: 0.0933\n"
          ]
        },
        {
          "name": "stdout",
          "output_type": "stream",
          "text": [
            "Epoch 387/1000\n"
          ]
        },
        {
          "name": "stderr",
          "output_type": "stream",
          "text": [
            "2/2██████████ ETA: 00:00s - loss: 0.0087 - mean_absolute_error: 0.0736 - mean_squared_error: 0.0087 - root_mean_squared_error: 0.0933\n"
          ]
        },
        {
          "name": "stdout",
          "output_type": "stream",
          "text": [
            "Epoch 388/1000\n"
          ]
        },
        {
          "name": "stderr",
          "output_type": "stream",
          "text": [
            "2/2██████████ ETA: 00:00s - loss: 0.0087 - mean_absolute_error: 0.0734 - mean_squared_error: 0.0087 - root_mean_squared_error: 0.0933\n"
          ]
        },
        {
          "name": "stdout",
          "output_type": "stream",
          "text": [
            "Epoch 389/1000\n"
          ]
        },
        {
          "name": "stderr",
          "output_type": "stream",
          "text": [
            "2/2██████████ ETA: 00:00s - loss: 0.0087 - mean_absolute_error: 0.0732 - mean_squared_error: 0.0087 - root_mean_squared_error: 0.0932\n"
          ]
        },
        {
          "name": "stdout",
          "output_type": "stream",
          "text": [
            "Epoch 390/1000\n"
          ]
        },
        {
          "name": "stderr",
          "output_type": "stream",
          "text": [
            "2/2██████████ ETA: 00:00s - loss: 0.0087 - mean_absolute_error: 0.0731 - mean_squared_error: 0.0087 - root_mean_squared_error: 0.0932\n"
          ]
        },
        {
          "name": "stdout",
          "output_type": "stream",
          "text": [
            "Epoch 391/1000\n"
          ]
        },
        {
          "name": "stderr",
          "output_type": "stream",
          "text": [
            "2/2██████████ ETA: 00:00s - loss: 0.0087 - mean_absolute_error: 0.0731 - mean_squared_error: 0.0087 - root_mean_squared_error: 0.0932\n",
            "Training:  39%|███▉       391/1000 ETA: 00:12s,  50.53epochs/s"
          ]
        },
        {
          "name": "stdout",
          "output_type": "stream",
          "text": [
            "Epoch 392/1000\n"
          ]
        },
        {
          "name": "stderr",
          "output_type": "stream",
          "text": [
            "2/2██████████ ETA: 00:00s - loss: 0.0087 - mean_absolute_error: 0.0731 - mean_squared_error: 0.0087 - root_mean_squared_error: 0.0932\n"
          ]
        },
        {
          "name": "stdout",
          "output_type": "stream",
          "text": [
            "Epoch 393/1000\n"
          ]
        },
        {
          "name": "stderr",
          "output_type": "stream",
          "text": [
            "2/2██████████ ETA: 00:00s - loss: 0.0087 - mean_absolute_error: 0.0731 - mean_squared_error: 0.0087 - root_mean_squared_error: 0.0932\n"
          ]
        },
        {
          "name": "stdout",
          "output_type": "stream",
          "text": [
            "Epoch 394/1000\n"
          ]
        },
        {
          "name": "stderr",
          "output_type": "stream",
          "text": [
            "2/2██████████ ETA: 00:00s - loss: 0.0087 - mean_absolute_error: 0.0729 - mean_squared_error: 0.0087 - root_mean_squared_error: 0.0931\n"
          ]
        },
        {
          "name": "stdout",
          "output_type": "stream",
          "text": [
            "Epoch 395/1000\n"
          ]
        },
        {
          "name": "stderr",
          "output_type": "stream",
          "text": [
            "2/2██████████ ETA: 00:00s - loss: 0.0087 - mean_absolute_error: 0.0729 - mean_squared_error: 0.0087 - root_mean_squared_error: 0.0931\n"
          ]
        },
        {
          "name": "stdout",
          "output_type": "stream",
          "text": [
            "Epoch 396/1000\n"
          ]
        },
        {
          "name": "stderr",
          "output_type": "stream",
          "text": [
            "2/2██████████ ETA: 00:00s - loss: 0.0087 - mean_absolute_error: 0.0730 - mean_squared_error: 0.0087 - root_mean_squared_error: 0.0931\n"
          ]
        },
        {
          "name": "stdout",
          "output_type": "stream",
          "text": [
            "Epoch 397/1000\n"
          ]
        },
        {
          "name": "stderr",
          "output_type": "stream",
          "text": [
            "2/2██████████ ETA: 00:00s - loss: 0.0087 - mean_absolute_error: 0.0730 - mean_squared_error: 0.0087 - root_mean_squared_error: 0.0930\n",
            "Training:  40%|███▉       397/1000 ETA: 00:11s,  50.79epochs/s"
          ]
        },
        {
          "name": "stdout",
          "output_type": "stream",
          "text": [
            "Epoch 398/1000\n"
          ]
        },
        {
          "name": "stderr",
          "output_type": "stream",
          "text": [
            "2/2██████████ ETA: 00:00s - loss: 0.0087 - mean_absolute_error: 0.0731 - mean_squared_error: 0.0087 - root_mean_squared_error: 0.0931\n"
          ]
        },
        {
          "name": "stdout",
          "output_type": "stream",
          "text": [
            "Epoch 399/1000\n"
          ]
        },
        {
          "name": "stderr",
          "output_type": "stream",
          "text": [
            "2/2██████████ ETA: 00:00s - loss: 0.0086 - mean_absolute_error: 0.0731 - mean_squared_error: 0.0086 - root_mean_squared_error: 0.0930\n"
          ]
        },
        {
          "name": "stdout",
          "output_type": "stream",
          "text": [
            "Epoch 400/1000\n"
          ]
        },
        {
          "name": "stderr",
          "output_type": "stream",
          "text": [
            "2/2██████████ ETA: 00:00s - loss: 0.0087 - mean_absolute_error: 0.0733 - mean_squared_error: 0.0087 - root_mean_squared_error: 0.0930\n"
          ]
        },
        {
          "name": "stdout",
          "output_type": "stream",
          "text": [
            "Epoch 401/1000\n"
          ]
        },
        {
          "name": "stderr",
          "output_type": "stream",
          "text": [
            "2/2██████████ ETA: 00:00s - loss: 0.0087 - mean_absolute_error: 0.0734 - mean_squared_error: 0.0087 - root_mean_squared_error: 0.0931\n"
          ]
        },
        {
          "name": "stdout",
          "output_type": "stream",
          "text": [
            "Epoch 402/1000\n"
          ]
        },
        {
          "name": "stderr",
          "output_type": "stream",
          "text": [
            "2/2██████████ ETA: 00:00s - loss: 0.0087 - mean_absolute_error: 0.0734 - mean_squared_error: 0.0087 - root_mean_squared_error: 0.0930\n"
          ]
        },
        {
          "name": "stdout",
          "output_type": "stream",
          "text": [
            "Epoch 403/1000\n"
          ]
        },
        {
          "name": "stderr",
          "output_type": "stream",
          "text": [
            "2/2██████████ ETA: 00:00s - loss: 0.0086 - mean_absolute_error: 0.0733 - mean_squared_error: 0.0086 - root_mean_squared_error: 0.0930\n",
            "Training:  40%|████       403/1000 ETA: 00:13s,  45.39epochs/s"
          ]
        },
        {
          "name": "stdout",
          "output_type": "stream",
          "text": [
            "Epoch 404/1000\n"
          ]
        },
        {
          "name": "stderr",
          "output_type": "stream",
          "text": [
            "2/2██████████ ETA: 00:00s - loss: 0.0086 - mean_absolute_error: 0.0732 - mean_squared_error: 0.0086 - root_mean_squared_error: 0.0929\n"
          ]
        },
        {
          "name": "stdout",
          "output_type": "stream",
          "text": [
            "Epoch 405/1000\n"
          ]
        },
        {
          "name": "stderr",
          "output_type": "stream",
          "text": [
            "2/2██████████ ETA: 00:00s - loss: 0.0087 - mean_absolute_error: 0.0732 - mean_squared_error: 0.0087 - root_mean_squared_error: 0.0930\n"
          ]
        },
        {
          "name": "stdout",
          "output_type": "stream",
          "text": [
            "Epoch 406/1000\n"
          ]
        },
        {
          "name": "stderr",
          "output_type": "stream",
          "text": [
            "2/2██████████ ETA: 00:00s - loss: 0.0086 - mean_absolute_error: 0.0731 - mean_squared_error: 0.0086 - root_mean_squared_error: 0.0929\n"
          ]
        },
        {
          "name": "stdout",
          "output_type": "stream",
          "text": [
            "Epoch 407/1000\n"
          ]
        },
        {
          "name": "stderr",
          "output_type": "stream",
          "text": [
            "2/2██████████ ETA: 00:00s - loss: 0.0086 - mean_absolute_error: 0.0731 - mean_squared_error: 0.0086 - root_mean_squared_error: 0.0929\n"
          ]
        },
        {
          "name": "stdout",
          "output_type": "stream",
          "text": [
            "Epoch 408/1000\n"
          ]
        },
        {
          "name": "stderr",
          "output_type": "stream",
          "text": [
            "2/2██████████ ETA: 00:00s - loss: 0.0086 - mean_absolute_error: 0.0730 - mean_squared_error: 0.0086 - root_mean_squared_error: 0.0929\n"
          ]
        },
        {
          "name": "stdout",
          "output_type": "stream",
          "text": [
            "Epoch 409/1000\n"
          ]
        },
        {
          "name": "stderr",
          "output_type": "stream",
          "text": [
            "2/2██████████ ETA: 00:00s - loss: 0.0086 - mean_absolute_error: 0.0730 - mean_squared_error: 0.0086 - root_mean_squared_error: 0.0930\n",
            "Training:  41%|████       409/1000 ETA: 00:12s,  47.58epochs/s"
          ]
        },
        {
          "name": "stdout",
          "output_type": "stream",
          "text": [
            "Epoch 410/1000\n"
          ]
        },
        {
          "name": "stderr",
          "output_type": "stream",
          "text": [
            "2/2██████████ ETA: 00:00s - loss: 0.0086 - mean_absolute_error: 0.0730 - mean_squared_error: 0.0086 - root_mean_squared_error: 0.0929\n"
          ]
        },
        {
          "name": "stdout",
          "output_type": "stream",
          "text": [
            "Epoch 411/1000\n"
          ]
        },
        {
          "name": "stderr",
          "output_type": "stream",
          "text": [
            "2/2██████████ ETA: 00:00s - loss: 0.0086 - mean_absolute_error: 0.0731 - mean_squared_error: 0.0086 - root_mean_squared_error: 0.0928\n"
          ]
        },
        {
          "name": "stdout",
          "output_type": "stream",
          "text": [
            "Epoch 412/1000\n"
          ]
        },
        {
          "name": "stderr",
          "output_type": "stream",
          "text": [
            "2/2██████████ ETA: 00:00s - loss: 0.0086 - mean_absolute_error: 0.0733 - mean_squared_error: 0.0086 - root_mean_squared_error: 0.0929\n"
          ]
        },
        {
          "name": "stdout",
          "output_type": "stream",
          "text": [
            "Epoch 413/1000\n"
          ]
        },
        {
          "name": "stderr",
          "output_type": "stream",
          "text": [
            "2/2██████████ ETA: 00:00s - loss: 0.0086 - mean_absolute_error: 0.0732 - mean_squared_error: 0.0086 - root_mean_squared_error: 0.0928\n"
          ]
        },
        {
          "name": "stdout",
          "output_type": "stream",
          "text": [
            "Epoch 414/1000\n"
          ]
        },
        {
          "name": "stderr",
          "output_type": "stream",
          "text": [
            "2/2██████████ ETA: 00:00s - loss: 0.0086 - mean_absolute_error: 0.0732 - mean_squared_error: 0.0086 - root_mean_squared_error: 0.0928\n"
          ]
        },
        {
          "name": "stdout",
          "output_type": "stream",
          "text": [
            "Epoch 415/1000\n"
          ]
        },
        {
          "name": "stderr",
          "output_type": "stream",
          "text": [
            "2/2██████████ ETA: 00:00s - loss: 0.0086 - mean_absolute_error: 0.0732 - mean_squared_error: 0.0086 - root_mean_squared_error: 0.0928\n",
            "Training:  42%|████▏      415/1000 ETA: 00:11s,  49.02epochs/s"
          ]
        },
        {
          "name": "stdout",
          "output_type": "stream",
          "text": [
            "Epoch 416/1000\n"
          ]
        },
        {
          "name": "stderr",
          "output_type": "stream",
          "text": [
            "2/2██████████ ETA: 00:00s - loss: 0.0086 - mean_absolute_error: 0.0732 - mean_squared_error: 0.0086 - root_mean_squared_error: 0.0929\n"
          ]
        },
        {
          "name": "stdout",
          "output_type": "stream",
          "text": [
            "Epoch 417/1000\n"
          ]
        },
        {
          "name": "stderr",
          "output_type": "stream",
          "text": [
            "2/2██████████ ETA: 00:00s - loss: 0.0086 - mean_absolute_error: 0.0731 - mean_squared_error: 0.0086 - root_mean_squared_error: 0.0928\n"
          ]
        },
        {
          "name": "stdout",
          "output_type": "stream",
          "text": [
            "Epoch 418/1000\n"
          ]
        },
        {
          "name": "stderr",
          "output_type": "stream",
          "text": [
            "2/2██████████ ETA: 00:00s - loss: 0.0086 - mean_absolute_error: 0.0732 - mean_squared_error: 0.0086 - root_mean_squared_error: 0.0928\n"
          ]
        },
        {
          "name": "stdout",
          "output_type": "stream",
          "text": [
            "Epoch 419/1000\n"
          ]
        },
        {
          "name": "stderr",
          "output_type": "stream",
          "text": [
            "2/2██████████ ETA: 00:00s - loss: 0.0086 - mean_absolute_error: 0.0731 - mean_squared_error: 0.0086 - root_mean_squared_error: 0.0927\n"
          ]
        },
        {
          "name": "stdout",
          "output_type": "stream",
          "text": [
            "Epoch 420/1000\n"
          ]
        },
        {
          "name": "stderr",
          "output_type": "stream",
          "text": [
            "2/2██████████ ETA: 00:00s - loss: 0.0086 - mean_absolute_error: 0.0730 - mean_squared_error: 0.0086 - root_mean_squared_error: 0.0927\n"
          ]
        },
        {
          "name": "stdout",
          "output_type": "stream",
          "text": [
            "Epoch 421/1000\n"
          ]
        },
        {
          "name": "stderr",
          "output_type": "stream",
          "text": [
            "2/2██████████ ETA: 00:00s - loss: 0.0086 - mean_absolute_error: 0.0729 - mean_squared_error: 0.0086 - root_mean_squared_error: 0.0927\n",
            "Training:  42%|████▏      421/1000 ETA: 00:11s,  50.51epochs/s"
          ]
        },
        {
          "name": "stdout",
          "output_type": "stream",
          "text": [
            "Epoch 422/1000\n"
          ]
        },
        {
          "name": "stderr",
          "output_type": "stream",
          "text": [
            "2/2██████████ ETA: 00:00s - loss: 0.0086 - mean_absolute_error: 0.0730 - mean_squared_error: 0.0086 - root_mean_squared_error: 0.0927\n"
          ]
        },
        {
          "name": "stdout",
          "output_type": "stream",
          "text": [
            "Epoch 423/1000\n"
          ]
        },
        {
          "name": "stderr",
          "output_type": "stream",
          "text": [
            "2/2██████████ ETA: 00:00s - loss: 0.0086 - mean_absolute_error: 0.0730 - mean_squared_error: 0.0086 - root_mean_squared_error: 0.0927\n"
          ]
        },
        {
          "name": "stdout",
          "output_type": "stream",
          "text": [
            "Epoch 424/1000\n"
          ]
        },
        {
          "name": "stderr",
          "output_type": "stream",
          "text": [
            "2/2██████████ ETA: 00:00s - loss: 0.0086 - mean_absolute_error: 0.0731 - mean_squared_error: 0.0086 - root_mean_squared_error: 0.0928\n"
          ]
        },
        {
          "name": "stdout",
          "output_type": "stream",
          "text": [
            "Epoch 425/1000\n"
          ]
        },
        {
          "name": "stderr",
          "output_type": "stream",
          "text": [
            "2/2██████████ ETA: 00:00s - loss: 0.0086 - mean_absolute_error: 0.0731 - mean_squared_error: 0.0086 - root_mean_squared_error: 0.0927\n"
          ]
        },
        {
          "name": "stdout",
          "output_type": "stream",
          "text": [
            "Epoch 426/1000\n"
          ]
        },
        {
          "name": "stderr",
          "output_type": "stream",
          "text": [
            "2/2██████████ ETA: 00:00s - loss: 0.0086 - mean_absolute_error: 0.0731 - mean_squared_error: 0.0086 - root_mean_squared_error: 0.0927\n"
          ]
        },
        {
          "name": "stdout",
          "output_type": "stream",
          "text": [
            "Epoch 427/1000\n"
          ]
        },
        {
          "name": "stderr",
          "output_type": "stream",
          "text": [
            "2/2██████████ ETA: 00:00s - loss: 0.0086 - mean_absolute_error: 0.0731 - mean_squared_error: 0.0086 - root_mean_squared_error: 0.0927\n",
            "Training:  43%|████▎      427/1000 ETA: 00:10s,  52.16epochs/s"
          ]
        },
        {
          "name": "stdout",
          "output_type": "stream",
          "text": [
            "Epoch 428/1000\n"
          ]
        },
        {
          "name": "stderr",
          "output_type": "stream",
          "text": [
            "2/2██████████ ETA: 00:00s - loss: 0.0086 - mean_absolute_error: 0.0730 - mean_squared_error: 0.0086 - root_mean_squared_error: 0.0926\n"
          ]
        },
        {
          "name": "stdout",
          "output_type": "stream",
          "text": [
            "Epoch 429/1000\n"
          ]
        },
        {
          "name": "stderr",
          "output_type": "stream",
          "text": [
            "2/2██████████ ETA: 00:00s - loss: 0.0086 - mean_absolute_error: 0.0730 - mean_squared_error: 0.0086 - root_mean_squared_error: 0.0926\n"
          ]
        },
        {
          "name": "stdout",
          "output_type": "stream",
          "text": [
            "Epoch 430/1000\n"
          ]
        },
        {
          "name": "stderr",
          "output_type": "stream",
          "text": [
            "2/2██████████ ETA: 00:00s - loss: 0.0086 - mean_absolute_error: 0.0730 - mean_squared_error: 0.0086 - root_mean_squared_error: 0.0926\n"
          ]
        },
        {
          "name": "stdout",
          "output_type": "stream",
          "text": [
            "Epoch 431/1000\n"
          ]
        },
        {
          "name": "stderr",
          "output_type": "stream",
          "text": [
            "2/2██████████ ETA: 00:00s - loss: 0.0086 - mean_absolute_error: 0.0729 - mean_squared_error: 0.0086 - root_mean_squared_error: 0.0925\n"
          ]
        },
        {
          "name": "stdout",
          "output_type": "stream",
          "text": [
            "Epoch 432/1000\n"
          ]
        },
        {
          "name": "stderr",
          "output_type": "stream",
          "text": [
            "2/2██████████ ETA: 00:00s - loss: 0.0086 - mean_absolute_error: 0.0728 - mean_squared_error: 0.0086 - root_mean_squared_error: 0.0925\n"
          ]
        },
        {
          "name": "stdout",
          "output_type": "stream",
          "text": [
            "Epoch 433/1000\n"
          ]
        },
        {
          "name": "stderr",
          "output_type": "stream",
          "text": [
            "2/2██████████ ETA: 00:00s - loss: 0.0086 - mean_absolute_error: 0.0727 - mean_squared_error: 0.0086 - root_mean_squared_error: 0.0925\n",
            "Training:  43%|████▎      433/1000 ETA: 00:10s,  52.64epochs/s"
          ]
        },
        {
          "name": "stdout",
          "output_type": "stream",
          "text": [
            "Epoch 434/1000\n"
          ]
        },
        {
          "name": "stderr",
          "output_type": "stream",
          "text": [
            "2/2██████████ ETA: 00:00s - loss: 0.0086 - mean_absolute_error: 0.0726 - mean_squared_error: 0.0086 - root_mean_squared_error: 0.0925\n"
          ]
        },
        {
          "name": "stdout",
          "output_type": "stream",
          "text": [
            "Epoch 435/1000\n"
          ]
        },
        {
          "name": "stderr",
          "output_type": "stream",
          "text": [
            "2/2██████████ ETA: 00:00s - loss: 0.0086 - mean_absolute_error: 0.0725 - mean_squared_error: 0.0086 - root_mean_squared_error: 0.0925\n"
          ]
        },
        {
          "name": "stdout",
          "output_type": "stream",
          "text": [
            "Epoch 436/1000\n"
          ]
        },
        {
          "name": "stderr",
          "output_type": "stream",
          "text": [
            "2/2██████████ ETA: 00:00s - loss: 0.0085 - mean_absolute_error: 0.0725 - mean_squared_error: 0.0085 - root_mean_squared_error: 0.0925\n"
          ]
        },
        {
          "name": "stdout",
          "output_type": "stream",
          "text": [
            "Epoch 437/1000\n"
          ]
        },
        {
          "name": "stderr",
          "output_type": "stream",
          "text": [
            "2/2██████████ ETA: 00:00s - loss: 0.0086 - mean_absolute_error: 0.0727 - mean_squared_error: 0.0086 - root_mean_squared_error: 0.0927\n"
          ]
        },
        {
          "name": "stdout",
          "output_type": "stream",
          "text": [
            "Epoch 438/1000\n"
          ]
        },
        {
          "name": "stderr",
          "output_type": "stream",
          "text": [
            "2/2██████████ ETA: 00:00s - loss: 0.0085 - mean_absolute_error: 0.0725 - mean_squared_error: 0.0085 - root_mean_squared_error: 0.0924\n"
          ]
        },
        {
          "name": "stdout",
          "output_type": "stream",
          "text": [
            "Epoch 439/1000\n"
          ]
        },
        {
          "name": "stderr",
          "output_type": "stream",
          "text": [
            "2/2██████████ ETA: 00:00s - loss: 0.0085 - mean_absolute_error: 0.0729 - mean_squared_error: 0.0085 - root_mean_squared_error: 0.0924\n",
            "Training:  44%|████▍      439/1000 ETA: 00:10s,  54.48epochs/s"
          ]
        },
        {
          "name": "stdout",
          "output_type": "stream",
          "text": [
            "Epoch 440/1000\n"
          ]
        },
        {
          "name": "stderr",
          "output_type": "stream",
          "text": [
            "2/2██████████ ETA: 00:00s - loss: 0.0086 - mean_absolute_error: 0.0731 - mean_squared_error: 0.0086 - root_mean_squared_error: 0.0925\n"
          ]
        },
        {
          "name": "stdout",
          "output_type": "stream",
          "text": [
            "Epoch 441/1000\n"
          ]
        },
        {
          "name": "stderr",
          "output_type": "stream",
          "text": [
            "2/2██████████ ETA: 00:00s - loss: 0.0086 - mean_absolute_error: 0.0732 - mean_squared_error: 0.0086 - root_mean_squared_error: 0.0925\n"
          ]
        },
        {
          "name": "stdout",
          "output_type": "stream",
          "text": [
            "Epoch 442/1000\n"
          ]
        },
        {
          "name": "stderr",
          "output_type": "stream",
          "text": [
            "2/2██████████ ETA: 00:00s - loss: 0.0085 - mean_absolute_error: 0.0730 - mean_squared_error: 0.0085 - root_mean_squared_error: 0.0924\n"
          ]
        },
        {
          "name": "stdout",
          "output_type": "stream",
          "text": [
            "Epoch 443/1000\n"
          ]
        },
        {
          "name": "stderr",
          "output_type": "stream",
          "text": [
            "2/2██████████ ETA: 00:00s - loss: 0.0085 - mean_absolute_error: 0.0728 - mean_squared_error: 0.0085 - root_mean_squared_error: 0.0923\n"
          ]
        },
        {
          "name": "stdout",
          "output_type": "stream",
          "text": [
            "Epoch 444/1000\n"
          ]
        },
        {
          "name": "stderr",
          "output_type": "stream",
          "text": [
            "2/2██████████ ETA: 00:00s - loss: 0.0085 - mean_absolute_error: 0.0727 - mean_squared_error: 0.0085 - root_mean_squared_error: 0.0923\n"
          ]
        },
        {
          "name": "stdout",
          "output_type": "stream",
          "text": [
            "Epoch 445/1000\n"
          ]
        },
        {
          "name": "stderr",
          "output_type": "stream",
          "text": [
            "2/2██████████ ETA: 00:00s - loss: 0.0085 - mean_absolute_error: 0.0727 - mean_squared_error: 0.0085 - root_mean_squared_error: 0.0923\n",
            "Training:  44%|████▍      445/1000 ETA: 00:09s,  55.85epochs/s"
          ]
        },
        {
          "name": "stdout",
          "output_type": "stream",
          "text": [
            "Epoch 446/1000\n"
          ]
        },
        {
          "name": "stderr",
          "output_type": "stream",
          "text": [
            "2/2██████████ ETA: 00:00s - loss: 0.0085 - mean_absolute_error: 0.0727 - mean_squared_error: 0.0085 - root_mean_squared_error: 0.0923\n"
          ]
        },
        {
          "name": "stdout",
          "output_type": "stream",
          "text": [
            "Epoch 447/1000\n"
          ]
        },
        {
          "name": "stderr",
          "output_type": "stream",
          "text": [
            "2/2██████████ ETA: 00:00s - loss: 0.0085 - mean_absolute_error: 0.0727 - mean_squared_error: 0.0085 - root_mean_squared_error: 0.0924\n"
          ]
        },
        {
          "name": "stdout",
          "output_type": "stream",
          "text": [
            "Epoch 448/1000\n"
          ]
        },
        {
          "name": "stderr",
          "output_type": "stream",
          "text": [
            "2/2██████████ ETA: 00:00s - loss: 0.0085 - mean_absolute_error: 0.0727 - mean_squared_error: 0.0085 - root_mean_squared_error: 0.0924\n"
          ]
        },
        {
          "name": "stdout",
          "output_type": "stream",
          "text": [
            "Epoch 449/1000\n"
          ]
        },
        {
          "name": "stderr",
          "output_type": "stream",
          "text": [
            "2/2██████████ ETA: 00:00s - loss: 0.0085 - mean_absolute_error: 0.0726 - mean_squared_error: 0.0085 - root_mean_squared_error: 0.0924\n"
          ]
        },
        {
          "name": "stdout",
          "output_type": "stream",
          "text": [
            "Epoch 450/1000\n"
          ]
        },
        {
          "name": "stderr",
          "output_type": "stream",
          "text": [
            "2/2██████████ ETA: 00:00s - loss: 0.0085 - mean_absolute_error: 0.0726 - mean_squared_error: 0.0085 - root_mean_squared_error: 0.0922\n"
          ]
        },
        {
          "name": "stdout",
          "output_type": "stream",
          "text": [
            "Epoch 451/1000\n"
          ]
        },
        {
          "name": "stderr",
          "output_type": "stream",
          "text": [
            "2/2██████████ ETA: 00:00s - loss: 0.0085 - mean_absolute_error: 0.0728 - mean_squared_error: 0.0085 - root_mean_squared_error: 0.0923\n",
            "Training:  45%|████▌      451/1000 ETA: 00:09s,  55.18epochs/s"
          ]
        },
        {
          "name": "stdout",
          "output_type": "stream",
          "text": [
            "Epoch 452/1000\n"
          ]
        },
        {
          "name": "stderr",
          "output_type": "stream",
          "text": [
            "2/2██████████ ETA: 00:00s - loss: 0.0085 - mean_absolute_error: 0.0728 - mean_squared_error: 0.0085 - root_mean_squared_error: 0.0922\n"
          ]
        },
        {
          "name": "stdout",
          "output_type": "stream",
          "text": [
            "Epoch 453/1000\n"
          ]
        },
        {
          "name": "stderr",
          "output_type": "stream",
          "text": [
            "2/2██████████ ETA: 00:00s - loss: 0.0085 - mean_absolute_error: 0.0728 - mean_squared_error: 0.0085 - root_mean_squared_error: 0.0922\n"
          ]
        },
        {
          "name": "stdout",
          "output_type": "stream",
          "text": [
            "Epoch 454/1000\n"
          ]
        },
        {
          "name": "stderr",
          "output_type": "stream",
          "text": [
            "2/2██████████ ETA: 00:00s - loss: 0.0085 - mean_absolute_error: 0.0727 - mean_squared_error: 0.0085 - root_mean_squared_error: 0.0921\n"
          ]
        },
        {
          "name": "stdout",
          "output_type": "stream",
          "text": [
            "Epoch 455/1000\n"
          ]
        },
        {
          "name": "stderr",
          "output_type": "stream",
          "text": [
            "2/2██████████ ETA: 00:00s - loss: 0.0085 - mean_absolute_error: 0.0726 - mean_squared_error: 0.0085 - root_mean_squared_error: 0.0921\n"
          ]
        },
        {
          "name": "stdout",
          "output_type": "stream",
          "text": [
            "Epoch 456/1000\n"
          ]
        },
        {
          "name": "stderr",
          "output_type": "stream",
          "text": [
            "2/2██████████ ETA: 00:00s - loss: 0.0085 - mean_absolute_error: 0.0725 - mean_squared_error: 0.0085 - root_mean_squared_error: 0.0921\n"
          ]
        },
        {
          "name": "stdout",
          "output_type": "stream",
          "text": [
            "Epoch 457/1000\n"
          ]
        },
        {
          "name": "stderr",
          "output_type": "stream",
          "text": [
            "2/2██████████ ETA: 00:00s - loss: 0.0085 - mean_absolute_error: 0.0725 - mean_squared_error: 0.0085 - root_mean_squared_error: 0.0921\n",
            "Training:  46%|████▌      457/1000 ETA: 00:11s,  49.31epochs/s"
          ]
        },
        {
          "name": "stdout",
          "output_type": "stream",
          "text": [
            "Epoch 458/1000\n"
          ]
        },
        {
          "name": "stderr",
          "output_type": "stream",
          "text": [
            "2/2██████████ ETA: 00:00s - loss: 0.0085 - mean_absolute_error: 0.0724 - mean_squared_error: 0.0085 - root_mean_squared_error: 0.0920\n"
          ]
        },
        {
          "name": "stdout",
          "output_type": "stream",
          "text": [
            "Epoch 459/1000\n"
          ]
        },
        {
          "name": "stderr",
          "output_type": "stream",
          "text": [
            "2/2██████████ ETA: 00:00s - loss: 0.0085 - mean_absolute_error: 0.0724 - mean_squared_error: 0.0085 - root_mean_squared_error: 0.0920\n"
          ]
        },
        {
          "name": "stdout",
          "output_type": "stream",
          "text": [
            "Epoch 460/1000\n"
          ]
        },
        {
          "name": "stderr",
          "output_type": "stream",
          "text": [
            "2/2██████████ ETA: 00:00s - loss: 0.0085 - mean_absolute_error: 0.0723 - mean_squared_error: 0.0085 - root_mean_squared_error: 0.0920\n"
          ]
        },
        {
          "name": "stdout",
          "output_type": "stream",
          "text": [
            "Epoch 461/1000\n"
          ]
        },
        {
          "name": "stderr",
          "output_type": "stream",
          "text": [
            "2/2██████████ ETA: 00:00s - loss: 0.0085 - mean_absolute_error: 0.0723 - mean_squared_error: 0.0085 - root_mean_squared_error: 0.0920\n"
          ]
        },
        {
          "name": "stdout",
          "output_type": "stream",
          "text": [
            "Epoch 462/1000\n"
          ]
        },
        {
          "name": "stderr",
          "output_type": "stream",
          "text": [
            "2/2██████████ ETA: 00:00s - loss: 0.0085 - mean_absolute_error: 0.0723 - mean_squared_error: 0.0085 - root_mean_squared_error: 0.0919\n"
          ]
        },
        {
          "name": "stdout",
          "output_type": "stream",
          "text": [
            "Epoch 463/1000\n"
          ]
        },
        {
          "name": "stderr",
          "output_type": "stream",
          "text": [
            "2/2██████████ ETA: 00:00s - loss: 0.0084 - mean_absolute_error: 0.0723 - mean_squared_error: 0.0084 - root_mean_squared_error: 0.0919\n",
            "Training:  46%|████▋      463/1000 ETA: 00:10s,  50.52epochs/s"
          ]
        },
        {
          "name": "stdout",
          "output_type": "stream",
          "text": [
            "Epoch 464/1000\n"
          ]
        },
        {
          "name": "stderr",
          "output_type": "stream",
          "text": [
            "2/2██████████ ETA: 00:00s - loss: 0.0085 - mean_absolute_error: 0.0724 - mean_squared_error: 0.0085 - root_mean_squared_error: 0.0920\n"
          ]
        },
        {
          "name": "stdout",
          "output_type": "stream",
          "text": [
            "Epoch 465/1000\n"
          ]
        },
        {
          "name": "stderr",
          "output_type": "stream",
          "text": [
            "2/2██████████ ETA: 00:00s - loss: 0.0085 - mean_absolute_error: 0.0724 - mean_squared_error: 0.0085 - root_mean_squared_error: 0.0920\n"
          ]
        },
        {
          "name": "stdout",
          "output_type": "stream",
          "text": [
            "Epoch 466/1000\n"
          ]
        },
        {
          "name": "stderr",
          "output_type": "stream",
          "text": [
            "2/2██████████ ETA: 00:00s - loss: 0.0085 - mean_absolute_error: 0.0724 - mean_squared_error: 0.0085 - root_mean_squared_error: 0.0920\n"
          ]
        },
        {
          "name": "stdout",
          "output_type": "stream",
          "text": [
            "Epoch 467/1000\n"
          ]
        },
        {
          "name": "stderr",
          "output_type": "stream",
          "text": [
            "2/2██████████ ETA: 00:00s - loss: 0.0084 - mean_absolute_error: 0.0723 - mean_squared_error: 0.0084 - root_mean_squared_error: 0.0918\n"
          ]
        },
        {
          "name": "stdout",
          "output_type": "stream",
          "text": [
            "Epoch 468/1000\n"
          ]
        },
        {
          "name": "stderr",
          "output_type": "stream",
          "text": [
            "2/2██████████ ETA: 00:00s - loss: 0.0084 - mean_absolute_error: 0.0723 - mean_squared_error: 0.0084 - root_mean_squared_error: 0.0918\n"
          ]
        },
        {
          "name": "stdout",
          "output_type": "stream",
          "text": [
            "Epoch 469/1000\n"
          ]
        },
        {
          "name": "stderr",
          "output_type": "stream",
          "text": [
            "2/2██████████ ETA: 00:00s - loss: 0.0085 - mean_absolute_error: 0.0722 - mean_squared_error: 0.0085 - root_mean_squared_error: 0.0919\n",
            "Training:  47%|████▋      469/1000 ETA: 00:10s,  52.10epochs/s"
          ]
        },
        {
          "name": "stdout",
          "output_type": "stream",
          "text": [
            "Epoch 470/1000\n"
          ]
        },
        {
          "name": "stderr",
          "output_type": "stream",
          "text": [
            "2/2██████████ ETA: 00:00s - loss: 0.0084 - mean_absolute_error: 0.0721 - mean_squared_error: 0.0084 - root_mean_squared_error: 0.0918\n"
          ]
        },
        {
          "name": "stdout",
          "output_type": "stream",
          "text": [
            "Epoch 471/1000\n"
          ]
        },
        {
          "name": "stderr",
          "output_type": "stream",
          "text": [
            "2/2██████████ ETA: 00:00s - loss: 0.0084 - mean_absolute_error: 0.0722 - mean_squared_error: 0.0084 - root_mean_squared_error: 0.0918\n"
          ]
        },
        {
          "name": "stdout",
          "output_type": "stream",
          "text": [
            "Epoch 472/1000\n"
          ]
        },
        {
          "name": "stderr",
          "output_type": "stream",
          "text": [
            "2/2██████████ ETA: 00:00s - loss: 0.0084 - mean_absolute_error: 0.0722 - mean_squared_error: 0.0084 - root_mean_squared_error: 0.0917\n"
          ]
        },
        {
          "name": "stdout",
          "output_type": "stream",
          "text": [
            "Epoch 473/1000\n"
          ]
        },
        {
          "name": "stderr",
          "output_type": "stream",
          "text": [
            "2/2██████████ ETA: 00:00s - loss: 0.0084 - mean_absolute_error: 0.0723 - mean_squared_error: 0.0084 - root_mean_squared_error: 0.0917\n"
          ]
        },
        {
          "name": "stdout",
          "output_type": "stream",
          "text": [
            "Epoch 474/1000\n"
          ]
        },
        {
          "name": "stderr",
          "output_type": "stream",
          "text": [
            "2/2██████████ ETA: 00:00s - loss: 0.0084 - mean_absolute_error: 0.0723 - mean_squared_error: 0.0084 - root_mean_squared_error: 0.0917\n"
          ]
        },
        {
          "name": "stdout",
          "output_type": "stream",
          "text": [
            "Epoch 475/1000\n"
          ]
        },
        {
          "name": "stderr",
          "output_type": "stream",
          "text": [
            "2/2██████████ ETA: 00:00s - loss: 0.0084 - mean_absolute_error: 0.0722 - mean_squared_error: 0.0084 - root_mean_squared_error: 0.0916\n",
            "Training:  48%|████▊      475/1000 ETA: 00:09s,  53.75epochs/s"
          ]
        },
        {
          "name": "stdout",
          "output_type": "stream",
          "text": [
            "Epoch 476/1000\n"
          ]
        },
        {
          "name": "stderr",
          "output_type": "stream",
          "text": [
            "2/2██████████ ETA: 00:00s - loss: 0.0084 - mean_absolute_error: 0.0722 - mean_squared_error: 0.0084 - root_mean_squared_error: 0.0916\n"
          ]
        },
        {
          "name": "stdout",
          "output_type": "stream",
          "text": [
            "Epoch 477/1000\n"
          ]
        },
        {
          "name": "stderr",
          "output_type": "stream",
          "text": [
            "2/2██████████ ETA: 00:00s - loss: 0.0084 - mean_absolute_error: 0.0721 - mean_squared_error: 0.0084 - root_mean_squared_error: 0.0917\n"
          ]
        },
        {
          "name": "stdout",
          "output_type": "stream",
          "text": [
            "Epoch 478/1000\n"
          ]
        },
        {
          "name": "stderr",
          "output_type": "stream",
          "text": [
            "2/2██████████ ETA: 00:00s - loss: 0.0084 - mean_absolute_error: 0.0720 - mean_squared_error: 0.0084 - root_mean_squared_error: 0.0918\n"
          ]
        },
        {
          "name": "stdout",
          "output_type": "stream",
          "text": [
            "Epoch 479/1000\n"
          ]
        },
        {
          "name": "stderr",
          "output_type": "stream",
          "text": [
            "2/2██████████ ETA: 00:00s - loss: 0.0084 - mean_absolute_error: 0.0719 - mean_squared_error: 0.0084 - root_mean_squared_error: 0.0917\n"
          ]
        },
        {
          "name": "stdout",
          "output_type": "stream",
          "text": [
            "Epoch 480/1000\n"
          ]
        },
        {
          "name": "stderr",
          "output_type": "stream",
          "text": [
            "2/2██████████ ETA: 00:00s - loss: 0.0084 - mean_absolute_error: 0.0717 - mean_squared_error: 0.0084 - root_mean_squared_error: 0.0917\n"
          ]
        },
        {
          "name": "stdout",
          "output_type": "stream",
          "text": [
            "Epoch 481/1000\n"
          ]
        },
        {
          "name": "stderr",
          "output_type": "stream",
          "text": [
            "2/2██████████ ETA: 00:00s - loss: 0.0084 - mean_absolute_error: 0.0715 - mean_squared_error: 0.0084 - root_mean_squared_error: 0.0916\n",
            "Training:  48%|████▊      481/1000 ETA: 00:09s,  53.44epochs/s"
          ]
        },
        {
          "name": "stdout",
          "output_type": "stream",
          "text": [
            "Epoch 482/1000\n"
          ]
        },
        {
          "name": "stderr",
          "output_type": "stream",
          "text": [
            "2/2██████████ ETA: 00:00s - loss: 0.0084 - mean_absolute_error: 0.0715 - mean_squared_error: 0.0084 - root_mean_squared_error: 0.0917\n"
          ]
        },
        {
          "name": "stdout",
          "output_type": "stream",
          "text": [
            "Epoch 483/1000\n"
          ]
        },
        {
          "name": "stderr",
          "output_type": "stream",
          "text": [
            "2/2██████████ ETA: 00:00s - loss: 0.0084 - mean_absolute_error: 0.0713 - mean_squared_error: 0.0084 - root_mean_squared_error: 0.0915\n"
          ]
        },
        {
          "name": "stdout",
          "output_type": "stream",
          "text": [
            "Epoch 484/1000\n"
          ]
        },
        {
          "name": "stderr",
          "output_type": "stream",
          "text": [
            "2/2██████████ ETA: 00:00s - loss: 0.0084 - mean_absolute_error: 0.0712 - mean_squared_error: 0.0084 - root_mean_squared_error: 0.0915\n"
          ]
        },
        {
          "name": "stdout",
          "output_type": "stream",
          "text": [
            "Epoch 485/1000\n"
          ]
        },
        {
          "name": "stderr",
          "output_type": "stream",
          "text": [
            "2/2██████████ ETA: 00:00s - loss: 0.0084 - mean_absolute_error: 0.0713 - mean_squared_error: 0.0084 - root_mean_squared_error: 0.0915\n"
          ]
        },
        {
          "name": "stdout",
          "output_type": "stream",
          "text": [
            "Epoch 486/1000\n"
          ]
        },
        {
          "name": "stderr",
          "output_type": "stream",
          "text": [
            "2/2██████████ ETA: 00:00s - loss: 0.0084 - mean_absolute_error: 0.0713 - mean_squared_error: 0.0084 - root_mean_squared_error: 0.0915\n"
          ]
        },
        {
          "name": "stdout",
          "output_type": "stream",
          "text": [
            "Epoch 487/1000\n"
          ]
        },
        {
          "name": "stderr",
          "output_type": "stream",
          "text": [
            "2/2██████████ ETA: 00:00s - loss: 0.0084 - mean_absolute_error: 0.0715 - mean_squared_error: 0.0084 - root_mean_squared_error: 0.0914\n",
            "Training:  49%|████▊      487/1000 ETA: 00:09s,  54.37epochs/s"
          ]
        },
        {
          "name": "stdout",
          "output_type": "stream",
          "text": [
            "Epoch 488/1000\n"
          ]
        },
        {
          "name": "stderr",
          "output_type": "stream",
          "text": [
            "2/2██████████ ETA: 00:00s - loss: 0.0084 - mean_absolute_error: 0.0716 - mean_squared_error: 0.0084 - root_mean_squared_error: 0.0914\n"
          ]
        },
        {
          "name": "stdout",
          "output_type": "stream",
          "text": [
            "Epoch 489/1000\n"
          ]
        },
        {
          "name": "stderr",
          "output_type": "stream",
          "text": [
            "2/2██████████ ETA: 00:00s - loss: 0.0084 - mean_absolute_error: 0.0719 - mean_squared_error: 0.0084 - root_mean_squared_error: 0.0914\n"
          ]
        },
        {
          "name": "stdout",
          "output_type": "stream",
          "text": [
            "Epoch 490/1000\n"
          ]
        },
        {
          "name": "stderr",
          "output_type": "stream",
          "text": [
            "2/2██████████ ETA: 00:00s - loss: 0.0084 - mean_absolute_error: 0.0719 - mean_squared_error: 0.0084 - root_mean_squared_error: 0.0914\n"
          ]
        },
        {
          "name": "stdout",
          "output_type": "stream",
          "text": [
            "Epoch 491/1000\n"
          ]
        },
        {
          "name": "stderr",
          "output_type": "stream",
          "text": [
            "2/2██████████ ETA: 00:00s - loss: 0.0084 - mean_absolute_error: 0.0721 - mean_squared_error: 0.0084 - root_mean_squared_error: 0.0914\n"
          ]
        },
        {
          "name": "stdout",
          "output_type": "stream",
          "text": [
            "Epoch 492/1000\n"
          ]
        },
        {
          "name": "stderr",
          "output_type": "stream",
          "text": [
            "2/2██████████ ETA: 00:00s - loss: 0.0084 - mean_absolute_error: 0.0720 - mean_squared_error: 0.0084 - root_mean_squared_error: 0.0914\n"
          ]
        },
        {
          "name": "stdout",
          "output_type": "stream",
          "text": [
            "Epoch 493/1000\n"
          ]
        },
        {
          "name": "stderr",
          "output_type": "stream",
          "text": [
            "2/2██████████ ETA: 00:00s - loss: 0.0083 - mean_absolute_error: 0.0719 - mean_squared_error: 0.0083 - root_mean_squared_error: 0.0913\n",
            "Training:  49%|████▉      493/1000 ETA: 00:09s,  55.54epochs/s"
          ]
        },
        {
          "name": "stdout",
          "output_type": "stream",
          "text": [
            "Epoch 494/1000\n"
          ]
        },
        {
          "name": "stderr",
          "output_type": "stream",
          "text": [
            "2/2██████████ ETA: 00:00s - loss: 0.0083 - mean_absolute_error: 0.0718 - mean_squared_error: 0.0083 - root_mean_squared_error: 0.0914\n"
          ]
        },
        {
          "name": "stdout",
          "output_type": "stream",
          "text": [
            "Epoch 495/1000\n"
          ]
        },
        {
          "name": "stderr",
          "output_type": "stream",
          "text": [
            "2/2██████████ ETA: 00:00s - loss: 0.0084 - mean_absolute_error: 0.0718 - mean_squared_error: 0.0084 - root_mean_squared_error: 0.0915\n"
          ]
        },
        {
          "name": "stdout",
          "output_type": "stream",
          "text": [
            "Epoch 496/1000\n"
          ]
        },
        {
          "name": "stderr",
          "output_type": "stream",
          "text": [
            "2/2██████████ ETA: 00:00s - loss: 0.0083 - mean_absolute_error: 0.0717 - mean_squared_error: 0.0083 - root_mean_squared_error: 0.0913\n"
          ]
        },
        {
          "name": "stdout",
          "output_type": "stream",
          "text": [
            "Epoch 497/1000\n"
          ]
        },
        {
          "name": "stderr",
          "output_type": "stream",
          "text": [
            "2/2██████████ ETA: 00:00s - loss: 0.0083 - mean_absolute_error: 0.0718 - mean_squared_error: 0.0083 - root_mean_squared_error: 0.0914\n"
          ]
        },
        {
          "name": "stdout",
          "output_type": "stream",
          "text": [
            "Epoch 498/1000\n"
          ]
        },
        {
          "name": "stderr",
          "output_type": "stream",
          "text": [
            "2/2██████████ ETA: 00:00s - loss: 0.0083 - mean_absolute_error: 0.0718 - mean_squared_error: 0.0083 - root_mean_squared_error: 0.0913\n"
          ]
        },
        {
          "name": "stdout",
          "output_type": "stream",
          "text": [
            "Epoch 499/1000\n"
          ]
        },
        {
          "name": "stderr",
          "output_type": "stream",
          "text": [
            "2/2██████████ ETA: 00:00s - loss: 0.0083 - mean_absolute_error: 0.0719 - mean_squared_error: 0.0083 - root_mean_squared_error: 0.0913\n",
            "Training:  50%|████▉      499/1000 ETA: 00:08s,  55.82epochs/s"
          ]
        },
        {
          "name": "stdout",
          "output_type": "stream",
          "text": [
            "Epoch 500/1000\n"
          ]
        },
        {
          "name": "stderr",
          "output_type": "stream",
          "text": [
            "2/2██████████ ETA: 00:00s - loss: 0.0083 - mean_absolute_error: 0.0719 - mean_squared_error: 0.0083 - root_mean_squared_error: 0.0913\n"
          ]
        },
        {
          "name": "stdout",
          "output_type": "stream",
          "text": [
            "Epoch 501/1000\n"
          ]
        },
        {
          "name": "stderr",
          "output_type": "stream",
          "text": [
            "2/2██████████ ETA: 00:00s - loss: 0.0083 - mean_absolute_error: 0.0719 - mean_squared_error: 0.0083 - root_mean_squared_error: 0.0913\n"
          ]
        },
        {
          "name": "stdout",
          "output_type": "stream",
          "text": [
            "Epoch 502/1000\n"
          ]
        },
        {
          "name": "stderr",
          "output_type": "stream",
          "text": [
            "2/2██████████ ETA: 00:00s - loss: 0.0083 - mean_absolute_error: 0.0718 - mean_squared_error: 0.0083 - root_mean_squared_error: 0.0913\n"
          ]
        },
        {
          "name": "stdout",
          "output_type": "stream",
          "text": [
            "Epoch 503/1000\n"
          ]
        },
        {
          "name": "stderr",
          "output_type": "stream",
          "text": [
            "2/2██████████ ETA: 00:00s - loss: 0.0083 - mean_absolute_error: 0.0717 - mean_squared_error: 0.0083 - root_mean_squared_error: 0.0912\n"
          ]
        },
        {
          "name": "stdout",
          "output_type": "stream",
          "text": [
            "Epoch 504/1000\n"
          ]
        },
        {
          "name": "stderr",
          "output_type": "stream",
          "text": [
            "2/2██████████ ETA: 00:00s - loss: 0.0083 - mean_absolute_error: 0.0715 - mean_squared_error: 0.0083 - root_mean_squared_error: 0.0912\n"
          ]
        },
        {
          "name": "stdout",
          "output_type": "stream",
          "text": [
            "Epoch 505/1000\n"
          ]
        },
        {
          "name": "stderr",
          "output_type": "stream",
          "text": [
            "2/2██████████ ETA: 00:00s - loss: 0.0083 - mean_absolute_error: 0.0714 - mean_squared_error: 0.0083 - root_mean_squared_error: 0.0912\n",
            "Training:  50%|█████      505/1000 ETA: 00:08s,  55.87epochs/s"
          ]
        },
        {
          "name": "stdout",
          "output_type": "stream",
          "text": [
            "Epoch 506/1000\n"
          ]
        },
        {
          "name": "stderr",
          "output_type": "stream",
          "text": [
            "2/2██████████ ETA: 00:00s - loss: 0.0083 - mean_absolute_error: 0.0713 - mean_squared_error: 0.0083 - root_mean_squared_error: 0.0912\n"
          ]
        },
        {
          "name": "stdout",
          "output_type": "stream",
          "text": [
            "Epoch 507/1000\n"
          ]
        },
        {
          "name": "stderr",
          "output_type": "stream",
          "text": [
            "2/2██████████ ETA: 00:00s - loss: 0.0083 - mean_absolute_error: 0.0712 - mean_squared_error: 0.0083 - root_mean_squared_error: 0.0913\n"
          ]
        },
        {
          "name": "stdout",
          "output_type": "stream",
          "text": [
            "Epoch 508/1000\n"
          ]
        },
        {
          "name": "stderr",
          "output_type": "stream",
          "text": [
            "2/2██████████ ETA: 00:00s - loss: 0.0083 - mean_absolute_error: 0.0711 - mean_squared_error: 0.0083 - root_mean_squared_error: 0.0913\n"
          ]
        },
        {
          "name": "stdout",
          "output_type": "stream",
          "text": [
            "Epoch 509/1000\n"
          ]
        },
        {
          "name": "stderr",
          "output_type": "stream",
          "text": [
            "2/2██████████ ETA: 00:00s - loss: 0.0083 - mean_absolute_error: 0.0711 - mean_squared_error: 0.0083 - root_mean_squared_error: 0.0913\n"
          ]
        },
        {
          "name": "stdout",
          "output_type": "stream",
          "text": [
            "Epoch 510/1000\n"
          ]
        },
        {
          "name": "stderr",
          "output_type": "stream",
          "text": [
            "2/2██████████ ETA: 00:00s - loss: 0.0083 - mean_absolute_error: 0.0711 - mean_squared_error: 0.0083 - root_mean_squared_error: 0.0913\n"
          ]
        },
        {
          "name": "stdout",
          "output_type": "stream",
          "text": [
            "Epoch 511/1000\n"
          ]
        },
        {
          "name": "stderr",
          "output_type": "stream",
          "text": [
            "2/2██████████ ETA: 00:00s - loss: 0.0083 - mean_absolute_error: 0.0710 - mean_squared_error: 0.0083 - root_mean_squared_error: 0.0912\n",
            "Training:  51%|█████      511/1000 ETA: 00:08s,  55.19epochs/s"
          ]
        },
        {
          "name": "stdout",
          "output_type": "stream",
          "text": [
            "Epoch 512/1000\n"
          ]
        },
        {
          "name": "stderr",
          "output_type": "stream",
          "text": [
            "2/2██████████ ETA: 00:00s - loss: 0.0083 - mean_absolute_error: 0.0711 - mean_squared_error: 0.0083 - root_mean_squared_error: 0.0912\n"
          ]
        },
        {
          "name": "stdout",
          "output_type": "stream",
          "text": [
            "Epoch 513/1000\n"
          ]
        },
        {
          "name": "stderr",
          "output_type": "stream",
          "text": [
            "2/2██████████ ETA: 00:00s - loss: 0.0083 - mean_absolute_error: 0.0713 - mean_squared_error: 0.0083 - root_mean_squared_error: 0.0913\n"
          ]
        },
        {
          "name": "stdout",
          "output_type": "stream",
          "text": [
            "Epoch 514/1000\n"
          ]
        },
        {
          "name": "stderr",
          "output_type": "stream",
          "text": [
            "2/2██████████ ETA: 00:00s - loss: 0.0083 - mean_absolute_error: 0.0713 - mean_squared_error: 0.0083 - root_mean_squared_error: 0.0911\n"
          ]
        },
        {
          "name": "stdout",
          "output_type": "stream",
          "text": [
            "Epoch 515/1000\n"
          ]
        },
        {
          "name": "stderr",
          "output_type": "stream",
          "text": [
            "2/2██████████ ETA: 00:00s - loss: 0.0083 - mean_absolute_error: 0.0713 - mean_squared_error: 0.0083 - root_mean_squared_error: 0.0911\n"
          ]
        },
        {
          "name": "stdout",
          "output_type": "stream",
          "text": [
            "Epoch 516/1000\n"
          ]
        },
        {
          "name": "stderr",
          "output_type": "stream",
          "text": [
            "2/2██████████ ETA: 00:00s - loss: 0.0083 - mean_absolute_error: 0.0713 - mean_squared_error: 0.0083 - root_mean_squared_error: 0.0911\n"
          ]
        },
        {
          "name": "stdout",
          "output_type": "stream",
          "text": [
            "Epoch 517/1000\n"
          ]
        },
        {
          "name": "stderr",
          "output_type": "stream",
          "text": [
            "2/2██████████ ETA: 00:00s - loss: 0.0083 - mean_absolute_error: 0.0713 - mean_squared_error: 0.0083 - root_mean_squared_error: 0.0911\n",
            "Training:  52%|█████▏     517/1000 ETA: 00:08s,  55.16epochs/s"
          ]
        },
        {
          "name": "stdout",
          "output_type": "stream",
          "text": [
            "Epoch 518/1000\n"
          ]
        },
        {
          "name": "stderr",
          "output_type": "stream",
          "text": [
            "2/2██████████ ETA: 00:00s - loss: 0.0083 - mean_absolute_error: 0.0713 - mean_squared_error: 0.0083 - root_mean_squared_error: 0.0912\n"
          ]
        },
        {
          "name": "stdout",
          "output_type": "stream",
          "text": [
            "Epoch 519/1000\n"
          ]
        },
        {
          "name": "stderr",
          "output_type": "stream",
          "text": [
            "2/2██████████ ETA: 00:00s - loss: 0.0083 - mean_absolute_error: 0.0713 - mean_squared_error: 0.0083 - root_mean_squared_error: 0.0911\n"
          ]
        },
        {
          "name": "stdout",
          "output_type": "stream",
          "text": [
            "Epoch 520/1000\n"
          ]
        },
        {
          "name": "stderr",
          "output_type": "stream",
          "text": [
            "2/2██████████ ETA: 00:00s - loss: 0.0083 - mean_absolute_error: 0.0714 - mean_squared_error: 0.0083 - root_mean_squared_error: 0.0911\n"
          ]
        },
        {
          "name": "stdout",
          "output_type": "stream",
          "text": [
            "Epoch 521/1000\n"
          ]
        },
        {
          "name": "stderr",
          "output_type": "stream",
          "text": [
            "2/2██████████ ETA: 00:00s - loss: 0.0083 - mean_absolute_error: 0.0714 - mean_squared_error: 0.0083 - root_mean_squared_error: 0.0910\n"
          ]
        },
        {
          "name": "stdout",
          "output_type": "stream",
          "text": [
            "Epoch 522/1000\n"
          ]
        },
        {
          "name": "stderr",
          "output_type": "stream",
          "text": [
            "2/2██████████ ETA: 00:00s - loss: 0.0083 - mean_absolute_error: 0.0715 - mean_squared_error: 0.0083 - root_mean_squared_error: 0.0910\n"
          ]
        },
        {
          "name": "stdout",
          "output_type": "stream",
          "text": [
            "Epoch 523/1000\n"
          ]
        },
        {
          "name": "stderr",
          "output_type": "stream",
          "text": [
            "2/2██████████ ETA: 00:00s - loss: 0.0083 - mean_absolute_error: 0.0716 - mean_squared_error: 0.0083 - root_mean_squared_error: 0.0911\n",
            "Training:  52%|█████▏     523/1000 ETA: 00:08s,  55.54epochs/s"
          ]
        },
        {
          "name": "stdout",
          "output_type": "stream",
          "text": [
            "Epoch 524/1000\n"
          ]
        },
        {
          "name": "stderr",
          "output_type": "stream",
          "text": [
            "2/2██████████ ETA: 00:00s - loss: 0.0083 - mean_absolute_error: 0.0716 - mean_squared_error: 0.0083 - root_mean_squared_error: 0.0911\n"
          ]
        },
        {
          "name": "stdout",
          "output_type": "stream",
          "text": [
            "Epoch 525/1000\n"
          ]
        },
        {
          "name": "stderr",
          "output_type": "stream",
          "text": [
            "2/2██████████ ETA: 00:00s - loss: 0.0083 - mean_absolute_error: 0.0716 - mean_squared_error: 0.0083 - root_mean_squared_error: 0.0910\n"
          ]
        },
        {
          "name": "stdout",
          "output_type": "stream",
          "text": [
            "Epoch 526/1000\n"
          ]
        },
        {
          "name": "stderr",
          "output_type": "stream",
          "text": [
            "2/2██████████ ETA: 00:00s - loss: 0.0083 - mean_absolute_error: 0.0716 - mean_squared_error: 0.0083 - root_mean_squared_error: 0.0910\n"
          ]
        },
        {
          "name": "stdout",
          "output_type": "stream",
          "text": [
            "Epoch 527/1000\n"
          ]
        },
        {
          "name": "stderr",
          "output_type": "stream",
          "text": [
            "2/2██████████ ETA: 00:00s - loss: 0.0083 - mean_absolute_error: 0.0715 - mean_squared_error: 0.0083 - root_mean_squared_error: 0.0910\n"
          ]
        },
        {
          "name": "stdout",
          "output_type": "stream",
          "text": [
            "Epoch 528/1000\n"
          ]
        },
        {
          "name": "stderr",
          "output_type": "stream",
          "text": [
            "2/2██████████ ETA: 00:00s - loss: 0.0083 - mean_absolute_error: 0.0715 - mean_squared_error: 0.0083 - root_mean_squared_error: 0.0910\n"
          ]
        },
        {
          "name": "stdout",
          "output_type": "stream",
          "text": [
            "Epoch 529/1000\n"
          ]
        },
        {
          "name": "stderr",
          "output_type": "stream",
          "text": [
            "2/2██████████ ETA: 00:00s - loss: 0.0083 - mean_absolute_error: 0.0717 - mean_squared_error: 0.0083 - root_mean_squared_error: 0.0911\n",
            "Training:  53%|█████▎     529/1000 ETA: 00:08s,  56.63epochs/s"
          ]
        },
        {
          "name": "stdout",
          "output_type": "stream",
          "text": [
            "Epoch 530/1000\n"
          ]
        },
        {
          "name": "stderr",
          "output_type": "stream",
          "text": [
            "2/2██████████ ETA: 00:00s - loss: 0.0083 - mean_absolute_error: 0.0716 - mean_squared_error: 0.0083 - root_mean_squared_error: 0.0910\n"
          ]
        },
        {
          "name": "stdout",
          "output_type": "stream",
          "text": [
            "Epoch 531/1000\n"
          ]
        },
        {
          "name": "stderr",
          "output_type": "stream",
          "text": [
            "2/2██████████ ETA: 00:00s - loss: 0.0083 - mean_absolute_error: 0.0716 - mean_squared_error: 0.0083 - root_mean_squared_error: 0.0910\n"
          ]
        },
        {
          "name": "stdout",
          "output_type": "stream",
          "text": [
            "Epoch 532/1000\n"
          ]
        },
        {
          "name": "stderr",
          "output_type": "stream",
          "text": [
            "2/2██████████ ETA: 00:00s - loss: 0.0083 - mean_absolute_error: 0.0715 - mean_squared_error: 0.0083 - root_mean_squared_error: 0.0909\n"
          ]
        },
        {
          "name": "stdout",
          "output_type": "stream",
          "text": [
            "Epoch 533/1000\n"
          ]
        },
        {
          "name": "stderr",
          "output_type": "stream",
          "text": [
            "2/2██████████ ETA: 00:00s - loss: 0.0083 - mean_absolute_error: 0.0713 - mean_squared_error: 0.0083 - root_mean_squared_error: 0.0909\n"
          ]
        },
        {
          "name": "stdout",
          "output_type": "stream",
          "text": [
            "Epoch 534/1000\n"
          ]
        },
        {
          "name": "stderr",
          "output_type": "stream",
          "text": [
            "2/2██████████ ETA: 00:00s - loss: 0.0083 - mean_absolute_error: 0.0715 - mean_squared_error: 0.0083 - root_mean_squared_error: 0.0912\n"
          ]
        },
        {
          "name": "stdout",
          "output_type": "stream",
          "text": [
            "Epoch 535/1000\n"
          ]
        },
        {
          "name": "stderr",
          "output_type": "stream",
          "text": [
            "2/2██████████ ETA: 00:00s - loss: 0.0083 - mean_absolute_error: 0.0714 - mean_squared_error: 0.0083 - root_mean_squared_error: 0.0911\n",
            "Training:  54%|█████▎     535/1000 ETA: 00:09s,  51.60epochs/s"
          ]
        },
        {
          "name": "stdout",
          "output_type": "stream",
          "text": [
            "Epoch 536/1000\n"
          ]
        },
        {
          "name": "stderr",
          "output_type": "stream",
          "text": [
            "2/2██████████ ETA: 00:00s - loss: 0.0083 - mean_absolute_error: 0.0715 - mean_squared_error: 0.0083 - root_mean_squared_error: 0.0910\n"
          ]
        },
        {
          "name": "stdout",
          "output_type": "stream",
          "text": [
            "Epoch 537/1000\n"
          ]
        },
        {
          "name": "stderr",
          "output_type": "stream",
          "text": [
            "2/2██████████ ETA: 00:00s - loss: 0.0083 - mean_absolute_error: 0.0717 - mean_squared_error: 0.0083 - root_mean_squared_error: 0.0911\n"
          ]
        },
        {
          "name": "stdout",
          "output_type": "stream",
          "text": [
            "Epoch 538/1000\n"
          ]
        },
        {
          "name": "stderr",
          "output_type": "stream",
          "text": [
            "2/2██████████ ETA: 00:00s - loss: 0.0083 - mean_absolute_error: 0.0718 - mean_squared_error: 0.0083 - root_mean_squared_error: 0.0910\n"
          ]
        },
        {
          "name": "stdout",
          "output_type": "stream",
          "text": [
            "Epoch 539/1000\n"
          ]
        },
        {
          "name": "stderr",
          "output_type": "stream",
          "text": [
            "2/2██████████ ETA: 00:00s - loss: 0.0083 - mean_absolute_error: 0.0717 - mean_squared_error: 0.0083 - root_mean_squared_error: 0.0911\n"
          ]
        },
        {
          "name": "stdout",
          "output_type": "stream",
          "text": [
            "Epoch 540/1000\n"
          ]
        },
        {
          "name": "stderr",
          "output_type": "stream",
          "text": [
            "2/2██████████ ETA: 00:00s - loss: 0.0083 - mean_absolute_error: 0.0716 - mean_squared_error: 0.0083 - root_mean_squared_error: 0.0910\n"
          ]
        },
        {
          "name": "stdout",
          "output_type": "stream",
          "text": [
            "Epoch 541/1000\n"
          ]
        },
        {
          "name": "stderr",
          "output_type": "stream",
          "text": [
            "2/2██████████ ETA: 00:00s - loss: 0.0083 - mean_absolute_error: 0.0716 - mean_squared_error: 0.0083 - root_mean_squared_error: 0.0910\n",
            "Training:  54%|█████▍     541/1000 ETA: 00:09s,  50.78epochs/s"
          ]
        },
        {
          "name": "stdout",
          "output_type": "stream",
          "text": [
            "Epoch 542/1000\n"
          ]
        },
        {
          "name": "stderr",
          "output_type": "stream",
          "text": [
            "2/2██████████ ETA: 00:00s - loss: 0.0083 - mean_absolute_error: 0.0716 - mean_squared_error: 0.0083 - root_mean_squared_error: 0.0909\n"
          ]
        },
        {
          "name": "stdout",
          "output_type": "stream",
          "text": [
            "Epoch 543/1000\n"
          ]
        },
        {
          "name": "stderr",
          "output_type": "stream",
          "text": [
            "2/2██████████ ETA: 00:00s - loss: 0.0083 - mean_absolute_error: 0.0717 - mean_squared_error: 0.0083 - root_mean_squared_error: 0.0910\n"
          ]
        },
        {
          "name": "stdout",
          "output_type": "stream",
          "text": [
            "Epoch 544/1000\n"
          ]
        },
        {
          "name": "stderr",
          "output_type": "stream",
          "text": [
            "2/2██████████ ETA: 00:00s - loss: 0.0083 - mean_absolute_error: 0.0717 - mean_squared_error: 0.0083 - root_mean_squared_error: 0.0909\n"
          ]
        },
        {
          "name": "stdout",
          "output_type": "stream",
          "text": [
            "Epoch 545/1000\n"
          ]
        },
        {
          "name": "stderr",
          "output_type": "stream",
          "text": [
            "2/2██████████ ETA: 00:00s - loss: 0.0083 - mean_absolute_error: 0.0718 - mean_squared_error: 0.0083 - root_mean_squared_error: 0.0909\n"
          ]
        },
        {
          "name": "stdout",
          "output_type": "stream",
          "text": [
            "Epoch 546/1000\n"
          ]
        },
        {
          "name": "stderr",
          "output_type": "stream",
          "text": [
            "2/2██████████ ETA: 00:00s - loss: 0.0083 - mean_absolute_error: 0.0717 - mean_squared_error: 0.0083 - root_mean_squared_error: 0.0909\n"
          ]
        },
        {
          "name": "stdout",
          "output_type": "stream",
          "text": [
            "Epoch 547/1000\n"
          ]
        },
        {
          "name": "stderr",
          "output_type": "stream",
          "text": [
            "2/2██████████ ETA: 00:00s - loss: 0.0083 - mean_absolute_error: 0.0717 - mean_squared_error: 0.0083 - root_mean_squared_error: 0.0909\n",
            "Training:  55%|█████▍     547/1000 ETA: 00:08s,  50.89epochs/s"
          ]
        },
        {
          "name": "stdout",
          "output_type": "stream",
          "text": [
            "Epoch 548/1000\n"
          ]
        },
        {
          "name": "stderr",
          "output_type": "stream",
          "text": [
            "2/2██████████ ETA: 00:00s - loss: 0.0083 - mean_absolute_error: 0.0716 - mean_squared_error: 0.0083 - root_mean_squared_error: 0.0909\n"
          ]
        },
        {
          "name": "stdout",
          "output_type": "stream",
          "text": [
            "Epoch 549/1000\n"
          ]
        },
        {
          "name": "stderr",
          "output_type": "stream",
          "text": [
            "2/2██████████ ETA: 00:00s - loss: 0.0083 - mean_absolute_error: 0.0717 - mean_squared_error: 0.0083 - root_mean_squared_error: 0.0909\n"
          ]
        },
        {
          "name": "stdout",
          "output_type": "stream",
          "text": [
            "Epoch 550/1000\n"
          ]
        },
        {
          "name": "stderr",
          "output_type": "stream",
          "text": [
            "2/2██████████ ETA: 00:00s - loss: 0.0083 - mean_absolute_error: 0.0715 - mean_squared_error: 0.0083 - root_mean_squared_error: 0.0910\n"
          ]
        },
        {
          "name": "stdout",
          "output_type": "stream",
          "text": [
            "Epoch 551/1000\n"
          ]
        },
        {
          "name": "stderr",
          "output_type": "stream",
          "text": [
            "2/2██████████ ETA: 00:00s - loss: 0.0083 - mean_absolute_error: 0.0715 - mean_squared_error: 0.0083 - root_mean_squared_error: 0.0911\n"
          ]
        },
        {
          "name": "stdout",
          "output_type": "stream",
          "text": [
            "Epoch 552/1000\n"
          ]
        },
        {
          "name": "stderr",
          "output_type": "stream",
          "text": [
            "2/2██████████ ETA: 00:00s - loss: 0.0083 - mean_absolute_error: 0.0714 - mean_squared_error: 0.0083 - root_mean_squared_error: 0.0911\n"
          ]
        },
        {
          "name": "stdout",
          "output_type": "stream",
          "text": [
            "Epoch 553/1000\n"
          ]
        },
        {
          "name": "stderr",
          "output_type": "stream",
          "text": [
            "2/2██████████ ETA: 00:00s - loss: 0.0083 - mean_absolute_error: 0.0715 - mean_squared_error: 0.0083 - root_mean_squared_error: 0.0909\n",
            "Training:  55%|█████▌     553/1000 ETA: 00:08s,  52.15epochs/s"
          ]
        },
        {
          "name": "stdout",
          "output_type": "stream",
          "text": [
            "Epoch 554/1000\n"
          ]
        },
        {
          "name": "stderr",
          "output_type": "stream",
          "text": [
            "2/2██████████ ETA: 00:00s - loss: 0.0083 - mean_absolute_error: 0.0716 - mean_squared_error: 0.0083 - root_mean_squared_error: 0.0909\n"
          ]
        },
        {
          "name": "stdout",
          "output_type": "stream",
          "text": [
            "Epoch 555/1000\n"
          ]
        },
        {
          "name": "stderr",
          "output_type": "stream",
          "text": [
            "2/2██████████ ETA: 00:00s - loss: 0.0083 - mean_absolute_error: 0.0717 - mean_squared_error: 0.0083 - root_mean_squared_error: 0.0908\n"
          ]
        },
        {
          "name": "stdout",
          "output_type": "stream",
          "text": [
            "Epoch 556/1000\n"
          ]
        },
        {
          "name": "stderr",
          "output_type": "stream",
          "text": [
            "2/2██████████ ETA: 00:00s - loss: 0.0083 - mean_absolute_error: 0.0717 - mean_squared_error: 0.0083 - root_mean_squared_error: 0.0909\n"
          ]
        },
        {
          "name": "stdout",
          "output_type": "stream",
          "text": [
            "Epoch 557/1000\n"
          ]
        },
        {
          "name": "stderr",
          "output_type": "stream",
          "text": [
            "2/2██████████ ETA: 00:00s - loss: 0.0083 - mean_absolute_error: 0.0716 - mean_squared_error: 0.0083 - root_mean_squared_error: 0.0909\n"
          ]
        },
        {
          "name": "stdout",
          "output_type": "stream",
          "text": [
            "Epoch 558/1000\n"
          ]
        },
        {
          "name": "stderr",
          "output_type": "stream",
          "text": [
            "2/2██████████ ETA: 00:00s - loss: 0.0083 - mean_absolute_error: 0.0717 - mean_squared_error: 0.0083 - root_mean_squared_error: 0.0909\n"
          ]
        },
        {
          "name": "stdout",
          "output_type": "stream",
          "text": [
            "Epoch 559/1000\n"
          ]
        },
        {
          "name": "stderr",
          "output_type": "stream",
          "text": [
            "2/2██████████ ETA: 00:00s - loss: 0.0083 - mean_absolute_error: 0.0718 - mean_squared_error: 0.0083 - root_mean_squared_error: 0.0909\n",
            "Training:  56%|█████▌     559/1000 ETA: 00:08s,  52.24epochs/s"
          ]
        },
        {
          "name": "stdout",
          "output_type": "stream",
          "text": [
            "Epoch 560/1000\n"
          ]
        },
        {
          "name": "stderr",
          "output_type": "stream",
          "text": [
            "2/2██████████ ETA: 00:00s - loss: 0.0083 - mean_absolute_error: 0.0718 - mean_squared_error: 0.0083 - root_mean_squared_error: 0.0909\n"
          ]
        },
        {
          "name": "stdout",
          "output_type": "stream",
          "text": [
            "Epoch 561/1000\n"
          ]
        },
        {
          "name": "stderr",
          "output_type": "stream",
          "text": [
            "2/2██████████ ETA: 00:00s - loss: 0.0082 - mean_absolute_error: 0.0717 - mean_squared_error: 0.0082 - root_mean_squared_error: 0.0908\n"
          ]
        },
        {
          "name": "stdout",
          "output_type": "stream",
          "text": [
            "Epoch 562/1000\n"
          ]
        },
        {
          "name": "stderr",
          "output_type": "stream",
          "text": [
            "2/2██████████ ETA: 00:00s - loss: 0.0082 - mean_absolute_error: 0.0716 - mean_squared_error: 0.0082 - root_mean_squared_error: 0.0908\n"
          ]
        },
        {
          "name": "stdout",
          "output_type": "stream",
          "text": [
            "Epoch 563/1000\n"
          ]
        },
        {
          "name": "stderr",
          "output_type": "stream",
          "text": [
            "2/2██████████ ETA: 00:00s - loss: 0.0083 - mean_absolute_error: 0.0717 - mean_squared_error: 0.0083 - root_mean_squared_error: 0.0909\n"
          ]
        },
        {
          "name": "stdout",
          "output_type": "stream",
          "text": [
            "Epoch 564/1000\n"
          ]
        },
        {
          "name": "stderr",
          "output_type": "stream",
          "text": [
            "2/2██████████ ETA: 00:00s - loss: 0.0083 - mean_absolute_error: 0.0715 - mean_squared_error: 0.0083 - root_mean_squared_error: 0.0909\n"
          ]
        },
        {
          "name": "stdout",
          "output_type": "stream",
          "text": [
            "Epoch 565/1000\n"
          ]
        },
        {
          "name": "stderr",
          "output_type": "stream",
          "text": [
            "2/2██████████ ETA: 00:00s - loss: 0.0083 - mean_absolute_error: 0.0714 - mean_squared_error: 0.0083 - root_mean_squared_error: 0.0909\n",
            "Training:  56%|█████▋     565/1000 ETA: 00:08s,  50.71epochs/s"
          ]
        },
        {
          "name": "stdout",
          "output_type": "stream",
          "text": [
            "Epoch 566/1000\n"
          ]
        },
        {
          "name": "stderr",
          "output_type": "stream",
          "text": [
            "2/2██████████ ETA: 00:00s - loss: 0.0083 - mean_absolute_error: 0.0714 - mean_squared_error: 0.0083 - root_mean_squared_error: 0.0909\n"
          ]
        },
        {
          "name": "stdout",
          "output_type": "stream",
          "text": [
            "Epoch 567/1000\n"
          ]
        },
        {
          "name": "stderr",
          "output_type": "stream",
          "text": [
            "2/2██████████ ETA: 00:00s - loss: 0.0083 - mean_absolute_error: 0.0713 - mean_squared_error: 0.0083 - root_mean_squared_error: 0.0910\n"
          ]
        },
        {
          "name": "stdout",
          "output_type": "stream",
          "text": [
            "Epoch 568/1000\n"
          ]
        },
        {
          "name": "stderr",
          "output_type": "stream",
          "text": [
            "2/2██████████ ETA: 00:00s - loss: 0.0083 - mean_absolute_error: 0.0714 - mean_squared_error: 0.0083 - root_mean_squared_error: 0.0911\n"
          ]
        },
        {
          "name": "stdout",
          "output_type": "stream",
          "text": [
            "Epoch 569/1000\n"
          ]
        },
        {
          "name": "stderr",
          "output_type": "stream",
          "text": [
            "2/2██████████ ETA: 00:00s - loss: 0.0083 - mean_absolute_error: 0.0714 - mean_squared_error: 0.0083 - root_mean_squared_error: 0.0909\n"
          ]
        },
        {
          "name": "stdout",
          "output_type": "stream",
          "text": [
            "Epoch 570/1000\n"
          ]
        },
        {
          "name": "stderr",
          "output_type": "stream",
          "text": [
            "2/2██████████ ETA: 00:00s - loss: 0.0082 - mean_absolute_error: 0.0714 - mean_squared_error: 0.0082 - root_mean_squared_error: 0.0908\n"
          ]
        },
        {
          "name": "stdout",
          "output_type": "stream",
          "text": [
            "Epoch 571/1000\n"
          ]
        },
        {
          "name": "stderr",
          "output_type": "stream",
          "text": [
            "2/2██████████ ETA: 00:00s - loss: 0.0082 - mean_absolute_error: 0.0718 - mean_squared_error: 0.0082 - root_mean_squared_error: 0.0908\n",
            "Training:  57%|█████▋     571/1000 ETA: 00:08s,  51.39epochs/s"
          ]
        },
        {
          "name": "stdout",
          "output_type": "stream",
          "text": [
            "Epoch 572/1000\n"
          ]
        },
        {
          "name": "stderr",
          "output_type": "stream",
          "text": [
            "2/2██████████ ETA: 00:00s - loss: 0.0083 - mean_absolute_error: 0.0720 - mean_squared_error: 0.0083 - root_mean_squared_error: 0.0908\n"
          ]
        },
        {
          "name": "stdout",
          "output_type": "stream",
          "text": [
            "Epoch 573/1000\n"
          ]
        },
        {
          "name": "stderr",
          "output_type": "stream",
          "text": [
            "2/2██████████ ETA: 00:00s - loss: 0.0083 - mean_absolute_error: 0.0723 - mean_squared_error: 0.0083 - root_mean_squared_error: 0.0910\n"
          ]
        },
        {
          "name": "stdout",
          "output_type": "stream",
          "text": [
            "Epoch 574/1000\n"
          ]
        },
        {
          "name": "stderr",
          "output_type": "stream",
          "text": [
            "2/2██████████ ETA: 00:00s - loss: 0.0083 - mean_absolute_error: 0.0724 - mean_squared_error: 0.0083 - root_mean_squared_error: 0.0910\n"
          ]
        },
        {
          "name": "stdout",
          "output_type": "stream",
          "text": [
            "Epoch 575/1000\n"
          ]
        },
        {
          "name": "stderr",
          "output_type": "stream",
          "text": [
            "2/2██████████ ETA: 00:00s - loss: 0.0083 - mean_absolute_error: 0.0722 - mean_squared_error: 0.0083 - root_mean_squared_error: 0.0909\n"
          ]
        },
        {
          "name": "stdout",
          "output_type": "stream",
          "text": [
            "Epoch 576/1000\n"
          ]
        },
        {
          "name": "stderr",
          "output_type": "stream",
          "text": [
            "2/2██████████ ETA: 00:00s - loss: 0.0082 - mean_absolute_error: 0.0720 - mean_squared_error: 0.0082 - root_mean_squared_error: 0.0908\n"
          ]
        },
        {
          "name": "stdout",
          "output_type": "stream",
          "text": [
            "Epoch 577/1000\n"
          ]
        },
        {
          "name": "stderr",
          "output_type": "stream",
          "text": [
            "2/2██████████ ETA: 00:00s - loss: 0.0082 - mean_absolute_error: 0.0718 - mean_squared_error: 0.0082 - root_mean_squared_error: 0.0907\n",
            "Training:  58%|█████▊     577/1000 ETA: 00:08s,  51.53epochs/s"
          ]
        },
        {
          "name": "stdout",
          "output_type": "stream",
          "text": [
            "Epoch 578/1000\n"
          ]
        },
        {
          "name": "stderr",
          "output_type": "stream",
          "text": [
            "2/2██████████ ETA: 00:00s - loss: 0.0082 - mean_absolute_error: 0.0716 - mean_squared_error: 0.0082 - root_mean_squared_error: 0.0908\n"
          ]
        },
        {
          "name": "stdout",
          "output_type": "stream",
          "text": [
            "Epoch 579/1000\n"
          ]
        },
        {
          "name": "stderr",
          "output_type": "stream",
          "text": [
            "2/2██████████ ETA: 00:00s - loss: 0.0082 - mean_absolute_error: 0.0714 - mean_squared_error: 0.0082 - root_mean_squared_error: 0.0908\n"
          ]
        },
        {
          "name": "stdout",
          "output_type": "stream",
          "text": [
            "Epoch 580/1000\n"
          ]
        },
        {
          "name": "stderr",
          "output_type": "stream",
          "text": [
            "2/2██████████ ETA: 00:00s - loss: 0.0082 - mean_absolute_error: 0.0713 - mean_squared_error: 0.0082 - root_mean_squared_error: 0.0908\n"
          ]
        },
        {
          "name": "stdout",
          "output_type": "stream",
          "text": [
            "Epoch 581/1000\n"
          ]
        },
        {
          "name": "stderr",
          "output_type": "stream",
          "text": [
            "2/2██████████ ETA: 00:00s - loss: 0.0082 - mean_absolute_error: 0.0714 - mean_squared_error: 0.0082 - root_mean_squared_error: 0.0907\n"
          ]
        },
        {
          "name": "stdout",
          "output_type": "stream",
          "text": [
            "Epoch 582/1000\n"
          ]
        },
        {
          "name": "stderr",
          "output_type": "stream",
          "text": [
            "2/2██████████ ETA: 00:00s - loss: 0.0082 - mean_absolute_error: 0.0714 - mean_squared_error: 0.0082 - root_mean_squared_error: 0.0906\n"
          ]
        },
        {
          "name": "stdout",
          "output_type": "stream",
          "text": [
            "Epoch 583/1000\n"
          ]
        },
        {
          "name": "stderr",
          "output_type": "stream",
          "text": [
            "2/2██████████ ETA: 00:00s - loss: 0.0083 - mean_absolute_error: 0.0718 - mean_squared_error: 0.0083 - root_mean_squared_error: 0.0909\n",
            "Training:  58%|█████▊     583/1000 ETA: 00:07s,  52.63epochs/s"
          ]
        },
        {
          "name": "stdout",
          "output_type": "stream",
          "text": [
            "Epoch 584/1000\n"
          ]
        },
        {
          "name": "stderr",
          "output_type": "stream",
          "text": [
            "2/2██████████ ETA: 00:00s - loss: 0.0083 - mean_absolute_error: 0.0719 - mean_squared_error: 0.0083 - root_mean_squared_error: 0.0909\n"
          ]
        },
        {
          "name": "stdout",
          "output_type": "stream",
          "text": [
            "Epoch 585/1000\n"
          ]
        },
        {
          "name": "stderr",
          "output_type": "stream",
          "text": [
            "2/2██████████ ETA: 00:00s - loss: 0.0082 - mean_absolute_error: 0.0719 - mean_squared_error: 0.0082 - root_mean_squared_error: 0.0908\n"
          ]
        },
        {
          "name": "stdout",
          "output_type": "stream",
          "text": [
            "Epoch 586/1000\n"
          ]
        },
        {
          "name": "stderr",
          "output_type": "stream",
          "text": [
            "2/2██████████ ETA: 00:00s - loss: 0.0082 - mean_absolute_error: 0.0718 - mean_squared_error: 0.0082 - root_mean_squared_error: 0.0908\n"
          ]
        },
        {
          "name": "stdout",
          "output_type": "stream",
          "text": [
            "Epoch 587/1000\n"
          ]
        },
        {
          "name": "stderr",
          "output_type": "stream",
          "text": [
            "2/2██████████ ETA: 00:00s - loss: 0.0082 - mean_absolute_error: 0.0717 - mean_squared_error: 0.0082 - root_mean_squared_error: 0.0908\n"
          ]
        },
        {
          "name": "stdout",
          "output_type": "stream",
          "text": [
            "Epoch 588/1000\n"
          ]
        },
        {
          "name": "stderr",
          "output_type": "stream",
          "text": [
            "2/2██████████ ETA: 00:00s - loss: 0.0082 - mean_absolute_error: 0.0714 - mean_squared_error: 0.0082 - root_mean_squared_error: 0.0907\n"
          ]
        },
        {
          "name": "stdout",
          "output_type": "stream",
          "text": [
            "Epoch 589/1000\n"
          ]
        },
        {
          "name": "stderr",
          "output_type": "stream",
          "text": [
            "2/2██████████ ETA: 00:00s - loss: 0.0082 - mean_absolute_error: 0.0713 - mean_squared_error: 0.0082 - root_mean_squared_error: 0.0907\n",
            "Training:  59%|█████▉     589/1000 ETA: 00:07s,  52.87epochs/s"
          ]
        },
        {
          "name": "stdout",
          "output_type": "stream",
          "text": [
            "Epoch 590/1000\n"
          ]
        },
        {
          "name": "stderr",
          "output_type": "stream",
          "text": [
            "2/2██████████ ETA: 00:00s - loss: 0.0082 - mean_absolute_error: 0.0713 - mean_squared_error: 0.0082 - root_mean_squared_error: 0.0907\n"
          ]
        },
        {
          "name": "stdout",
          "output_type": "stream",
          "text": [
            "Epoch 591/1000\n"
          ]
        },
        {
          "name": "stderr",
          "output_type": "stream",
          "text": [
            "2/2██████████ ETA: 00:00s - loss: 0.0082 - mean_absolute_error: 0.0714 - mean_squared_error: 0.0082 - root_mean_squared_error: 0.0907\n"
          ]
        },
        {
          "name": "stdout",
          "output_type": "stream",
          "text": [
            "Epoch 592/1000\n"
          ]
        },
        {
          "name": "stderr",
          "output_type": "stream",
          "text": [
            "2/2██████████ ETA: 00:00s - loss: 0.0082 - mean_absolute_error: 0.0715 - mean_squared_error: 0.0082 - root_mean_squared_error: 0.0907\n"
          ]
        },
        {
          "name": "stdout",
          "output_type": "stream",
          "text": [
            "Epoch 593/1000\n"
          ]
        },
        {
          "name": "stderr",
          "output_type": "stream",
          "text": [
            "2/2██████████ ETA: 00:00s - loss: 0.0082 - mean_absolute_error: 0.0716 - mean_squared_error: 0.0082 - root_mean_squared_error: 0.0907\n"
          ]
        },
        {
          "name": "stdout",
          "output_type": "stream",
          "text": [
            "Epoch 594/1000\n"
          ]
        },
        {
          "name": "stderr",
          "output_type": "stream",
          "text": [
            "2/2██████████ ETA: 00:00s - loss: 0.0082 - mean_absolute_error: 0.0717 - mean_squared_error: 0.0082 - root_mean_squared_error: 0.0908\n"
          ]
        },
        {
          "name": "stdout",
          "output_type": "stream",
          "text": [
            "Epoch 595/1000\n"
          ]
        },
        {
          "name": "stderr",
          "output_type": "stream",
          "text": [
            "2/2██████████ ETA: 00:00s - loss: 0.0082 - mean_absolute_error: 0.0716 - mean_squared_error: 0.0082 - root_mean_squared_error: 0.0907\n",
            "Training:  60%|█████▉     595/1000 ETA: 00:07s,  52.00epochs/s"
          ]
        },
        {
          "name": "stdout",
          "output_type": "stream",
          "text": [
            "Epoch 596/1000\n"
          ]
        },
        {
          "name": "stderr",
          "output_type": "stream",
          "text": [
            "2/2██████████ ETA: 00:00s - loss: 0.0082 - mean_absolute_error: 0.0714 - mean_squared_error: 0.0082 - root_mean_squared_error: 0.0907\n"
          ]
        },
        {
          "name": "stdout",
          "output_type": "stream",
          "text": [
            "Epoch 597/1000\n"
          ]
        },
        {
          "name": "stderr",
          "output_type": "stream",
          "text": [
            "2/2██████████ ETA: 00:00s - loss: 0.0082 - mean_absolute_error: 0.0715 - mean_squared_error: 0.0082 - root_mean_squared_error: 0.0907\n"
          ]
        },
        {
          "name": "stdout",
          "output_type": "stream",
          "text": [
            "Epoch 598/1000\n"
          ]
        },
        {
          "name": "stderr",
          "output_type": "stream",
          "text": [
            "2/2██████████ ETA: 00:00s - loss: 0.0082 - mean_absolute_error: 0.0715 - mean_squared_error: 0.0082 - root_mean_squared_error: 0.0907\n"
          ]
        },
        {
          "name": "stdout",
          "output_type": "stream",
          "text": [
            "Epoch 599/1000\n"
          ]
        },
        {
          "name": "stderr",
          "output_type": "stream",
          "text": [
            "2/2██████████ ETA: 00:00s - loss: 0.0082 - mean_absolute_error: 0.0716 - mean_squared_error: 0.0082 - root_mean_squared_error: 0.0907\n"
          ]
        },
        {
          "name": "stdout",
          "output_type": "stream",
          "text": [
            "Epoch 600/1000\n"
          ]
        },
        {
          "name": "stderr",
          "output_type": "stream",
          "text": [
            "2/2██████████ ETA: 00:00s - loss: 0.0082 - mean_absolute_error: 0.0718 - mean_squared_error: 0.0082 - root_mean_squared_error: 0.0908\n"
          ]
        },
        {
          "name": "stdout",
          "output_type": "stream",
          "text": [
            "Epoch 601/1000\n"
          ]
        },
        {
          "name": "stderr",
          "output_type": "stream",
          "text": [
            "2/2██████████ ETA: 00:00s - loss: 0.0082 - mean_absolute_error: 0.0719 - mean_squared_error: 0.0082 - root_mean_squared_error: 0.0907\n",
            "Training:  60%|██████     601/1000 ETA: 00:07s,  50.57epochs/s"
          ]
        },
        {
          "name": "stdout",
          "output_type": "stream",
          "text": [
            "Epoch 602/1000\n"
          ]
        },
        {
          "name": "stderr",
          "output_type": "stream",
          "text": [
            "2/2██████████ ETA: 00:00s - loss: 0.0082 - mean_absolute_error: 0.0720 - mean_squared_error: 0.0082 - root_mean_squared_error: 0.0907\n"
          ]
        },
        {
          "name": "stdout",
          "output_type": "stream",
          "text": [
            "Epoch 603/1000\n"
          ]
        },
        {
          "name": "stderr",
          "output_type": "stream",
          "text": [
            "2/2██████████ ETA: 00:00s - loss: 0.0082 - mean_absolute_error: 0.0721 - mean_squared_error: 0.0082 - root_mean_squared_error: 0.0907\n"
          ]
        },
        {
          "name": "stdout",
          "output_type": "stream",
          "text": [
            "Epoch 604/1000\n"
          ]
        },
        {
          "name": "stderr",
          "output_type": "stream",
          "text": [
            "2/2██████████ ETA: 00:00s - loss: 0.0082 - mean_absolute_error: 0.0721 - mean_squared_error: 0.0082 - root_mean_squared_error: 0.0907\n"
          ]
        },
        {
          "name": "stdout",
          "output_type": "stream",
          "text": [
            "Epoch 605/1000\n"
          ]
        },
        {
          "name": "stderr",
          "output_type": "stream",
          "text": [
            "2/2██████████ ETA: 00:00s - loss: 0.0082 - mean_absolute_error: 0.0721 - mean_squared_error: 0.0082 - root_mean_squared_error: 0.0907\n"
          ]
        },
        {
          "name": "stdout",
          "output_type": "stream",
          "text": [
            "Epoch 606/1000\n"
          ]
        },
        {
          "name": "stderr",
          "output_type": "stream",
          "text": [
            "2/2██████████ ETA: 00:00s - loss: 0.0082 - mean_absolute_error: 0.0720 - mean_squared_error: 0.0082 - root_mean_squared_error: 0.0907\n"
          ]
        },
        {
          "name": "stdout",
          "output_type": "stream",
          "text": [
            "Epoch 607/1000\n"
          ]
        },
        {
          "name": "stderr",
          "output_type": "stream",
          "text": [
            "2/2██████████ ETA: 00:00s - loss: 0.0082 - mean_absolute_error: 0.0720 - mean_squared_error: 0.0082 - root_mean_squared_error: 0.0907\n",
            "Training:  61%|██████     607/1000 ETA: 00:07s,  51.47epochs/s"
          ]
        },
        {
          "name": "stdout",
          "output_type": "stream",
          "text": [
            "Epoch 608/1000\n"
          ]
        },
        {
          "name": "stderr",
          "output_type": "stream",
          "text": [
            "2/2██████████ ETA: 00:00s - loss: 0.0082 - mean_absolute_error: 0.0717 - mean_squared_error: 0.0082 - root_mean_squared_error: 0.0906\n"
          ]
        },
        {
          "name": "stdout",
          "output_type": "stream",
          "text": [
            "Epoch 609/1000\n"
          ]
        },
        {
          "name": "stderr",
          "output_type": "stream",
          "text": [
            "2/2██████████ ETA: 00:00s - loss: 0.0082 - mean_absolute_error: 0.0716 - mean_squared_error: 0.0082 - root_mean_squared_error: 0.0906\n"
          ]
        },
        {
          "name": "stdout",
          "output_type": "stream",
          "text": [
            "Epoch 610/1000\n"
          ]
        },
        {
          "name": "stderr",
          "output_type": "stream",
          "text": [
            "2/2██████████ ETA: 00:00s - loss: 0.0082 - mean_absolute_error: 0.0714 - mean_squared_error: 0.0082 - root_mean_squared_error: 0.0906\n"
          ]
        },
        {
          "name": "stdout",
          "output_type": "stream",
          "text": [
            "Epoch 611/1000\n"
          ]
        },
        {
          "name": "stderr",
          "output_type": "stream",
          "text": [
            "2/2██████████ ETA: 00:00s - loss: 0.0082 - mean_absolute_error: 0.0714 - mean_squared_error: 0.0082 - root_mean_squared_error: 0.0906\n"
          ]
        },
        {
          "name": "stdout",
          "output_type": "stream",
          "text": [
            "Epoch 612/1000\n"
          ]
        },
        {
          "name": "stderr",
          "output_type": "stream",
          "text": [
            "2/2██████████ ETA: 00:00s - loss: 0.0082 - mean_absolute_error: 0.0713 - mean_squared_error: 0.0082 - root_mean_squared_error: 0.0906\n"
          ]
        },
        {
          "name": "stdout",
          "output_type": "stream",
          "text": [
            "Epoch 613/1000\n"
          ]
        },
        {
          "name": "stderr",
          "output_type": "stream",
          "text": [
            "2/2██████████ ETA: 00:00s - loss: 0.0082 - mean_absolute_error: 0.0714 - mean_squared_error: 0.0082 - root_mean_squared_error: 0.0906\n",
            "Training:  61%|██████▏    613/1000 ETA: 00:07s,  51.72epochs/s"
          ]
        },
        {
          "name": "stdout",
          "output_type": "stream",
          "text": [
            "Epoch 614/1000\n"
          ]
        },
        {
          "name": "stderr",
          "output_type": "stream",
          "text": [
            "2/2██████████ ETA: 00:00s - loss: 0.0082 - mean_absolute_error: 0.0715 - mean_squared_error: 0.0082 - root_mean_squared_error: 0.0906\n"
          ]
        },
        {
          "name": "stdout",
          "output_type": "stream",
          "text": [
            "Epoch 615/1000\n"
          ]
        },
        {
          "name": "stderr",
          "output_type": "stream",
          "text": [
            "2/2██████████ ETA: 00:00s - loss: 0.0082 - mean_absolute_error: 0.0715 - mean_squared_error: 0.0082 - root_mean_squared_error: 0.0906\n"
          ]
        },
        {
          "name": "stdout",
          "output_type": "stream",
          "text": [
            "Epoch 616/1000\n"
          ]
        },
        {
          "name": "stderr",
          "output_type": "stream",
          "text": [
            "2/2██████████ ETA: 00:00s - loss: 0.0082 - mean_absolute_error: 0.0714 - mean_squared_error: 0.0082 - root_mean_squared_error: 0.0906\n"
          ]
        },
        {
          "name": "stdout",
          "output_type": "stream",
          "text": [
            "Epoch 617/1000\n"
          ]
        },
        {
          "name": "stderr",
          "output_type": "stream",
          "text": [
            "2/2██████████ ETA: 00:00s - loss: 0.0082 - mean_absolute_error: 0.0713 - mean_squared_error: 0.0082 - root_mean_squared_error: 0.0906\n"
          ]
        },
        {
          "name": "stdout",
          "output_type": "stream",
          "text": [
            "Epoch 618/1000\n"
          ]
        },
        {
          "name": "stderr",
          "output_type": "stream",
          "text": [
            "2/2██████████ ETA: 00:00s - loss: 0.0082 - mean_absolute_error: 0.0714 - mean_squared_error: 0.0082 - root_mean_squared_error: 0.0906\n"
          ]
        },
        {
          "name": "stdout",
          "output_type": "stream",
          "text": [
            "Epoch 619/1000\n"
          ]
        },
        {
          "name": "stderr",
          "output_type": "stream",
          "text": [
            "2/2██████████ ETA: 00:00s - loss: 0.0082 - mean_absolute_error: 0.0715 - mean_squared_error: 0.0082 - root_mean_squared_error: 0.0906\n",
            "Training:  62%|██████▏    619/1000 ETA: 00:07s,  51.58epochs/s"
          ]
        },
        {
          "name": "stdout",
          "output_type": "stream",
          "text": [
            "Epoch 620/1000\n"
          ]
        },
        {
          "name": "stderr",
          "output_type": "stream",
          "text": [
            "2/2██████████ ETA: 00:00s - loss: 0.0082 - mean_absolute_error: 0.0716 - mean_squared_error: 0.0082 - root_mean_squared_error: 0.0906\n"
          ]
        },
        {
          "name": "stdout",
          "output_type": "stream",
          "text": [
            "Epoch 621/1000\n"
          ]
        },
        {
          "name": "stderr",
          "output_type": "stream",
          "text": [
            "2/2██████████ ETA: 00:00s - loss: 0.0082 - mean_absolute_error: 0.0716 - mean_squared_error: 0.0082 - root_mean_squared_error: 0.0905"
          ]
        },
        {
          "name": "stdout",
          "output_type": "stream",
          "text": [
            "Epoch 622/1000\n"
          ]
        },
        {
          "name": "stderr",
          "output_type": "stream",
          "text": [
            "\n",
            "2/2██████████ ETA: 00:00s - loss: 0.0082 - mean_absolute_error: 0.0717 - mean_squared_error: 0.0082 - root_mean_squared_error: 0.0906\n"
          ]
        },
        {
          "name": "stdout",
          "output_type": "stream",
          "text": [
            "Epoch 623/1000\n"
          ]
        },
        {
          "name": "stderr",
          "output_type": "stream",
          "text": [
            "2/2██████████ ETA: 00:00s - loss: 0.0082 - mean_absolute_error: 0.0717 - mean_squared_error: 0.0082 - root_mean_squared_error: 0.0907\n"
          ]
        },
        {
          "name": "stdout",
          "output_type": "stream",
          "text": [
            "Epoch 624/1000\n"
          ]
        },
        {
          "name": "stderr",
          "output_type": "stream",
          "text": [
            "2/2██████████ ETA: 00:00s - loss: 0.0082 - mean_absolute_error: 0.0717 - mean_squared_error: 0.0082 - root_mean_squared_error: 0.0905\n"
          ]
        },
        {
          "name": "stdout",
          "output_type": "stream",
          "text": [
            "Epoch 625/1000\n"
          ]
        },
        {
          "name": "stderr",
          "output_type": "stream",
          "text": [
            "2/2██████████ ETA: 00:00s - loss: 0.0082 - mean_absolute_error: 0.0717 - mean_squared_error: 0.0082 - root_mean_squared_error: 0.0906\n",
            "Training:  62%|██████▎    625/1000 ETA: 00:08s,  45.31epochs/s"
          ]
        },
        {
          "name": "stdout",
          "output_type": "stream",
          "text": [
            "Epoch 626/1000\n"
          ]
        },
        {
          "name": "stderr",
          "output_type": "stream",
          "text": [
            "2/2██████████ ETA: 00:00s - loss: 0.0082 - mean_absolute_error: 0.0716 - mean_squared_error: 0.0082 - root_mean_squared_error: 0.0905\n"
          ]
        },
        {
          "name": "stdout",
          "output_type": "stream",
          "text": [
            "Epoch 627/1000\n"
          ]
        },
        {
          "name": "stderr",
          "output_type": "stream",
          "text": [
            "2/2██████████ ETA: 00:00s - loss: 0.0082 - mean_absolute_error: 0.0716 - mean_squared_error: 0.0082 - root_mean_squared_error: 0.0906\n"
          ]
        },
        {
          "name": "stdout",
          "output_type": "stream",
          "text": [
            "Epoch 628/1000\n"
          ]
        },
        {
          "name": "stderr",
          "output_type": "stream",
          "text": [
            "2/2██████████ ETA: 00:00s - loss: 0.0082 - mean_absolute_error: 0.0715 - mean_squared_error: 0.0082 - root_mean_squared_error: 0.0905\n"
          ]
        },
        {
          "name": "stdout",
          "output_type": "stream",
          "text": [
            "Epoch 629/1000\n"
          ]
        },
        {
          "name": "stderr",
          "output_type": "stream",
          "text": [
            "2/2██████████ ETA: 00:00s - loss: 0.0082 - mean_absolute_error: 0.0714 - mean_squared_error: 0.0082 - root_mean_squared_error: 0.0905\n"
          ]
        },
        {
          "name": "stdout",
          "output_type": "stream",
          "text": [
            "Epoch 630/1000\n"
          ]
        },
        {
          "name": "stderr",
          "output_type": "stream",
          "text": [
            "2/2██████████ ETA: 00:00s - loss: 0.0082 - mean_absolute_error: 0.0714 - mean_squared_error: 0.0082 - root_mean_squared_error: 0.0905\n"
          ]
        },
        {
          "name": "stdout",
          "output_type": "stream",
          "text": [
            "Epoch 631/1000\n"
          ]
        },
        {
          "name": "stderr",
          "output_type": "stream",
          "text": [
            "2/2██████████ ETA: 00:00s - loss: 0.0082 - mean_absolute_error: 0.0714 - mean_squared_error: 0.0082 - root_mean_squared_error: 0.0906\n",
            "Training:  63%|██████▎    631/1000 ETA: 00:07s,  47.72epochs/s"
          ]
        },
        {
          "name": "stdout",
          "output_type": "stream",
          "text": [
            "Epoch 632/1000\n"
          ]
        },
        {
          "name": "stderr",
          "output_type": "stream",
          "text": [
            "2/2██████████ ETA: 00:00s - loss: 0.0082 - mean_absolute_error: 0.0713 - mean_squared_error: 0.0082 - root_mean_squared_error: 0.0906\n"
          ]
        },
        {
          "name": "stdout",
          "output_type": "stream",
          "text": [
            "Epoch 633/1000\n"
          ]
        },
        {
          "name": "stderr",
          "output_type": "stream",
          "text": [
            "2/2██████████ ETA: 00:00s - loss: 0.0082 - mean_absolute_error: 0.0711 - mean_squared_error: 0.0082 - root_mean_squared_error: 0.0906\n"
          ]
        },
        {
          "name": "stdout",
          "output_type": "stream",
          "text": [
            "Epoch 634/1000\n"
          ]
        },
        {
          "name": "stderr",
          "output_type": "stream",
          "text": [
            "2/2██████████ ETA: 00:00s - loss: 0.0082 - mean_absolute_error: 0.0710 - mean_squared_error: 0.0082 - root_mean_squared_error: 0.0905\n"
          ]
        },
        {
          "name": "stdout",
          "output_type": "stream",
          "text": [
            "Epoch 635/1000\n"
          ]
        },
        {
          "name": "stderr",
          "output_type": "stream",
          "text": [
            "2/2██████████ ETA: 00:00s - loss: 0.0082 - mean_absolute_error: 0.0714 - mean_squared_error: 0.0082 - root_mean_squared_error: 0.0908\n"
          ]
        },
        {
          "name": "stdout",
          "output_type": "stream",
          "text": [
            "Epoch 636/1000\n"
          ]
        },
        {
          "name": "stderr",
          "output_type": "stream",
          "text": [
            "2/2██████████ ETA: 00:00s - loss: 0.0082 - mean_absolute_error: 0.0715 - mean_squared_error: 0.0082 - root_mean_squared_error: 0.0905\n"
          ]
        },
        {
          "name": "stdout",
          "output_type": "stream",
          "text": [
            "Epoch 637/1000\n"
          ]
        },
        {
          "name": "stderr",
          "output_type": "stream",
          "text": [
            "2/2██████████ ETA: 00:00s - loss: 0.0082 - mean_absolute_error: 0.0714 - mean_squared_error: 0.0082 - root_mean_squared_error: 0.0905\n",
            "Training:  64%|██████▎    637/1000 ETA: 00:07s,  49.37epochs/s"
          ]
        },
        {
          "name": "stdout",
          "output_type": "stream",
          "text": [
            "Epoch 638/1000\n"
          ]
        },
        {
          "name": "stderr",
          "output_type": "stream",
          "text": [
            "2/2██████████ ETA: 00:00s - loss: 0.0082 - mean_absolute_error: 0.0713 - mean_squared_error: 0.0082 - root_mean_squared_error: 0.0905\n"
          ]
        },
        {
          "name": "stdout",
          "output_type": "stream",
          "text": [
            "Epoch 639/1000\n"
          ]
        },
        {
          "name": "stderr",
          "output_type": "stream",
          "text": [
            "2/2██████████ ETA: 00:00s - loss: 0.0082 - mean_absolute_error: 0.0713 - mean_squared_error: 0.0082 - root_mean_squared_error: 0.0905\n"
          ]
        },
        {
          "name": "stdout",
          "output_type": "stream",
          "text": [
            "Epoch 640/1000\n"
          ]
        },
        {
          "name": "stderr",
          "output_type": "stream",
          "text": [
            "2/2██████████ ETA: 00:00s - loss: 0.0082 - mean_absolute_error: 0.0712 - mean_squared_error: 0.0082 - root_mean_squared_error: 0.0905\n"
          ]
        },
        {
          "name": "stdout",
          "output_type": "stream",
          "text": [
            "Epoch 641/1000\n"
          ]
        },
        {
          "name": "stderr",
          "output_type": "stream",
          "text": [
            "2/2██████████ ETA: 00:00s - loss: 0.0082 - mean_absolute_error: 0.0713 - mean_squared_error: 0.0082 - root_mean_squared_error: 0.0905\n"
          ]
        },
        {
          "name": "stdout",
          "output_type": "stream",
          "text": [
            "Epoch 642/1000\n"
          ]
        },
        {
          "name": "stderr",
          "output_type": "stream",
          "text": [
            "2/2██████████ ETA: 00:00s - loss: 0.0082 - mean_absolute_error: 0.0714 - mean_squared_error: 0.0082 - root_mean_squared_error: 0.0904\n"
          ]
        },
        {
          "name": "stdout",
          "output_type": "stream",
          "text": [
            "Epoch 643/1000\n"
          ]
        },
        {
          "name": "stderr",
          "output_type": "stream",
          "text": [
            "2/2██████████ ETA: 00:00s - loss: 0.0082 - mean_absolute_error: 0.0716 - mean_squared_error: 0.0082 - root_mean_squared_error: 0.0904\n",
            "Training:  64%|██████▍    643/1000 ETA: 00:07s,  50.23epochs/s"
          ]
        },
        {
          "name": "stdout",
          "output_type": "stream",
          "text": [
            "Epoch 644/1000\n"
          ]
        },
        {
          "name": "stderr",
          "output_type": "stream",
          "text": [
            "2/2██████████ ETA: 00:00s - loss: 0.0082 - mean_absolute_error: 0.0719 - mean_squared_error: 0.0082 - root_mean_squared_error: 0.0906\n"
          ]
        },
        {
          "name": "stdout",
          "output_type": "stream",
          "text": [
            "Epoch 645/1000\n"
          ]
        },
        {
          "name": "stderr",
          "output_type": "stream",
          "text": [
            "2/2██████████ ETA: 00:00s - loss: 0.0082 - mean_absolute_error: 0.0719 - mean_squared_error: 0.0082 - root_mean_squared_error: 0.0905\n"
          ]
        },
        {
          "name": "stdout",
          "output_type": "stream",
          "text": [
            "Epoch 646/1000\n"
          ]
        },
        {
          "name": "stderr",
          "output_type": "stream",
          "text": [
            "2/2██████████ ETA: 00:00s - loss: 0.0082 - mean_absolute_error: 0.0717 - mean_squared_error: 0.0082 - root_mean_squared_error: 0.0905\n"
          ]
        },
        {
          "name": "stdout",
          "output_type": "stream",
          "text": [
            "Epoch 647/1000\n"
          ]
        },
        {
          "name": "stderr",
          "output_type": "stream",
          "text": [
            "2/2██████████ ETA: 00:00s - loss: 0.0082 - mean_absolute_error: 0.0714 - mean_squared_error: 0.0082 - root_mean_squared_error: 0.0904\n"
          ]
        },
        {
          "name": "stdout",
          "output_type": "stream",
          "text": [
            "Epoch 648/1000\n"
          ]
        },
        {
          "name": "stderr",
          "output_type": "stream",
          "text": [
            "2/2██████████ ETA: 00:00s - loss: 0.0082 - mean_absolute_error: 0.0716 - mean_squared_error: 0.0082 - root_mean_squared_error: 0.0907\n"
          ]
        },
        {
          "name": "stdout",
          "output_type": "stream",
          "text": [
            "Epoch 649/1000\n"
          ]
        },
        {
          "name": "stderr",
          "output_type": "stream",
          "text": [
            "2/2██████████ ETA: 00:00s - loss: 0.0082 - mean_absolute_error: 0.0713 - mean_squared_error: 0.0082 - root_mean_squared_error: 0.0905\n",
            "Training:  65%|██████▍    649/1000 ETA: 00:06s,  50.60epochs/s"
          ]
        },
        {
          "name": "stdout",
          "output_type": "stream",
          "text": [
            "Epoch 650/1000\n"
          ]
        },
        {
          "name": "stderr",
          "output_type": "stream",
          "text": [
            "2/2██████████ ETA: 00:00s - loss: 0.0082 - mean_absolute_error: 0.0712 - mean_squared_error: 0.0082 - root_mean_squared_error: 0.0905\n"
          ]
        },
        {
          "name": "stdout",
          "output_type": "stream",
          "text": [
            "Epoch 651/1000\n"
          ]
        },
        {
          "name": "stderr",
          "output_type": "stream",
          "text": [
            "2/2██████████ ETA: 00:00s - loss: 0.0082 - mean_absolute_error: 0.0712 - mean_squared_error: 0.0082 - root_mean_squared_error: 0.0904\n"
          ]
        },
        {
          "name": "stdout",
          "output_type": "stream",
          "text": [
            "Epoch 652/1000\n"
          ]
        },
        {
          "name": "stderr",
          "output_type": "stream",
          "text": [
            "2/2██████████ ETA: 00:00s - loss: 0.0082 - mean_absolute_error: 0.0714 - mean_squared_error: 0.0082 - root_mean_squared_error: 0.0906\n"
          ]
        },
        {
          "name": "stdout",
          "output_type": "stream",
          "text": [
            "Epoch 653/1000\n"
          ]
        },
        {
          "name": "stderr",
          "output_type": "stream",
          "text": [
            "2/2██████████ ETA: 00:00s - loss: 0.0082 - mean_absolute_error: 0.0715 - mean_squared_error: 0.0082 - root_mean_squared_error: 0.0905\n"
          ]
        },
        {
          "name": "stdout",
          "output_type": "stream",
          "text": [
            "Epoch 654/1000\n"
          ]
        },
        {
          "name": "stderr",
          "output_type": "stream",
          "text": [
            "2/2██████████ ETA: 00:00s - loss: 0.0082 - mean_absolute_error: 0.0715 - mean_squared_error: 0.0082 - root_mean_squared_error: 0.0904\n"
          ]
        },
        {
          "name": "stdout",
          "output_type": "stream",
          "text": [
            "Epoch 655/1000\n"
          ]
        },
        {
          "name": "stderr",
          "output_type": "stream",
          "text": [
            "2/2██████████ ETA: 00:00s - loss: 0.0082 - mean_absolute_error: 0.0715 - mean_squared_error: 0.0082 - root_mean_squared_error: 0.0905\n",
            "Training:  66%|██████▌    655/1000 ETA: 00:07s,  46.03epochs/s"
          ]
        },
        {
          "name": "stdout",
          "output_type": "stream",
          "text": [
            "Epoch 656/1000\n"
          ]
        },
        {
          "name": "stderr",
          "output_type": "stream",
          "text": [
            "2/2██████████ ETA: 00:00s - loss: 0.0082 - mean_absolute_error: 0.0716 - mean_squared_error: 0.0082 - root_mean_squared_error: 0.0905\n"
          ]
        },
        {
          "name": "stdout",
          "output_type": "stream",
          "text": [
            "Epoch 657/1000\n"
          ]
        },
        {
          "name": "stderr",
          "output_type": "stream",
          "text": [
            "2/2██████████ ETA: 00:00s - loss: 0.0082 - mean_absolute_error: 0.0716 - mean_squared_error: 0.0082 - root_mean_squared_error: 0.0905\n"
          ]
        },
        {
          "name": "stdout",
          "output_type": "stream",
          "text": [
            "Epoch 658/1000\n"
          ]
        },
        {
          "name": "stderr",
          "output_type": "stream",
          "text": [
            "2/2██████████ ETA: 00:00s - loss: 0.0082 - mean_absolute_error: 0.0714 - mean_squared_error: 0.0082 - root_mean_squared_error: 0.0905\n"
          ]
        },
        {
          "name": "stdout",
          "output_type": "stream",
          "text": [
            "Epoch 659/1000\n"
          ]
        },
        {
          "name": "stderr",
          "output_type": "stream",
          "text": [
            "2/2██████████ ETA: 00:00s - loss: 0.0082 - mean_absolute_error: 0.0714 - mean_squared_error: 0.0082 - root_mean_squared_error: 0.0905\n"
          ]
        },
        {
          "name": "stdout",
          "output_type": "stream",
          "text": [
            "Epoch 660/1000\n"
          ]
        },
        {
          "name": "stderr",
          "output_type": "stream",
          "text": [
            "2/2██████████ ETA: 00:00s - loss: 0.0082 - mean_absolute_error: 0.0714 - mean_squared_error: 0.0082 - root_mean_squared_error: 0.0904\n",
            "Training:  66%|██████▌    660/1000 ETA: 00:07s,  46.29epochs/s"
          ]
        },
        {
          "name": "stdout",
          "output_type": "stream",
          "text": [
            "Epoch 661/1000\n"
          ]
        },
        {
          "name": "stderr",
          "output_type": "stream",
          "text": [
            "2/2██████████ ETA: 00:00s - loss: 0.0082 - mean_absolute_error: 0.0714 - mean_squared_error: 0.0082 - root_mean_squared_error: 0.0904\n"
          ]
        },
        {
          "name": "stdout",
          "output_type": "stream",
          "text": [
            "Epoch 662/1000\n"
          ]
        },
        {
          "name": "stderr",
          "output_type": "stream",
          "text": [
            "2/2██████████ ETA: 00:00s - loss: 0.0082 - mean_absolute_error: 0.0714 - mean_squared_error: 0.0082 - root_mean_squared_error: 0.0904\n"
          ]
        },
        {
          "name": "stdout",
          "output_type": "stream",
          "text": [
            "Epoch 663/1000\n"
          ]
        },
        {
          "name": "stderr",
          "output_type": "stream",
          "text": [
            "2/2██████████ ETA: 00:00s - loss: 0.0082 - mean_absolute_error: 0.0712 - mean_squared_error: 0.0082 - root_mean_squared_error: 0.0904\n"
          ]
        },
        {
          "name": "stdout",
          "output_type": "stream",
          "text": [
            "Epoch 664/1000\n"
          ]
        },
        {
          "name": "stderr",
          "output_type": "stream",
          "text": [
            "2/2██████████ ETA: 00:00s - loss: 0.0082 - mean_absolute_error: 0.0711 - mean_squared_error: 0.0082 - root_mean_squared_error: 0.0904\n"
          ]
        },
        {
          "name": "stdout",
          "output_type": "stream",
          "text": [
            "Epoch 665/1000\n"
          ]
        },
        {
          "name": "stderr",
          "output_type": "stream",
          "text": [
            "2/2██████████ ETA: 00:00s - loss: 0.0082 - mean_absolute_error: 0.0711 - mean_squared_error: 0.0082 - root_mean_squared_error: 0.0904\n"
          ]
        },
        {
          "name": "stdout",
          "output_type": "stream",
          "text": [
            "Epoch 666/1000\n"
          ]
        },
        {
          "name": "stderr",
          "output_type": "stream",
          "text": [
            "2/2██████████ ETA: 00:00s - loss: 0.0082 - mean_absolute_error: 0.0711 - mean_squared_error: 0.0082 - root_mean_squared_error: 0.0904\n",
            "Training:  67%|██████▋    666/1000 ETA: 00:06s,  48.49epochs/s"
          ]
        },
        {
          "name": "stdout",
          "output_type": "stream",
          "text": [
            "Epoch 667/1000\n"
          ]
        },
        {
          "name": "stderr",
          "output_type": "stream",
          "text": [
            "2/2██████████ ETA: 00:00s - loss: 0.0082 - mean_absolute_error: 0.0712 - mean_squared_error: 0.0082 - root_mean_squared_error: 0.0905\n"
          ]
        },
        {
          "name": "stdout",
          "output_type": "stream",
          "text": [
            "Epoch 668/1000\n"
          ]
        },
        {
          "name": "stderr",
          "output_type": "stream",
          "text": [
            "2/2██████████ ETA: 00:00s - loss: 0.0082 - mean_absolute_error: 0.0713 - mean_squared_error: 0.0082 - root_mean_squared_error: 0.0904\n"
          ]
        },
        {
          "name": "stdout",
          "output_type": "stream",
          "text": [
            "Epoch 669/1000\n"
          ]
        },
        {
          "name": "stderr",
          "output_type": "stream",
          "text": [
            "2/2██████████ ETA: 00:00s - loss: 0.0082 - mean_absolute_error: 0.0715 - mean_squared_error: 0.0082 - root_mean_squared_error: 0.0903\n"
          ]
        },
        {
          "name": "stdout",
          "output_type": "stream",
          "text": [
            "Epoch 670/1000\n"
          ]
        },
        {
          "name": "stderr",
          "output_type": "stream",
          "text": [
            "2/2██████████ ETA: 00:00s - loss: 0.0082 - mean_absolute_error: 0.0716 - mean_squared_error: 0.0082 - root_mean_squared_error: 0.0904\n"
          ]
        },
        {
          "name": "stdout",
          "output_type": "stream",
          "text": [
            "Epoch 671/1000\n"
          ]
        },
        {
          "name": "stderr",
          "output_type": "stream",
          "text": [
            "2/2██████████ ETA: 00:00s - loss: 0.0082 - mean_absolute_error: 0.0718 - mean_squared_error: 0.0082 - root_mean_squared_error: 0.0904\n"
          ]
        },
        {
          "name": "stdout",
          "output_type": "stream",
          "text": [
            "Epoch 672/1000\n"
          ]
        },
        {
          "name": "stderr",
          "output_type": "stream",
          "text": [
            "2/2██████████ ETA: 00:00s - loss: 0.0082 - mean_absolute_error: 0.0719 - mean_squared_error: 0.0082 - root_mean_squared_error: 0.0905\n",
            "Training:  67%|██████▋    672/1000 ETA: 00:06s,  51.06epochs/s"
          ]
        },
        {
          "name": "stdout",
          "output_type": "stream",
          "text": [
            "Epoch 673/1000\n"
          ]
        },
        {
          "name": "stderr",
          "output_type": "stream",
          "text": [
            "2/2██████████ ETA: 00:00s - loss: 0.0082 - mean_absolute_error: 0.0718 - mean_squared_error: 0.0082 - root_mean_squared_error: 0.0904\n"
          ]
        },
        {
          "name": "stdout",
          "output_type": "stream",
          "text": [
            "Epoch 674/1000\n"
          ]
        },
        {
          "name": "stderr",
          "output_type": "stream",
          "text": [
            "2/2██████████ ETA: 00:00s - loss: 0.0082 - mean_absolute_error: 0.0714 - mean_squared_error: 0.0082 - root_mean_squared_error: 0.0904\n"
          ]
        },
        {
          "name": "stdout",
          "output_type": "stream",
          "text": [
            "Epoch 675/1000\n"
          ]
        },
        {
          "name": "stderr",
          "output_type": "stream",
          "text": [
            "2/2██████████ ETA: 00:00s - loss: 0.0082 - mean_absolute_error: 0.0713 - mean_squared_error: 0.0082 - root_mean_squared_error: 0.0903\n"
          ]
        },
        {
          "name": "stdout",
          "output_type": "stream",
          "text": [
            "Epoch 676/1000\n"
          ]
        },
        {
          "name": "stderr",
          "output_type": "stream",
          "text": [
            "2/2██████████ ETA: 00:00s - loss: 0.0082 - mean_absolute_error: 0.0712 - mean_squared_error: 0.0082 - root_mean_squared_error: 0.0904\n"
          ]
        },
        {
          "name": "stdout",
          "output_type": "stream",
          "text": [
            "Epoch 677/1000\n"
          ]
        },
        {
          "name": "stderr",
          "output_type": "stream",
          "text": [
            "2/2██████████ ETA: 00:00s - loss: 0.0082 - mean_absolute_error: 0.0711 - mean_squared_error: 0.0082 - root_mean_squared_error: 0.0905\n"
          ]
        },
        {
          "name": "stdout",
          "output_type": "stream",
          "text": [
            "Epoch 678/1000\n"
          ]
        },
        {
          "name": "stderr",
          "output_type": "stream",
          "text": [
            "2/2██████████ ETA: 00:00s - loss: 0.0082 - mean_absolute_error: 0.0711 - mean_squared_error: 0.0082 - root_mean_squared_error: 0.0905\n"
          ]
        },
        {
          "name": "stdout",
          "output_type": "stream",
          "text": [
            "Epoch 679/1000\n"
          ]
        },
        {
          "name": "stderr",
          "output_type": "stream",
          "text": [
            "2/2██████████ ETA: 00:00s - loss: 0.0082 - mean_absolute_error: 0.0710 - mean_squared_error: 0.0082 - root_mean_squared_error: 0.0905\n",
            "Training:  68%|██████▊    679/1000 ETA: 00:05s,  53.60epochs/s"
          ]
        },
        {
          "name": "stdout",
          "output_type": "stream",
          "text": [
            "Epoch 680/1000\n"
          ]
        },
        {
          "name": "stderr",
          "output_type": "stream",
          "text": [
            "2/2██████████ ETA: 00:00s - loss: 0.0082 - mean_absolute_error: 0.0711 - mean_squared_error: 0.0082 - root_mean_squared_error: 0.0905\n"
          ]
        },
        {
          "name": "stdout",
          "output_type": "stream",
          "text": [
            "Epoch 681/1000\n"
          ]
        },
        {
          "name": "stderr",
          "output_type": "stream",
          "text": [
            "2/2██████████ ETA: 00:00s - loss: 0.0082 - mean_absolute_error: 0.0713 - mean_squared_error: 0.0082 - root_mean_squared_error: 0.0903\n"
          ]
        },
        {
          "name": "stdout",
          "output_type": "stream",
          "text": [
            "Epoch 682/1000\n"
          ]
        },
        {
          "name": "stderr",
          "output_type": "stream",
          "text": [
            "2/2██████████ ETA: 00:00s - loss: 0.0082 - mean_absolute_error: 0.0715 - mean_squared_error: 0.0082 - root_mean_squared_error: 0.0904\n"
          ]
        },
        {
          "name": "stdout",
          "output_type": "stream",
          "text": [
            "Epoch 683/1000\n"
          ]
        },
        {
          "name": "stderr",
          "output_type": "stream",
          "text": [
            "2/2██████████ ETA: 00:00s - loss: 0.0082 - mean_absolute_error: 0.0716 - mean_squared_error: 0.0082 - root_mean_squared_error: 0.0904\n"
          ]
        },
        {
          "name": "stdout",
          "output_type": "stream",
          "text": [
            "Epoch 684/1000\n"
          ]
        },
        {
          "name": "stderr",
          "output_type": "stream",
          "text": [
            "2/2██████████ ETA: 00:00s - loss: 0.0082 - mean_absolute_error: 0.0717 - mean_squared_error: 0.0082 - root_mean_squared_error: 0.0905\n"
          ]
        },
        {
          "name": "stdout",
          "output_type": "stream",
          "text": [
            "Epoch 685/1000\n"
          ]
        },
        {
          "name": "stderr",
          "output_type": "stream",
          "text": [
            "2/2██████████ ETA: 00:00s - loss: 0.0082 - mean_absolute_error: 0.0716 - mean_squared_error: 0.0082 - root_mean_squared_error: 0.0904\n",
            "Training:  68%|██████▊    685/1000 ETA: 00:05s,  53.19epochs/s"
          ]
        },
        {
          "name": "stdout",
          "output_type": "stream",
          "text": [
            "Epoch 686/1000\n"
          ]
        },
        {
          "name": "stderr",
          "output_type": "stream",
          "text": [
            "2/2██████████ ETA: 00:00s - loss: 0.0082 - mean_absolute_error: 0.0715 - mean_squared_error: 0.0082 - root_mean_squared_error: 0.0903\n"
          ]
        },
        {
          "name": "stdout",
          "output_type": "stream",
          "text": [
            "Epoch 687/1000\n"
          ]
        },
        {
          "name": "stderr",
          "output_type": "stream",
          "text": [
            "2/2██████████ ETA: 00:00s - loss: 0.0082 - mean_absolute_error: 0.0715 - mean_squared_error: 0.0082 - root_mean_squared_error: 0.0903\n"
          ]
        },
        {
          "name": "stdout",
          "output_type": "stream",
          "text": [
            "Epoch 688/1000\n"
          ]
        },
        {
          "name": "stderr",
          "output_type": "stream",
          "text": [
            "2/2██████████ ETA: 00:00s - loss: 0.0082 - mean_absolute_error: 0.0715 - mean_squared_error: 0.0082 - root_mean_squared_error: 0.0904\n"
          ]
        },
        {
          "name": "stdout",
          "output_type": "stream",
          "text": [
            "Epoch 689/1000\n"
          ]
        },
        {
          "name": "stderr",
          "output_type": "stream",
          "text": [
            "2/2██████████ ETA: 00:00s - loss: 0.0082 - mean_absolute_error: 0.0716 - mean_squared_error: 0.0082 - root_mean_squared_error: 0.0904\n"
          ]
        },
        {
          "name": "stdout",
          "output_type": "stream",
          "text": [
            "Epoch 690/1000\n"
          ]
        },
        {
          "name": "stderr",
          "output_type": "stream",
          "text": [
            "2/2██████████ ETA: 00:00s - loss: 0.0082 - mean_absolute_error: 0.0715 - mean_squared_error: 0.0082 - root_mean_squared_error: 0.0903\n"
          ]
        },
        {
          "name": "stdout",
          "output_type": "stream",
          "text": [
            "Epoch 691/1000\n"
          ]
        },
        {
          "name": "stderr",
          "output_type": "stream",
          "text": [
            "2/2██████████ ETA: 00:00s - loss: 0.0082 - mean_absolute_error: 0.0714 - mean_squared_error: 0.0082 - root_mean_squared_error: 0.0903\n",
            "Training:  69%|██████▉    691/1000 ETA: 00:05s,  53.27epochs/s"
          ]
        },
        {
          "name": "stdout",
          "output_type": "stream",
          "text": [
            "Epoch 692/1000\n"
          ]
        },
        {
          "name": "stderr",
          "output_type": "stream",
          "text": [
            "2/2██████████ ETA: 00:00s - loss: 0.0082 - mean_absolute_error: 0.0715 - mean_squared_error: 0.0082 - root_mean_squared_error: 0.0906\n"
          ]
        },
        {
          "name": "stdout",
          "output_type": "stream",
          "text": [
            "Epoch 693/1000\n"
          ]
        },
        {
          "name": "stderr",
          "output_type": "stream",
          "text": [
            "2/2██████████ ETA: 00:00s - loss: 0.0081 - mean_absolute_error: 0.0712 - mean_squared_error: 0.0081 - root_mean_squared_error: 0.0903\n"
          ]
        },
        {
          "name": "stdout",
          "output_type": "stream",
          "text": [
            "Epoch 694/1000\n"
          ]
        },
        {
          "name": "stderr",
          "output_type": "stream",
          "text": [
            "2/2██████████ ETA: 00:00s - loss: 0.0082 - mean_absolute_error: 0.0714 - mean_squared_error: 0.0082 - root_mean_squared_error: 0.0903\n"
          ]
        },
        {
          "name": "stdout",
          "output_type": "stream",
          "text": [
            "Epoch 695/1000\n"
          ]
        },
        {
          "name": "stderr",
          "output_type": "stream",
          "text": [
            "2/2██████████ ETA: 00:00s - loss: 0.0082 - mean_absolute_error: 0.0713 - mean_squared_error: 0.0082 - root_mean_squared_error: 0.0903\n"
          ]
        },
        {
          "name": "stdout",
          "output_type": "stream",
          "text": [
            "Epoch 696/1000\n"
          ]
        },
        {
          "name": "stderr",
          "output_type": "stream",
          "text": [
            "2/2██████████ ETA: 00:00s - loss: 0.0082 - mean_absolute_error: 0.0713 - mean_squared_error: 0.0082 - root_mean_squared_error: 0.0903\n"
          ]
        },
        {
          "name": "stdout",
          "output_type": "stream",
          "text": [
            "Epoch 697/1000\n"
          ]
        },
        {
          "name": "stderr",
          "output_type": "stream",
          "text": [
            "2/2██████████ ETA: 00:00s - loss: 0.0081 - mean_absolute_error: 0.0713 - mean_squared_error: 0.0081 - root_mean_squared_error: 0.0903\n",
            "Training:  70%|██████▉    697/1000 ETA: 00:06s,  48.32epochs/s"
          ]
        },
        {
          "name": "stdout",
          "output_type": "stream",
          "text": [
            "Epoch 698/1000\n"
          ]
        },
        {
          "name": "stderr",
          "output_type": "stream",
          "text": [
            "2/2██████████ ETA: 00:00s - loss: 0.0082 - mean_absolute_error: 0.0712 - mean_squared_error: 0.0082 - root_mean_squared_error: 0.0903\n"
          ]
        },
        {
          "name": "stdout",
          "output_type": "stream",
          "text": [
            "Epoch 699/1000\n"
          ]
        },
        {
          "name": "stderr",
          "output_type": "stream",
          "text": [
            "2/2██████████ ETA: 00:00s - loss: 0.0081 - mean_absolute_error: 0.0713 - mean_squared_error: 0.0081 - root_mean_squared_error: 0.0903\n"
          ]
        },
        {
          "name": "stdout",
          "output_type": "stream",
          "text": [
            "Epoch 700/1000\n"
          ]
        },
        {
          "name": "stderr",
          "output_type": "stream",
          "text": [
            "2/2██████████ ETA: 00:00s - loss: 0.0082 - mean_absolute_error: 0.0714 - mean_squared_error: 0.0082 - root_mean_squared_error: 0.0903\n"
          ]
        },
        {
          "name": "stdout",
          "output_type": "stream",
          "text": [
            "Epoch 701/1000\n"
          ]
        },
        {
          "name": "stderr",
          "output_type": "stream",
          "text": [
            "2/2██████████ ETA: 00:00s - loss: 0.0081 - mean_absolute_error: 0.0714 - mean_squared_error: 0.0081 - root_mean_squared_error: 0.0903\n"
          ]
        },
        {
          "name": "stdout",
          "output_type": "stream",
          "text": [
            "Epoch 702/1000\n"
          ]
        },
        {
          "name": "stderr",
          "output_type": "stream",
          "text": [
            "2/2██████████ ETA: 00:00s - loss: 0.0081 - mean_absolute_error: 0.0714 - mean_squared_error: 0.0081 - root_mean_squared_error: 0.0903\n"
          ]
        },
        {
          "name": "stdout",
          "output_type": "stream",
          "text": [
            "Epoch 703/1000\n"
          ]
        },
        {
          "name": "stderr",
          "output_type": "stream",
          "text": [
            "2/2██████████ ETA: 00:00s - loss: 0.0082 - mean_absolute_error: 0.0714 - mean_squared_error: 0.0082 - root_mean_squared_error: 0.0903\n",
            "Training:  70%|███████    703/1000 ETA: 00:05s,  50.67epochs/s"
          ]
        },
        {
          "name": "stdout",
          "output_type": "stream",
          "text": [
            "Epoch 704/1000\n"
          ]
        },
        {
          "name": "stderr",
          "output_type": "stream",
          "text": [
            "2/2██████████ ETA: 00:00s - loss: 0.0082 - mean_absolute_error: 0.0713 - mean_squared_error: 0.0082 - root_mean_squared_error: 0.0903\n"
          ]
        },
        {
          "name": "stdout",
          "output_type": "stream",
          "text": [
            "Epoch 705/1000\n"
          ]
        },
        {
          "name": "stderr",
          "output_type": "stream",
          "text": [
            "2/2██████████ ETA: 00:00s - loss: 0.0081 - mean_absolute_error: 0.0712 - mean_squared_error: 0.0081 - root_mean_squared_error: 0.0903\n"
          ]
        },
        {
          "name": "stdout",
          "output_type": "stream",
          "text": [
            "Epoch 706/1000\n"
          ]
        },
        {
          "name": "stderr",
          "output_type": "stream",
          "text": [
            "2/2██████████ ETA: 00:00s - loss: 0.0081 - mean_absolute_error: 0.0712 - mean_squared_error: 0.0081 - root_mean_squared_error: 0.0902\n"
          ]
        },
        {
          "name": "stdout",
          "output_type": "stream",
          "text": [
            "Epoch 707/1000\n"
          ]
        },
        {
          "name": "stderr",
          "output_type": "stream",
          "text": [
            "2/2██████████ ETA: 00:00s - loss: 0.0081 - mean_absolute_error: 0.0713 - mean_squared_error: 0.0081 - root_mean_squared_error: 0.0902"
          ]
        },
        {
          "name": "stdout",
          "output_type": "stream",
          "text": [
            "Epoch 708/1000\n"
          ]
        },
        {
          "name": "stderr",
          "output_type": "stream",
          "text": [
            "\n",
            "2/2██████████ ETA: 00:00s - loss: 0.0081 - mean_absolute_error: 0.0714 - mean_squared_error: 0.0081 - root_mean_squared_error: 0.0903\n"
          ]
        },
        {
          "name": "stdout",
          "output_type": "stream",
          "text": [
            "Epoch 709/1000\n"
          ]
        },
        {
          "name": "stderr",
          "output_type": "stream",
          "text": [
            "2/2██████████ ETA: 00:00s - loss: 0.0081 - mean_absolute_error: 0.0713 - mean_squared_error: 0.0081 - root_mean_squared_error: 0.0902\n",
            "Training:  71%|███████    709/1000 ETA: 00:05s,  51.69epochs/s"
          ]
        },
        {
          "name": "stdout",
          "output_type": "stream",
          "text": [
            "Epoch 710/1000\n"
          ]
        },
        {
          "name": "stderr",
          "output_type": "stream",
          "text": [
            "2/2██████████ ETA: 00:00s - loss: 0.0081 - mean_absolute_error: 0.0713 - mean_squared_error: 0.0081 - root_mean_squared_error: 0.0902\n"
          ]
        },
        {
          "name": "stdout",
          "output_type": "stream",
          "text": [
            "Epoch 711/1000\n"
          ]
        },
        {
          "name": "stderr",
          "output_type": "stream",
          "text": [
            "2/2██████████ ETA: 00:00s - loss: 0.0082 - mean_absolute_error: 0.0716 - mean_squared_error: 0.0082 - root_mean_squared_error: 0.0904\n"
          ]
        },
        {
          "name": "stdout",
          "output_type": "stream",
          "text": [
            "Epoch 712/1000\n"
          ]
        },
        {
          "name": "stderr",
          "output_type": "stream",
          "text": [
            "2/2██████████ ETA: 00:00s - loss: 0.0081 - mean_absolute_error: 0.0716 - mean_squared_error: 0.0081 - root_mean_squared_error: 0.0902\n"
          ]
        },
        {
          "name": "stdout",
          "output_type": "stream",
          "text": [
            "Epoch 713/1000\n"
          ]
        },
        {
          "name": "stderr",
          "output_type": "stream",
          "text": [
            "2/2██████████ ETA: 00:00s - loss: 0.0082 - mean_absolute_error: 0.0715 - mean_squared_error: 0.0082 - root_mean_squared_error: 0.0903\n"
          ]
        },
        {
          "name": "stdout",
          "output_type": "stream",
          "text": [
            "Epoch 714/1000\n"
          ]
        },
        {
          "name": "stderr",
          "output_type": "stream",
          "text": [
            "2/2██████████ ETA: 00:00s - loss: 0.0081 - mean_absolute_error: 0.0713 - mean_squared_error: 0.0081 - root_mean_squared_error: 0.0902\n"
          ]
        },
        {
          "name": "stdout",
          "output_type": "stream",
          "text": [
            "Epoch 715/1000\n"
          ]
        },
        {
          "name": "stderr",
          "output_type": "stream",
          "text": [
            "2/2██████████ ETA: 00:00s - loss: 0.0081 - mean_absolute_error: 0.0713 - mean_squared_error: 0.0081 - root_mean_squared_error: 0.0903\n",
            "Training:  72%|███████▏   715/1000 ETA: 00:05s,  52.43epochs/s"
          ]
        },
        {
          "name": "stdout",
          "output_type": "stream",
          "text": [
            "Epoch 716/1000\n"
          ]
        },
        {
          "name": "stderr",
          "output_type": "stream",
          "text": [
            "2/2██████████ ETA: 00:00s - loss: 0.0082 - mean_absolute_error: 0.0713 - mean_squared_error: 0.0082 - root_mean_squared_error: 0.0903\n"
          ]
        },
        {
          "name": "stdout",
          "output_type": "stream",
          "text": [
            "Epoch 717/1000\n"
          ]
        },
        {
          "name": "stderr",
          "output_type": "stream",
          "text": [
            "2/2██████████ ETA: 00:00s - loss: 0.0082 - mean_absolute_error: 0.0712 - mean_squared_error: 0.0082 - root_mean_squared_error: 0.0904\n"
          ]
        },
        {
          "name": "stdout",
          "output_type": "stream",
          "text": [
            "Epoch 718/1000\n"
          ]
        },
        {
          "name": "stderr",
          "output_type": "stream",
          "text": [
            "2/2██████████ ETA: 00:00s - loss: 0.0081 - mean_absolute_error: 0.0712 - mean_squared_error: 0.0081 - root_mean_squared_error: 0.0902\n"
          ]
        },
        {
          "name": "stdout",
          "output_type": "stream",
          "text": [
            "Epoch 719/1000\n"
          ]
        },
        {
          "name": "stderr",
          "output_type": "stream",
          "text": [
            "2/2██████████ ETA: 00:00s - loss: 0.0081 - mean_absolute_error: 0.0712 - mean_squared_error: 0.0081 - root_mean_squared_error: 0.0902\n"
          ]
        },
        {
          "name": "stdout",
          "output_type": "stream",
          "text": [
            "Epoch 720/1000\n"
          ]
        },
        {
          "name": "stderr",
          "output_type": "stream",
          "text": [
            "2/2██████████ ETA: 00:00s - loss: 0.0081 - mean_absolute_error: 0.0714 - mean_squared_error: 0.0081 - root_mean_squared_error: 0.0902\n"
          ]
        },
        {
          "name": "stdout",
          "output_type": "stream",
          "text": [
            "Epoch 721/1000\n"
          ]
        },
        {
          "name": "stderr",
          "output_type": "stream",
          "text": [
            "2/2██████████ ETA: 00:00s - loss: 0.0081 - mean_absolute_error: 0.0715 - mean_squared_error: 0.0081 - root_mean_squared_error: 0.0903\n",
            "Training:  72%|███████▏   721/1000 ETA: 00:05s,  52.75epochs/s"
          ]
        },
        {
          "name": "stdout",
          "output_type": "stream",
          "text": [
            "Epoch 722/1000\n"
          ]
        },
        {
          "name": "stderr",
          "output_type": "stream",
          "text": [
            "2/2██████████ ETA: 00:00s - loss: 0.0082 - mean_absolute_error: 0.0715 - mean_squared_error: 0.0082 - root_mean_squared_error: 0.0903\n"
          ]
        },
        {
          "name": "stdout",
          "output_type": "stream",
          "text": [
            "Epoch 723/1000\n"
          ]
        },
        {
          "name": "stderr",
          "output_type": "stream",
          "text": [
            "2/2██████████ ETA: 00:00s - loss: 0.0081 - mean_absolute_error: 0.0713 - mean_squared_error: 0.0081 - root_mean_squared_error: 0.0903\n"
          ]
        },
        {
          "name": "stdout",
          "output_type": "stream",
          "text": [
            "Epoch 724/1000\n"
          ]
        },
        {
          "name": "stderr",
          "output_type": "stream",
          "text": [
            "2/2██████████ ETA: 00:00s - loss: 0.0081 - mean_absolute_error: 0.0712 - mean_squared_error: 0.0081 - root_mean_squared_error: 0.0902\n"
          ]
        },
        {
          "name": "stdout",
          "output_type": "stream",
          "text": [
            "Epoch 725/1000\n"
          ]
        },
        {
          "name": "stderr",
          "output_type": "stream",
          "text": [
            "2/2██████████ ETA: 00:00s - loss: 0.0081 - mean_absolute_error: 0.0710 - mean_squared_error: 0.0081 - root_mean_squared_error: 0.0902\n"
          ]
        },
        {
          "name": "stdout",
          "output_type": "stream",
          "text": [
            "Epoch 726/1000\n"
          ]
        },
        {
          "name": "stderr",
          "output_type": "stream",
          "text": [
            "2/2██████████ ETA: 00:00s - loss: 0.0082 - mean_absolute_error: 0.0710 - mean_squared_error: 0.0082 - root_mean_squared_error: 0.0903\n"
          ]
        },
        {
          "name": "stdout",
          "output_type": "stream",
          "text": [
            "Epoch 727/1000\n"
          ]
        },
        {
          "name": "stderr",
          "output_type": "stream",
          "text": [
            "2/2██████████ ETA: 00:00s - loss: 0.0082 - mean_absolute_error: 0.0711 - mean_squared_error: 0.0082 - root_mean_squared_error: 0.0903\n",
            "Training:  73%|███████▎   727/1000 ETA: 00:05s,  53.37epochs/s"
          ]
        },
        {
          "name": "stdout",
          "output_type": "stream",
          "text": [
            "Epoch 728/1000\n"
          ]
        },
        {
          "name": "stderr",
          "output_type": "stream",
          "text": [
            "2/2██████████ ETA: 00:00s - loss: 0.0081 - mean_absolute_error: 0.0712 - mean_squared_error: 0.0081 - root_mean_squared_error: 0.0902\n"
          ]
        },
        {
          "name": "stdout",
          "output_type": "stream",
          "text": [
            "Epoch 729/1000\n"
          ]
        },
        {
          "name": "stderr",
          "output_type": "stream",
          "text": [
            "2/2██████████ ETA: 00:00s - loss: 0.0081 - mean_absolute_error: 0.0712 - mean_squared_error: 0.0081 - root_mean_squared_error: 0.0901\n"
          ]
        },
        {
          "name": "stdout",
          "output_type": "stream",
          "text": [
            "Epoch 730/1000\n"
          ]
        },
        {
          "name": "stderr",
          "output_type": "stream",
          "text": [
            "2/2██████████ ETA: 00:00s - loss: 0.0082 - mean_absolute_error: 0.0716 - mean_squared_error: 0.0082 - root_mean_squared_error: 0.0904\n"
          ]
        },
        {
          "name": "stdout",
          "output_type": "stream",
          "text": [
            "Epoch 731/1000\n"
          ]
        },
        {
          "name": "stderr",
          "output_type": "stream",
          "text": [
            "2/2██████████ ETA: 00:00s - loss: 0.0082 - mean_absolute_error: 0.0717 - mean_squared_error: 0.0082 - root_mean_squared_error: 0.0903\n"
          ]
        },
        {
          "name": "stdout",
          "output_type": "stream",
          "text": [
            "Epoch 732/1000\n"
          ]
        },
        {
          "name": "stderr",
          "output_type": "stream",
          "text": [
            "2/2██████████ ETA: 00:00s - loss: 0.0082 - mean_absolute_error: 0.0717 - mean_squared_error: 0.0082 - root_mean_squared_error: 0.0904\n"
          ]
        },
        {
          "name": "stdout",
          "output_type": "stream",
          "text": [
            "Epoch 733/1000\n"
          ]
        },
        {
          "name": "stderr",
          "output_type": "stream",
          "text": [
            "2/2██████████ ETA: 00:00s - loss: 0.0082 - mean_absolute_error: 0.0716 - mean_squared_error: 0.0082 - root_mean_squared_error: 0.0904\n",
            "Training:  73%|███████▎   733/1000 ETA: 00:05s,  53.26epochs/s"
          ]
        },
        {
          "name": "stdout",
          "output_type": "stream",
          "text": [
            "Epoch 734/1000\n"
          ]
        },
        {
          "name": "stderr",
          "output_type": "stream",
          "text": [
            "2/2██████████ ETA: 00:00s - loss: 0.0081 - mean_absolute_error: 0.0713 - mean_squared_error: 0.0081 - root_mean_squared_error: 0.0902\n"
          ]
        },
        {
          "name": "stdout",
          "output_type": "stream",
          "text": [
            "Epoch 735/1000\n"
          ]
        },
        {
          "name": "stderr",
          "output_type": "stream",
          "text": [
            "2/2██████████ ETA: 00:00s - loss: 0.0081 - mean_absolute_error: 0.0712 - mean_squared_error: 0.0081 - root_mean_squared_error: 0.0902\n"
          ]
        },
        {
          "name": "stdout",
          "output_type": "stream",
          "text": [
            "Epoch 736/1000\n"
          ]
        },
        {
          "name": "stderr",
          "output_type": "stream",
          "text": [
            "2/2██████████ ETA: 00:00s - loss: 0.0081 - mean_absolute_error: 0.0712 - mean_squared_error: 0.0081 - root_mean_squared_error: 0.0902\n"
          ]
        },
        {
          "name": "stdout",
          "output_type": "stream",
          "text": [
            "Epoch 737/1000\n"
          ]
        },
        {
          "name": "stderr",
          "output_type": "stream",
          "text": [
            "2/2██████████ ETA: 00:00s - loss: 0.0081 - mean_absolute_error: 0.0712 - mean_squared_error: 0.0081 - root_mean_squared_error: 0.0902\n"
          ]
        },
        {
          "name": "stdout",
          "output_type": "stream",
          "text": [
            "Epoch 738/1000\n"
          ]
        },
        {
          "name": "stderr",
          "output_type": "stream",
          "text": [
            "2/2██████████ ETA: 00:00s - loss: 0.0081 - mean_absolute_error: 0.0713 - mean_squared_error: 0.0081 - root_mean_squared_error: 0.0902\n"
          ]
        },
        {
          "name": "stdout",
          "output_type": "stream",
          "text": [
            "Epoch 739/1000\n"
          ]
        },
        {
          "name": "stderr",
          "output_type": "stream",
          "text": [
            "2/2██████████ ETA: 00:00s - loss: 0.0081 - mean_absolute_error: 0.0713 - mean_squared_error: 0.0081 - root_mean_squared_error: 0.0902\n",
            "Training:  74%|███████▍   739/1000 ETA: 00:04s,  53.97epochs/s"
          ]
        },
        {
          "name": "stdout",
          "output_type": "stream",
          "text": [
            "Epoch 740/1000\n"
          ]
        },
        {
          "name": "stderr",
          "output_type": "stream",
          "text": [
            "2/2██████████ ETA: 00:00s - loss: 0.0081 - mean_absolute_error: 0.0713 - mean_squared_error: 0.0081 - root_mean_squared_error: 0.0902\n"
          ]
        },
        {
          "name": "stdout",
          "output_type": "stream",
          "text": [
            "Epoch 741/1000\n"
          ]
        },
        {
          "name": "stderr",
          "output_type": "stream",
          "text": [
            "2/2██████████ ETA: 00:00s - loss: 0.0081 - mean_absolute_error: 0.0712 - mean_squared_error: 0.0081 - root_mean_squared_error: 0.0901\n"
          ]
        },
        {
          "name": "stdout",
          "output_type": "stream",
          "text": [
            "Epoch 742/1000\n"
          ]
        },
        {
          "name": "stderr",
          "output_type": "stream",
          "text": [
            "2/2██████████ ETA: 00:00s - loss: 0.0082 - mean_absolute_error: 0.0712 - mean_squared_error: 0.0082 - root_mean_squared_error: 0.0903\n"
          ]
        },
        {
          "name": "stdout",
          "output_type": "stream",
          "text": [
            "Epoch 743/1000\n"
          ]
        },
        {
          "name": "stderr",
          "output_type": "stream",
          "text": [
            "2/2██████████ ETA: 00:00s - loss: 0.0081 - mean_absolute_error: 0.0710 - mean_squared_error: 0.0081 - root_mean_squared_error: 0.0901\n"
          ]
        },
        {
          "name": "stdout",
          "output_type": "stream",
          "text": [
            "Epoch 744/1000\n"
          ]
        },
        {
          "name": "stderr",
          "output_type": "stream",
          "text": [
            "2/2██████████ ETA: 00:00s - loss: 0.0081 - mean_absolute_error: 0.0710 - mean_squared_error: 0.0081 - root_mean_squared_error: 0.0902\n"
          ]
        },
        {
          "name": "stdout",
          "output_type": "stream",
          "text": [
            "Epoch 745/1000\n"
          ]
        },
        {
          "name": "stderr",
          "output_type": "stream",
          "text": [
            "2/2██████████ ETA: 00:00s - loss: 0.0081 - mean_absolute_error: 0.0712 - mean_squared_error: 0.0081 - root_mean_squared_error: 0.0902\n",
            "Training:  74%|███████▍   745/1000 ETA: 00:04s,  54.22epochs/s"
          ]
        },
        {
          "name": "stdout",
          "output_type": "stream",
          "text": [
            "Epoch 746/1000\n"
          ]
        },
        {
          "name": "stderr",
          "output_type": "stream",
          "text": [
            "2/2██████████ ETA: 00:00s - loss: 0.0081 - mean_absolute_error: 0.0711 - mean_squared_error: 0.0081 - root_mean_squared_error: 0.0902\n"
          ]
        },
        {
          "name": "stdout",
          "output_type": "stream",
          "text": [
            "Epoch 747/1000\n"
          ]
        },
        {
          "name": "stderr",
          "output_type": "stream",
          "text": [
            "2/2██████████ ETA: 00:00s - loss: 0.0081 - mean_absolute_error: 0.0709 - mean_squared_error: 0.0081 - root_mean_squared_error: 0.0903\n"
          ]
        },
        {
          "name": "stdout",
          "output_type": "stream",
          "text": [
            "Epoch 748/1000\n"
          ]
        },
        {
          "name": "stderr",
          "output_type": "stream",
          "text": [
            "2/2██████████ ETA: 00:00s - loss: 0.0081 - mean_absolute_error: 0.0707 - mean_squared_error: 0.0081 - root_mean_squared_error: 0.0902\n"
          ]
        },
        {
          "name": "stdout",
          "output_type": "stream",
          "text": [
            "Epoch 749/1000\n"
          ]
        },
        {
          "name": "stderr",
          "output_type": "stream",
          "text": [
            "2/2██████████ ETA: 00:00s - loss: 0.0081 - mean_absolute_error: 0.0706 - mean_squared_error: 0.0081 - root_mean_squared_error: 0.0902\n"
          ]
        },
        {
          "name": "stdout",
          "output_type": "stream",
          "text": [
            "Epoch 750/1000\n"
          ]
        },
        {
          "name": "stderr",
          "output_type": "stream",
          "text": [
            "2/2██████████ ETA: 00:00s - loss: 0.0081 - mean_absolute_error: 0.0707 - mean_squared_error: 0.0081 - root_mean_squared_error: 0.0902\n"
          ]
        },
        {
          "name": "stdout",
          "output_type": "stream",
          "text": [
            "Epoch 751/1000\n"
          ]
        },
        {
          "name": "stderr",
          "output_type": "stream",
          "text": [
            "2/2██████████ ETA: 00:00s - loss: 0.0081 - mean_absolute_error: 0.0708 - mean_squared_error: 0.0081 - root_mean_squared_error: 0.0903\n",
            "Training:  75%|███████▌   751/1000 ETA: 00:04s,  55.00epochs/s"
          ]
        },
        {
          "name": "stdout",
          "output_type": "stream",
          "text": [
            "Epoch 752/1000\n"
          ]
        },
        {
          "name": "stderr",
          "output_type": "stream",
          "text": [
            "2/2██████████ ETA: 00:00s - loss: 0.0081 - mean_absolute_error: 0.0708 - mean_squared_error: 0.0081 - root_mean_squared_error: 0.0901\n"
          ]
        },
        {
          "name": "stdout",
          "output_type": "stream",
          "text": [
            "Epoch 753/1000\n"
          ]
        },
        {
          "name": "stderr",
          "output_type": "stream",
          "text": [
            "2/2██████████ ETA: 00:00s - loss: 0.0081 - mean_absolute_error: 0.0710 - mean_squared_error: 0.0081 - root_mean_squared_error: 0.0902\n"
          ]
        },
        {
          "name": "stdout",
          "output_type": "stream",
          "text": [
            "Epoch 754/1000\n"
          ]
        },
        {
          "name": "stderr",
          "output_type": "stream",
          "text": [
            "2/2██████████ ETA: 00:00s - loss: 0.0081 - mean_absolute_error: 0.0711 - mean_squared_error: 0.0081 - root_mean_squared_error: 0.0902\n"
          ]
        },
        {
          "name": "stdout",
          "output_type": "stream",
          "text": [
            "Epoch 755/1000\n"
          ]
        },
        {
          "name": "stderr",
          "output_type": "stream",
          "text": [
            "2/2██████████ ETA: 00:00s - loss: 0.0081 - mean_absolute_error: 0.0712 - mean_squared_error: 0.0081 - root_mean_squared_error: 0.0902\n"
          ]
        },
        {
          "name": "stdout",
          "output_type": "stream",
          "text": [
            "Epoch 756/1000\n"
          ]
        },
        {
          "name": "stderr",
          "output_type": "stream",
          "text": [
            "2/2██████████ ETA: 00:00s - loss: 0.0081 - mean_absolute_error: 0.0712 - mean_squared_error: 0.0081 - root_mean_squared_error: 0.0902\n"
          ]
        },
        {
          "name": "stdout",
          "output_type": "stream",
          "text": [
            "Epoch 757/1000\n"
          ]
        },
        {
          "name": "stderr",
          "output_type": "stream",
          "text": [
            "2/2██████████ ETA: 00:00s - loss: 0.0081 - mean_absolute_error: 0.0712 - mean_squared_error: 0.0081 - root_mean_squared_error: 0.0901\n",
            "Training:  76%|███████▌   757/1000 ETA: 00:04s,  49.97epochs/s"
          ]
        },
        {
          "name": "stdout",
          "output_type": "stream",
          "text": [
            "Epoch 758/1000\n"
          ]
        },
        {
          "name": "stderr",
          "output_type": "stream",
          "text": [
            "2/2██████████ ETA: 00:00s - loss: 0.0081 - mean_absolute_error: 0.0712 - mean_squared_error: 0.0081 - root_mean_squared_error: 0.0901\n"
          ]
        },
        {
          "name": "stdout",
          "output_type": "stream",
          "text": [
            "Epoch 759/1000\n"
          ]
        },
        {
          "name": "stderr",
          "output_type": "stream",
          "text": [
            "2/2██████████ ETA: 00:00s - loss: 0.0081 - mean_absolute_error: 0.0715 - mean_squared_error: 0.0081 - root_mean_squared_error: 0.0902\n"
          ]
        },
        {
          "name": "stdout",
          "output_type": "stream",
          "text": [
            "Epoch 760/1000\n"
          ]
        },
        {
          "name": "stderr",
          "output_type": "stream",
          "text": [
            "2/2██████████ ETA: 00:00s - loss: 0.0081 - mean_absolute_error: 0.0716 - mean_squared_error: 0.0081 - root_mean_squared_error: 0.0902\n"
          ]
        },
        {
          "name": "stdout",
          "output_type": "stream",
          "text": [
            "Epoch 761/1000\n"
          ]
        },
        {
          "name": "stderr",
          "output_type": "stream",
          "text": [
            "2/2██████████ ETA: 00:00s - loss: 0.0081 - mean_absolute_error: 0.0717 - mean_squared_error: 0.0081 - root_mean_squared_error: 0.0902\n"
          ]
        },
        {
          "name": "stdout",
          "output_type": "stream",
          "text": [
            "Epoch 762/1000\n"
          ]
        },
        {
          "name": "stderr",
          "output_type": "stream",
          "text": [
            "2/2██████████ ETA: 00:00s - loss: 0.0081 - mean_absolute_error: 0.0716 - mean_squared_error: 0.0081 - root_mean_squared_error: 0.0902\n"
          ]
        },
        {
          "name": "stdout",
          "output_type": "stream",
          "text": [
            "Epoch 763/1000\n"
          ]
        },
        {
          "name": "stderr",
          "output_type": "stream",
          "text": [
            "2/2██████████ ETA: 00:00s - loss: 0.0081 - mean_absolute_error: 0.0712 - mean_squared_error: 0.0081 - root_mean_squared_error: 0.0901\n",
            "Training:  76%|███████▋   763/1000 ETA: 00:04s,  51.15epochs/s"
          ]
        },
        {
          "name": "stdout",
          "output_type": "stream",
          "text": [
            "Epoch 764/1000\n"
          ]
        },
        {
          "name": "stderr",
          "output_type": "stream",
          "text": [
            "2/2██████████ ETA: 00:00s - loss: 0.0081 - mean_absolute_error: 0.0711 - mean_squared_error: 0.0081 - root_mean_squared_error: 0.0901\n"
          ]
        },
        {
          "name": "stdout",
          "output_type": "stream",
          "text": [
            "Epoch 765/1000\n"
          ]
        },
        {
          "name": "stderr",
          "output_type": "stream",
          "text": [
            "2/2██████████ ETA: 00:00s - loss: 0.0081 - mean_absolute_error: 0.0711 - mean_squared_error: 0.0081 - root_mean_squared_error: 0.0902\n"
          ]
        },
        {
          "name": "stdout",
          "output_type": "stream",
          "text": [
            "Epoch 766/1000\n"
          ]
        },
        {
          "name": "stderr",
          "output_type": "stream",
          "text": [
            "2/2██████████ ETA: 00:00s - loss: 0.0081 - mean_absolute_error: 0.0709 - mean_squared_error: 0.0081 - root_mean_squared_error: 0.0901\n"
          ]
        },
        {
          "name": "stdout",
          "output_type": "stream",
          "text": [
            "Epoch 767/1000\n"
          ]
        },
        {
          "name": "stderr",
          "output_type": "stream",
          "text": [
            "2/2██████████ ETA: 00:00s - loss: 0.0081 - mean_absolute_error: 0.0709 - mean_squared_error: 0.0081 - root_mean_squared_error: 0.0901\n"
          ]
        },
        {
          "name": "stdout",
          "output_type": "stream",
          "text": [
            "Epoch 768/1000\n"
          ]
        },
        {
          "name": "stderr",
          "output_type": "stream",
          "text": [
            "2/2██████████ ETA: 00:00s - loss: 0.0081 - mean_absolute_error: 0.0708 - mean_squared_error: 0.0081 - root_mean_squared_error: 0.0901\n"
          ]
        },
        {
          "name": "stdout",
          "output_type": "stream",
          "text": [
            "Epoch 769/1000\n"
          ]
        },
        {
          "name": "stderr",
          "output_type": "stream",
          "text": [
            "2/2██████████ ETA: 00:00s - loss: 0.0081 - mean_absolute_error: 0.0708 - mean_squared_error: 0.0081 - root_mean_squared_error: 0.0902\n",
            "Training:  77%|███████▋   769/1000 ETA: 00:04s,  50.80epochs/s"
          ]
        },
        {
          "name": "stdout",
          "output_type": "stream",
          "text": [
            "Epoch 770/1000\n"
          ]
        },
        {
          "name": "stderr",
          "output_type": "stream",
          "text": [
            "2/2██████████ ETA: 00:00s - loss: 0.0081 - mean_absolute_error: 0.0709 - mean_squared_error: 0.0081 - root_mean_squared_error: 0.0903\n"
          ]
        },
        {
          "name": "stdout",
          "output_type": "stream",
          "text": [
            "Epoch 771/1000\n"
          ]
        },
        {
          "name": "stderr",
          "output_type": "stream",
          "text": [
            "2/2██████████ ETA: 00:00s - loss: 0.0082 - mean_absolute_error: 0.0711 - mean_squared_error: 0.0082 - root_mean_squared_error: 0.0904\n"
          ]
        },
        {
          "name": "stdout",
          "output_type": "stream",
          "text": [
            "Epoch 772/1000\n"
          ]
        },
        {
          "name": "stderr",
          "output_type": "stream",
          "text": [
            "2/2██████████ ETA: 00:00s - loss: 0.0082 - mean_absolute_error: 0.0712 - mean_squared_error: 0.0082 - root_mean_squared_error: 0.0904\n"
          ]
        },
        {
          "name": "stdout",
          "output_type": "stream",
          "text": [
            "Epoch 773/1000\n"
          ]
        },
        {
          "name": "stderr",
          "output_type": "stream",
          "text": [
            "2/2██████████ ETA: 00:00s - loss: 0.0082 - mean_absolute_error: 0.0711 - mean_squared_error: 0.0082 - root_mean_squared_error: 0.0903\n"
          ]
        },
        {
          "name": "stdout",
          "output_type": "stream",
          "text": [
            "Epoch 774/1000\n"
          ]
        },
        {
          "name": "stderr",
          "output_type": "stream",
          "text": [
            "2/2██████████ ETA: 00:00s - loss: 0.0081 - mean_absolute_error: 0.0709 - mean_squared_error: 0.0081 - root_mean_squared_error: 0.0902\n"
          ]
        },
        {
          "name": "stdout",
          "output_type": "stream",
          "text": [
            "Epoch 775/1000\n"
          ]
        },
        {
          "name": "stderr",
          "output_type": "stream",
          "text": [
            "2/2██████████ ETA: 00:00s - loss: 0.0081 - mean_absolute_error: 0.0709 - mean_squared_error: 0.0081 - root_mean_squared_error: 0.0902\n",
            "Training:  78%|███████▊   775/1000 ETA: 00:04s,  49.30epochs/s"
          ]
        },
        {
          "name": "stdout",
          "output_type": "stream",
          "text": [
            "Epoch 776/1000\n"
          ]
        },
        {
          "name": "stderr",
          "output_type": "stream",
          "text": [
            "2/2██████████ ETA: 00:00s - loss: 0.0081 - mean_absolute_error: 0.0710 - mean_squared_error: 0.0081 - root_mean_squared_error: 0.0901\n"
          ]
        },
        {
          "name": "stdout",
          "output_type": "stream",
          "text": [
            "Epoch 777/1000\n"
          ]
        },
        {
          "name": "stderr",
          "output_type": "stream",
          "text": [
            "2/2██████████ ETA: 00:00s - loss: 0.0081 - mean_absolute_error: 0.0712 - mean_squared_error: 0.0081 - root_mean_squared_error: 0.0902\n"
          ]
        },
        {
          "name": "stdout",
          "output_type": "stream",
          "text": [
            "Epoch 778/1000\n"
          ]
        },
        {
          "name": "stderr",
          "output_type": "stream",
          "text": [
            "2/2██████████ ETA: 00:00s - loss: 0.0081 - mean_absolute_error: 0.0712 - mean_squared_error: 0.0081 - root_mean_squared_error: 0.0902\n"
          ]
        },
        {
          "name": "stdout",
          "output_type": "stream",
          "text": [
            "Epoch 779/1000\n"
          ]
        },
        {
          "name": "stderr",
          "output_type": "stream",
          "text": [
            "2/2██████████ ETA: 00:00s - loss: 0.0081 - mean_absolute_error: 0.0713 - mean_squared_error: 0.0081 - root_mean_squared_error: 0.0902\n"
          ]
        },
        {
          "name": "stdout",
          "output_type": "stream",
          "text": [
            "Epoch 780/1000\n"
          ]
        },
        {
          "name": "stderr",
          "output_type": "stream",
          "text": [
            "2/2██████████ ETA: 00:00s - loss: 0.0081 - mean_absolute_error: 0.0713 - mean_squared_error: 0.0081 - root_mean_squared_error: 0.0901\n"
          ]
        },
        {
          "name": "stdout",
          "output_type": "stream",
          "text": [
            "Epoch 781/1000\n"
          ]
        },
        {
          "name": "stderr",
          "output_type": "stream",
          "text": [
            "2/2██████████ ETA: 00:00s - loss: 0.0081 - mean_absolute_error: 0.0713 - mean_squared_error: 0.0081 - root_mean_squared_error: 0.0900\n",
            "Training:  78%|███████▊   781/1000 ETA: 00:04s,  51.15epochs/s"
          ]
        },
        {
          "name": "stdout",
          "output_type": "stream",
          "text": [
            "Epoch 782/1000\n"
          ]
        },
        {
          "name": "stderr",
          "output_type": "stream",
          "text": [
            "2/2██████████ ETA: 00:00s - loss: 0.0081 - mean_absolute_error: 0.0715 - mean_squared_error: 0.0081 - root_mean_squared_error: 0.0902\n"
          ]
        },
        {
          "name": "stdout",
          "output_type": "stream",
          "text": [
            "Epoch 783/1000\n"
          ]
        },
        {
          "name": "stderr",
          "output_type": "stream",
          "text": [
            "2/2██████████ ETA: 00:00s - loss: 0.0081 - mean_absolute_error: 0.0715 - mean_squared_error: 0.0081 - root_mean_squared_error: 0.0901\n"
          ]
        },
        {
          "name": "stdout",
          "output_type": "stream",
          "text": [
            "Epoch 784/1000\n"
          ]
        },
        {
          "name": "stderr",
          "output_type": "stream",
          "text": [
            "2/2██████████ ETA: 00:00s - loss: 0.0081 - mean_absolute_error: 0.0714 - mean_squared_error: 0.0081 - root_mean_squared_error: 0.0900\n"
          ]
        },
        {
          "name": "stdout",
          "output_type": "stream",
          "text": [
            "Epoch 785/1000\n"
          ]
        },
        {
          "name": "stderr",
          "output_type": "stream",
          "text": [
            "2/2██████████ ETA: 00:00s - loss: 0.0081 - mean_absolute_error: 0.0714 - mean_squared_error: 0.0081 - root_mean_squared_error: 0.0902\n"
          ]
        },
        {
          "name": "stdout",
          "output_type": "stream",
          "text": [
            "Epoch 786/1000\n"
          ]
        },
        {
          "name": "stderr",
          "output_type": "stream",
          "text": [
            "2/2██████████ ETA: 00:00s - loss: 0.0081 - mean_absolute_error: 0.0713 - mean_squared_error: 0.0081 - root_mean_squared_error: 0.0901\n"
          ]
        },
        {
          "name": "stdout",
          "output_type": "stream",
          "text": [
            "Epoch 787/1000\n"
          ]
        },
        {
          "name": "stderr",
          "output_type": "stream",
          "text": [
            "2/2██████████ ETA: 00:00s - loss: 0.0081 - mean_absolute_error: 0.0712 - mean_squared_error: 0.0081 - root_mean_squared_error: 0.0901\n",
            "Training:  79%|███████▊   787/1000 ETA: 00:04s,  52.84epochs/s"
          ]
        },
        {
          "name": "stdout",
          "output_type": "stream",
          "text": [
            "Epoch 788/1000\n"
          ]
        },
        {
          "name": "stderr",
          "output_type": "stream",
          "text": [
            "2/2██████████ ETA: 00:00s - loss: 0.0081 - mean_absolute_error: 0.0713 - mean_squared_error: 0.0081 - root_mean_squared_error: 0.0901"
          ]
        },
        {
          "name": "stdout",
          "output_type": "stream",
          "text": [
            "Epoch 789/1000\n"
          ]
        },
        {
          "name": "stderr",
          "output_type": "stream",
          "text": [
            "\n",
            "2/2██████████ ETA: 00:00s - loss: 0.0081 - mean_absolute_error: 0.0712 - mean_squared_error: 0.0081 - root_mean_squared_error: 0.0900\n"
          ]
        },
        {
          "name": "stdout",
          "output_type": "stream",
          "text": [
            "Epoch 790/1000\n"
          ]
        },
        {
          "name": "stderr",
          "output_type": "stream",
          "text": [
            "2/2██████████ ETA: 00:00s - loss: 0.0081 - mean_absolute_error: 0.0712 - mean_squared_error: 0.0081 - root_mean_squared_error: 0.0900\n"
          ]
        },
        {
          "name": "stdout",
          "output_type": "stream",
          "text": [
            "Epoch 791/1000\n"
          ]
        },
        {
          "name": "stderr",
          "output_type": "stream",
          "text": [
            "2/2██████████ ETA: 00:00s - loss: 0.0081 - mean_absolute_error: 0.0715 - mean_squared_error: 0.0081 - root_mean_squared_error: 0.0902\n"
          ]
        },
        {
          "name": "stdout",
          "output_type": "stream",
          "text": [
            "Epoch 792/1000\n"
          ]
        },
        {
          "name": "stderr",
          "output_type": "stream",
          "text": [
            "2/2██████████ ETA: 00:00s - loss: 0.0081 - mean_absolute_error: 0.0712 - mean_squared_error: 0.0081 - root_mean_squared_error: 0.0900\n"
          ]
        },
        {
          "name": "stdout",
          "output_type": "stream",
          "text": [
            "Epoch 793/1000\n"
          ]
        },
        {
          "name": "stderr",
          "output_type": "stream",
          "text": [
            "2/2██████████ ETA: 00:00s - loss: 0.0081 - mean_absolute_error: 0.0713 - mean_squared_error: 0.0081 - root_mean_squared_error: 0.0901\n",
            "Training:  79%|███████▉   793/1000 ETA: 00:03s,  53.38epochs/s"
          ]
        },
        {
          "name": "stdout",
          "output_type": "stream",
          "text": [
            "Epoch 794/1000\n"
          ]
        },
        {
          "name": "stderr",
          "output_type": "stream",
          "text": [
            "2/2██████████ ETA: 00:00s - loss: 0.0081 - mean_absolute_error: 0.0714 - mean_squared_error: 0.0081 - root_mean_squared_error: 0.0902\n"
          ]
        },
        {
          "name": "stdout",
          "output_type": "stream",
          "text": [
            "Epoch 795/1000\n"
          ]
        },
        {
          "name": "stderr",
          "output_type": "stream",
          "text": [
            "2/2██████████ ETA: 00:00s - loss: 0.0081 - mean_absolute_error: 0.0715 - mean_squared_error: 0.0081 - root_mean_squared_error: 0.0903\n"
          ]
        },
        {
          "name": "stdout",
          "output_type": "stream",
          "text": [
            "Epoch 796/1000\n"
          ]
        },
        {
          "name": "stderr",
          "output_type": "stream",
          "text": [
            "2/2██████████ ETA: 00:00s - loss: 0.0081 - mean_absolute_error: 0.0714 - mean_squared_error: 0.0081 - root_mean_squared_error: 0.0901\n"
          ]
        },
        {
          "name": "stdout",
          "output_type": "stream",
          "text": [
            "Epoch 797/1000\n"
          ]
        },
        {
          "name": "stderr",
          "output_type": "stream",
          "text": [
            "2/2██████████ ETA: 00:00s - loss: 0.0081 - mean_absolute_error: 0.0714 - mean_squared_error: 0.0081 - root_mean_squared_error: 0.0900\n"
          ]
        },
        {
          "name": "stdout",
          "output_type": "stream",
          "text": [
            "Epoch 798/1000\n"
          ]
        },
        {
          "name": "stderr",
          "output_type": "stream",
          "text": [
            "2/2██████████ ETA: 00:00s - loss: 0.0081 - mean_absolute_error: 0.0715 - mean_squared_error: 0.0081 - root_mean_squared_error: 0.0900\n"
          ]
        },
        {
          "name": "stdout",
          "output_type": "stream",
          "text": [
            "Epoch 799/1000\n"
          ]
        },
        {
          "name": "stderr",
          "output_type": "stream",
          "text": [
            "2/2██████████ ETA: 00:00s - loss: 0.0081 - mean_absolute_error: 0.0715 - mean_squared_error: 0.0081 - root_mean_squared_error: 0.0902\n",
            "Training:  80%|███████▉   799/1000 ETA: 00:04s,  46.69epochs/s"
          ]
        },
        {
          "name": "stdout",
          "output_type": "stream",
          "text": [
            "Epoch 800/1000\n"
          ]
        },
        {
          "name": "stderr",
          "output_type": "stream",
          "text": [
            "2/2██████████ ETA: 00:00s - loss: 0.0081 - mean_absolute_error: 0.0714 - mean_squared_error: 0.0081 - root_mean_squared_error: 0.0902\n"
          ]
        },
        {
          "name": "stdout",
          "output_type": "stream",
          "text": [
            "Epoch 801/1000\n"
          ]
        },
        {
          "name": "stderr",
          "output_type": "stream",
          "text": [
            "2/2██████████ ETA: 00:00s - loss: 0.0081 - mean_absolute_error: 0.0711 - mean_squared_error: 0.0081 - root_mean_squared_error: 0.0901\n"
          ]
        },
        {
          "name": "stdout",
          "output_type": "stream",
          "text": [
            "Epoch 802/1000\n"
          ]
        },
        {
          "name": "stderr",
          "output_type": "stream",
          "text": [
            "2/2██████████ ETA: 00:00s - loss: 0.0081 - mean_absolute_error: 0.0709 - mean_squared_error: 0.0081 - root_mean_squared_error: 0.0901\n"
          ]
        },
        {
          "name": "stdout",
          "output_type": "stream",
          "text": [
            "Epoch 803/1000\n"
          ]
        },
        {
          "name": "stderr",
          "output_type": "stream",
          "text": [
            "2/2██████████ ETA: 00:00s - loss: 0.0081 - mean_absolute_error: 0.0706 - mean_squared_error: 0.0081 - root_mean_squared_error: 0.0901\n"
          ]
        },
        {
          "name": "stdout",
          "output_type": "stream",
          "text": [
            "Epoch 804/1000\n"
          ]
        },
        {
          "name": "stderr",
          "output_type": "stream",
          "text": [
            "2/2██████████ ETA: 00:00s - loss: 0.0081 - mean_absolute_error: 0.0705 - mean_squared_error: 0.0081 - root_mean_squared_error: 0.0902\n"
          ]
        },
        {
          "name": "stdout",
          "output_type": "stream",
          "text": [
            "Epoch 805/1000\n"
          ]
        },
        {
          "name": "stderr",
          "output_type": "stream",
          "text": [
            "2/2██████████ ETA: 00:00s - loss: 0.0081 - mean_absolute_error: 0.0705 - mean_squared_error: 0.0081 - root_mean_squared_error: 0.0902\n",
            "Training:  80%|████████   805/1000 ETA: 00:03s,  48.83epochs/s"
          ]
        },
        {
          "name": "stdout",
          "output_type": "stream",
          "text": [
            "Epoch 806/1000\n"
          ]
        },
        {
          "name": "stderr",
          "output_type": "stream",
          "text": [
            "2/2██████████ ETA: 00:00s - loss: 0.0081 - mean_absolute_error: 0.0706 - mean_squared_error: 0.0081 - root_mean_squared_error: 0.0901\n"
          ]
        },
        {
          "name": "stdout",
          "output_type": "stream",
          "text": [
            "Epoch 807/1000\n"
          ]
        },
        {
          "name": "stderr",
          "output_type": "stream",
          "text": [
            "2/2██████████ ETA: 00:00s - loss: 0.0081 - mean_absolute_error: 0.0707 - mean_squared_error: 0.0081 - root_mean_squared_error: 0.0901\n"
          ]
        },
        {
          "name": "stdout",
          "output_type": "stream",
          "text": [
            "Epoch 808/1000\n"
          ]
        },
        {
          "name": "stderr",
          "output_type": "stream",
          "text": [
            "2/2██████████ ETA: 00:00s - loss: 0.0081 - mean_absolute_error: 0.0708 - mean_squared_error: 0.0081 - root_mean_squared_error: 0.0900\n"
          ]
        },
        {
          "name": "stdout",
          "output_type": "stream",
          "text": [
            "Epoch 809/1000\n"
          ]
        },
        {
          "name": "stderr",
          "output_type": "stream",
          "text": [
            "2/2██████████ ETA: 00:00s - loss: 0.0081 - mean_absolute_error: 0.0710 - mean_squared_error: 0.0081 - root_mean_squared_error: 0.0900\n"
          ]
        },
        {
          "name": "stdout",
          "output_type": "stream",
          "text": [
            "Epoch 810/1000\n"
          ]
        },
        {
          "name": "stderr",
          "output_type": "stream",
          "text": [
            "2/2██████████ ETA: 00:00s - loss: 0.0081 - mean_absolute_error: 0.0712 - mean_squared_error: 0.0081 - root_mean_squared_error: 0.0901\n"
          ]
        },
        {
          "name": "stdout",
          "output_type": "stream",
          "text": [
            "Epoch 811/1000\n"
          ]
        },
        {
          "name": "stderr",
          "output_type": "stream",
          "text": [
            "2/2██████████ ETA: 00:00s - loss: 0.0081 - mean_absolute_error: 0.0714 - mean_squared_error: 0.0081 - root_mean_squared_error: 0.0900\n",
            "Training:  81%|████████   811/1000 ETA: 00:03s,  50.75epochs/s"
          ]
        },
        {
          "name": "stdout",
          "output_type": "stream",
          "text": [
            "Epoch 812/1000\n"
          ]
        },
        {
          "name": "stderr",
          "output_type": "stream",
          "text": [
            "2/2██████████ ETA: 00:00s - loss: 0.0081 - mean_absolute_error: 0.0714 - mean_squared_error: 0.0081 - root_mean_squared_error: 0.0900\n"
          ]
        },
        {
          "name": "stdout",
          "output_type": "stream",
          "text": [
            "Epoch 813/1000\n"
          ]
        },
        {
          "name": "stderr",
          "output_type": "stream",
          "text": [
            "2/2██████████ ETA: 00:00s - loss: 0.0081 - mean_absolute_error: 0.0714 - mean_squared_error: 0.0081 - root_mean_squared_error: 0.0900\n"
          ]
        },
        {
          "name": "stdout",
          "output_type": "stream",
          "text": [
            "Epoch 814/1000\n"
          ]
        },
        {
          "name": "stderr",
          "output_type": "stream",
          "text": [
            "2/2██████████ ETA: 00:00s - loss: 0.0082 - mean_absolute_error: 0.0715 - mean_squared_error: 0.0082 - root_mean_squared_error: 0.0903\n"
          ]
        },
        {
          "name": "stdout",
          "output_type": "stream",
          "text": [
            "Epoch 815/1000\n"
          ]
        },
        {
          "name": "stderr",
          "output_type": "stream",
          "text": [
            "2/2██████████ ETA: 00:00s - loss: 0.0081 - mean_absolute_error: 0.0712 - mean_squared_error: 0.0081 - root_mean_squared_error: 0.0901\n"
          ]
        },
        {
          "name": "stdout",
          "output_type": "stream",
          "text": [
            "Epoch 816/1000\n"
          ]
        },
        {
          "name": "stderr",
          "output_type": "stream",
          "text": [
            "2/2██████████ ETA: 00:00s - loss: 0.0081 - mean_absolute_error: 0.0712 - mean_squared_error: 0.0081 - root_mean_squared_error: 0.0900\n"
          ]
        },
        {
          "name": "stdout",
          "output_type": "stream",
          "text": [
            "Epoch 817/1000\n"
          ]
        },
        {
          "name": "stderr",
          "output_type": "stream",
          "text": [
            "2/2██████████ ETA: 00:00s - loss: 0.0081 - mean_absolute_error: 0.0712 - mean_squared_error: 0.0081 - root_mean_squared_error: 0.0900\n"
          ]
        },
        {
          "name": "stdout",
          "output_type": "stream",
          "text": [
            "Epoch 818/1000\n"
          ]
        },
        {
          "name": "stderr",
          "output_type": "stream",
          "text": [
            "2/2██████████ ETA: 00:00s - loss: 0.0081 - mean_absolute_error: 0.0711 - mean_squared_error: 0.0081 - root_mean_squared_error: 0.0899\n",
            "Training:  82%|████████▏  818/1000 ETA: 00:03s,  53.62epochs/s"
          ]
        },
        {
          "name": "stdout",
          "output_type": "stream",
          "text": [
            "Epoch 819/1000\n"
          ]
        },
        {
          "name": "stderr",
          "output_type": "stream",
          "text": [
            "2/2██████████ ETA: 00:00s - loss: 0.0081 - mean_absolute_error: 0.0713 - mean_squared_error: 0.0081 - root_mean_squared_error: 0.0901\n"
          ]
        },
        {
          "name": "stdout",
          "output_type": "stream",
          "text": [
            "Epoch 820/1000\n"
          ]
        },
        {
          "name": "stderr",
          "output_type": "stream",
          "text": [
            "2/2██████████ ETA: 00:00s - loss: 0.0081 - mean_absolute_error: 0.0714 - mean_squared_error: 0.0081 - root_mean_squared_error: 0.0900\n"
          ]
        },
        {
          "name": "stdout",
          "output_type": "stream",
          "text": [
            "Epoch 821/1000\n"
          ]
        },
        {
          "name": "stderr",
          "output_type": "stream",
          "text": [
            "2/2██████████ ETA: 00:00s - loss: 0.0081 - mean_absolute_error: 0.0714 - mean_squared_error: 0.0081 - root_mean_squared_error: 0.0901\n"
          ]
        },
        {
          "name": "stdout",
          "output_type": "stream",
          "text": [
            "Epoch 822/1000\n"
          ]
        },
        {
          "name": "stderr",
          "output_type": "stream",
          "text": [
            "2/2██████████ ETA: 00:00s - loss: 0.0081 - mean_absolute_error: 0.0712 - mean_squared_error: 0.0081 - root_mean_squared_error: 0.0899\n"
          ]
        },
        {
          "name": "stdout",
          "output_type": "stream",
          "text": [
            "Epoch 823/1000\n"
          ]
        },
        {
          "name": "stderr",
          "output_type": "stream",
          "text": [
            "2/2██████████ ETA: 00:00s - loss: 0.0081 - mean_absolute_error: 0.0710 - mean_squared_error: 0.0081 - root_mean_squared_error: 0.0899\n"
          ]
        },
        {
          "name": "stdout",
          "output_type": "stream",
          "text": [
            "Epoch 824/1000\n"
          ]
        },
        {
          "name": "stderr",
          "output_type": "stream",
          "text": [
            "2/2██████████ ETA: 00:00s - loss: 0.0081 - mean_absolute_error: 0.0710 - mean_squared_error: 0.0081 - root_mean_squared_error: 0.0900\n",
            "Training:  82%|████████▏  824/1000 ETA: 00:03s,  49.06epochs/s"
          ]
        },
        {
          "name": "stdout",
          "output_type": "stream",
          "text": [
            "Epoch 825/1000\n"
          ]
        },
        {
          "name": "stderr",
          "output_type": "stream",
          "text": [
            "2/2██████████ ETA: 00:00s - loss: 0.0081 - mean_absolute_error: 0.0708 - mean_squared_error: 0.0081 - root_mean_squared_error: 0.0901\n"
          ]
        },
        {
          "name": "stdout",
          "output_type": "stream",
          "text": [
            "Epoch 826/1000\n"
          ]
        },
        {
          "name": "stderr",
          "output_type": "stream",
          "text": [
            "2/2██████████ ETA: 00:00s - loss: 0.0081 - mean_absolute_error: 0.0707 - mean_squared_error: 0.0081 - root_mean_squared_error: 0.0901\n"
          ]
        },
        {
          "name": "stdout",
          "output_type": "stream",
          "text": [
            "Epoch 827/1000\n"
          ]
        },
        {
          "name": "stderr",
          "output_type": "stream",
          "text": [
            "2/2██████████ ETA: 00:00s - loss: 0.0081 - mean_absolute_error: 0.0708 - mean_squared_error: 0.0081 - root_mean_squared_error: 0.0902\n"
          ]
        },
        {
          "name": "stdout",
          "output_type": "stream",
          "text": [
            "Epoch 828/1000\n"
          ]
        },
        {
          "name": "stderr",
          "output_type": "stream",
          "text": [
            "2/2██████████ ETA: 00:00s - loss: 0.0081 - mean_absolute_error: 0.0706 - mean_squared_error: 0.0081 - root_mean_squared_error: 0.0901\n"
          ]
        },
        {
          "name": "stdout",
          "output_type": "stream",
          "text": [
            "Epoch 829/1000\n"
          ]
        },
        {
          "name": "stderr",
          "output_type": "stream",
          "text": [
            "2/2██████████ ETA: 00:00s - loss: 0.0081 - mean_absolute_error: 0.0707 - mean_squared_error: 0.0081 - root_mean_squared_error: 0.0901\n"
          ]
        },
        {
          "name": "stdout",
          "output_type": "stream",
          "text": [
            "Epoch 830/1000\n"
          ]
        },
        {
          "name": "stderr",
          "output_type": "stream",
          "text": [
            "2/2██████████ ETA: 00:00s - loss: 0.0081 - mean_absolute_error: 0.0709 - mean_squared_error: 0.0081 - root_mean_squared_error: 0.0900\n",
            "Training:  83%|████████▎  830/1000 ETA: 00:03s,  49.68epochs/s"
          ]
        },
        {
          "name": "stdout",
          "output_type": "stream",
          "text": [
            "Epoch 831/1000\n"
          ]
        },
        {
          "name": "stderr",
          "output_type": "stream",
          "text": [
            "2/2██████████ ETA: 00:00s - loss: 0.0081 - mean_absolute_error: 0.0711 - mean_squared_error: 0.0081 - root_mean_squared_error: 0.0900\n"
          ]
        },
        {
          "name": "stdout",
          "output_type": "stream",
          "text": [
            "Epoch 832/1000\n"
          ]
        },
        {
          "name": "stderr",
          "output_type": "stream",
          "text": [
            "2/2██████████ ETA: 00:00s - loss: 0.0081 - mean_absolute_error: 0.0713 - mean_squared_error: 0.0081 - root_mean_squared_error: 0.0901\n"
          ]
        },
        {
          "name": "stdout",
          "output_type": "stream",
          "text": [
            "Epoch 833/1000\n"
          ]
        },
        {
          "name": "stderr",
          "output_type": "stream",
          "text": [
            "2/2██████████ ETA: 00:00s - loss: 0.0081 - mean_absolute_error: 0.0714 - mean_squared_error: 0.0081 - root_mean_squared_error: 0.0900\n"
          ]
        },
        {
          "name": "stdout",
          "output_type": "stream",
          "text": [
            "Epoch 834/1000\n"
          ]
        },
        {
          "name": "stderr",
          "output_type": "stream",
          "text": [
            "2/2██████████ ETA: 00:00s - loss: 0.0081 - mean_absolute_error: 0.0713 - mean_squared_error: 0.0081 - root_mean_squared_error: 0.0900\n"
          ]
        },
        {
          "name": "stdout",
          "output_type": "stream",
          "text": [
            "Epoch 835/1000\n"
          ]
        },
        {
          "name": "stderr",
          "output_type": "stream",
          "text": [
            "2/2██████████ ETA: 00:00s - loss: 0.0081 - mean_absolute_error: 0.0713 - mean_squared_error: 0.0081 - root_mean_squared_error: 0.0900\n"
          ]
        },
        {
          "name": "stdout",
          "output_type": "stream",
          "text": [
            "Epoch 836/1000\n"
          ]
        },
        {
          "name": "stderr",
          "output_type": "stream",
          "text": [
            "2/2██████████ ETA: 00:00s - loss: 0.0081 - mean_absolute_error: 0.0711 - mean_squared_error: 0.0081 - root_mean_squared_error: 0.0899\n",
            "Training:  84%|████████▎  836/1000 ETA: 00:03s,  51.08epochs/s"
          ]
        },
        {
          "name": "stdout",
          "output_type": "stream",
          "text": [
            "Epoch 837/1000\n"
          ]
        },
        {
          "name": "stderr",
          "output_type": "stream",
          "text": [
            "2/2██████████ ETA: 00:00s - loss: 0.0081 - mean_absolute_error: 0.0711 - mean_squared_error: 0.0081 - root_mean_squared_error: 0.0899\n"
          ]
        },
        {
          "name": "stdout",
          "output_type": "stream",
          "text": [
            "Epoch 838/1000\n"
          ]
        },
        {
          "name": "stderr",
          "output_type": "stream",
          "text": [
            "2/2██████████ ETA: 00:00s - loss: 0.0081 - mean_absolute_error: 0.0710 - mean_squared_error: 0.0081 - root_mean_squared_error: 0.0900\n"
          ]
        },
        {
          "name": "stdout",
          "output_type": "stream",
          "text": [
            "Epoch 839/1000\n"
          ]
        },
        {
          "name": "stderr",
          "output_type": "stream",
          "text": [
            "2/2██████████ ETA: 00:00s - loss: 0.0081 - mean_absolute_error: 0.0711 - mean_squared_error: 0.0081 - root_mean_squared_error: 0.0901\n"
          ]
        },
        {
          "name": "stdout",
          "output_type": "stream",
          "text": [
            "Epoch 840/1000\n"
          ]
        },
        {
          "name": "stderr",
          "output_type": "stream",
          "text": [
            "2/2██████████ ETA: 00:00s - loss: 0.0081 - mean_absolute_error: 0.0710 - mean_squared_error: 0.0081 - root_mean_squared_error: 0.0900\n"
          ]
        },
        {
          "name": "stdout",
          "output_type": "stream",
          "text": [
            "Epoch 841/1000\n"
          ]
        },
        {
          "name": "stderr",
          "output_type": "stream",
          "text": [
            "2/2██████████ ETA: 00:00s - loss: 0.0081 - mean_absolute_error: 0.0710 - mean_squared_error: 0.0081 - root_mean_squared_error: 0.0899\n"
          ]
        },
        {
          "name": "stdout",
          "output_type": "stream",
          "text": [
            "Epoch 842/1000\n"
          ]
        },
        {
          "name": "stderr",
          "output_type": "stream",
          "text": [
            "2/2██████████ ETA: 00:00s - loss: 0.0081 - mean_absolute_error: 0.0710 - mean_squared_error: 0.0081 - root_mean_squared_error: 0.0899\n",
            "Training:  84%|████████▍  842/1000 ETA: 00:03s,  52.11epochs/s"
          ]
        },
        {
          "name": "stdout",
          "output_type": "stream",
          "text": [
            "Epoch 843/1000\n"
          ]
        },
        {
          "name": "stderr",
          "output_type": "stream",
          "text": [
            "2/2██████████ ETA: 00:00s - loss: 0.0081 - mean_absolute_error: 0.0713 - mean_squared_error: 0.0081 - root_mean_squared_error: 0.0900\n"
          ]
        },
        {
          "name": "stdout",
          "output_type": "stream",
          "text": [
            "Epoch 844/1000\n"
          ]
        },
        {
          "name": "stderr",
          "output_type": "stream",
          "text": [
            "2/2██████████ ETA: 00:00s - loss: 0.0081 - mean_absolute_error: 0.0712 - mean_squared_error: 0.0081 - root_mean_squared_error: 0.0900\n"
          ]
        },
        {
          "name": "stdout",
          "output_type": "stream",
          "text": [
            "Epoch 845/1000\n"
          ]
        },
        {
          "name": "stderr",
          "output_type": "stream",
          "text": [
            "2/2██████████ ETA: 00:00s - loss: 0.0081 - mean_absolute_error: 0.0712 - mean_squared_error: 0.0081 - root_mean_squared_error: 0.0901\n"
          ]
        },
        {
          "name": "stdout",
          "output_type": "stream",
          "text": [
            "Epoch 846/1000\n"
          ]
        },
        {
          "name": "stderr",
          "output_type": "stream",
          "text": [
            "2/2██████████ ETA: 00:00s - loss: 0.0081 - mean_absolute_error: 0.0711 - mean_squared_error: 0.0081 - root_mean_squared_error: 0.0899\n"
          ]
        },
        {
          "name": "stdout",
          "output_type": "stream",
          "text": [
            "Epoch 847/1000\n"
          ]
        },
        {
          "name": "stderr",
          "output_type": "stream",
          "text": [
            "2/2██████████ ETA: 00:00s - loss: 0.0081 - mean_absolute_error: 0.0710 - mean_squared_error: 0.0081 - root_mean_squared_error: 0.0899\n"
          ]
        },
        {
          "name": "stdout",
          "output_type": "stream",
          "text": [
            "Epoch 848/1000\n"
          ]
        },
        {
          "name": "stderr",
          "output_type": "stream",
          "text": [
            "2/2██████████ ETA: 00:00s - loss: 0.0081 - mean_absolute_error: 0.0710 - mean_squared_error: 0.0081 - root_mean_squared_error: 0.0899\n",
            "Training:  85%|████████▍  848/1000 ETA: 00:02s,  53.27epochs/s"
          ]
        },
        {
          "name": "stdout",
          "output_type": "stream",
          "text": [
            "Epoch 849/1000\n"
          ]
        },
        {
          "name": "stderr",
          "output_type": "stream",
          "text": [
            "2/2██████████ ETA: 00:00s - loss: 0.0081 - mean_absolute_error: 0.0711 - mean_squared_error: 0.0081 - root_mean_squared_error: 0.0899\n"
          ]
        },
        {
          "name": "stdout",
          "output_type": "stream",
          "text": [
            "Epoch 850/1000\n"
          ]
        },
        {
          "name": "stderr",
          "output_type": "stream",
          "text": [
            "2/2██████████ ETA: 00:00s - loss: 0.0081 - mean_absolute_error: 0.0712 - mean_squared_error: 0.0081 - root_mean_squared_error: 0.0900\n"
          ]
        },
        {
          "name": "stdout",
          "output_type": "stream",
          "text": [
            "Epoch 851/1000\n"
          ]
        },
        {
          "name": "stderr",
          "output_type": "stream",
          "text": [
            "2/2██████████ ETA: 00:00s - loss: 0.0081 - mean_absolute_error: 0.0714 - mean_squared_error: 0.0081 - root_mean_squared_error: 0.0900\n"
          ]
        },
        {
          "name": "stdout",
          "output_type": "stream",
          "text": [
            "Epoch 852/1000\n"
          ]
        },
        {
          "name": "stderr",
          "output_type": "stream",
          "text": [
            "2/2██████████ ETA: 00:00s - loss: 0.0081 - mean_absolute_error: 0.0716 - mean_squared_error: 0.0081 - root_mean_squared_error: 0.0900\n"
          ]
        },
        {
          "name": "stdout",
          "output_type": "stream",
          "text": [
            "Epoch 853/1000\n"
          ]
        },
        {
          "name": "stderr",
          "output_type": "stream",
          "text": [
            "2/2██████████ ETA: 00:00s - loss: 0.0081 - mean_absolute_error: 0.0718 - mean_squared_error: 0.0081 - root_mean_squared_error: 0.0900\n"
          ]
        },
        {
          "name": "stdout",
          "output_type": "stream",
          "text": [
            "Epoch 854/1000\n"
          ]
        },
        {
          "name": "stderr",
          "output_type": "stream",
          "text": [
            "2/2██████████ ETA: 00:00s - loss: 0.0081 - mean_absolute_error: 0.0720 - mean_squared_error: 0.0081 - root_mean_squared_error: 0.0902\n",
            "Training:  85%|████████▌  854/1000 ETA: 00:02s,  53.49epochs/s"
          ]
        },
        {
          "name": "stdout",
          "output_type": "stream",
          "text": [
            "Epoch 855/1000\n"
          ]
        },
        {
          "name": "stderr",
          "output_type": "stream",
          "text": [
            "2/2██████████ ETA: 00:00s - loss: 0.0081 - mean_absolute_error: 0.0720 - mean_squared_error: 0.0081 - root_mean_squared_error: 0.0901\n"
          ]
        },
        {
          "name": "stdout",
          "output_type": "stream",
          "text": [
            "Epoch 856/1000\n"
          ]
        },
        {
          "name": "stderr",
          "output_type": "stream",
          "text": [
            "2/2██████████ ETA: 00:00s - loss: 0.0081 - mean_absolute_error: 0.0718 - mean_squared_error: 0.0081 - root_mean_squared_error: 0.0901\n"
          ]
        },
        {
          "name": "stdout",
          "output_type": "stream",
          "text": [
            "Epoch 857/1000\n"
          ]
        },
        {
          "name": "stderr",
          "output_type": "stream",
          "text": [
            "2/2██████████ ETA: 00:00s - loss: 0.0081 - mean_absolute_error: 0.0715 - mean_squared_error: 0.0081 - root_mean_squared_error: 0.0900\n"
          ]
        },
        {
          "name": "stdout",
          "output_type": "stream",
          "text": [
            "Epoch 858/1000\n"
          ]
        },
        {
          "name": "stderr",
          "output_type": "stream",
          "text": [
            "2/2██████████ ETA: 00:00s - loss: 0.0081 - mean_absolute_error: 0.0713 - mean_squared_error: 0.0081 - root_mean_squared_error: 0.0899\n"
          ]
        },
        {
          "name": "stdout",
          "output_type": "stream",
          "text": [
            "Epoch 859/1000\n"
          ]
        },
        {
          "name": "stderr",
          "output_type": "stream",
          "text": [
            "2/2██████████ ETA: 00:00s - loss: 0.0081 - mean_absolute_error: 0.0712 - mean_squared_error: 0.0081 - root_mean_squared_error: 0.0899\n"
          ]
        },
        {
          "name": "stdout",
          "output_type": "stream",
          "text": [
            "Epoch 860/1000\n"
          ]
        },
        {
          "name": "stderr",
          "output_type": "stream",
          "text": [
            "2/2██████████ ETA: 00:00s - loss: 0.0081 - mean_absolute_error: 0.0710 - mean_squared_error: 0.0081 - root_mean_squared_error: 0.0899\n",
            "Training:  86%|████████▌  860/1000 ETA: 00:02s,  48.97epochs/s"
          ]
        },
        {
          "name": "stdout",
          "output_type": "stream",
          "text": [
            "Epoch 861/1000\n"
          ]
        },
        {
          "name": "stderr",
          "output_type": "stream",
          "text": [
            "2/2██████████ ETA: 00:00s - loss: 0.0081 - mean_absolute_error: 0.0709 - mean_squared_error: 0.0081 - root_mean_squared_error: 0.0898\n"
          ]
        },
        {
          "name": "stdout",
          "output_type": "stream",
          "text": [
            "Epoch 862/1000\n"
          ]
        },
        {
          "name": "stderr",
          "output_type": "stream",
          "text": [
            "2/2██████████ ETA: 00:00s - loss: 0.0081 - mean_absolute_error: 0.0709 - mean_squared_error: 0.0081 - root_mean_squared_error: 0.0901\n"
          ]
        },
        {
          "name": "stdout",
          "output_type": "stream",
          "text": [
            "Epoch 863/1000\n"
          ]
        },
        {
          "name": "stderr",
          "output_type": "stream",
          "text": [
            "2/2██████████ ETA: 00:00s - loss: 0.0081 - mean_absolute_error: 0.0707 - mean_squared_error: 0.0081 - root_mean_squared_error: 0.0899\n"
          ]
        },
        {
          "name": "stdout",
          "output_type": "stream",
          "text": [
            "Epoch 864/1000\n"
          ]
        },
        {
          "name": "stderr",
          "output_type": "stream",
          "text": [
            "2/2██████████ ETA: 00:00s - loss: 0.0081 - mean_absolute_error: 0.0706 - mean_squared_error: 0.0081 - root_mean_squared_error: 0.0899\n"
          ]
        },
        {
          "name": "stdout",
          "output_type": "stream",
          "text": [
            "Epoch 865/1000\n"
          ]
        },
        {
          "name": "stderr",
          "output_type": "stream",
          "text": [
            "2/2██████████ ETA: 00:00s - loss: 0.0081 - mean_absolute_error: 0.0708 - mean_squared_error: 0.0081 - root_mean_squared_error: 0.0899\n",
            "Training:  86%|████████▋  865/1000 ETA: 00:02s,  49.20epochs/s"
          ]
        },
        {
          "name": "stdout",
          "output_type": "stream",
          "text": [
            "Epoch 866/1000\n"
          ]
        },
        {
          "name": "stderr",
          "output_type": "stream",
          "text": [
            "2/2██████████ ETA: 00:00s - loss: 0.0081 - mean_absolute_error: 0.0710 - mean_squared_error: 0.0081 - root_mean_squared_error: 0.0900\n"
          ]
        },
        {
          "name": "stdout",
          "output_type": "stream",
          "text": [
            "Epoch 867/1000\n"
          ]
        },
        {
          "name": "stderr",
          "output_type": "stream",
          "text": [
            "2/2██████████ ETA: 00:00s - loss: 0.0081 - mean_absolute_error: 0.0711 - mean_squared_error: 0.0081 - root_mean_squared_error: 0.0900\n"
          ]
        },
        {
          "name": "stdout",
          "output_type": "stream",
          "text": [
            "Epoch 868/1000\n"
          ]
        },
        {
          "name": "stderr",
          "output_type": "stream",
          "text": [
            "2/2██████████ ETA: 00:00s - loss: 0.0081 - mean_absolute_error: 0.0710 - mean_squared_error: 0.0081 - root_mean_squared_error: 0.0899\n"
          ]
        },
        {
          "name": "stdout",
          "output_type": "stream",
          "text": [
            "Epoch 869/1000\n"
          ]
        },
        {
          "name": "stderr",
          "output_type": "stream",
          "text": [
            "2/2██████████ ETA: 00:00s - loss: 0.0081 - mean_absolute_error: 0.0708 - mean_squared_error: 0.0081 - root_mean_squared_error: 0.0899\n"
          ]
        },
        {
          "name": "stdout",
          "output_type": "stream",
          "text": [
            "Epoch 870/1000\n"
          ]
        },
        {
          "name": "stderr",
          "output_type": "stream",
          "text": [
            "2/2██████████ ETA: 00:00s - loss: 0.0081 - mean_absolute_error: 0.0708 - mean_squared_error: 0.0081 - root_mean_squared_error: 0.0899\n"
          ]
        },
        {
          "name": "stdout",
          "output_type": "stream",
          "text": [
            "Epoch 871/1000\n"
          ]
        },
        {
          "name": "stderr",
          "output_type": "stream",
          "text": [
            "2/2██████████ ETA: 00:00s - loss: 0.0081 - mean_absolute_error: 0.0708 - mean_squared_error: 0.0081 - root_mean_squared_error: 0.0899\n",
            "Training:  87%|████████▋  871/1000 ETA: 00:02s,  50.73epochs/s"
          ]
        },
        {
          "name": "stdout",
          "output_type": "stream",
          "text": [
            "Epoch 872/1000\n"
          ]
        },
        {
          "name": "stderr",
          "output_type": "stream",
          "text": [
            "2/2██████████ ETA: 00:00s - loss: 0.0081 - mean_absolute_error: 0.0710 - mean_squared_error: 0.0081 - root_mean_squared_error: 0.0899\n"
          ]
        },
        {
          "name": "stdout",
          "output_type": "stream",
          "text": [
            "Epoch 873/1000\n"
          ]
        },
        {
          "name": "stderr",
          "output_type": "stream",
          "text": [
            "2/2██████████ ETA: 00:00s - loss: 0.0081 - mean_absolute_error: 0.0711 - mean_squared_error: 0.0081 - root_mean_squared_error: 0.0898\n"
          ]
        },
        {
          "name": "stdout",
          "output_type": "stream",
          "text": [
            "Epoch 874/1000\n"
          ]
        },
        {
          "name": "stderr",
          "output_type": "stream",
          "text": [
            "2/2██████████ ETA: 00:00s - loss: 0.0081 - mean_absolute_error: 0.0712 - mean_squared_error: 0.0081 - root_mean_squared_error: 0.0899\n"
          ]
        },
        {
          "name": "stdout",
          "output_type": "stream",
          "text": [
            "Epoch 875/1000\n"
          ]
        },
        {
          "name": "stderr",
          "output_type": "stream",
          "text": [
            "2/2██████████ ETA: 00:00s - loss: 0.0081 - mean_absolute_error: 0.0714 - mean_squared_error: 0.0081 - root_mean_squared_error: 0.0900\n"
          ]
        },
        {
          "name": "stdout",
          "output_type": "stream",
          "text": [
            "Epoch 876/1000\n"
          ]
        },
        {
          "name": "stderr",
          "output_type": "stream",
          "text": [
            "2/2██████████ ETA: 00:00s - loss: 0.0081 - mean_absolute_error: 0.0713 - mean_squared_error: 0.0081 - root_mean_squared_error: 0.0899\n"
          ]
        },
        {
          "name": "stdout",
          "output_type": "stream",
          "text": [
            "Epoch 877/1000\n"
          ]
        },
        {
          "name": "stderr",
          "output_type": "stream",
          "text": [
            "2/2██████████ ETA: 00:00s - loss: 0.0081 - mean_absolute_error: 0.0712 - mean_squared_error: 0.0081 - root_mean_squared_error: 0.0899\n",
            "Training:  88%|████████▊  877/1000 ETA: 00:02s,  50.89epochs/s"
          ]
        },
        {
          "name": "stdout",
          "output_type": "stream",
          "text": [
            "Epoch 878/1000\n"
          ]
        },
        {
          "name": "stderr",
          "output_type": "stream",
          "text": [
            "2/2██████████ ETA: 00:00s - loss: 0.0081 - mean_absolute_error: 0.0712 - mean_squared_error: 0.0081 - root_mean_squared_error: 0.0898\n"
          ]
        },
        {
          "name": "stdout",
          "output_type": "stream",
          "text": [
            "Epoch 879/1000\n"
          ]
        },
        {
          "name": "stderr",
          "output_type": "stream",
          "text": [
            "2/2██████████ ETA: 00:00s - loss: 0.0081 - mean_absolute_error: 0.0710 - mean_squared_error: 0.0081 - root_mean_squared_error: 0.0898\n"
          ]
        },
        {
          "name": "stdout",
          "output_type": "stream",
          "text": [
            "Epoch 880/1000\n"
          ]
        },
        {
          "name": "stderr",
          "output_type": "stream",
          "text": [
            "2/2██████████ ETA: 00:00s - loss: 0.0081 - mean_absolute_error: 0.0710 - mean_squared_error: 0.0081 - root_mean_squared_error: 0.0898\n"
          ]
        },
        {
          "name": "stdout",
          "output_type": "stream",
          "text": [
            "Epoch 881/1000\n"
          ]
        },
        {
          "name": "stderr",
          "output_type": "stream",
          "text": [
            "2/2██████████ ETA: 00:00s - loss: 0.0081 - mean_absolute_error: 0.0709 - mean_squared_error: 0.0081 - root_mean_squared_error: 0.0899\n"
          ]
        },
        {
          "name": "stdout",
          "output_type": "stream",
          "text": [
            "Epoch 882/1000\n"
          ]
        },
        {
          "name": "stderr",
          "output_type": "stream",
          "text": [
            "2/2██████████ ETA: 00:00s - loss: 0.0081 - mean_absolute_error: 0.0709 - mean_squared_error: 0.0081 - root_mean_squared_error: 0.0900\n"
          ]
        },
        {
          "name": "stdout",
          "output_type": "stream",
          "text": [
            "Epoch 883/1000\n"
          ]
        },
        {
          "name": "stderr",
          "output_type": "stream",
          "text": [
            "2/2██████████ ETA: 00:00s - loss: 0.0081 - mean_absolute_error: 0.0708 - mean_squared_error: 0.0081 - root_mean_squared_error: 0.0900\n",
            "Training:  88%|████████▊  883/1000 ETA: 00:02s,  52.28epochs/s"
          ]
        },
        {
          "name": "stdout",
          "output_type": "stream",
          "text": [
            "Epoch 884/1000\n"
          ]
        },
        {
          "name": "stderr",
          "output_type": "stream",
          "text": [
            "2/2██████████ ETA: 00:00s - loss: 0.0081 - mean_absolute_error: 0.0707 - mean_squared_error: 0.0081 - root_mean_squared_error: 0.0899\n"
          ]
        },
        {
          "name": "stdout",
          "output_type": "stream",
          "text": [
            "Epoch 885/1000\n"
          ]
        },
        {
          "name": "stderr",
          "output_type": "stream",
          "text": [
            "2/2██████████ ETA: 00:00s - loss: 0.0081 - mean_absolute_error: 0.0707 - mean_squared_error: 0.0081 - root_mean_squared_error: 0.0898\n"
          ]
        },
        {
          "name": "stdout",
          "output_type": "stream",
          "text": [
            "Epoch 886/1000\n"
          ]
        },
        {
          "name": "stderr",
          "output_type": "stream",
          "text": [
            "2/2██████████ ETA: 00:00s - loss: 0.0081 - mean_absolute_error: 0.0707 - mean_squared_error: 0.0081 - root_mean_squared_error: 0.0898\n"
          ]
        },
        {
          "name": "stdout",
          "output_type": "stream",
          "text": [
            "Epoch 887/1000\n"
          ]
        },
        {
          "name": "stderr",
          "output_type": "stream",
          "text": [
            "2/2██████████ ETA: 00:00s - loss: 0.0081 - mean_absolute_error: 0.0712 - mean_squared_error: 0.0081 - root_mean_squared_error: 0.0902\n"
          ]
        },
        {
          "name": "stdout",
          "output_type": "stream",
          "text": [
            "Epoch 888/1000\n"
          ]
        },
        {
          "name": "stderr",
          "output_type": "stream",
          "text": [
            "2/2██████████ ETA: 00:00s - loss: 0.0081 - mean_absolute_error: 0.0712 - mean_squared_error: 0.0081 - root_mean_squared_error: 0.0899\n"
          ]
        },
        {
          "name": "stdout",
          "output_type": "stream",
          "text": [
            "Epoch 889/1000\n"
          ]
        },
        {
          "name": "stderr",
          "output_type": "stream",
          "text": [
            "2/2██████████ ETA: 00:00s - loss: 0.0081 - mean_absolute_error: 0.0712 - mean_squared_error: 0.0081 - root_mean_squared_error: 0.0899\n",
            "Training:  89%|████████▉  889/1000 ETA: 00:02s,  49.04epochs/s"
          ]
        },
        {
          "name": "stdout",
          "output_type": "stream",
          "text": [
            "Epoch 890/1000\n"
          ]
        },
        {
          "name": "stderr",
          "output_type": "stream",
          "text": [
            "2/2██████████ ETA: 00:00s - loss: 0.0081 - mean_absolute_error: 0.0713 - mean_squared_error: 0.0081 - root_mean_squared_error: 0.0899\n"
          ]
        },
        {
          "name": "stdout",
          "output_type": "stream",
          "text": [
            "Epoch 891/1000\n"
          ]
        },
        {
          "name": "stderr",
          "output_type": "stream",
          "text": [
            "2/2██████████ ETA: 00:00s - loss: 0.0081 - mean_absolute_error: 0.0711 - mean_squared_error: 0.0081 - root_mean_squared_error: 0.0899\n"
          ]
        },
        {
          "name": "stdout",
          "output_type": "stream",
          "text": [
            "Epoch 892/1000\n"
          ]
        },
        {
          "name": "stderr",
          "output_type": "stream",
          "text": [
            "2/2██████████ ETA: 00:00s - loss: 0.0081 - mean_absolute_error: 0.0712 - mean_squared_error: 0.0081 - root_mean_squared_error: 0.0899\n"
          ]
        },
        {
          "name": "stdout",
          "output_type": "stream",
          "text": [
            "Epoch 893/1000\n"
          ]
        },
        {
          "name": "stderr",
          "output_type": "stream",
          "text": [
            "2/2██████████ ETA: 00:00s - loss: 0.0081 - mean_absolute_error: 0.0711 - mean_squared_error: 0.0081 - root_mean_squared_error: 0.0898\n"
          ]
        },
        {
          "name": "stdout",
          "output_type": "stream",
          "text": [
            "Epoch 894/1000\n"
          ]
        },
        {
          "name": "stderr",
          "output_type": "stream",
          "text": [
            "2/2██████████ ETA: 00:00s - loss: 0.0081 - mean_absolute_error: 0.0711 - mean_squared_error: 0.0081 - root_mean_squared_error: 0.0899\n"
          ]
        },
        {
          "name": "stdout",
          "output_type": "stream",
          "text": [
            "Epoch 895/1000\n"
          ]
        },
        {
          "name": "stderr",
          "output_type": "stream",
          "text": [
            "2/2██████████ ETA: 00:00s - loss: 0.0081 - mean_absolute_error: 0.0710 - mean_squared_error: 0.0081 - root_mean_squared_error: 0.0899\n",
            "Training:  90%|████████▉  895/1000 ETA: 00:02s,  49.62epochs/s"
          ]
        },
        {
          "name": "stdout",
          "output_type": "stream",
          "text": [
            "Epoch 896/1000\n"
          ]
        },
        {
          "name": "stderr",
          "output_type": "stream",
          "text": [
            "2/2██████████ ETA: 00:00s - loss: 0.0081 - mean_absolute_error: 0.0710 - mean_squared_error: 0.0081 - root_mean_squared_error: 0.0899\n"
          ]
        },
        {
          "name": "stdout",
          "output_type": "stream",
          "text": [
            "Epoch 897/1000\n"
          ]
        },
        {
          "name": "stderr",
          "output_type": "stream",
          "text": [
            "2/2██████████ ETA: 00:00s - loss: 0.0081 - mean_absolute_error: 0.0711 - mean_squared_error: 0.0081 - root_mean_squared_error: 0.0902\n"
          ]
        },
        {
          "name": "stdout",
          "output_type": "stream",
          "text": [
            "Epoch 898/1000\n"
          ]
        },
        {
          "name": "stderr",
          "output_type": "stream",
          "text": [
            "2/2██████████ ETA: 00:00s - loss: 0.0081 - mean_absolute_error: 0.0709 - mean_squared_error: 0.0081 - root_mean_squared_error: 0.0898\n"
          ]
        },
        {
          "name": "stdout",
          "output_type": "stream",
          "text": [
            "Epoch 899/1000\n"
          ]
        },
        {
          "name": "stderr",
          "output_type": "stream",
          "text": [
            "2/2██████████ ETA: 00:00s - loss: 0.0081 - mean_absolute_error: 0.0709 - mean_squared_error: 0.0081 - root_mean_squared_error: 0.0899\n"
          ]
        },
        {
          "name": "stdout",
          "output_type": "stream",
          "text": [
            "Epoch 900/1000\n"
          ]
        },
        {
          "name": "stderr",
          "output_type": "stream",
          "text": [
            "2/2██████████ ETA: 00:00s - loss: 0.0081 - mean_absolute_error: 0.0708 - mean_squared_error: 0.0081 - root_mean_squared_error: 0.0898\n"
          ]
        },
        {
          "name": "stdout",
          "output_type": "stream",
          "text": [
            "Epoch 901/1000\n"
          ]
        },
        {
          "name": "stderr",
          "output_type": "stream",
          "text": [
            "2/2██████████ ETA: 00:00s - loss: 0.0081 - mean_absolute_error: 0.0708 - mean_squared_error: 0.0081 - root_mean_squared_error: 0.0897\n",
            "Training:  90%|█████████  901/1000 ETA: 00:01s,  49.71epochs/s"
          ]
        },
        {
          "name": "stdout",
          "output_type": "stream",
          "text": [
            "Epoch 902/1000\n"
          ]
        },
        {
          "name": "stderr",
          "output_type": "stream",
          "text": [
            "2/2██████████ ETA: 00:00s - loss: 0.0081 - mean_absolute_error: 0.0712 - mean_squared_error: 0.0081 - root_mean_squared_error: 0.0901\n"
          ]
        },
        {
          "name": "stdout",
          "output_type": "stream",
          "text": [
            "Epoch 903/1000\n"
          ]
        },
        {
          "name": "stderr",
          "output_type": "stream",
          "text": [
            "2/2██████████ ETA: 00:00s - loss: 0.0081 - mean_absolute_error: 0.0709 - mean_squared_error: 0.0081 - root_mean_squared_error: 0.0899\n"
          ]
        },
        {
          "name": "stdout",
          "output_type": "stream",
          "text": [
            "Epoch 904/1000\n"
          ]
        },
        {
          "name": "stderr",
          "output_type": "stream",
          "text": [
            "2/2██████████ ETA: 00:00s - loss: 0.0081 - mean_absolute_error: 0.0708 - mean_squared_error: 0.0081 - root_mean_squared_error: 0.0898\n"
          ]
        },
        {
          "name": "stdout",
          "output_type": "stream",
          "text": [
            "Epoch 905/1000\n"
          ]
        },
        {
          "name": "stderr",
          "output_type": "stream",
          "text": [
            "2/2██████████ ETA: 00:00s - loss: 0.0081 - mean_absolute_error: 0.0706 - mean_squared_error: 0.0081 - root_mean_squared_error: 0.0898\n"
          ]
        },
        {
          "name": "stdout",
          "output_type": "stream",
          "text": [
            "Epoch 906/1000\n"
          ]
        },
        {
          "name": "stderr",
          "output_type": "stream",
          "text": [
            "2/2██████████ ETA: 00:00s - loss: 0.0081 - mean_absolute_error: 0.0707 - mean_squared_error: 0.0081 - root_mean_squared_error: 0.0899\n"
          ]
        },
        {
          "name": "stdout",
          "output_type": "stream",
          "text": [
            "Epoch 907/1000\n"
          ]
        },
        {
          "name": "stderr",
          "output_type": "stream",
          "text": [
            "2/2██████████ ETA: 00:00s - loss: 0.0081 - mean_absolute_error: 0.0709 - mean_squared_error: 0.0081 - root_mean_squared_error: 0.0900\n",
            "Training:  91%|█████████  907/1000 ETA: 00:01s,  50.50epochs/s"
          ]
        },
        {
          "name": "stdout",
          "output_type": "stream",
          "text": [
            "Epoch 908/1000\n"
          ]
        },
        {
          "name": "stderr",
          "output_type": "stream",
          "text": [
            "2/2██████████ ETA: 00:00s - loss: 0.0081 - mean_absolute_error: 0.0708 - mean_squared_error: 0.0081 - root_mean_squared_error: 0.0899\n"
          ]
        },
        {
          "name": "stdout",
          "output_type": "stream",
          "text": [
            "Epoch 909/1000\n"
          ]
        },
        {
          "name": "stderr",
          "output_type": "stream",
          "text": [
            "2/2██████████ ETA: 00:00s - loss: 0.0081 - mean_absolute_error: 0.0708 - mean_squared_error: 0.0081 - root_mean_squared_error: 0.0899\n"
          ]
        },
        {
          "name": "stdout",
          "output_type": "stream",
          "text": [
            "Epoch 910/1000\n"
          ]
        },
        {
          "name": "stderr",
          "output_type": "stream",
          "text": [
            "2/2██████████ ETA: 00:00s - loss: 0.0081 - mean_absolute_error: 0.0710 - mean_squared_error: 0.0081 - root_mean_squared_error: 0.0899\n"
          ]
        },
        {
          "name": "stdout",
          "output_type": "stream",
          "text": [
            "Epoch 911/1000\n"
          ]
        },
        {
          "name": "stderr",
          "output_type": "stream",
          "text": [
            "2/2██████████ ETA: 00:00s - loss: 0.0080 - mean_absolute_error: 0.0709 - mean_squared_error: 0.0080 - root_mean_squared_error: 0.0897\n"
          ]
        },
        {
          "name": "stdout",
          "output_type": "stream",
          "text": [
            "Epoch 912/1000\n"
          ]
        },
        {
          "name": "stderr",
          "output_type": "stream",
          "text": [
            "2/2██████████ ETA: 00:00s - loss: 0.0081 - mean_absolute_error: 0.0713 - mean_squared_error: 0.0081 - root_mean_squared_error: 0.0901\n"
          ]
        },
        {
          "name": "stdout",
          "output_type": "stream",
          "text": [
            "Epoch 913/1000\n"
          ]
        },
        {
          "name": "stderr",
          "output_type": "stream",
          "text": [
            "2/2██████████ ETA: 00:00s - loss: 0.0081 - mean_absolute_error: 0.0712 - mean_squared_error: 0.0081 - root_mean_squared_error: 0.0898\n",
            "Training:  91%|█████████▏ 913/1000 ETA: 00:01s,  48.20epochs/s"
          ]
        },
        {
          "name": "stdout",
          "output_type": "stream",
          "text": [
            "Epoch 914/1000\n"
          ]
        },
        {
          "name": "stderr",
          "output_type": "stream",
          "text": [
            "2/2██████████ ETA: 00:00s - loss: 0.0080 - mean_absolute_error: 0.0709 - mean_squared_error: 0.0080 - root_mean_squared_error: 0.0897\n"
          ]
        },
        {
          "name": "stdout",
          "output_type": "stream",
          "text": [
            "Epoch 915/1000\n"
          ]
        },
        {
          "name": "stderr",
          "output_type": "stream",
          "text": [
            "2/2██████████ ETA: 00:00s - loss: 0.0081 - mean_absolute_error: 0.0706 - mean_squared_error: 0.0081 - root_mean_squared_error: 0.0898\n"
          ]
        },
        {
          "name": "stdout",
          "output_type": "stream",
          "text": [
            "Epoch 916/1000\n"
          ]
        },
        {
          "name": "stderr",
          "output_type": "stream",
          "text": [
            "2/2██████████ ETA: 00:00s - loss: 0.0081 - mean_absolute_error: 0.0707 - mean_squared_error: 0.0081 - root_mean_squared_error: 0.0900\n"
          ]
        },
        {
          "name": "stdout",
          "output_type": "stream",
          "text": [
            "Epoch 917/1000\n"
          ]
        },
        {
          "name": "stderr",
          "output_type": "stream",
          "text": [
            "2/2██████████ ETA: 00:00s - loss: 0.0081 - mean_absolute_error: 0.0706 - mean_squared_error: 0.0081 - root_mean_squared_error: 0.0899\n"
          ]
        },
        {
          "name": "stdout",
          "output_type": "stream",
          "text": [
            "Epoch 918/1000\n"
          ]
        },
        {
          "name": "stderr",
          "output_type": "stream",
          "text": [
            "2/2██████████ ETA: 00:00s - loss: 0.0081 - mean_absolute_error: 0.0707 - mean_squared_error: 0.0081 - root_mean_squared_error: 0.0898\n"
          ]
        },
        {
          "name": "stdout",
          "output_type": "stream",
          "text": [
            "Epoch 919/1000\n"
          ]
        },
        {
          "name": "stderr",
          "output_type": "stream",
          "text": [
            "2/2██████████ ETA: 00:00s - loss: 0.0081 - mean_absolute_error: 0.0708 - mean_squared_error: 0.0081 - root_mean_squared_error: 0.0898\n",
            "Training:  92%|█████████▏ 919/1000 ETA: 00:01s,  50.80epochs/s"
          ]
        },
        {
          "name": "stdout",
          "output_type": "stream",
          "text": [
            "Epoch 920/1000\n"
          ]
        },
        {
          "name": "stderr",
          "output_type": "stream",
          "text": [
            "2/2██████████ ETA: 00:00s - loss: 0.0081 - mean_absolute_error: 0.0709 - mean_squared_error: 0.0081 - root_mean_squared_error: 0.0898\n"
          ]
        },
        {
          "name": "stdout",
          "output_type": "stream",
          "text": [
            "Epoch 921/1000\n"
          ]
        },
        {
          "name": "stderr",
          "output_type": "stream",
          "text": [
            "2/2██████████ ETA: 00:00s - loss: 0.0081 - mean_absolute_error: 0.0710 - mean_squared_error: 0.0081 - root_mean_squared_error: 0.0898\n"
          ]
        },
        {
          "name": "stdout",
          "output_type": "stream",
          "text": [
            "Epoch 922/1000\n"
          ]
        },
        {
          "name": "stderr",
          "output_type": "stream",
          "text": [
            "2/2██████████ ETA: 00:00s - loss: 0.0081 - mean_absolute_error: 0.0709 - mean_squared_error: 0.0081 - root_mean_squared_error: 0.0897\n"
          ]
        },
        {
          "name": "stdout",
          "output_type": "stream",
          "text": [
            "Epoch 923/1000\n"
          ]
        },
        {
          "name": "stderr",
          "output_type": "stream",
          "text": [
            "2/2██████████ ETA: 00:00s - loss: 0.0081 - mean_absolute_error: 0.0709 - mean_squared_error: 0.0081 - root_mean_squared_error: 0.0898\n"
          ]
        },
        {
          "name": "stdout",
          "output_type": "stream",
          "text": [
            "Epoch 924/1000\n"
          ]
        },
        {
          "name": "stderr",
          "output_type": "stream",
          "text": [
            "2/2██████████ ETA: 00:00s - loss: 0.0081 - mean_absolute_error: 0.0710 - mean_squared_error: 0.0081 - root_mean_squared_error: 0.0898\n"
          ]
        },
        {
          "name": "stdout",
          "output_type": "stream",
          "text": [
            "Epoch 925/1000\n"
          ]
        },
        {
          "name": "stderr",
          "output_type": "stream",
          "text": [
            "2/2██████████ ETA: 00:00s - loss: 0.0081 - mean_absolute_error: 0.0712 - mean_squared_error: 0.0081 - root_mean_squared_error: 0.0898\n",
            "Training:  92%|█████████▎ 925/1000 ETA: 00:01s,  51.94epochs/s"
          ]
        },
        {
          "name": "stdout",
          "output_type": "stream",
          "text": [
            "Epoch 926/1000\n"
          ]
        },
        {
          "name": "stderr",
          "output_type": "stream",
          "text": [
            "2/2██████████ ETA: 00:00s - loss: 0.0081 - mean_absolute_error: 0.0713 - mean_squared_error: 0.0081 - root_mean_squared_error: 0.0898\n"
          ]
        },
        {
          "name": "stdout",
          "output_type": "stream",
          "text": [
            "Epoch 927/1000\n"
          ]
        },
        {
          "name": "stderr",
          "output_type": "stream",
          "text": [
            "2/2██████████ ETA: 00:00s - loss: 0.0081 - mean_absolute_error: 0.0715 - mean_squared_error: 0.0081 - root_mean_squared_error: 0.0898\n"
          ]
        },
        {
          "name": "stdout",
          "output_type": "stream",
          "text": [
            "Epoch 928/1000\n"
          ]
        },
        {
          "name": "stderr",
          "output_type": "stream",
          "text": [
            "2/2██████████ ETA: 00:00s - loss: 0.0081 - mean_absolute_error: 0.0716 - mean_squared_error: 0.0081 - root_mean_squared_error: 0.0899\n"
          ]
        },
        {
          "name": "stdout",
          "output_type": "stream",
          "text": [
            "Epoch 929/1000\n"
          ]
        },
        {
          "name": "stderr",
          "output_type": "stream",
          "text": [
            "2/2██████████ ETA: 00:00s - loss: 0.0081 - mean_absolute_error: 0.0716 - mean_squared_error: 0.0081 - root_mean_squared_error: 0.0899\n"
          ]
        },
        {
          "name": "stdout",
          "output_type": "stream",
          "text": [
            "Epoch 930/1000\n"
          ]
        },
        {
          "name": "stderr",
          "output_type": "stream",
          "text": [
            "2/2██████████ ETA: 00:00s - loss: 0.0081 - mean_absolute_error: 0.0714 - mean_squared_error: 0.0081 - root_mean_squared_error: 0.0899\n"
          ]
        },
        {
          "name": "stdout",
          "output_type": "stream",
          "text": [
            "Epoch 931/1000\n"
          ]
        },
        {
          "name": "stderr",
          "output_type": "stream",
          "text": [
            "2/2██████████ ETA: 00:00s - loss: 0.0081 - mean_absolute_error: 0.0712 - mean_squared_error: 0.0081 - root_mean_squared_error: 0.0900\n",
            "Training:  93%|█████████▎ 931/1000 ETA: 00:01s,  47.17epochs/s"
          ]
        },
        {
          "name": "stdout",
          "output_type": "stream",
          "text": [
            "Epoch 932/1000\n"
          ]
        },
        {
          "name": "stderr",
          "output_type": "stream",
          "text": [
            "2/2██████████ ETA: 00:00s - loss: 0.0081 - mean_absolute_error: 0.0707 - mean_squared_error: 0.0081 - root_mean_squared_error: 0.0897\n"
          ]
        },
        {
          "name": "stdout",
          "output_type": "stream",
          "text": [
            "Epoch 933/1000\n"
          ]
        },
        {
          "name": "stderr",
          "output_type": "stream",
          "text": [
            "2/2██████████ ETA: 00:00s - loss: 0.0081 - mean_absolute_error: 0.0706 - mean_squared_error: 0.0081 - root_mean_squared_error: 0.0898\n"
          ]
        },
        {
          "name": "stdout",
          "output_type": "stream",
          "text": [
            "Epoch 934/1000\n"
          ]
        },
        {
          "name": "stderr",
          "output_type": "stream",
          "text": [
            "2/2██████████ ETA: 00:00s - loss: 0.0081 - mean_absolute_error: 0.0706 - mean_squared_error: 0.0081 - root_mean_squared_error: 0.0898\n"
          ]
        },
        {
          "name": "stdout",
          "output_type": "stream",
          "text": [
            "Epoch 935/1000\n"
          ]
        },
        {
          "name": "stderr",
          "output_type": "stream",
          "text": [
            "2/2██████████ ETA: 00:00s - loss: 0.0081 - mean_absolute_error: 0.0705 - mean_squared_error: 0.0081 - root_mean_squared_error: 0.0898\n"
          ]
        },
        {
          "name": "stdout",
          "output_type": "stream",
          "text": [
            "Epoch 936/1000\n"
          ]
        },
        {
          "name": "stderr",
          "output_type": "stream",
          "text": [
            "2/2██████████ ETA: 00:00s - loss: 0.0081 - mean_absolute_error: 0.0705 - mean_squared_error: 0.0081 - root_mean_squared_error: 0.0897\n",
            "Training:  94%|█████████▎ 936/1000 ETA: 00:01s,  44.85epochs/s"
          ]
        },
        {
          "name": "stdout",
          "output_type": "stream",
          "text": [
            "Epoch 937/1000\n"
          ]
        },
        {
          "name": "stderr",
          "output_type": "stream",
          "text": [
            "2/2██████████ ETA: 00:00s - loss: 0.0080 - mean_absolute_error: 0.0706 - mean_squared_error: 0.0080 - root_mean_squared_error: 0.0897\n"
          ]
        },
        {
          "name": "stdout",
          "output_type": "stream",
          "text": [
            "Epoch 938/1000\n"
          ]
        },
        {
          "name": "stderr",
          "output_type": "stream",
          "text": [
            "2/2██████████ ETA: 00:00s - loss: 0.0081 - mean_absolute_error: 0.0711 - mean_squared_error: 0.0081 - root_mean_squared_error: 0.0900\n"
          ]
        },
        {
          "name": "stdout",
          "output_type": "stream",
          "text": [
            "Epoch 939/1000\n"
          ]
        },
        {
          "name": "stderr",
          "output_type": "stream",
          "text": [
            "2/2██████████ ETA: 00:00s - loss: 0.0081 - mean_absolute_error: 0.0712 - mean_squared_error: 0.0081 - root_mean_squared_error: 0.0898\n"
          ]
        },
        {
          "name": "stdout",
          "output_type": "stream",
          "text": [
            "Epoch 940/1000\n"
          ]
        },
        {
          "name": "stderr",
          "output_type": "stream",
          "text": [
            "2/2██████████ ETA: 00:00s - loss: 0.0081 - mean_absolute_error: 0.0712 - mean_squared_error: 0.0081 - root_mean_squared_error: 0.0898\n"
          ]
        },
        {
          "name": "stdout",
          "output_type": "stream",
          "text": [
            "Epoch 941/1000\n"
          ]
        },
        {
          "name": "stderr",
          "output_type": "stream",
          "text": [
            "2/2██████████ ETA: 00:00s - loss: 0.0080 - mean_absolute_error: 0.0712 - mean_squared_error: 0.0080 - root_mean_squared_error: 0.0897\n",
            "Training:  94%|█████████▍ 941/1000 ETA: 00:01s,  44.94epochs/s"
          ]
        },
        {
          "name": "stdout",
          "output_type": "stream",
          "text": [
            "Epoch 942/1000\n"
          ]
        },
        {
          "name": "stderr",
          "output_type": "stream",
          "text": [
            "2/2██████████ ETA: 00:00s - loss: 0.0081 - mean_absolute_error: 0.0712 - mean_squared_error: 0.0081 - root_mean_squared_error: 0.0897\n"
          ]
        },
        {
          "name": "stdout",
          "output_type": "stream",
          "text": [
            "Epoch 943/1000\n"
          ]
        },
        {
          "name": "stderr",
          "output_type": "stream",
          "text": [
            "2/2██████████ ETA: 00:00s - loss: 0.0081 - mean_absolute_error: 0.0711 - mean_squared_error: 0.0081 - root_mean_squared_error: 0.0898\n"
          ]
        },
        {
          "name": "stdout",
          "output_type": "stream",
          "text": [
            "Epoch 944/1000\n"
          ]
        },
        {
          "name": "stderr",
          "output_type": "stream",
          "text": [
            "2/2██████████ ETA: 00:00s - loss: 0.0081 - mean_absolute_error: 0.0710 - mean_squared_error: 0.0081 - root_mean_squared_error: 0.0897\n"
          ]
        },
        {
          "name": "stdout",
          "output_type": "stream",
          "text": [
            "Epoch 945/1000\n"
          ]
        },
        {
          "name": "stderr",
          "output_type": "stream",
          "text": [
            "2/2██████████ ETA: 00:00s - loss: 0.0081 - mean_absolute_error: 0.0710 - mean_squared_error: 0.0081 - root_mean_squared_error: 0.0899\n"
          ]
        },
        {
          "name": "stdout",
          "output_type": "stream",
          "text": [
            "Epoch 946/1000\n"
          ]
        },
        {
          "name": "stderr",
          "output_type": "stream",
          "text": [
            "2/2██████████ ETA: 00:00s - loss: 0.0081 - mean_absolute_error: 0.0709 - mean_squared_error: 0.0081 - root_mean_squared_error: 0.0897\n"
          ]
        },
        {
          "name": "stdout",
          "output_type": "stream",
          "text": [
            "Epoch 947/1000\n"
          ]
        },
        {
          "name": "stderr",
          "output_type": "stream",
          "text": [
            "2/2██████████ ETA: 00:00s - loss: 0.0081 - mean_absolute_error: 0.0708 - mean_squared_error: 0.0081 - root_mean_squared_error: 0.0897\n",
            "Training:  95%|█████████▍ 947/1000 ETA: 00:01s,  47.38epochs/s"
          ]
        },
        {
          "name": "stdout",
          "output_type": "stream",
          "text": [
            "Epoch 948/1000\n"
          ]
        },
        {
          "name": "stderr",
          "output_type": "stream",
          "text": [
            "2/2██████████ ETA: 00:00s - loss: 0.0080 - mean_absolute_error: 0.0707 - mean_squared_error: 0.0080 - root_mean_squared_error: 0.0897\n"
          ]
        },
        {
          "name": "stdout",
          "output_type": "stream",
          "text": [
            "Epoch 949/1000\n"
          ]
        },
        {
          "name": "stderr",
          "output_type": "stream",
          "text": [
            "2/2██████████ ETA: 00:00s - loss: 0.0080 - mean_absolute_error: 0.0706 - mean_squared_error: 0.0080 - root_mean_squared_error: 0.0897\n"
          ]
        },
        {
          "name": "stdout",
          "output_type": "stream",
          "text": [
            "Epoch 950/1000\n"
          ]
        },
        {
          "name": "stderr",
          "output_type": "stream",
          "text": [
            "2/2██████████ ETA: 00:00s - loss: 0.0080 - mean_absolute_error: 0.0706 - mean_squared_error: 0.0080 - root_mean_squared_error: 0.0897\n"
          ]
        },
        {
          "name": "stdout",
          "output_type": "stream",
          "text": [
            "Epoch 951/1000\n"
          ]
        },
        {
          "name": "stderr",
          "output_type": "stream",
          "text": [
            "2/2██████████ ETA: 00:00s - loss: 0.0080 - mean_absolute_error: 0.0707 - mean_squared_error: 0.0080 - root_mean_squared_error: 0.0897\n"
          ]
        },
        {
          "name": "stdout",
          "output_type": "stream",
          "text": [
            "Epoch 952/1000\n"
          ]
        },
        {
          "name": "stderr",
          "output_type": "stream",
          "text": [
            "2/2██████████ ETA: 00:00s - loss: 0.0081 - mean_absolute_error: 0.0708 - mean_squared_error: 0.0081 - root_mean_squared_error: 0.0898\n"
          ]
        },
        {
          "name": "stdout",
          "output_type": "stream",
          "text": [
            "Epoch 953/1000\n"
          ]
        },
        {
          "name": "stderr",
          "output_type": "stream",
          "text": [
            "2/2██████████ ETA: 00:00s - loss: 0.0081 - mean_absolute_error: 0.0709 - mean_squared_error: 0.0081 - root_mean_squared_error: 0.0898\n",
            "Training:  95%|█████████▌ 953/1000 ETA: 00:00s,  49.19epochs/s"
          ]
        },
        {
          "name": "stdout",
          "output_type": "stream",
          "text": [
            "Epoch 954/1000\n"
          ]
        },
        {
          "name": "stderr",
          "output_type": "stream",
          "text": [
            "2/2██████████ ETA: 00:00s - loss: 0.0081 - mean_absolute_error: 0.0710 - mean_squared_error: 0.0081 - root_mean_squared_error: 0.0899\n"
          ]
        },
        {
          "name": "stdout",
          "output_type": "stream",
          "text": [
            "Epoch 955/1000\n"
          ]
        },
        {
          "name": "stderr",
          "output_type": "stream",
          "text": [
            "2/2██████████ ETA: 00:00s - loss: 0.0081 - mean_absolute_error: 0.0710 - mean_squared_error: 0.0081 - root_mean_squared_error: 0.0898\n"
          ]
        },
        {
          "name": "stdout",
          "output_type": "stream",
          "text": [
            "Epoch 956/1000\n"
          ]
        },
        {
          "name": "stderr",
          "output_type": "stream",
          "text": [
            "2/2██████████ ETA: 00:00s - loss: 0.0080 - mean_absolute_error: 0.0708 - mean_squared_error: 0.0080 - root_mean_squared_error: 0.0896\n"
          ]
        },
        {
          "name": "stdout",
          "output_type": "stream",
          "text": [
            "Epoch 957/1000\n"
          ]
        },
        {
          "name": "stderr",
          "output_type": "stream",
          "text": [
            "2/2██████████ ETA: 00:00s - loss: 0.0080 - mean_absolute_error: 0.0707 - mean_squared_error: 0.0080 - root_mean_squared_error: 0.0896\n"
          ]
        },
        {
          "name": "stdout",
          "output_type": "stream",
          "text": [
            "Epoch 958/1000\n"
          ]
        },
        {
          "name": "stderr",
          "output_type": "stream",
          "text": [
            "2/2██████████ ETA: 00:00s - loss: 0.0080 - mean_absolute_error: 0.0707 - mean_squared_error: 0.0080 - root_mean_squared_error: 0.0897\n"
          ]
        },
        {
          "name": "stdout",
          "output_type": "stream",
          "text": [
            "Epoch 959/1000\n"
          ]
        },
        {
          "name": "stderr",
          "output_type": "stream",
          "text": [
            "2/2██████████ ETA: 00:00s - loss: 0.0081 - mean_absolute_error: 0.0709 - mean_squared_error: 0.0081 - root_mean_squared_error: 0.0899\n",
            "Training:  96%|█████████▌ 959/1000 ETA: 00:00s,  51.47epochs/s"
          ]
        },
        {
          "name": "stdout",
          "output_type": "stream",
          "text": [
            "Epoch 960/1000\n"
          ]
        },
        {
          "name": "stderr",
          "output_type": "stream",
          "text": [
            "2/2██████████ ETA: 00:00s - loss: 0.0081 - mean_absolute_error: 0.0712 - mean_squared_error: 0.0081 - root_mean_squared_error: 0.0901\n"
          ]
        },
        {
          "name": "stdout",
          "output_type": "stream",
          "text": [
            "Epoch 961/1000\n"
          ]
        },
        {
          "name": "stderr",
          "output_type": "stream",
          "text": [
            "2/2██████████ ETA: 00:00s - loss: 0.0081 - mean_absolute_error: 0.0713 - mean_squared_error: 0.0081 - root_mean_squared_error: 0.0900\n"
          ]
        },
        {
          "name": "stdout",
          "output_type": "stream",
          "text": [
            "Epoch 962/1000\n"
          ]
        },
        {
          "name": "stderr",
          "output_type": "stream",
          "text": [
            "2/2██████████ ETA: 00:00s - loss: 0.0081 - mean_absolute_error: 0.0711 - mean_squared_error: 0.0081 - root_mean_squared_error: 0.0898\n"
          ]
        },
        {
          "name": "stdout",
          "output_type": "stream",
          "text": [
            "Epoch 963/1000\n"
          ]
        },
        {
          "name": "stderr",
          "output_type": "stream",
          "text": [
            "2/2██████████ ETA: 00:00s - loss: 0.0081 - mean_absolute_error: 0.0712 - mean_squared_error: 0.0081 - root_mean_squared_error: 0.0897\n"
          ]
        },
        {
          "name": "stdout",
          "output_type": "stream",
          "text": [
            "Epoch 964/1000\n"
          ]
        },
        {
          "name": "stderr",
          "output_type": "stream",
          "text": [
            "2/2██████████ ETA: 00:00s - loss: 0.0080 - mean_absolute_error: 0.0712 - mean_squared_error: 0.0080 - root_mean_squared_error: 0.0897\n"
          ]
        },
        {
          "name": "stdout",
          "output_type": "stream",
          "text": [
            "Epoch 965/1000\n"
          ]
        },
        {
          "name": "stderr",
          "output_type": "stream",
          "text": [
            "2/2██████████ ETA: 00:00s - loss: 0.0081 - mean_absolute_error: 0.0714 - mean_squared_error: 0.0081 - root_mean_squared_error: 0.0899\n",
            "Training:  96%|█████████▋ 965/1000 ETA: 00:00s,  52.17epochs/s"
          ]
        },
        {
          "name": "stdout",
          "output_type": "stream",
          "text": [
            "Epoch 966/1000\n"
          ]
        },
        {
          "name": "stderr",
          "output_type": "stream",
          "text": [
            "2/2██████████ ETA: 00:00s - loss: 0.0081 - mean_absolute_error: 0.0715 - mean_squared_error: 0.0081 - root_mean_squared_error: 0.0898\n"
          ]
        },
        {
          "name": "stdout",
          "output_type": "stream",
          "text": [
            "Epoch 967/1000\n"
          ]
        },
        {
          "name": "stderr",
          "output_type": "stream",
          "text": [
            "2/2██████████ ETA: 00:00s - loss: 0.0081 - mean_absolute_error: 0.0714 - mean_squared_error: 0.0081 - root_mean_squared_error: 0.0898\n"
          ]
        },
        {
          "name": "stdout",
          "output_type": "stream",
          "text": [
            "Epoch 968/1000\n"
          ]
        },
        {
          "name": "stderr",
          "output_type": "stream",
          "text": [
            "2/2██████████ ETA: 00:00s - loss: 0.0081 - mean_absolute_error: 0.0714 - mean_squared_error: 0.0081 - root_mean_squared_error: 0.0898\n"
          ]
        },
        {
          "name": "stdout",
          "output_type": "stream",
          "text": [
            "Epoch 969/1000\n"
          ]
        },
        {
          "name": "stderr",
          "output_type": "stream",
          "text": [
            "2/2██████████ ETA: 00:00s - loss: 0.0080 - mean_absolute_error: 0.0712 - mean_squared_error: 0.0080 - root_mean_squared_error: 0.0897\n"
          ]
        },
        {
          "name": "stdout",
          "output_type": "stream",
          "text": [
            "Epoch 970/1000\n"
          ]
        },
        {
          "name": "stderr",
          "output_type": "stream",
          "text": [
            "2/2██████████ ETA: 00:00s - loss: 0.0080 - mean_absolute_error: 0.0712 - mean_squared_error: 0.0080 - root_mean_squared_error: 0.0897\n"
          ]
        },
        {
          "name": "stdout",
          "output_type": "stream",
          "text": [
            "Epoch 971/1000\n"
          ]
        },
        {
          "name": "stderr",
          "output_type": "stream",
          "text": [
            "2/2██████████ ETA: 00:00s - loss: 0.0081 - mean_absolute_error: 0.0712 - mean_squared_error: 0.0081 - root_mean_squared_error: 0.0898\n",
            "Training:  97%|█████████▋ 971/1000 ETA: 00:00s,  48.55epochs/s"
          ]
        },
        {
          "name": "stdout",
          "output_type": "stream",
          "text": [
            "Epoch 972/1000\n"
          ]
        },
        {
          "name": "stderr",
          "output_type": "stream",
          "text": [
            "2/2██████████ ETA: 00:00s - loss: 0.0080 - mean_absolute_error: 0.0711 - mean_squared_error: 0.0080 - root_mean_squared_error: 0.0897\n"
          ]
        },
        {
          "name": "stdout",
          "output_type": "stream",
          "text": [
            "Epoch 973/1000\n"
          ]
        },
        {
          "name": "stderr",
          "output_type": "stream",
          "text": [
            "2/2██████████ ETA: 00:00s - loss: 0.0080 - mean_absolute_error: 0.0710 - mean_squared_error: 0.0080 - root_mean_squared_error: 0.0897\n"
          ]
        },
        {
          "name": "stdout",
          "output_type": "stream",
          "text": [
            "Epoch 974/1000\n"
          ]
        },
        {
          "name": "stderr",
          "output_type": "stream",
          "text": [
            "2/2██████████ ETA: 00:00s - loss: 0.0080 - mean_absolute_error: 0.0710 - mean_squared_error: 0.0080 - root_mean_squared_error: 0.0897\n"
          ]
        },
        {
          "name": "stdout",
          "output_type": "stream",
          "text": [
            "Epoch 975/1000\n"
          ]
        },
        {
          "name": "stderr",
          "output_type": "stream",
          "text": [
            "2/2██████████ ETA: 00:00s - loss: 0.0080 - mean_absolute_error: 0.0709 - mean_squared_error: 0.0080 - root_mean_squared_error: 0.0896\n"
          ]
        },
        {
          "name": "stdout",
          "output_type": "stream",
          "text": [
            "Epoch 976/1000\n"
          ]
        },
        {
          "name": "stderr",
          "output_type": "stream",
          "text": [
            "2/2██████████ ETA: 00:00s - loss: 0.0080 - mean_absolute_error: 0.0712 - mean_squared_error: 0.0080 - root_mean_squared_error: 0.0897\n"
          ]
        },
        {
          "name": "stdout",
          "output_type": "stream",
          "text": [
            "Epoch 977/1000\n"
          ]
        },
        {
          "name": "stderr",
          "output_type": "stream",
          "text": [
            "2/2██████████ ETA: 00:00s - loss: 0.0081 - mean_absolute_error: 0.0713 - mean_squared_error: 0.0081 - root_mean_squared_error: 0.0898\n"
          ]
        },
        {
          "name": "stdout",
          "output_type": "stream",
          "text": [
            "Epoch 978/1000\n"
          ]
        },
        {
          "name": "stderr",
          "output_type": "stream",
          "text": [
            "2/2██████████ ETA: 00:00s - loss: 0.0081 - mean_absolute_error: 0.0713 - mean_squared_error: 0.0081 - root_mean_squared_error: 0.0898\n",
            "Training:  98%|█████████▊ 978/1000 ETA: 00:00s,  52.16epochs/s"
          ]
        },
        {
          "name": "stdout",
          "output_type": "stream",
          "text": [
            "Epoch 979/1000\n"
          ]
        },
        {
          "name": "stderr",
          "output_type": "stream",
          "text": [
            "2/2██████████ ETA: 00:00s - loss: 0.0081 - mean_absolute_error: 0.0713 - mean_squared_error: 0.0081 - root_mean_squared_error: 0.0898\n"
          ]
        },
        {
          "name": "stdout",
          "output_type": "stream",
          "text": [
            "Epoch 980/1000\n"
          ]
        },
        {
          "name": "stderr",
          "output_type": "stream",
          "text": [
            "2/2██████████ ETA: 00:00s - loss: 0.0081 - mean_absolute_error: 0.0712 - mean_squared_error: 0.0081 - root_mean_squared_error: 0.0900\n"
          ]
        },
        {
          "name": "stdout",
          "output_type": "stream",
          "text": [
            "Epoch 981/1000\n"
          ]
        },
        {
          "name": "stderr",
          "output_type": "stream",
          "text": [
            "2/2██████████ ETA: 00:00s - loss: 0.0080 - mean_absolute_error: 0.0710 - mean_squared_error: 0.0080 - root_mean_squared_error: 0.0896\n"
          ]
        },
        {
          "name": "stdout",
          "output_type": "stream",
          "text": [
            "Epoch 982/1000\n"
          ]
        },
        {
          "name": "stderr",
          "output_type": "stream",
          "text": [
            "2/2██████████ ETA: 00:00s - loss: 0.0080 - mean_absolute_error: 0.0709 - mean_squared_error: 0.0080 - root_mean_squared_error: 0.0896\n"
          ]
        },
        {
          "name": "stdout",
          "output_type": "stream",
          "text": [
            "Epoch 983/1000\n"
          ]
        },
        {
          "name": "stderr",
          "output_type": "stream",
          "text": [
            "2/2██████████ ETA: 00:00s - loss: 0.0080 - mean_absolute_error: 0.0709 - mean_squared_error: 0.0080 - root_mean_squared_error: 0.0896\n"
          ]
        },
        {
          "name": "stdout",
          "output_type": "stream",
          "text": [
            "Epoch 984/1000\n"
          ]
        },
        {
          "name": "stderr",
          "output_type": "stream",
          "text": [
            "2/2██████████ ETA: 00:00s - loss: 0.0080 - mean_absolute_error: 0.0708 - mean_squared_error: 0.0080 - root_mean_squared_error: 0.0896\n",
            "Training:  98%|█████████▊ 984/1000 ETA: 00:00s,  53.13epochs/s"
          ]
        },
        {
          "name": "stdout",
          "output_type": "stream",
          "text": [
            "Epoch 985/1000\n"
          ]
        },
        {
          "name": "stderr",
          "output_type": "stream",
          "text": [
            "2/2██████████ ETA: 00:00s - loss: 0.0080 - mean_absolute_error: 0.0708 - mean_squared_error: 0.0080 - root_mean_squared_error: 0.0896\n"
          ]
        },
        {
          "name": "stdout",
          "output_type": "stream",
          "text": [
            "Epoch 986/1000\n"
          ]
        },
        {
          "name": "stderr",
          "output_type": "stream",
          "text": [
            "2/2██████████ ETA: 00:00s - loss: 0.0080 - mean_absolute_error: 0.0708 - mean_squared_error: 0.0080 - root_mean_squared_error: 0.0896\n"
          ]
        },
        {
          "name": "stdout",
          "output_type": "stream",
          "text": [
            "Epoch 987/1000\n"
          ]
        },
        {
          "name": "stderr",
          "output_type": "stream",
          "text": [
            "2/2██████████ ETA: 00:00s - loss: 0.0081 - mean_absolute_error: 0.0709 - mean_squared_error: 0.0081 - root_mean_squared_error: 0.0898\n"
          ]
        },
        {
          "name": "stdout",
          "output_type": "stream",
          "text": [
            "Epoch 988/1000\n"
          ]
        },
        {
          "name": "stderr",
          "output_type": "stream",
          "text": [
            "2/2██████████ ETA: 00:00s - loss: 0.0080 - mean_absolute_error: 0.0710 - mean_squared_error: 0.0080 - root_mean_squared_error: 0.0897\n"
          ]
        },
        {
          "name": "stdout",
          "output_type": "stream",
          "text": [
            "Epoch 989/1000\n"
          ]
        },
        {
          "name": "stderr",
          "output_type": "stream",
          "text": [
            "2/2██████████ ETA: 00:00s - loss: 0.0080 - mean_absolute_error: 0.0711 - mean_squared_error: 0.0080 - root_mean_squared_error: 0.0897\n"
          ]
        },
        {
          "name": "stdout",
          "output_type": "stream",
          "text": [
            "Epoch 990/1000\n"
          ]
        },
        {
          "name": "stderr",
          "output_type": "stream",
          "text": [
            "2/2██████████ ETA: 00:00s - loss: 0.0081 - mean_absolute_error: 0.0711 - mean_squared_error: 0.0081 - root_mean_squared_error: 0.0897\n",
            "Training:  99%|█████████▉ 990/1000 ETA: 00:00s,  52.94epochs/s"
          ]
        },
        {
          "name": "stdout",
          "output_type": "stream",
          "text": [
            "Epoch 991/1000\n"
          ]
        },
        {
          "name": "stderr",
          "output_type": "stream",
          "text": [
            "2/2██████████ ETA: 00:00s - loss: 0.0080 - mean_absolute_error: 0.0712 - mean_squared_error: 0.0080 - root_mean_squared_error: 0.0896\n"
          ]
        },
        {
          "name": "stdout",
          "output_type": "stream",
          "text": [
            "Epoch 992/1000\n"
          ]
        },
        {
          "name": "stderr",
          "output_type": "stream",
          "text": [
            "2/2██████████ ETA: 00:00s - loss: 0.0080 - mean_absolute_error: 0.0711 - mean_squared_error: 0.0080 - root_mean_squared_error: 0.0896\n"
          ]
        },
        {
          "name": "stdout",
          "output_type": "stream",
          "text": [
            "Epoch 993/1000\n"
          ]
        },
        {
          "name": "stderr",
          "output_type": "stream",
          "text": [
            "2/2██████████ ETA: 00:00s - loss: 0.0080 - mean_absolute_error: 0.0711 - mean_squared_error: 0.0080 - root_mean_squared_error: 0.0896\n"
          ]
        },
        {
          "name": "stdout",
          "output_type": "stream",
          "text": [
            "Epoch 994/1000\n"
          ]
        },
        {
          "name": "stderr",
          "output_type": "stream",
          "text": [
            "2/2██████████ ETA: 00:00s - loss: 0.0080 - mean_absolute_error: 0.0711 - mean_squared_error: 0.0080 - root_mean_squared_error: 0.0897\n"
          ]
        },
        {
          "name": "stdout",
          "output_type": "stream",
          "text": [
            "Epoch 995/1000\n"
          ]
        },
        {
          "name": "stderr",
          "output_type": "stream",
          "text": [
            "2/2██████████ ETA: 00:00s - loss: 0.0080 - mean_absolute_error: 0.0711 - mean_squared_error: 0.0080 - root_mean_squared_error: 0.0897\n"
          ]
        },
        {
          "name": "stdout",
          "output_type": "stream",
          "text": [
            "Epoch 996/1000\n"
          ]
        },
        {
          "name": "stderr",
          "output_type": "stream",
          "text": [
            "2/2██████████ ETA: 00:00s - loss: 0.0080 - mean_absolute_error: 0.0711 - mean_squared_error: 0.0080 - root_mean_squared_error: 0.0896\n",
            "Training: 100%|█████████▉ 996/1000 ETA: 00:00s,  53.28epochs/s"
          ]
        },
        {
          "name": "stdout",
          "output_type": "stream",
          "text": [
            "Epoch 997/1000\n"
          ]
        },
        {
          "name": "stderr",
          "output_type": "stream",
          "text": [
            "2/2██████████ ETA: 00:00s - loss: 0.0080 - mean_absolute_error: 0.0712 - mean_squared_error: 0.0080 - root_mean_squared_error: 0.0897\n"
          ]
        },
        {
          "name": "stdout",
          "output_type": "stream",
          "text": [
            "Epoch 998/1000\n"
          ]
        },
        {
          "name": "stderr",
          "output_type": "stream",
          "text": [
            "2/2██████████ ETA: 00:00s - loss: 0.0080 - mean_absolute_error: 0.0712 - mean_squared_error: 0.0080 - root_mean_squared_error: 0.0896\n"
          ]
        },
        {
          "name": "stdout",
          "output_type": "stream",
          "text": [
            "Epoch 999/1000\n"
          ]
        },
        {
          "name": "stderr",
          "output_type": "stream",
          "text": [
            "2/2██████████ ETA: 00:00s - loss: 0.0080 - mean_absolute_error: 0.0713 - mean_squared_error: 0.0080 - root_mean_squared_error: 0.0896\n"
          ]
        },
        {
          "name": "stdout",
          "output_type": "stream",
          "text": [
            "Epoch 1000/1000\n"
          ]
        },
        {
          "name": "stderr",
          "output_type": "stream",
          "text": [
            "2/2██████████ ETA: 00:00s - loss: 0.0080 - mean_absolute_error: 0.0714 - mean_squared_error: 0.0080 - root_mean_squared_error: 0.0897\n",
            "Training: 100%|██████████ 1000/1000 ETA: 00:00s,  45.88epochs/s\n"
          ]
        }
      ],
      "source": [
        "print(\"Fit model on training data\")\n",
        "\n",
        "# initialize tqdm callback with default parameters\n",
        "tqdm_callback = tfa.callbacks.TQDMProgressBar()\n",
        "\n",
        "history = model_sub.fit(\n",
        "    x,\n",
        "    y,\n",
        "    batch_size=64,\n",
        "    epochs=200,\n",
        "    verbose=0,\n",
        "    callbacks=[tqdm_callback],\n",
        "    # We pass some validation for\n",
        "    # monitoring validation loss and metrics\n",
        "    # at the end of each epoch\n",
        "    #validation_data=(x_val, y_val),\n",
        ")"
      ]
    },
    {
      "cell_type": "code",
      "execution_count": 14,
      "metadata": {},
      "outputs": [],
      "source": [
        "history_dict = history.history\n",
        "history_dict.keys()\n",
        "mae = history_dict['mean_absolute_error']\n",
        "\n",
        "loss = history_dict['loss']\n",
        "\n",
        "epochs_ = range(1,len(mae)+1)"
      ]
    },
    {
      "cell_type": "code",
      "execution_count": 15,
      "metadata": {},
      "outputs": [
        {
          "data": {
            "image/png": "[encoded data removed]",
            "text/plain": [
              "<Figure size 432x288 with 1 Axes>"
            ]
          },
          "metadata": {
            "needs_background": "light"
          },
          "output_type": "display_data"
        }
      ],
      "source": [
        "plt.plot(epochs_ , loss , label = 'training loss')\n",
        "plt.plot(epochs_ , mae , label = 'mean_absolute_error')\n",
        "plt.title('training loss and mean_absolute_error')\n",
        "plt.xlabel('epochs')\n",
        "plt.ylabel('loss')\n",
        "plt.legend()\n",
        "plt.show()"
      ]
    },
    {
      "cell_type": "code",
      "execution_count": 16,
      "metadata": {},
      "outputs": [
        {
          "name": "stdout",
          "output_type": "stream",
          "text": [
            "Evaluate on test data\n"
          ]
        },
        {
          "name": "stderr",
          "output_type": "stream",
          "text": [
            "1/1██████████ ETA: 00:00s - loss: 0.0004 - mean_absolute_error: 0.0182 - mean_squared_error: 0.0004 - root_mean_squared_error: 0.0212"
          ]
        },
        {
          "name": "stdout",
          "output_type": "stream",
          "text": [
            "test loss, test acc: [0.00044738082215189934, 0.01815623603761196, 0.00044738082215189934, 0.021151378750801086]\n"
          ]
        },
        {
          "name": "stderr",
          "output_type": "stream",
          "text": [
            "\n"
          ]
        }
      ],
      "source": [
        "# Evaluate the model on the test data using `evaluate`\n",
        "\n",
        "print(\"Evaluate on test data\")\n",
        "results = model_sub.evaluate(x_val[:10], y_val[:10], callbacks=[tqdm_callback], verbose=0)\n",
        "print(\"test loss, test acc:\", results)"
      ]
    },
    {
      "cell_type": "code",
      "execution_count": 17,
      "metadata": {},
      "outputs": [
        {
          "name": "stdout",
          "output_type": "stream",
          "text": [
            "Generate predictions for 3 samples\n",
            "predictions shape: (3, 1)\n"
          ]
        }
      ],
      "source": [
        "# Generate predictions (probabilities -- the output of the last layer)\n",
        "# on new data using `predict`\n",
        "print(\"Generate predictions for 3 samples\")\n",
        "predictions = model_sub.predict([0.35, 0.67, 0.93])\n",
        "print(\"predictions shape:\", predictions.shape)"
      ]
    },
    {
      "cell_type": "code",
      "execution_count": 18,
      "metadata": {},
      "outputs": [
        {
          "data": {
            "image/png": "[encoded data removed]",
            "text/plain": [
              "<Figure size 432x288 with 1 Axes>"
            ]
          },
          "metadata": {
            "needs_background": "light"
          },
          "output_type": "display_data"
        }
      ],
      "source": [
        "plt.scatter(x, y, label='data')\n",
        "\n",
        "plt.scatter([0.35, 0.67, 0.93], predictions, label='test data')\n",
        "plt.plot(x, model_sub.predict(x), color='r', label='Planck formulas')\n",
        "plt.text(0.5, 0, 'r2_score=%.4f' % r2_score(y, model_sub.predict(x)) )\n",
        "\n",
        "plt.legend()\n",
        "plt.show()"
      ]
    },
    {
      "cell_type": "code",
      "execution_count": null,
      "metadata": {},
      "outputs": [
        {
          "name": "stdout",
          "output_type": "stream",
          "text": [
            "0.9191896495292095\n"
          ]
        }
      ],
      "source": [
        "from sklearn.metrics import r2_score\n",
        "\n",
        "print(r2_score(y, model_seq.predict(x)))"
      ]
    }
  ],
  "metadata": {
    "colab": {
      "collapsed_sections": [],
      "name": "regression_tf_nn.ipynb",
      "provenance": []
    },
    "kernelspec": {
      "display_name": "Python 3 (ipykernel)",
      "language": "python",
      "name": "python3"
    },
    "language_info": {
      "codemirror_mode": {
        "name": "ipython",
        "version": 3
      },
      "file_extension": ".py",
      "mimetype": "text/x-python",
      "name": "python",
      "nbconvert_exporter": "python",
      "pygments_lexer": "ipython3",
      "version": "3.9.7"
    }
  },
  "nbformat": 4,
  "nbformat_minor": 0
}
