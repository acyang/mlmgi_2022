{
  "cells": [
    {
      "cell_type": "code",
      "execution_count": 1,
      "metadata": {
        "id": "4JPVMnBMO65U"
      },
      "outputs": [],
      "source": [
        "%matplotlib inline"
      ]
    },
    {
      "cell_type": "code",
      "execution_count": 2,
      "metadata": {},
      "outputs": [],
      "source": [
        "#!pip install tensorflow-addons"
      ]
    },
    {
      "cell_type": "code",
      "execution_count": 3,
      "metadata": {
        "id": "KqwBy20oO65Z",
        "outputId": "2915b469-0e6d-40a9-8e68-7519c4ba78e8"
      },
      "outputs": [],
      "source": [
        "import tensorflow as tf\n",
        "import tensorflow_addons as tfa\n",
        "import matplotlib.pyplot as plt\n",
        "import numpy as np\n",
        "\n",
        "from itertools import tee\n",
        "from sklearn.metrics import r2_score"
      ]
    },
    {
      "cell_type": "code",
      "execution_count": 4,
      "metadata": {},
      "outputs": [],
      "source": [
        "def fun( x ):\n",
        "    np.random.seed(685)\n",
        "    noise = np.random.normal(0, 0.1, size=x.shape) # 1st arg: mean of the distribution, 2nd arg: Standard deviation of the distribution\n",
        "    return np.power(x, 2) + noise"
      ]
    },
    {
      "cell_type": "code",
      "execution_count": 5,
      "metadata": {
        "id": "W9nUrCWaP7kU",
        "outputId": "2915b469-0e6d-40a9-8e68-7519c4ba78e8"
      },
      "outputs": [
        {
          "name": "stdout",
          "output_type": "stream",
          "text": [
            "(100, 1) (100, 1)\n"
          ]
        },
        {
          "data": {
            "image/png": "[encoded data removed]",
            "text/plain": [
              "<Figure size 432x288 with 1 Axes>"
            ]
          },
          "metadata": {
            "needs_background": "light"
          },
          "output_type": "display_data"
        }
      ],
      "source": [
        "tf.random.set_seed(342)\n",
        "\n",
        "# preparing dataset\n",
        "x = np.linspace(-1, 1, 100)[:, np.newaxis]          # shape (100, 1)\n",
        "#x = np.linspace(-1, 1, 100)[:, None]\n",
        "#x = np.linspace(-1, 1, 100).reshape(-1,1)\n",
        "\n",
        "# y =x^2\n",
        "#y = np.power(x, 2) + noise \n",
        "y = fun(x)                         # shape (100, 1) + white noise\n",
        "\n",
        "print(x.shape,y.shape)\n",
        "\n",
        "# plot data\n",
        "plt.scatter(x, y)\n",
        "plt.show()"
      ]
    },
    {
      "cell_type": "code",
      "execution_count": 6,
      "metadata": {},
      "outputs": [],
      "source": [
        "# Use these code in python > 3.10\n",
        "#from itertools import tee, pairwise\n",
        "#print( pairwise(df.iloc[:-1,0].items()) )"
      ]
    },
    {
      "cell_type": "code",
      "execution_count": 7,
      "metadata": {},
      "outputs": [],
      "source": [
        "from itertools import tee\n",
        "def pairwise(iterable):\n",
        "    # pairwise('ABCDEFG') --> AB BC CD DE EF FG\n",
        "    # copy iterable object, default n = 2\n",
        "    a, b = tee(iterable, 2)\n",
        "    # shift second iterable list\n",
        "    next(b, None)\n",
        "    # zip will concate two iterable objects, the length equals the shoest one.\n",
        "    return zip(a, b)"
      ]
    },
    {
      "cell_type": "code",
      "execution_count": 8,
      "metadata": {},
      "outputs": [
        {
          "data": {
            "image/png": "[encoded data removed]",
            "text/plain": [
              "<Figure size 432x288 with 1 Axes>"
            ]
          },
          "metadata": {
            "needs_background": "light"
          },
          "output_type": "display_data"
        }
      ],
      "source": [
        "middle = []\n",
        "formula_val = []\n",
        "for e1, e2 in pairwise(x):\n",
        "    middle.append( 0.5 * (e1+e2) )\n",
        "    formula_val.append( ( 0.5 * (e1+e2))**2 )\n",
        "\n",
        "x_val = np.array(middle)\n",
        "y_val = np.array(formula_val)\n",
        "\n",
        "plt.scatter(x, y)\n",
        "plt.scatter(x_val, y_val, color='r')\n",
        "plt.show()"
      ]
    },
    {
      "cell_type": "markdown",
      "metadata": {
        "id": "xCJTb0D0O65c"
      },
      "source": [
        "![nn](https://i.imgur.com/AboATTY.png)"
      ]
    },
    {
      "cell_type": "code",
      "execution_count": 9,
      "metadata": {},
      "outputs": [
        {
          "name": "stdout",
          "output_type": "stream",
          "text": [
            "Model: \"sequential\"\n",
            "_________________________________________________________________\n",
            "Layer (type)                 Output Shape              Param #   \n",
            "=================================================================\n",
            "layer1 (Dense)               (None, 2)                 4         \n",
            "_________________________________________________________________\n",
            "layer2 (Dense)               (None, 3)                 9         \n",
            "_________________________________________________________________\n",
            "layer3 (Dense)               (None, 3)                 12        \n",
            "_________________________________________________________________\n",
            "layer4 (Dense)               (None, 2)                 8         \n",
            "_________________________________________________________________\n",
            "layer5 (Dense)               (None, 1)                 3         \n",
            "=================================================================\n",
            "Total params: 36\n",
            "Trainable params: 36\n",
            "Non-trainable params: 0\n",
            "_________________________________________________________________\n"
          ]
        }
      ],
      "source": [
        "# Functional API\n",
        "\n",
        "model_fun = tf.keras.Sequential(\n",
        "    [\n",
        "        tf.keras.Input(shape=(1)),\n",
        "        tf.keras.layers.Dense(2, activation=\"relu\", name=\"layer1\"),\n",
        "        tf.keras.layers.Dense(3, activation=\"relu\", name=\"layer2\"),\n",
        "        tf.keras.layers.Dense(3, activation=\"relu\", name=\"layer3\"),\n",
        "        tf.keras.layers.Dense(2, activation=\"relu\", name=\"layer4\"),\n",
        "        tf.keras.layers.Dense(1, name=\"layer5\"),\n",
        "    ]\n",
        ")\n",
        "\n",
        "model_fun.summary()"
      ]
    },
    {
      "cell_type": "code",
      "execution_count": 10,
      "metadata": {},
      "outputs": [],
      "source": [
        "model_fun.compile(\n",
        "    optimizer=tf.keras.optimizers.Adam(learning_rate=0.001),  # Optimizer\n",
        "    # Loss function to minimize\n",
        "    loss=tf.keras.losses.MeanSquaredError(),\n",
        "    # List of metrics to monitor\n",
        "    metrics=[ tf.keras.metrics.MeanAbsoluteError(),\n",
        "        tf.keras.metrics.MeanSquaredError(), \n",
        "        tf.keras.metrics.RootMeanSquaredError()\n",
        "        ],\n",
        ")"
      ]
    },
    {
      "cell_type": "code",
      "execution_count": 11,
      "metadata": {},
      "outputs": [
        {
          "name": "stdout",
          "output_type": "stream",
          "text": [
            "Fit model on training data\n"
          ]
        },
        {
          "name": "stderr",
          "output_type": "stream",
          "text": [
            "Training:   0%|           0/200 ETA: ?s,  ?epochs/s"
          ]
        },
        {
          "name": "stdout",
          "output_type": "stream",
          "text": [
            "Epoch 1/200\n"
          ]
        },
        {
          "name": "stderr",
          "output_type": "stream",
          "text": [
            "2/2██████████ ETA: 00:00s - loss: 0.1118 - mean_absolute_error: 0.2433 - mean_squared_error: 0.1118 - root_mean_squared_error: 0.3343\n",
            "Training:   0%|           1/200 ETA: 04:35s,   1.39s/epochs"
          ]
        },
        {
          "name": "stdout",
          "output_type": "stream",
          "text": [
            "Epoch 2/200\n"
          ]
        },
        {
          "name": "stderr",
          "output_type": "stream",
          "text": [
            "2/2██████████ ETA: 00:00s - loss: 0.1060 - mean_absolute_error: 0.2355 - mean_squared_error: 0.1060 - root_mean_squared_error: 0.3256\n"
          ]
        },
        {
          "name": "stdout",
          "output_type": "stream",
          "text": [
            "Epoch 3/200\n"
          ]
        },
        {
          "name": "stderr",
          "output_type": "stream",
          "text": [
            "2/2██████████ ETA: 00:00s - loss: 0.1003 - mean_absolute_error: 0.2278 - mean_squared_error: 0.1003 - root_mean_squared_error: 0.3167\n"
          ]
        },
        {
          "name": "stdout",
          "output_type": "stream",
          "text": [
            "Epoch 4/200\n"
          ]
        },
        {
          "name": "stderr",
          "output_type": "stream",
          "text": [
            "2/2██████████ ETA: 00:00s - loss: 0.0953 - mean_absolute_error: 0.2209 - mean_squared_error: 0.0953 - root_mean_squared_error: 0.3086\n"
          ]
        },
        {
          "name": "stdout",
          "output_type": "stream",
          "text": [
            "Epoch 5/200\n"
          ]
        },
        {
          "name": "stderr",
          "output_type": "stream",
          "text": [
            "2/2██████████ ETA: 00:00s - loss: 0.0902 - mean_absolute_error: 0.2150 - mean_squared_error: 0.0902 - root_mean_squared_error: 0.3004\n"
          ]
        },
        {
          "name": "stdout",
          "output_type": "stream",
          "text": [
            "Epoch 6/200\n"
          ]
        },
        {
          "name": "stderr",
          "output_type": "stream",
          "text": [
            "2/2██████████ ETA: 00:00s - loss: 0.0854 - mean_absolute_error: 0.2088 - mean_squared_error: 0.0854 - root_mean_squared_error: 0.2922\n"
          ]
        },
        {
          "name": "stdout",
          "output_type": "stream",
          "text": [
            "Epoch 7/200\n"
          ]
        },
        {
          "name": "stderr",
          "output_type": "stream",
          "text": [
            "2/2██████████ ETA: 00:00s - loss: 0.0805 - mean_absolute_error: 0.2025 - mean_squared_error: 0.0805 - root_mean_squared_error: 0.2838\n",
            "Training:   4%|▎          7/200 ETA: 00:31s,   6.22epochs/s"
          ]
        },
        {
          "name": "stdout",
          "output_type": "stream",
          "text": [
            "Epoch 8/200\n"
          ]
        },
        {
          "name": "stderr",
          "output_type": "stream",
          "text": [
            "2/2██████████ ETA: 00:00s - loss: 0.0762 - mean_absolute_error: 0.1972 - mean_squared_error: 0.0762 - root_mean_squared_error: 0.2760\n"
          ]
        },
        {
          "name": "stdout",
          "output_type": "stream",
          "text": [
            "Epoch 9/200\n"
          ]
        },
        {
          "name": "stderr",
          "output_type": "stream",
          "text": [
            "2/2██████████ ETA: 00:00s - loss: 0.0724 - mean_absolute_error: 0.1926 - mean_squared_error: 0.0724 - root_mean_squared_error: 0.2690\n"
          ]
        },
        {
          "name": "stdout",
          "output_type": "stream",
          "text": [
            "Epoch 10/200\n"
          ]
        },
        {
          "name": "stderr",
          "output_type": "stream",
          "text": [
            "2/2██████████ ETA: 00:00s - loss: 0.0685 - mean_absolute_error: 0.1878 - mean_squared_error: 0.0685 - root_mean_squared_error: 0.2617\n"
          ]
        },
        {
          "name": "stdout",
          "output_type": "stream",
          "text": [
            "Epoch 11/200\n"
          ]
        },
        {
          "name": "stderr",
          "output_type": "stream",
          "text": [
            "2/2██████████ ETA: 00:00s - loss: 0.0652 - mean_absolute_error: 0.1846 - mean_squared_error: 0.0652 - root_mean_squared_error: 0.2553\n"
          ]
        },
        {
          "name": "stdout",
          "output_type": "stream",
          "text": [
            "Epoch 12/200\n"
          ]
        },
        {
          "name": "stderr",
          "output_type": "stream",
          "text": [
            "2/2██████████ ETA: 00:00s - loss: 0.0617 - mean_absolute_error: 0.1809 - mean_squared_error: 0.0617 - root_mean_squared_error: 0.2484\n"
          ]
        },
        {
          "name": "stdout",
          "output_type": "stream",
          "text": [
            "Epoch 13/200\n"
          ]
        },
        {
          "name": "stderr",
          "output_type": "stream",
          "text": [
            "2/2██████████ ETA: 00:00s - loss: 0.0590 - mean_absolute_error: 0.1782 - mean_squared_error: 0.0590 - root_mean_squared_error: 0.2429\n"
          ]
        },
        {
          "name": "stdout",
          "output_type": "stream",
          "text": [
            "Epoch 14/200\n"
          ]
        },
        {
          "name": "stderr",
          "output_type": "stream",
          "text": [
            "2/2██████████ ETA: 00:00s - loss: 0.0563 - mean_absolute_error: 0.1753 - mean_squared_error: 0.0563 - root_mean_squared_error: 0.2373\n",
            "Training:   7%|▋          14/200 ETA: 00:13s,  13.44epochs/s"
          ]
        },
        {
          "name": "stdout",
          "output_type": "stream",
          "text": [
            "Epoch 15/200\n"
          ]
        },
        {
          "name": "stderr",
          "output_type": "stream",
          "text": [
            "2/2██████████ ETA: 00:00s - loss: 0.0538 - mean_absolute_error: 0.1732 - mean_squared_error: 0.0538 - root_mean_squared_error: 0.2321\n"
          ]
        },
        {
          "name": "stdout",
          "output_type": "stream",
          "text": [
            "Epoch 16/200\n"
          ]
        },
        {
          "name": "stderr",
          "output_type": "stream",
          "text": [
            "2/2██████████ ETA: 00:00s - loss: 0.0520 - mean_absolute_error: 0.1720 - mean_squared_error: 0.0520 - root_mean_squared_error: 0.2281\n"
          ]
        },
        {
          "name": "stdout",
          "output_type": "stream",
          "text": [
            "Epoch 17/200\n"
          ]
        },
        {
          "name": "stderr",
          "output_type": "stream",
          "text": [
            "2/2██████████ ETA: 00:00s - loss: 0.0500 - mean_absolute_error: 0.1705 - mean_squared_error: 0.0500 - root_mean_squared_error: 0.2236\n"
          ]
        },
        {
          "name": "stdout",
          "output_type": "stream",
          "text": [
            "Epoch 18/200\n"
          ]
        },
        {
          "name": "stderr",
          "output_type": "stream",
          "text": [
            "2/2██████████ ETA: 00:00s - loss: 0.0487 - mean_absolute_error: 0.1699 - mean_squared_error: 0.0487 - root_mean_squared_error: 0.2208\n"
          ]
        },
        {
          "name": "stdout",
          "output_type": "stream",
          "text": [
            "Epoch 19/200\n"
          ]
        },
        {
          "name": "stderr",
          "output_type": "stream",
          "text": [
            "2/2██████████ ETA: 00:00s - loss: 0.0473 - mean_absolute_error: 0.1689 - mean_squared_error: 0.0473 - root_mean_squared_error: 0.2175\n"
          ]
        },
        {
          "name": "stdout",
          "output_type": "stream",
          "text": [
            "Epoch 20/200\n"
          ]
        },
        {
          "name": "stderr",
          "output_type": "stream",
          "text": [
            "2/2██████████ ETA: 00:00s - loss: 0.0460 - mean_absolute_error: 0.1680 - mean_squared_error: 0.0460 - root_mean_squared_error: 0.2145\n"
          ]
        },
        {
          "name": "stdout",
          "output_type": "stream",
          "text": [
            "Epoch 21/200\n"
          ]
        },
        {
          "name": "stderr",
          "output_type": "stream",
          "text": [
            "2/2██████████ ETA: 00:00s - loss: 0.0452 - mean_absolute_error: 0.1683 - mean_squared_error: 0.0452 - root_mean_squared_error: 0.2127\n",
            "Training:  10%|█          21/200 ETA: 00:08s,  21.07epochs/s"
          ]
        },
        {
          "name": "stdout",
          "output_type": "stream",
          "text": [
            "Epoch 22/200\n"
          ]
        },
        {
          "name": "stderr",
          "output_type": "stream",
          "text": [
            "2/2██████████ ETA: 00:00s - loss: 0.0442 - mean_absolute_error: 0.1679 - mean_squared_error: 0.0442 - root_mean_squared_error: 0.2103\n"
          ]
        },
        {
          "name": "stdout",
          "output_type": "stream",
          "text": [
            "Epoch 23/200\n"
          ]
        },
        {
          "name": "stderr",
          "output_type": "stream",
          "text": [
            "2/2██████████ ETA: 00:00s - loss: 0.0439 - mean_absolute_error: 0.1688 - mean_squared_error: 0.0439 - root_mean_squared_error: 0.2094\n"
          ]
        },
        {
          "name": "stdout",
          "output_type": "stream",
          "text": [
            "Epoch 24/200\n"
          ]
        },
        {
          "name": "stderr",
          "output_type": "stream",
          "text": [
            "2/2██████████ ETA: 00:00s - loss: 0.0432 - mean_absolute_error: 0.1690 - mean_squared_error: 0.0432 - root_mean_squared_error: 0.2078\n"
          ]
        },
        {
          "name": "stdout",
          "output_type": "stream",
          "text": [
            "Epoch 25/200\n"
          ]
        },
        {
          "name": "stderr",
          "output_type": "stream",
          "text": [
            "2/2██████████ ETA: 00:00s - loss: 0.0427 - mean_absolute_error: 0.1693 - mean_squared_error: 0.0427 - root_mean_squared_error: 0.2067\n"
          ]
        },
        {
          "name": "stdout",
          "output_type": "stream",
          "text": [
            "Epoch 26/200\n"
          ]
        },
        {
          "name": "stderr",
          "output_type": "stream",
          "text": [
            "2/2██████████ ETA: 00:00s - loss: 0.0424 - mean_absolute_error: 0.1698 - mean_squared_error: 0.0424 - root_mean_squared_error: 0.2059\n"
          ]
        },
        {
          "name": "stdout",
          "output_type": "stream",
          "text": [
            "Epoch 27/200\n"
          ]
        },
        {
          "name": "stderr",
          "output_type": "stream",
          "text": [
            "2/2██████████ ETA: 00:00s - loss: 0.0421 - mean_absolute_error: 0.1700 - mean_squared_error: 0.0421 - root_mean_squared_error: 0.2052\n",
            "Training:  14%|█▎         27/200 ETA: 00:06s,  27.45epochs/s"
          ]
        },
        {
          "name": "stdout",
          "output_type": "stream",
          "text": [
            "Epoch 28/200\n"
          ]
        },
        {
          "name": "stderr",
          "output_type": "stream",
          "text": [
            "2/2██████████ ETA: 00:00s - loss: 0.0418 - mean_absolute_error: 0.1698 - mean_squared_error: 0.0418 - root_mean_squared_error: 0.2044\n"
          ]
        },
        {
          "name": "stdout",
          "output_type": "stream",
          "text": [
            "Epoch 29/200\n"
          ]
        },
        {
          "name": "stderr",
          "output_type": "stream",
          "text": [
            "2/2██████████ ETA: 00:00s - loss: 0.0414 - mean_absolute_error: 0.1697 - mean_squared_error: 0.0414 - root_mean_squared_error: 0.2035\n"
          ]
        },
        {
          "name": "stdout",
          "output_type": "stream",
          "text": [
            "Epoch 30/200\n"
          ]
        },
        {
          "name": "stderr",
          "output_type": "stream",
          "text": [
            "2/2██████████ ETA: 00:00s - loss: 0.0412 - mean_absolute_error: 0.1696 - mean_squared_error: 0.0412 - root_mean_squared_error: 0.2031\n"
          ]
        },
        {
          "name": "stdout",
          "output_type": "stream",
          "text": [
            "Epoch 31/200\n"
          ]
        },
        {
          "name": "stderr",
          "output_type": "stream",
          "text": [
            "2/2██████████ ETA: 00:00s - loss: 0.0409 - mean_absolute_error: 0.1692 - mean_squared_error: 0.0409 - root_mean_squared_error: 0.2023\n"
          ]
        },
        {
          "name": "stdout",
          "output_type": "stream",
          "text": [
            "Epoch 32/200\n"
          ]
        },
        {
          "name": "stderr",
          "output_type": "stream",
          "text": [
            "2/2██████████ ETA: 00:00s - loss: 0.0407 - mean_absolute_error: 0.1690 - mean_squared_error: 0.0407 - root_mean_squared_error: 0.2017\n"
          ]
        },
        {
          "name": "stdout",
          "output_type": "stream",
          "text": [
            "Epoch 33/200\n"
          ]
        },
        {
          "name": "stderr",
          "output_type": "stream",
          "text": [
            "2/2██████████ ETA: 00:00s - loss: 0.0404 - mean_absolute_error: 0.1685 - mean_squared_error: 0.0404 - root_mean_squared_error: 0.2010\n",
            "Training:  16%|█▋         33/200 ETA: 00:05s,  33.23epochs/s"
          ]
        },
        {
          "name": "stdout",
          "output_type": "stream",
          "text": [
            "Epoch 34/200\n"
          ]
        },
        {
          "name": "stderr",
          "output_type": "stream",
          "text": [
            "2/2██████████ ETA: 00:00s - loss: 0.0401 - mean_absolute_error: 0.1680 - mean_squared_error: 0.0401 - root_mean_squared_error: 0.2002\n"
          ]
        },
        {
          "name": "stdout",
          "output_type": "stream",
          "text": [
            "Epoch 35/200\n"
          ]
        },
        {
          "name": "stderr",
          "output_type": "stream",
          "text": [
            "2/2██████████ ETA: 00:00s - loss: 0.0398 - mean_absolute_error: 0.1674 - mean_squared_error: 0.0398 - root_mean_squared_error: 0.1996\n"
          ]
        },
        {
          "name": "stdout",
          "output_type": "stream",
          "text": [
            "Epoch 36/200\n"
          ]
        },
        {
          "name": "stderr",
          "output_type": "stream",
          "text": [
            "2/2██████████ ETA: 00:00s - loss: 0.0395 - mean_absolute_error: 0.1667 - mean_squared_error: 0.0395 - root_mean_squared_error: 0.1988\n"
          ]
        },
        {
          "name": "stdout",
          "output_type": "stream",
          "text": [
            "Epoch 37/200\n"
          ]
        },
        {
          "name": "stderr",
          "output_type": "stream",
          "text": [
            "2/2██████████ ETA: 00:00s - loss: 0.0392 - mean_absolute_error: 0.1659 - mean_squared_error: 0.0392 - root_mean_squared_error: 0.1980\n"
          ]
        },
        {
          "name": "stdout",
          "output_type": "stream",
          "text": [
            "Epoch 38/200\n"
          ]
        },
        {
          "name": "stderr",
          "output_type": "stream",
          "text": [
            "2/2██████████ ETA: 00:00s - loss: 0.0388 - mean_absolute_error: 0.1650 - mean_squared_error: 0.0388 - root_mean_squared_error: 0.1971\n"
          ]
        },
        {
          "name": "stdout",
          "output_type": "stream",
          "text": [
            "Epoch 39/200\n"
          ]
        },
        {
          "name": "stderr",
          "output_type": "stream",
          "text": [
            "2/2██████████ ETA: 00:00s - loss: 0.0385 - mean_absolute_error: 0.1641 - mean_squared_error: 0.0385 - root_mean_squared_error: 0.1962\n",
            "Training:  20%|█▉         39/200 ETA: 00:04s,  38.90epochs/s"
          ]
        },
        {
          "name": "stdout",
          "output_type": "stream",
          "text": [
            "Epoch 40/200\n"
          ]
        },
        {
          "name": "stderr",
          "output_type": "stream",
          "text": [
            "2/2██████████ ETA: 00:00s - loss: 0.0382 - mean_absolute_error: 0.1633 - mean_squared_error: 0.0382 - root_mean_squared_error: 0.1954\n"
          ]
        },
        {
          "name": "stdout",
          "output_type": "stream",
          "text": [
            "Epoch 41/200\n"
          ]
        },
        {
          "name": "stderr",
          "output_type": "stream",
          "text": [
            "2/2██████████ ETA: 00:00s - loss: 0.0379 - mean_absolute_error: 0.1624 - mean_squared_error: 0.0379 - root_mean_squared_error: 0.1946\n"
          ]
        },
        {
          "name": "stdout",
          "output_type": "stream",
          "text": [
            "Epoch 42/200\n"
          ]
        },
        {
          "name": "stderr",
          "output_type": "stream",
          "text": [
            "2/2██████████ ETA: 00:00s - loss: 0.0375 - mean_absolute_error: 0.1615 - mean_squared_error: 0.0375 - root_mean_squared_error: 0.1937\n"
          ]
        },
        {
          "name": "stdout",
          "output_type": "stream",
          "text": [
            "Epoch 43/200\n"
          ]
        },
        {
          "name": "stderr",
          "output_type": "stream",
          "text": [
            "2/2██████████ ETA: 00:00s - loss: 0.0372 - mean_absolute_error: 0.1606 - mean_squared_error: 0.0372 - root_mean_squared_error: 0.1928\n"
          ]
        },
        {
          "name": "stdout",
          "output_type": "stream",
          "text": [
            "Epoch 44/200\n"
          ]
        },
        {
          "name": "stderr",
          "output_type": "stream",
          "text": [
            "2/2██████████ ETA: 00:00s - loss: 0.0368 - mean_absolute_error: 0.1597 - mean_squared_error: 0.0368 - root_mean_squared_error: 0.1919\n"
          ]
        },
        {
          "name": "stdout",
          "output_type": "stream",
          "text": [
            "Epoch 45/200\n"
          ]
        },
        {
          "name": "stderr",
          "output_type": "stream",
          "text": [
            "2/2██████████ ETA: 00:00s - loss: 0.0365 - mean_absolute_error: 0.1588 - mean_squared_error: 0.0365 - root_mean_squared_error: 0.1910\n"
          ]
        },
        {
          "name": "stdout",
          "output_type": "stream",
          "text": [
            "Epoch 46/200\n"
          ]
        },
        {
          "name": "stderr",
          "output_type": "stream",
          "text": [
            "2/2██████████ ETA: 00:00s - loss: 0.0361 - mean_absolute_error: 0.1578 - mean_squared_error: 0.0361 - root_mean_squared_error: 0.1901\n",
            "Training:  23%|██▎        46/200 ETA: 00:03s,  44.58epochs/s"
          ]
        },
        {
          "name": "stdout",
          "output_type": "stream",
          "text": [
            "Epoch 47/200\n"
          ]
        },
        {
          "name": "stderr",
          "output_type": "stream",
          "text": [
            "2/2██████████ ETA: 00:00s - loss: 0.0358 - mean_absolute_error: 0.1568 - mean_squared_error: 0.0358 - root_mean_squared_error: 0.1892\n"
          ]
        },
        {
          "name": "stdout",
          "output_type": "stream",
          "text": [
            "Epoch 48/200\n"
          ]
        },
        {
          "name": "stderr",
          "output_type": "stream",
          "text": [
            "2/2██████████ ETA: 00:00s - loss: 0.0354 - mean_absolute_error: 0.1558 - mean_squared_error: 0.0354 - root_mean_squared_error: 0.1883\n"
          ]
        },
        {
          "name": "stdout",
          "output_type": "stream",
          "text": [
            "Epoch 49/200\n"
          ]
        },
        {
          "name": "stderr",
          "output_type": "stream",
          "text": [
            "2/2██████████ ETA: 00:00s - loss: 0.0351 - mean_absolute_error: 0.1547 - mean_squared_error: 0.0351 - root_mean_squared_error: 0.1873\n"
          ]
        },
        {
          "name": "stdout",
          "output_type": "stream",
          "text": [
            "Epoch 50/200\n"
          ]
        },
        {
          "name": "stderr",
          "output_type": "stream",
          "text": [
            "2/2██████████ ETA: 00:00s - loss: 0.0348 - mean_absolute_error: 0.1537 - mean_squared_error: 0.0348 - root_mean_squared_error: 0.1864\n"
          ]
        },
        {
          "name": "stdout",
          "output_type": "stream",
          "text": [
            "Epoch 51/200\n"
          ]
        },
        {
          "name": "stderr",
          "output_type": "stream",
          "text": [
            "2/2██████████ ETA: 00:00s - loss: 0.0344 - mean_absolute_error: 0.1527 - mean_squared_error: 0.0344 - root_mean_squared_error: 0.1855\n"
          ]
        },
        {
          "name": "stdout",
          "output_type": "stream",
          "text": [
            "Epoch 52/200\n"
          ]
        },
        {
          "name": "stderr",
          "output_type": "stream",
          "text": [
            "2/2██████████ ETA: 00:00s - loss: 0.0341 - mean_absolute_error: 0.1516 - mean_squared_error: 0.0341 - root_mean_squared_error: 0.1847\n"
          ]
        },
        {
          "name": "stdout",
          "output_type": "stream",
          "text": [
            "Epoch 53/200\n"
          ]
        },
        {
          "name": "stderr",
          "output_type": "stream",
          "text": [
            "2/2██████████ ETA: 00:00s - loss: 0.0338 - mean_absolute_error: 0.1505 - mean_squared_error: 0.0338 - root_mean_squared_error: 0.1837\n",
            "Training:  26%|██▋        53/200 ETA: 00:02s,  49.01epochs/s"
          ]
        },
        {
          "name": "stdout",
          "output_type": "stream",
          "text": [
            "Epoch 54/200\n"
          ]
        },
        {
          "name": "stderr",
          "output_type": "stream",
          "text": [
            "2/2██████████ ETA: 00:00s - loss: 0.0334 - mean_absolute_error: 0.1495 - mean_squared_error: 0.0334 - root_mean_squared_error: 0.1828\n"
          ]
        },
        {
          "name": "stdout",
          "output_type": "stream",
          "text": [
            "Epoch 55/200\n"
          ]
        },
        {
          "name": "stderr",
          "output_type": "stream",
          "text": [
            "2/2██████████ ETA: 00:00s - loss: 0.0331 - mean_absolute_error: 0.1485 - mean_squared_error: 0.0331 - root_mean_squared_error: 0.1819\n"
          ]
        },
        {
          "name": "stdout",
          "output_type": "stream",
          "text": [
            "Epoch 56/200\n"
          ]
        },
        {
          "name": "stderr",
          "output_type": "stream",
          "text": [
            "2/2██████████ ETA: 00:00s - loss: 0.0328 - mean_absolute_error: 0.1475 - mean_squared_error: 0.0328 - root_mean_squared_error: 0.1810\n"
          ]
        },
        {
          "name": "stdout",
          "output_type": "stream",
          "text": [
            "Epoch 57/200\n"
          ]
        },
        {
          "name": "stderr",
          "output_type": "stream",
          "text": [
            "2/2██████████ ETA: 00:00s - loss: 0.0324 - mean_absolute_error: 0.1465 - mean_squared_error: 0.0324 - root_mean_squared_error: 0.1801\n"
          ]
        },
        {
          "name": "stdout",
          "output_type": "stream",
          "text": [
            "Epoch 58/200\n"
          ]
        },
        {
          "name": "stderr",
          "output_type": "stream",
          "text": [
            "2/2██████████ ETA: 00:00s - loss: 0.0321 - mean_absolute_error: 0.1456 - mean_squared_error: 0.0321 - root_mean_squared_error: 0.1792\n"
          ]
        },
        {
          "name": "stdout",
          "output_type": "stream",
          "text": [
            "Epoch 59/200\n"
          ]
        },
        {
          "name": "stderr",
          "output_type": "stream",
          "text": [
            "2/2██████████ ETA: 00:00s - loss: 0.0318 - mean_absolute_error: 0.1448 - mean_squared_error: 0.0318 - root_mean_squared_error: 0.1783\n",
            "Training:  30%|██▉        59/200 ETA: 00:02s,  51.76epochs/s"
          ]
        },
        {
          "name": "stdout",
          "output_type": "stream",
          "text": [
            "Epoch 60/200\n"
          ]
        },
        {
          "name": "stderr",
          "output_type": "stream",
          "text": [
            "2/2██████████ ETA: 00:00s - loss: 0.0314 - mean_absolute_error: 0.1438 - mean_squared_error: 0.0314 - root_mean_squared_error: 0.1772\n"
          ]
        },
        {
          "name": "stdout",
          "output_type": "stream",
          "text": [
            "Epoch 61/200\n"
          ]
        },
        {
          "name": "stderr",
          "output_type": "stream",
          "text": [
            "2/2██████████ ETA: 00:00s - loss: 0.0311 - mean_absolute_error: 0.1428 - mean_squared_error: 0.0311 - root_mean_squared_error: 0.1763\n"
          ]
        },
        {
          "name": "stdout",
          "output_type": "stream",
          "text": [
            "Epoch 62/200\n"
          ]
        },
        {
          "name": "stderr",
          "output_type": "stream",
          "text": [
            "2/2██████████ ETA: 00:00s - loss: 0.0307 - mean_absolute_error: 0.1419 - mean_squared_error: 0.0307 - root_mean_squared_error: 0.1753\n"
          ]
        },
        {
          "name": "stdout",
          "output_type": "stream",
          "text": [
            "Epoch 63/200\n"
          ]
        },
        {
          "name": "stderr",
          "output_type": "stream",
          "text": [
            "2/2██████████ ETA: 00:00s - loss: 0.0304 - mean_absolute_error: 0.1409 - mean_squared_error: 0.0304 - root_mean_squared_error: 0.1743\n"
          ]
        },
        {
          "name": "stdout",
          "output_type": "stream",
          "text": [
            "Epoch 64/200\n"
          ]
        },
        {
          "name": "stderr",
          "output_type": "stream",
          "text": [
            "2/2██████████ ETA: 00:00s - loss: 0.0301 - mean_absolute_error: 0.1400 - mean_squared_error: 0.0301 - root_mean_squared_error: 0.1734\n"
          ]
        },
        {
          "name": "stdout",
          "output_type": "stream",
          "text": [
            "Epoch 65/200\n"
          ]
        },
        {
          "name": "stderr",
          "output_type": "stream",
          "text": [
            "2/2██████████ ETA: 00:00s - loss: 0.0297 - mean_absolute_error: 0.1391 - mean_squared_error: 0.0297 - root_mean_squared_error: 0.1724\n"
          ]
        },
        {
          "name": "stdout",
          "output_type": "stream",
          "text": [
            "Epoch 66/200\n"
          ]
        },
        {
          "name": "stderr",
          "output_type": "stream",
          "text": [
            "2/2██████████ ETA: 00:00s - loss: 0.0294 - mean_absolute_error: 0.1383 - mean_squared_error: 0.0294 - root_mean_squared_error: 0.1714\n",
            "Training:  33%|███▎       66/200 ETA: 00:02s,  55.40epochs/s"
          ]
        },
        {
          "name": "stdout",
          "output_type": "stream",
          "text": [
            "Epoch 67/200\n"
          ]
        },
        {
          "name": "stderr",
          "output_type": "stream",
          "text": [
            "2/2██████████ ETA: 00:00s - loss: 0.0290 - mean_absolute_error: 0.1374 - mean_squared_error: 0.0290 - root_mean_squared_error: 0.1704\n"
          ]
        },
        {
          "name": "stdout",
          "output_type": "stream",
          "text": [
            "Epoch 68/200\n"
          ]
        },
        {
          "name": "stderr",
          "output_type": "stream",
          "text": [
            "2/2██████████ ETA: 00:00s - loss: 0.0287 - mean_absolute_error: 0.1366 - mean_squared_error: 0.0287 - root_mean_squared_error: 0.1693\n"
          ]
        },
        {
          "name": "stdout",
          "output_type": "stream",
          "text": [
            "Epoch 69/200\n"
          ]
        },
        {
          "name": "stderr",
          "output_type": "stream",
          "text": [
            "2/2██████████ ETA: 00:00s - loss: 0.0283 - mean_absolute_error: 0.1357 - mean_squared_error: 0.0283 - root_mean_squared_error: 0.1683\n"
          ]
        },
        {
          "name": "stdout",
          "output_type": "stream",
          "text": [
            "Epoch 70/200\n"
          ]
        },
        {
          "name": "stderr",
          "output_type": "stream",
          "text": [
            "2/2██████████ ETA: 00:00s - loss: 0.0280 - mean_absolute_error: 0.1349 - mean_squared_error: 0.0280 - root_mean_squared_error: 0.1674\n"
          ]
        },
        {
          "name": "stdout",
          "output_type": "stream",
          "text": [
            "Epoch 71/200\n"
          ]
        },
        {
          "name": "stderr",
          "output_type": "stream",
          "text": [
            "2/2██████████ ETA: 00:00s - loss: 0.0277 - mean_absolute_error: 0.1342 - mean_squared_error: 0.0277 - root_mean_squared_error: 0.1664\n"
          ]
        },
        {
          "name": "stdout",
          "output_type": "stream",
          "text": [
            "Epoch 72/200\n"
          ]
        },
        {
          "name": "stderr",
          "output_type": "stream",
          "text": [
            "2/2██████████ ETA: 00:00s - loss: 0.0274 - mean_absolute_error: 0.1333 - mean_squared_error: 0.0274 - root_mean_squared_error: 0.1654\n"
          ]
        },
        {
          "name": "stdout",
          "output_type": "stream",
          "text": [
            "Epoch 73/200\n"
          ]
        },
        {
          "name": "stderr",
          "output_type": "stream",
          "text": [
            "2/2██████████ ETA: 00:00s - loss: 0.0270 - mean_absolute_error: 0.1324 - mean_squared_error: 0.0270 - root_mean_squared_error: 0.1644\n",
            "Training:  36%|███▋       73/200 ETA: 00:02s,  48.58epochs/s"
          ]
        },
        {
          "name": "stdout",
          "output_type": "stream",
          "text": [
            "Epoch 74/200\n"
          ]
        },
        {
          "name": "stderr",
          "output_type": "stream",
          "text": [
            "2/2██████████ ETA: 00:00s - loss: 0.0267 - mean_absolute_error: 0.1314 - mean_squared_error: 0.0267 - root_mean_squared_error: 0.1634\n"
          ]
        },
        {
          "name": "stdout",
          "output_type": "stream",
          "text": [
            "Epoch 75/200\n"
          ]
        },
        {
          "name": "stderr",
          "output_type": "stream",
          "text": [
            "2/2██████████ ETA: 00:00s - loss: 0.0264 - mean_absolute_error: 0.1304 - mean_squared_error: 0.0264 - root_mean_squared_error: 0.1624\n"
          ]
        },
        {
          "name": "stdout",
          "output_type": "stream",
          "text": [
            "Epoch 76/200\n"
          ]
        },
        {
          "name": "stderr",
          "output_type": "stream",
          "text": [
            "2/2██████████ ETA: 00:00s - loss: 0.0261 - mean_absolute_error: 0.1295 - mean_squared_error: 0.0261 - root_mean_squared_error: 0.1615\n"
          ]
        },
        {
          "name": "stdout",
          "output_type": "stream",
          "text": [
            "Epoch 77/200\n"
          ]
        },
        {
          "name": "stderr",
          "output_type": "stream",
          "text": [
            "2/2██████████ ETA: 00:00s - loss: 0.0257 - mean_absolute_error: 0.1285 - mean_squared_error: 0.0257 - root_mean_squared_error: 0.1604\n"
          ]
        },
        {
          "name": "stdout",
          "output_type": "stream",
          "text": [
            "Epoch 78/200\n"
          ]
        },
        {
          "name": "stderr",
          "output_type": "stream",
          "text": [
            "2/2██████████ ETA: 00:00s - loss: 0.0254 - mean_absolute_error: 0.1275 - mean_squared_error: 0.0254 - root_mean_squared_error: 0.1594\n"
          ]
        },
        {
          "name": "stdout",
          "output_type": "stream",
          "text": [
            "Epoch 79/200\n"
          ]
        },
        {
          "name": "stderr",
          "output_type": "stream",
          "text": [
            "2/2██████████ ETA: 00:00s - loss: 0.0251 - mean_absolute_error: 0.1266 - mean_squared_error: 0.0251 - root_mean_squared_error: 0.1585\n"
          ]
        },
        {
          "name": "stdout",
          "output_type": "stream",
          "text": [
            "Epoch 80/200\n"
          ]
        },
        {
          "name": "stderr",
          "output_type": "stream",
          "text": [
            "2/2██████████ ETA: 00:00s - loss: 0.0248 - mean_absolute_error: 0.1256 - mean_squared_error: 0.0248 - root_mean_squared_error: 0.1575\n",
            "Training:  40%|████       80/200 ETA: 00:02s,  52.37epochs/s"
          ]
        },
        {
          "name": "stdout",
          "output_type": "stream",
          "text": [
            "Epoch 81/200\n"
          ]
        },
        {
          "name": "stderr",
          "output_type": "stream",
          "text": [
            "2/2██████████ ETA: 00:00s - loss: 0.0245 - mean_absolute_error: 0.1247 - mean_squared_error: 0.0245 - root_mean_squared_error: 0.1565\n"
          ]
        },
        {
          "name": "stdout",
          "output_type": "stream",
          "text": [
            "Epoch 82/200\n"
          ]
        },
        {
          "name": "stderr",
          "output_type": "stream",
          "text": [
            "2/2██████████ ETA: 00:00s - loss: 0.0242 - mean_absolute_error: 0.1237 - mean_squared_error: 0.0242 - root_mean_squared_error: 0.1555\n"
          ]
        },
        {
          "name": "stdout",
          "output_type": "stream",
          "text": [
            "Epoch 83/200\n"
          ]
        },
        {
          "name": "stderr",
          "output_type": "stream",
          "text": [
            "2/2██████████ ETA: 00:00s - loss: 0.0239 - mean_absolute_error: 0.1228 - mean_squared_error: 0.0239 - root_mean_squared_error: 0.1546\n"
          ]
        },
        {
          "name": "stdout",
          "output_type": "stream",
          "text": [
            "Epoch 84/200\n"
          ]
        },
        {
          "name": "stderr",
          "output_type": "stream",
          "text": [
            "2/2██████████ ETA: 00:00s - loss: 0.0236 - mean_absolute_error: 0.1218 - mean_squared_error: 0.0236 - root_mean_squared_error: 0.1536\n"
          ]
        },
        {
          "name": "stdout",
          "output_type": "stream",
          "text": [
            "Epoch 85/200\n"
          ]
        },
        {
          "name": "stderr",
          "output_type": "stream",
          "text": [
            "2/2██████████ ETA: 00:00s - loss: 0.0233 - mean_absolute_error: 0.1210 - mean_squared_error: 0.0233 - root_mean_squared_error: 0.1526\n"
          ]
        },
        {
          "name": "stdout",
          "output_type": "stream",
          "text": [
            "Epoch 86/200\n"
          ]
        },
        {
          "name": "stderr",
          "output_type": "stream",
          "text": [
            "2/2██████████ ETA: 00:00s - loss: 0.0230 - mean_absolute_error: 0.1202 - mean_squared_error: 0.0230 - root_mean_squared_error: 0.1517\n"
          ]
        },
        {
          "name": "stdout",
          "output_type": "stream",
          "text": [
            "Epoch 87/200\n"
          ]
        },
        {
          "name": "stderr",
          "output_type": "stream",
          "text": [
            "2/2██████████ ETA: 00:00s - loss: 0.0227 - mean_absolute_error: 0.1192 - mean_squared_error: 0.0227 - root_mean_squared_error: 0.1506\n",
            "Training:  44%|████▎      87/200 ETA: 00:02s,  55.26epochs/s"
          ]
        },
        {
          "name": "stdout",
          "output_type": "stream",
          "text": [
            "Epoch 88/200\n"
          ]
        },
        {
          "name": "stderr",
          "output_type": "stream",
          "text": [
            "2/2██████████ ETA: 00:00s - loss: 0.0224 - mean_absolute_error: 0.1184 - mean_squared_error: 0.0224 - root_mean_squared_error: 0.1497"
          ]
        },
        {
          "name": "stdout",
          "output_type": "stream",
          "text": [
            "Epoch 89/200\n"
          ]
        },
        {
          "name": "stderr",
          "output_type": "stream",
          "text": [
            "\n",
            "2/2██████████ ETA: 00:00s - loss: 0.0221 - mean_absolute_error: 0.1176 - mean_squared_error: 0.0221 - root_mean_squared_error: 0.1487\n"
          ]
        },
        {
          "name": "stdout",
          "output_type": "stream",
          "text": [
            "Epoch 90/200\n"
          ]
        },
        {
          "name": "stderr",
          "output_type": "stream",
          "text": [
            "2/2██████████ ETA: 00:00s - loss: 0.0218 - mean_absolute_error: 0.1168 - mean_squared_error: 0.0218 - root_mean_squared_error: 0.1478\n"
          ]
        },
        {
          "name": "stdout",
          "output_type": "stream",
          "text": [
            "Epoch 91/200\n"
          ]
        },
        {
          "name": "stderr",
          "output_type": "stream",
          "text": [
            "2/2██████████ ETA: 00:00s - loss: 0.0216 - mean_absolute_error: 0.1159 - mean_squared_error: 0.0216 - root_mean_squared_error: 0.1468\n"
          ]
        },
        {
          "name": "stdout",
          "output_type": "stream",
          "text": [
            "Epoch 92/200\n"
          ]
        },
        {
          "name": "stderr",
          "output_type": "stream",
          "text": [
            "2/2██████████ ETA: 00:00s - loss: 0.0212 - mean_absolute_error: 0.1149 - mean_squared_error: 0.0212 - root_mean_squared_error: 0.1458\n"
          ]
        },
        {
          "name": "stdout",
          "output_type": "stream",
          "text": [
            "Epoch 93/200\n"
          ]
        },
        {
          "name": "stderr",
          "output_type": "stream",
          "text": [
            "2/2██████████ ETA: 00:00s - loss: 0.0210 - mean_absolute_error: 0.1139 - mean_squared_error: 0.0210 - root_mean_squared_error: 0.1448\n"
          ]
        },
        {
          "name": "stdout",
          "output_type": "stream",
          "text": [
            "Epoch 94/200\n"
          ]
        },
        {
          "name": "stderr",
          "output_type": "stream",
          "text": [
            "2/2██████████ ETA: 00:00s - loss: 0.0207 - mean_absolute_error: 0.1129 - mean_squared_error: 0.0207 - root_mean_squared_error: 0.1438\n",
            "Training:  47%|████▋      94/200 ETA: 00:01s,  57.59epochs/s"
          ]
        },
        {
          "name": "stdout",
          "output_type": "stream",
          "text": [
            "Epoch 95/200\n"
          ]
        },
        {
          "name": "stderr",
          "output_type": "stream",
          "text": [
            "2/2██████████ ETA: 00:00s - loss: 0.0204 - mean_absolute_error: 0.1119 - mean_squared_error: 0.0204 - root_mean_squared_error: 0.1428\n"
          ]
        },
        {
          "name": "stdout",
          "output_type": "stream",
          "text": [
            "Epoch 96/200\n"
          ]
        },
        {
          "name": "stderr",
          "output_type": "stream",
          "text": [
            "2/2██████████ ETA: 00:00s - loss: 0.0201 - mean_absolute_error: 0.1109 - mean_squared_error: 0.0201 - root_mean_squared_error: 0.1418\n"
          ]
        },
        {
          "name": "stdout",
          "output_type": "stream",
          "text": [
            "Epoch 97/200\n"
          ]
        },
        {
          "name": "stderr",
          "output_type": "stream",
          "text": [
            "2/2██████████ ETA: 00:00s - loss: 0.0198 - mean_absolute_error: 0.1097 - mean_squared_error: 0.0198 - root_mean_squared_error: 0.1407\n"
          ]
        },
        {
          "name": "stdout",
          "output_type": "stream",
          "text": [
            "Epoch 98/200\n"
          ]
        },
        {
          "name": "stderr",
          "output_type": "stream",
          "text": [
            "2/2██████████ ETA: 00:00s - loss: 0.0195 - mean_absolute_error: 0.1087 - mean_squared_error: 0.0195 - root_mean_squared_error: 0.1397\n"
          ]
        },
        {
          "name": "stdout",
          "output_type": "stream",
          "text": [
            "Epoch 99/200\n"
          ]
        },
        {
          "name": "stderr",
          "output_type": "stream",
          "text": [
            "2/2██████████ ETA: 00:00s - loss: 0.0192 - mean_absolute_error: 0.1075 - mean_squared_error: 0.0192 - root_mean_squared_error: 0.1386\n"
          ]
        },
        {
          "name": "stdout",
          "output_type": "stream",
          "text": [
            "Epoch 100/200\n"
          ]
        },
        {
          "name": "stderr",
          "output_type": "stream",
          "text": [
            "2/2██████████ ETA: 00:00s - loss: 0.0189 - mean_absolute_error: 0.1064 - mean_squared_error: 0.0189 - root_mean_squared_error: 0.1374\n"
          ]
        },
        {
          "name": "stdout",
          "output_type": "stream",
          "text": [
            "Epoch 101/200\n"
          ]
        },
        {
          "name": "stderr",
          "output_type": "stream",
          "text": [
            "2/2██████████ ETA: 00:00s - loss: 0.0186 - mean_absolute_error: 0.1053 - mean_squared_error: 0.0186 - root_mean_squared_error: 0.1363\n",
            "Training:  50%|█████      101/200 ETA: 00:01s,  57.58epochs/s"
          ]
        },
        {
          "name": "stdout",
          "output_type": "stream",
          "text": [
            "Epoch 102/200\n"
          ]
        },
        {
          "name": "stderr",
          "output_type": "stream",
          "text": [
            "2/2██████████ ETA: 00:00s - loss: 0.0183 - mean_absolute_error: 0.1041 - mean_squared_error: 0.0183 - root_mean_squared_error: 0.1351\n"
          ]
        },
        {
          "name": "stdout",
          "output_type": "stream",
          "text": [
            "Epoch 103/200\n"
          ]
        },
        {
          "name": "stderr",
          "output_type": "stream",
          "text": [
            "2/2██████████ ETA: 00:00s - loss: 0.0179 - mean_absolute_error: 0.1031 - mean_squared_error: 0.0179 - root_mean_squared_error: 0.1338\n"
          ]
        },
        {
          "name": "stdout",
          "output_type": "stream",
          "text": [
            "Epoch 104/200\n"
          ]
        },
        {
          "name": "stderr",
          "output_type": "stream",
          "text": [
            "2/2██████████ ETA: 00:00s - loss: 0.0176 - mean_absolute_error: 0.1020 - mean_squared_error: 0.0176 - root_mean_squared_error: 0.1326\n"
          ]
        },
        {
          "name": "stdout",
          "output_type": "stream",
          "text": [
            "Epoch 105/200\n"
          ]
        },
        {
          "name": "stderr",
          "output_type": "stream",
          "text": [
            "2/2██████████ ETA: 00:00s - loss: 0.0172 - mean_absolute_error: 0.1010 - mean_squared_error: 0.0172 - root_mean_squared_error: 0.1313\n"
          ]
        },
        {
          "name": "stdout",
          "output_type": "stream",
          "text": [
            "Epoch 106/200\n"
          ]
        },
        {
          "name": "stderr",
          "output_type": "stream",
          "text": [
            "2/2██████████ ETA: 00:00s - loss: 0.0169 - mean_absolute_error: 0.1002 - mean_squared_error: 0.0169 - root_mean_squared_error: 0.1302\n"
          ]
        },
        {
          "name": "stdout",
          "output_type": "stream",
          "text": [
            "Epoch 107/200\n"
          ]
        },
        {
          "name": "stderr",
          "output_type": "stream",
          "text": [
            "2/2██████████ ETA: 00:00s - loss: 0.0167 - mean_absolute_error: 0.0994 - mean_squared_error: 0.0167 - root_mean_squared_error: 0.1291\n",
            "Training:  54%|█████▎     107/200 ETA: 00:01s,  56.85epochs/s"
          ]
        },
        {
          "name": "stdout",
          "output_type": "stream",
          "text": [
            "Epoch 108/200\n"
          ]
        },
        {
          "name": "stderr",
          "output_type": "stream",
          "text": [
            "2/2██████████ ETA: 00:00s - loss: 0.0165 - mean_absolute_error: 0.0988 - mean_squared_error: 0.0165 - root_mean_squared_error: 0.1284\n"
          ]
        },
        {
          "name": "stdout",
          "output_type": "stream",
          "text": [
            "Epoch 109/200\n"
          ]
        },
        {
          "name": "stderr",
          "output_type": "stream",
          "text": [
            "2/2██████████ ETA: 00:00s - loss: 0.0163 - mean_absolute_error: 0.0985 - mean_squared_error: 0.0163 - root_mean_squared_error: 0.1277\n"
          ]
        },
        {
          "name": "stdout",
          "output_type": "stream",
          "text": [
            "Epoch 110/200\n"
          ]
        },
        {
          "name": "stderr",
          "output_type": "stream",
          "text": [
            "2/2██████████ ETA: 00:00s - loss: 0.0161 - mean_absolute_error: 0.0980 - mean_squared_error: 0.0161 - root_mean_squared_error: 0.1270\n"
          ]
        },
        {
          "name": "stdout",
          "output_type": "stream",
          "text": [
            "Epoch 111/200\n"
          ]
        },
        {
          "name": "stderr",
          "output_type": "stream",
          "text": [
            "2/2██████████ ETA: 00:00s - loss: 0.0159 - mean_absolute_error: 0.0975 - mean_squared_error: 0.0159 - root_mean_squared_error: 0.1262\n"
          ]
        },
        {
          "name": "stdout",
          "output_type": "stream",
          "text": [
            "Epoch 112/200\n"
          ]
        },
        {
          "name": "stderr",
          "output_type": "stream",
          "text": [
            "2/2██████████ ETA: 00:00s - loss: 0.0157 - mean_absolute_error: 0.0970 - mean_squared_error: 0.0157 - root_mean_squared_error: 0.1254\n"
          ]
        },
        {
          "name": "stdout",
          "output_type": "stream",
          "text": [
            "Epoch 113/200\n"
          ]
        },
        {
          "name": "stderr",
          "output_type": "stream",
          "text": [
            "2/2██████████ ETA: 00:00s - loss: 0.0156 - mean_absolute_error: 0.0967 - mean_squared_error: 0.0156 - root_mean_squared_error: 0.1248\n"
          ]
        },
        {
          "name": "stdout",
          "output_type": "stream",
          "text": [
            "Epoch 114/200\n"
          ]
        },
        {
          "name": "stderr",
          "output_type": "stream",
          "text": [
            "2/2██████████ ETA: 00:00s - loss: 0.0153 - mean_absolute_error: 0.0960 - mean_squared_error: 0.0153 - root_mean_squared_error: 0.1239\n",
            "Training:  57%|█████▋     114/200 ETA: 00:01s,  57.74epochs/s"
          ]
        },
        {
          "name": "stdout",
          "output_type": "stream",
          "text": [
            "Epoch 115/200\n"
          ]
        },
        {
          "name": "stderr",
          "output_type": "stream",
          "text": [
            "2/2██████████ ETA: 00:00s - loss: 0.0152 - mean_absolute_error: 0.0955 - mean_squared_error: 0.0152 - root_mean_squared_error: 0.1234\n"
          ]
        },
        {
          "name": "stdout",
          "output_type": "stream",
          "text": [
            "Epoch 116/200\n"
          ]
        },
        {
          "name": "stderr",
          "output_type": "stream",
          "text": [
            "2/2██████████ ETA: 00:00s - loss: 0.0151 - mean_absolute_error: 0.0950 - mean_squared_error: 0.0151 - root_mean_squared_error: 0.1227\n"
          ]
        },
        {
          "name": "stdout",
          "output_type": "stream",
          "text": [
            "Epoch 117/200\n"
          ]
        },
        {
          "name": "stderr",
          "output_type": "stream",
          "text": [
            "2/2██████████ ETA: 00:00s - loss: 0.0149 - mean_absolute_error: 0.0944 - mean_squared_error: 0.0149 - root_mean_squared_error: 0.1222\n"
          ]
        },
        {
          "name": "stdout",
          "output_type": "stream",
          "text": [
            "Epoch 118/200\n"
          ]
        },
        {
          "name": "stderr",
          "output_type": "stream",
          "text": [
            "2/2██████████ ETA: 00:00s - loss: 0.0148 - mean_absolute_error: 0.0937 - mean_squared_error: 0.0148 - root_mean_squared_error: 0.1215\n"
          ]
        },
        {
          "name": "stdout",
          "output_type": "stream",
          "text": [
            "Epoch 119/200\n"
          ]
        },
        {
          "name": "stderr",
          "output_type": "stream",
          "text": [
            "2/2██████████ ETA: 00:00s - loss: 0.0146 - mean_absolute_error: 0.0931 - mean_squared_error: 0.0146 - root_mean_squared_error: 0.1210\n"
          ]
        },
        {
          "name": "stdout",
          "output_type": "stream",
          "text": [
            "Epoch 120/200\n"
          ]
        },
        {
          "name": "stderr",
          "output_type": "stream",
          "text": [
            "2/2██████████ ETA: 00:00s - loss: 0.0145 - mean_absolute_error: 0.0927 - mean_squared_error: 0.0145 - root_mean_squared_error: 0.1206\n",
            "Training:  60%|██████     120/200 ETA: 00:01s,  52.51epochs/s"
          ]
        },
        {
          "name": "stdout",
          "output_type": "stream",
          "text": [
            "Epoch 121/200\n"
          ]
        },
        {
          "name": "stderr",
          "output_type": "stream",
          "text": [
            "2/2██████████ ETA: 00:00s - loss: 0.0144 - mean_absolute_error: 0.0923 - mean_squared_error: 0.0144 - root_mean_squared_error: 0.1201\n"
          ]
        },
        {
          "name": "stdout",
          "output_type": "stream",
          "text": [
            "Epoch 122/200\n"
          ]
        },
        {
          "name": "stderr",
          "output_type": "stream",
          "text": [
            "2/2██████████ ETA: 00:00s - loss: 0.0143 - mean_absolute_error: 0.0919 - mean_squared_error: 0.0143 - root_mean_squared_error: 0.1197\n"
          ]
        },
        {
          "name": "stdout",
          "output_type": "stream",
          "text": [
            "Epoch 123/200\n"
          ]
        },
        {
          "name": "stderr",
          "output_type": "stream",
          "text": [
            "2/2██████████ ETA: 00:00s - loss: 0.0142 - mean_absolute_error: 0.0915 - mean_squared_error: 0.0142 - root_mean_squared_error: 0.1192"
          ]
        },
        {
          "name": "stdout",
          "output_type": "stream",
          "text": [
            "Epoch 124/200\n"
          ]
        },
        {
          "name": "stderr",
          "output_type": "stream",
          "text": [
            "\n",
            "2/2██████████ ETA: 00:00s - loss: 0.0141 - mean_absolute_error: 0.0910 - mean_squared_error: 0.0141 - root_mean_squared_error: 0.1187\n"
          ]
        },
        {
          "name": "stdout",
          "output_type": "stream",
          "text": [
            "Epoch 125/200\n"
          ]
        },
        {
          "name": "stderr",
          "output_type": "stream",
          "text": [
            "2/2██████████ ETA: 00:00s - loss: 0.0140 - mean_absolute_error: 0.0907 - mean_squared_error: 0.0140 - root_mean_squared_error: 0.1183\n"
          ]
        },
        {
          "name": "stdout",
          "output_type": "stream",
          "text": [
            "Epoch 126/200\n"
          ]
        },
        {
          "name": "stderr",
          "output_type": "stream",
          "text": [
            "2/2██████████ ETA: 00:00s - loss: 0.0139 - mean_absolute_error: 0.0904 - mean_squared_error: 0.0139 - root_mean_squared_error: 0.1179\n",
            "Training:  63%|██████▎    126/200 ETA: 00:01s,  53.11epochs/s"
          ]
        },
        {
          "name": "stdout",
          "output_type": "stream",
          "text": [
            "Epoch 127/200\n"
          ]
        },
        {
          "name": "stderr",
          "output_type": "stream",
          "text": [
            "2/2██████████ ETA: 00:00s - loss: 0.0138 - mean_absolute_error: 0.0900 - mean_squared_error: 0.0138 - root_mean_squared_error: 0.1174\n"
          ]
        },
        {
          "name": "stdout",
          "output_type": "stream",
          "text": [
            "Epoch 128/200\n"
          ]
        },
        {
          "name": "stderr",
          "output_type": "stream",
          "text": [
            "2/2██████████ ETA: 00:00s - loss: 0.0137 - mean_absolute_error: 0.0898 - mean_squared_error: 0.0137 - root_mean_squared_error: 0.1171\n"
          ]
        },
        {
          "name": "stdout",
          "output_type": "stream",
          "text": [
            "Epoch 129/200\n"
          ]
        },
        {
          "name": "stderr",
          "output_type": "stream",
          "text": [
            "2/2██████████ ETA: 00:00s - loss: 0.0136 - mean_absolute_error: 0.0895 - mean_squared_error: 0.0136 - root_mean_squared_error: 0.1167\n"
          ]
        },
        {
          "name": "stdout",
          "output_type": "stream",
          "text": [
            "Epoch 130/200\n"
          ]
        },
        {
          "name": "stderr",
          "output_type": "stream",
          "text": [
            "2/2██████████ ETA: 00:00s - loss: 0.0136 - mean_absolute_error: 0.0893 - mean_squared_error: 0.0136 - root_mean_squared_error: 0.1164\n"
          ]
        },
        {
          "name": "stdout",
          "output_type": "stream",
          "text": [
            "Epoch 131/200\n"
          ]
        },
        {
          "name": "stderr",
          "output_type": "stream",
          "text": [
            "2/2██████████ ETA: 00:00s - loss: 0.0135 - mean_absolute_error: 0.0890 - mean_squared_error: 0.0135 - root_mean_squared_error: 0.1161\n"
          ]
        },
        {
          "name": "stdout",
          "output_type": "stream",
          "text": [
            "Epoch 132/200\n"
          ]
        },
        {
          "name": "stderr",
          "output_type": "stream",
          "text": [
            "2/2██████████ ETA: 00:00s - loss: 0.0134 - mean_absolute_error: 0.0887 - mean_squared_error: 0.0134 - root_mean_squared_error: 0.1158\n",
            "Training:  66%|██████▌    132/200 ETA: 00:01s,  54.56epochs/s"
          ]
        },
        {
          "name": "stdout",
          "output_type": "stream",
          "text": [
            "Epoch 133/200\n"
          ]
        },
        {
          "name": "stderr",
          "output_type": "stream",
          "text": [
            "2/2██████████ ETA: 00:00s - loss: 0.0133 - mean_absolute_error: 0.0884 - mean_squared_error: 0.0133 - root_mean_squared_error: 0.1154\n"
          ]
        },
        {
          "name": "stdout",
          "output_type": "stream",
          "text": [
            "Epoch 134/200\n"
          ]
        },
        {
          "name": "stderr",
          "output_type": "stream",
          "text": [
            "2/2██████████ ETA: 00:00s - loss: 0.0132 - mean_absolute_error: 0.0881 - mean_squared_error: 0.0132 - root_mean_squared_error: 0.1151\n"
          ]
        },
        {
          "name": "stdout",
          "output_type": "stream",
          "text": [
            "Epoch 135/200\n"
          ]
        },
        {
          "name": "stderr",
          "output_type": "stream",
          "text": [
            "2/2██████████ ETA: 00:00s - loss: 0.0132 - mean_absolute_error: 0.0879 - mean_squared_error: 0.0132 - root_mean_squared_error: 0.1149\n"
          ]
        },
        {
          "name": "stdout",
          "output_type": "stream",
          "text": [
            "Epoch 136/200\n"
          ]
        },
        {
          "name": "stderr",
          "output_type": "stream",
          "text": [
            "2/2██████████ ETA: 00:00s - loss: 0.0132 - mean_absolute_error: 0.0877 - mean_squared_error: 0.0132 - root_mean_squared_error: 0.1147\n"
          ]
        },
        {
          "name": "stdout",
          "output_type": "stream",
          "text": [
            "Epoch 137/200\n"
          ]
        },
        {
          "name": "stderr",
          "output_type": "stream",
          "text": [
            "2/2██████████ ETA: 00:00s - loss: 0.0131 - mean_absolute_error: 0.0874 - mean_squared_error: 0.0131 - root_mean_squared_error: 0.1144\n"
          ]
        },
        {
          "name": "stdout",
          "output_type": "stream",
          "text": [
            "Epoch 138/200\n"
          ]
        },
        {
          "name": "stderr",
          "output_type": "stream",
          "text": [
            "2/2██████████ ETA: 00:00s - loss: 0.0130 - mean_absolute_error: 0.0872 - mean_squared_error: 0.0130 - root_mean_squared_error: 0.1141\n"
          ]
        },
        {
          "name": "stdout",
          "output_type": "stream",
          "text": [
            "Epoch 139/200\n"
          ]
        },
        {
          "name": "stderr",
          "output_type": "stream",
          "text": [
            "2/2██████████ ETA: 00:00s - loss: 0.0130 - mean_absolute_error: 0.0870 - mean_squared_error: 0.0130 - root_mean_squared_error: 0.1139\n",
            "Training:  70%|██████▉    139/200 ETA: 00:01s,  57.42epochs/s"
          ]
        },
        {
          "name": "stdout",
          "output_type": "stream",
          "text": [
            "Epoch 140/200\n"
          ]
        },
        {
          "name": "stderr",
          "output_type": "stream",
          "text": [
            "2/2██████████ ETA: 00:00s - loss: 0.0129 - mean_absolute_error: 0.0866 - mean_squared_error: 0.0129 - root_mean_squared_error: 0.1136\n"
          ]
        },
        {
          "name": "stdout",
          "output_type": "stream",
          "text": [
            "Epoch 141/200\n"
          ]
        },
        {
          "name": "stderr",
          "output_type": "stream",
          "text": [
            "2/2██████████ ETA: 00:00s - loss: 0.0129 - mean_absolute_error: 0.0864 - mean_squared_error: 0.0129 - root_mean_squared_error: 0.1134\n"
          ]
        },
        {
          "name": "stdout",
          "output_type": "stream",
          "text": [
            "Epoch 142/200\n"
          ]
        },
        {
          "name": "stderr",
          "output_type": "stream",
          "text": [
            "2/2██████████ ETA: 00:00s - loss: 0.0128 - mean_absolute_error: 0.0862 - mean_squared_error: 0.0128 - root_mean_squared_error: 0.1131\n"
          ]
        },
        {
          "name": "stdout",
          "output_type": "stream",
          "text": [
            "Epoch 143/200\n"
          ]
        },
        {
          "name": "stderr",
          "output_type": "stream",
          "text": [
            "2/2██████████ ETA: 00:00s - loss: 0.0128 - mean_absolute_error: 0.0860 - mean_squared_error: 0.0128 - root_mean_squared_error: 0.1130\n"
          ]
        },
        {
          "name": "stdout",
          "output_type": "stream",
          "text": [
            "Epoch 144/200\n"
          ]
        },
        {
          "name": "stderr",
          "output_type": "stream",
          "text": [
            "2/2██████████ ETA: 00:00s - loss: 0.0127 - mean_absolute_error: 0.0858 - mean_squared_error: 0.0127 - root_mean_squared_error: 0.1127\n"
          ]
        },
        {
          "name": "stdout",
          "output_type": "stream",
          "text": [
            "Epoch 145/200\n"
          ]
        },
        {
          "name": "stderr",
          "output_type": "stream",
          "text": [
            "2/2██████████ ETA: 00:00s - loss: 0.0127 - mean_absolute_error: 0.0856 - mean_squared_error: 0.0127 - root_mean_squared_error: 0.1125\n"
          ]
        },
        {
          "name": "stdout",
          "output_type": "stream",
          "text": [
            "Epoch 146/200\n"
          ]
        },
        {
          "name": "stderr",
          "output_type": "stream",
          "text": [
            "2/2██████████ ETA: 00:00s - loss: 0.0126 - mean_absolute_error: 0.0855 - mean_squared_error: 0.0126 - root_mean_squared_error: 0.1123\n",
            "Training:  73%|███████▎   146/200 ETA: 00:00s,  59.04epochs/s"
          ]
        },
        {
          "name": "stdout",
          "output_type": "stream",
          "text": [
            "Epoch 147/200\n"
          ]
        },
        {
          "name": "stderr",
          "output_type": "stream",
          "text": [
            "2/2██████████ ETA: 00:00s - loss: 0.0126 - mean_absolute_error: 0.0853 - mean_squared_error: 0.0126 - root_mean_squared_error: 0.1121\n"
          ]
        },
        {
          "name": "stdout",
          "output_type": "stream",
          "text": [
            "Epoch 148/200\n"
          ]
        },
        {
          "name": "stderr",
          "output_type": "stream",
          "text": [
            "2/2██████████ ETA: 00:00s - loss: 0.0125 - mean_absolute_error: 0.0850 - mean_squared_error: 0.0125 - root_mean_squared_error: 0.1119\n"
          ]
        },
        {
          "name": "stdout",
          "output_type": "stream",
          "text": [
            "Epoch 149/200\n"
          ]
        },
        {
          "name": "stderr",
          "output_type": "stream",
          "text": [
            "2/2██████████ ETA: 00:00s - loss: 0.0125 - mean_absolute_error: 0.0848 - mean_squared_error: 0.0125 - root_mean_squared_error: 0.1117\n"
          ]
        },
        {
          "name": "stdout",
          "output_type": "stream",
          "text": [
            "Epoch 150/200\n"
          ]
        },
        {
          "name": "stderr",
          "output_type": "stream",
          "text": [
            "2/2██████████ ETA: 00:00s - loss: 0.0124 - mean_absolute_error: 0.0846 - mean_squared_error: 0.0124 - root_mean_squared_error: 0.1115\n"
          ]
        },
        {
          "name": "stdout",
          "output_type": "stream",
          "text": [
            "Epoch 151/200\n"
          ]
        },
        {
          "name": "stderr",
          "output_type": "stream",
          "text": [
            "2/2██████████ ETA: 00:00s - loss: 0.0124 - mean_absolute_error: 0.0844 - mean_squared_error: 0.0124 - root_mean_squared_error: 0.1113\n"
          ]
        },
        {
          "name": "stdout",
          "output_type": "stream",
          "text": [
            "Epoch 152/200\n"
          ]
        },
        {
          "name": "stderr",
          "output_type": "stream",
          "text": [
            "2/2██████████ ETA: 00:00s - loss: 0.0124 - mean_absolute_error: 0.0842 - mean_squared_error: 0.0124 - root_mean_squared_error: 0.1112\n",
            "Training:  76%|███████▌   152/200 ETA: 00:00s,  56.09epochs/s"
          ]
        },
        {
          "name": "stdout",
          "output_type": "stream",
          "text": [
            "Epoch 153/200\n"
          ]
        },
        {
          "name": "stderr",
          "output_type": "stream",
          "text": [
            "2/2██████████ ETA: 00:00s - loss: 0.0123 - mean_absolute_error: 0.0840 - mean_squared_error: 0.0123 - root_mean_squared_error: 0.1109\n"
          ]
        },
        {
          "name": "stdout",
          "output_type": "stream",
          "text": [
            "Epoch 154/200\n"
          ]
        },
        {
          "name": "stderr",
          "output_type": "stream",
          "text": [
            "2/2██████████ ETA: 00:00s - loss: 0.0123 - mean_absolute_error: 0.0838 - mean_squared_error: 0.0123 - root_mean_squared_error: 0.1108\n"
          ]
        },
        {
          "name": "stdout",
          "output_type": "stream",
          "text": [
            "Epoch 155/200\n"
          ]
        },
        {
          "name": "stderr",
          "output_type": "stream",
          "text": [
            "2/2██████████ ETA: 00:00s - loss: 0.0122 - mean_absolute_error: 0.0837 - mean_squared_error: 0.0122 - root_mean_squared_error: 0.1106\n"
          ]
        },
        {
          "name": "stdout",
          "output_type": "stream",
          "text": [
            "Epoch 156/200\n"
          ]
        },
        {
          "name": "stderr",
          "output_type": "stream",
          "text": [
            "2/2██████████ ETA: 00:00s - loss: 0.0122 - mean_absolute_error: 0.0834 - mean_squared_error: 0.0122 - root_mean_squared_error: 0.1103\n"
          ]
        },
        {
          "name": "stdout",
          "output_type": "stream",
          "text": [
            "Epoch 157/200\n"
          ]
        },
        {
          "name": "stderr",
          "output_type": "stream",
          "text": [
            "2/2██████████ ETA: 00:00s - loss: 0.0121 - mean_absolute_error: 0.0833 - mean_squared_error: 0.0121 - root_mean_squared_error: 0.1101\n"
          ]
        },
        {
          "name": "stdout",
          "output_type": "stream",
          "text": [
            "Epoch 158/200\n"
          ]
        },
        {
          "name": "stderr",
          "output_type": "stream",
          "text": [
            "2/2██████████ ETA: 00:00s - loss: 0.0121 - mean_absolute_error: 0.0831 - mean_squared_error: 0.0121 - root_mean_squared_error: 0.1100\n",
            "Training:  79%|███████▉   158/200 ETA: 00:00s,  53.19epochs/s"
          ]
        },
        {
          "name": "stdout",
          "output_type": "stream",
          "text": [
            "Epoch 159/200\n"
          ]
        },
        {
          "name": "stderr",
          "output_type": "stream",
          "text": [
            "2/2██████████ ETA: 00:00s - loss: 0.0120 - mean_absolute_error: 0.0829 - mean_squared_error: 0.0120 - root_mean_squared_error: 0.1098\n"
          ]
        },
        {
          "name": "stdout",
          "output_type": "stream",
          "text": [
            "Epoch 160/200\n"
          ]
        },
        {
          "name": "stderr",
          "output_type": "stream",
          "text": [
            "2/2██████████ ETA: 00:00s - loss: 0.0120 - mean_absolute_error: 0.0827 - mean_squared_error: 0.0120 - root_mean_squared_error: 0.1095\n"
          ]
        },
        {
          "name": "stdout",
          "output_type": "stream",
          "text": [
            "Epoch 161/200\n"
          ]
        },
        {
          "name": "stderr",
          "output_type": "stream",
          "text": [
            "2/2██████████ ETA: 00:00s - loss: 0.0119 - mean_absolute_error: 0.0826 - mean_squared_error: 0.0119 - root_mean_squared_error: 0.1093\n"
          ]
        },
        {
          "name": "stdout",
          "output_type": "stream",
          "text": [
            "Epoch 162/200\n"
          ]
        },
        {
          "name": "stderr",
          "output_type": "stream",
          "text": [
            "2/2██████████ ETA: 00:00s - loss: 0.0119 - mean_absolute_error: 0.0824 - mean_squared_error: 0.0119 - root_mean_squared_error: 0.1091\n"
          ]
        },
        {
          "name": "stdout",
          "output_type": "stream",
          "text": [
            "Epoch 163/200\n"
          ]
        },
        {
          "name": "stderr",
          "output_type": "stream",
          "text": [
            "2/2██████████ ETA: 00:00s - loss: 0.0119 - mean_absolute_error: 0.0823 - mean_squared_error: 0.0119 - root_mean_squared_error: 0.1089\n"
          ]
        },
        {
          "name": "stdout",
          "output_type": "stream",
          "text": [
            "Epoch 164/200\n"
          ]
        },
        {
          "name": "stderr",
          "output_type": "stream",
          "text": [
            "2/2██████████ ETA: 00:00s - loss: 0.0118 - mean_absolute_error: 0.0821 - mean_squared_error: 0.0118 - root_mean_squared_error: 0.1086\n",
            "Training:  82%|████████▏  164/200 ETA: 00:00s,  52.58epochs/s"
          ]
        },
        {
          "name": "stdout",
          "output_type": "stream",
          "text": [
            "Epoch 165/200\n"
          ]
        },
        {
          "name": "stderr",
          "output_type": "stream",
          "text": [
            "2/2██████████ ETA: 00:00s - loss: 0.0118 - mean_absolute_error: 0.0819 - mean_squared_error: 0.0118 - root_mean_squared_error: 0.1084\n"
          ]
        },
        {
          "name": "stdout",
          "output_type": "stream",
          "text": [
            "Epoch 166/200\n"
          ]
        },
        {
          "name": "stderr",
          "output_type": "stream",
          "text": [
            "2/2██████████ ETA: 00:00s - loss: 0.0117 - mean_absolute_error: 0.0817 - mean_squared_error: 0.0117 - root_mean_squared_error: 0.1082\n"
          ]
        },
        {
          "name": "stdout",
          "output_type": "stream",
          "text": [
            "Epoch 167/200\n"
          ]
        },
        {
          "name": "stderr",
          "output_type": "stream",
          "text": [
            "2/2██████████ ETA: 00:00s - loss: 0.0117 - mean_absolute_error: 0.0817 - mean_squared_error: 0.0117 - root_mean_squared_error: 0.1080\n"
          ]
        },
        {
          "name": "stdout",
          "output_type": "stream",
          "text": [
            "Epoch 168/200\n"
          ]
        },
        {
          "name": "stderr",
          "output_type": "stream",
          "text": [
            "2/2██████████ ETA: 00:00s - loss: 0.0116 - mean_absolute_error: 0.0815 - mean_squared_error: 0.0116 - root_mean_squared_error: 0.1078\n"
          ]
        },
        {
          "name": "stdout",
          "output_type": "stream",
          "text": [
            "Epoch 169/200\n"
          ]
        },
        {
          "name": "stderr",
          "output_type": "stream",
          "text": [
            "2/2██████████ ETA: 00:00s - loss: 0.0116 - mean_absolute_error: 0.0814 - mean_squared_error: 0.0116 - root_mean_squared_error: 0.1076\n"
          ]
        },
        {
          "name": "stdout",
          "output_type": "stream",
          "text": [
            "Epoch 170/200\n"
          ]
        },
        {
          "name": "stderr",
          "output_type": "stream",
          "text": [
            "2/2██████████ ETA: 00:00s - loss: 0.0115 - mean_absolute_error: 0.0814 - mean_squared_error: 0.0115 - root_mean_squared_error: 0.1074\n",
            "Training:  85%|████████▌  170/200 ETA: 00:00s,  52.38epochs/s"
          ]
        },
        {
          "name": "stdout",
          "output_type": "stream",
          "text": [
            "Epoch 171/200\n"
          ]
        },
        {
          "name": "stderr",
          "output_type": "stream",
          "text": [
            "2/2██████████ ETA: 00:00s - loss: 0.0115 - mean_absolute_error: 0.0812 - mean_squared_error: 0.0115 - root_mean_squared_error: 0.1072\n"
          ]
        },
        {
          "name": "stdout",
          "output_type": "stream",
          "text": [
            "Epoch 172/200\n"
          ]
        },
        {
          "name": "stderr",
          "output_type": "stream",
          "text": [
            "2/2██████████ ETA: 00:00s - loss: 0.0115 - mean_absolute_error: 0.0811 - mean_squared_error: 0.0115 - root_mean_squared_error: 0.1071\n"
          ]
        },
        {
          "name": "stdout",
          "output_type": "stream",
          "text": [
            "Epoch 173/200\n"
          ]
        },
        {
          "name": "stderr",
          "output_type": "stream",
          "text": [
            "2/2██████████ ETA: 00:00s - loss: 0.0114 - mean_absolute_error: 0.0810 - mean_squared_error: 0.0114 - root_mean_squared_error: 0.1068\n"
          ]
        },
        {
          "name": "stdout",
          "output_type": "stream",
          "text": [
            "Epoch 174/200\n"
          ]
        },
        {
          "name": "stderr",
          "output_type": "stream",
          "text": [
            "2/2██████████ ETA: 00:00s - loss: 0.0114 - mean_absolute_error: 0.0809 - mean_squared_error: 0.0114 - root_mean_squared_error: 0.1067\n"
          ]
        },
        {
          "name": "stdout",
          "output_type": "stream",
          "text": [
            "Epoch 175/200\n"
          ]
        },
        {
          "name": "stderr",
          "output_type": "stream",
          "text": [
            "2/2██████████ ETA: 00:00s - loss: 0.0113 - mean_absolute_error: 0.0808 - mean_squared_error: 0.0113 - root_mean_squared_error: 0.1065\n"
          ]
        },
        {
          "name": "stdout",
          "output_type": "stream",
          "text": [
            "Epoch 176/200\n"
          ]
        },
        {
          "name": "stderr",
          "output_type": "stream",
          "text": [
            "2/2██████████ ETA: 00:00s - loss: 0.0113 - mean_absolute_error: 0.0807 - mean_squared_error: 0.0113 - root_mean_squared_error: 0.1063\n",
            "Training:  88%|████████▊  176/200 ETA: 00:00s,  52.72epochs/s"
          ]
        },
        {
          "name": "stdout",
          "output_type": "stream",
          "text": [
            "Epoch 177/200\n"
          ]
        },
        {
          "name": "stderr",
          "output_type": "stream",
          "text": [
            "2/2██████████ ETA: 00:00s - loss: 0.0113 - mean_absolute_error: 0.0805 - mean_squared_error: 0.0113 - root_mean_squared_error: 0.1061\n"
          ]
        },
        {
          "name": "stdout",
          "output_type": "stream",
          "text": [
            "Epoch 178/200\n"
          ]
        },
        {
          "name": "stderr",
          "output_type": "stream",
          "text": [
            "2/2██████████ ETA: 00:00s - loss: 0.0112 - mean_absolute_error: 0.0804 - mean_squared_error: 0.0112 - root_mean_squared_error: 0.1060"
          ]
        },
        {
          "name": "stdout",
          "output_type": "stream",
          "text": [
            "Epoch 179/200\n"
          ]
        },
        {
          "name": "stderr",
          "output_type": "stream",
          "text": [
            "\n",
            "2/2██████████ ETA: 00:00s - loss: 0.0112 - mean_absolute_error: 0.0803 - mean_squared_error: 0.0112 - root_mean_squared_error: 0.1058\n"
          ]
        },
        {
          "name": "stdout",
          "output_type": "stream",
          "text": [
            "Epoch 180/200\n"
          ]
        },
        {
          "name": "stderr",
          "output_type": "stream",
          "text": [
            "2/2██████████ ETA: 00:00s - loss: 0.0111 - mean_absolute_error: 0.0800 - mean_squared_error: 0.0111 - root_mean_squared_error: 0.1056\n"
          ]
        },
        {
          "name": "stdout",
          "output_type": "stream",
          "text": [
            "Epoch 181/200\n"
          ]
        },
        {
          "name": "stderr",
          "output_type": "stream",
          "text": [
            "2/2██████████ ETA: 00:00s - loss: 0.0111 - mean_absolute_error: 0.0798 - mean_squared_error: 0.0111 - root_mean_squared_error: 0.1054\n"
          ]
        },
        {
          "name": "stdout",
          "output_type": "stream",
          "text": [
            "Epoch 182/200\n"
          ]
        },
        {
          "name": "stderr",
          "output_type": "stream",
          "text": [
            "2/2██████████ ETA: 00:00s - loss: 0.0111 - mean_absolute_error: 0.0795 - mean_squared_error: 0.0111 - root_mean_squared_error: 0.1051\n",
            "Training:  91%|█████████  182/200 ETA: 00:00s,  50.84epochs/s"
          ]
        },
        {
          "name": "stdout",
          "output_type": "stream",
          "text": [
            "Epoch 183/200\n"
          ]
        },
        {
          "name": "stderr",
          "output_type": "stream",
          "text": [
            "2/2██████████ ETA: 00:00s - loss: 0.0110 - mean_absolute_error: 0.0793 - mean_squared_error: 0.0110 - root_mean_squared_error: 0.1049\n"
          ]
        },
        {
          "name": "stdout",
          "output_type": "stream",
          "text": [
            "Epoch 184/200\n"
          ]
        },
        {
          "name": "stderr",
          "output_type": "stream",
          "text": [
            "2/2██████████ ETA: 00:00s - loss: 0.0110 - mean_absolute_error: 0.0791 - mean_squared_error: 0.0110 - root_mean_squared_error: 0.1048\n"
          ]
        },
        {
          "name": "stdout",
          "output_type": "stream",
          "text": [
            "Epoch 185/200\n"
          ]
        },
        {
          "name": "stderr",
          "output_type": "stream",
          "text": [
            "2/2██████████ ETA: 00:00s - loss: 0.0109 - mean_absolute_error: 0.0790 - mean_squared_error: 0.0109 - root_mean_squared_error: 0.1046\n"
          ]
        },
        {
          "name": "stdout",
          "output_type": "stream",
          "text": [
            "Epoch 186/200\n"
          ]
        },
        {
          "name": "stderr",
          "output_type": "stream",
          "text": [
            "2/2██████████ ETA: 00:00s - loss: 0.0109 - mean_absolute_error: 0.0788 - mean_squared_error: 0.0109 - root_mean_squared_error: 0.1044\n"
          ]
        },
        {
          "name": "stdout",
          "output_type": "stream",
          "text": [
            "Epoch 187/200\n"
          ]
        },
        {
          "name": "stderr",
          "output_type": "stream",
          "text": [
            "2/2██████████ ETA: 00:00s - loss: 0.0109 - mean_absolute_error: 0.0788 - mean_squared_error: 0.0109 - root_mean_squared_error: 0.1043\n"
          ]
        },
        {
          "name": "stdout",
          "output_type": "stream",
          "text": [
            "Epoch 188/200\n"
          ]
        },
        {
          "name": "stderr",
          "output_type": "stream",
          "text": [
            "2/2██████████ ETA: 00:00s - loss: 0.0108 - mean_absolute_error: 0.0785 - mean_squared_error: 0.0108 - root_mean_squared_error: 0.1040\n",
            "Training:  94%|█████████▍ 188/200 ETA: 00:00s,  52.51epochs/s"
          ]
        },
        {
          "name": "stdout",
          "output_type": "stream",
          "text": [
            "Epoch 189/200\n"
          ]
        },
        {
          "name": "stderr",
          "output_type": "stream",
          "text": [
            "2/2██████████ ETA: 00:00s - loss: 0.0108 - mean_absolute_error: 0.0783 - mean_squared_error: 0.0108 - root_mean_squared_error: 0.1039\n"
          ]
        },
        {
          "name": "stdout",
          "output_type": "stream",
          "text": [
            "Epoch 190/200\n"
          ]
        },
        {
          "name": "stderr",
          "output_type": "stream",
          "text": [
            "2/2██████████ ETA: 00:00s - loss: 0.0107 - mean_absolute_error: 0.0781 - mean_squared_error: 0.0107 - root_mean_squared_error: 0.1037\n"
          ]
        },
        {
          "name": "stdout",
          "output_type": "stream",
          "text": [
            "Epoch 191/200\n"
          ]
        },
        {
          "name": "stderr",
          "output_type": "stream",
          "text": [
            "2/2██████████ ETA: 00:00s - loss: 0.0107 - mean_absolute_error: 0.0780 - mean_squared_error: 0.0107 - root_mean_squared_error: 0.1035\n"
          ]
        },
        {
          "name": "stdout",
          "output_type": "stream",
          "text": [
            "Epoch 192/200\n"
          ]
        },
        {
          "name": "stderr",
          "output_type": "stream",
          "text": [
            "2/2██████████ ETA: 00:00s - loss: 0.0107 - mean_absolute_error: 0.0778 - mean_squared_error: 0.0107 - root_mean_squared_error: 0.1034\n"
          ]
        },
        {
          "name": "stdout",
          "output_type": "stream",
          "text": [
            "Epoch 193/200\n"
          ]
        },
        {
          "name": "stderr",
          "output_type": "stream",
          "text": [
            "2/2██████████ ETA: 00:00s - loss: 0.0107 - mean_absolute_error: 0.0777 - mean_squared_error: 0.0107 - root_mean_squared_error: 0.1033\n"
          ]
        },
        {
          "name": "stdout",
          "output_type": "stream",
          "text": [
            "Epoch 194/200\n"
          ]
        },
        {
          "name": "stderr",
          "output_type": "stream",
          "text": [
            "2/2██████████ ETA: 00:00s - loss: 0.0106 - mean_absolute_error: 0.0774 - mean_squared_error: 0.0106 - root_mean_squared_error: 0.1031\n",
            "Training:  97%|█████████▋ 194/200 ETA: 00:00s,  54.16epochs/s"
          ]
        },
        {
          "name": "stdout",
          "output_type": "stream",
          "text": [
            "Epoch 195/200\n"
          ]
        },
        {
          "name": "stderr",
          "output_type": "stream",
          "text": [
            "2/2██████████ ETA: 00:00s - loss: 0.0106 - mean_absolute_error: 0.0772 - mean_squared_error: 0.0106 - root_mean_squared_error: 0.1029\n"
          ]
        },
        {
          "name": "stdout",
          "output_type": "stream",
          "text": [
            "Epoch 196/200\n"
          ]
        },
        {
          "name": "stderr",
          "output_type": "stream",
          "text": [
            "2/2██████████ ETA: 00:00s - loss: 0.0105 - mean_absolute_error: 0.0771 - mean_squared_error: 0.0105 - root_mean_squared_error: 0.1027\n"
          ]
        },
        {
          "name": "stdout",
          "output_type": "stream",
          "text": [
            "Epoch 197/200\n"
          ]
        },
        {
          "name": "stderr",
          "output_type": "stream",
          "text": [
            "2/2██████████ ETA: 00:00s - loss: 0.0105 - mean_absolute_error: 0.0770 - mean_squared_error: 0.0105 - root_mean_squared_error: 0.1026\n"
          ]
        },
        {
          "name": "stdout",
          "output_type": "stream",
          "text": [
            "Epoch 198/200\n"
          ]
        },
        {
          "name": "stderr",
          "output_type": "stream",
          "text": [
            "2/2██████████ ETA: 00:00s - loss: 0.0105 - mean_absolute_error: 0.0770 - mean_squared_error: 0.0105 - root_mean_squared_error: 0.1025\n"
          ]
        },
        {
          "name": "stdout",
          "output_type": "stream",
          "text": [
            "Epoch 199/200\n"
          ]
        },
        {
          "name": "stderr",
          "output_type": "stream",
          "text": [
            "2/2██████████ ETA: 00:00s - loss: 0.0105 - mean_absolute_error: 0.0769 - mean_squared_error: 0.0105 - root_mean_squared_error: 0.1023\n"
          ]
        },
        {
          "name": "stdout",
          "output_type": "stream",
          "text": [
            "Epoch 200/200\n"
          ]
        },
        {
          "name": "stderr",
          "output_type": "stream",
          "text": [
            "2/2██████████ ETA: 00:00s - loss: 0.0104 - mean_absolute_error: 0.0768 - mean_squared_error: 0.0104 - root_mean_squared_error: 0.1022\n",
            "Training: 100%|██████████ 200/200 ETA: 00:00s,  40.54epochs/s\n"
          ]
        }
      ],
      "source": [
        "print(\"Fit model on training data\")\n",
        "\n",
        "# initialize tqdm callback with default parameters\n",
        "tqdm_callback = tfa.callbacks.TQDMProgressBar()\n",
        "\n",
        "history = model_fun.fit(\n",
        "    x,\n",
        "    y,\n",
        "    batch_size=64,\n",
        "    epochs=200,\n",
        "    verbose=0,\n",
        "    callbacks=[tqdm_callback],\n",
        "    # We pass some validation for\n",
        "    # monitoring validation loss and metrics\n",
        "    # at the end of each epoch\n",
        "    #validation_data=(x_val, y_val),\n",
        ")"
      ]
    },
    {
      "cell_type": "code",
      "execution_count": 12,
      "metadata": {},
      "outputs": [],
      "source": [
        "history_dict = history.history\n",
        "history_dict.keys()\n",
        "mae = history_dict['mean_absolute_error']\n",
        "\n",
        "loss = history_dict['loss']\n",
        "\n",
        "epochs_ = range(1,len(mae)+1)"
      ]
    },
    {
      "cell_type": "code",
      "execution_count": 13,
      "metadata": {},
      "outputs": [
        {
          "data": {
            "image/png": "[encoded data removed]",
            "text/plain": [
              "<Figure size 432x288 with 1 Axes>"
            ]
          },
          "metadata": {
            "needs_background": "light"
          },
          "output_type": "display_data"
        }
      ],
      "source": [
        "plt.plot(epochs_ , loss , label = 'training loss')\n",
        "plt.plot(epochs_ , mae , label = 'mean_absolute_error')\n",
        "plt.title('training loss and mean_absolute_error')\n",
        "plt.xlabel('epochs')\n",
        "plt.ylabel('loss')\n",
        "plt.legend()\n",
        "plt.show()"
      ]
    },
    {
      "cell_type": "code",
      "execution_count": 14,
      "metadata": {},
      "outputs": [
        {
          "name": "stdout",
          "output_type": "stream",
          "text": [
            "Evaluate on test data\n"
          ]
        },
        {
          "name": "stderr",
          "output_type": "stream",
          "text": [
            "1/1██████████ ETA: 00:00s - loss: 0.0045 - mean_absolute_error: 0.0543 - mean_squared_error: 0.0045 - root_mean_squared_error: 0.0671"
          ]
        },
        {
          "name": "stdout",
          "output_type": "stream",
          "text": [
            "test loss, test acc: [0.004499929957091808, 0.05426286533474922, 0.004499929957091808, 0.067081518471241]\n"
          ]
        },
        {
          "name": "stderr",
          "output_type": "stream",
          "text": [
            "\n"
          ]
        }
      ],
      "source": [
        "# Evaluate the model on the test data using `evaluate`\n",
        "\n",
        "print(\"Evaluate on test data\")\n",
        "results = model_fun.evaluate(x_val[:10], y_val[:10], callbacks=[tqdm_callback], verbose=0)\n",
        "print(\"test loss, test acc:\", results)"
      ]
    },
    {
      "cell_type": "code",
      "execution_count": 15,
      "metadata": {},
      "outputs": [
        {
          "name": "stdout",
          "output_type": "stream",
          "text": [
            "Generate predictions for 3 samples\n",
            "predictions shape: (3, 1)\n"
          ]
        }
      ],
      "source": [
        "# Generate predictions (probabilities -- the output of the last layer)\n",
        "# on new data using `predict`\n",
        "print(\"Generate predictions for 3 samples\")\n",
        "predictions = model_fun.predict([0.35, 0.67, 0.93])\n",
        "print(\"predictions shape:\", predictions.shape)"
      ]
    },
    {
      "cell_type": "code",
      "execution_count": 18,
      "metadata": {},
      "outputs": [
        {
          "data": {
            "image/png": "[encoded data removed]",
            "text/plain": [
              "<Figure size 432x288 with 1 Axes>"
            ]
          },
          "metadata": {
            "needs_background": "light"
          },
          "output_type": "display_data"
        }
      ],
      "source": [
        "plt.scatter(x, y, label='data')\n",
        "\n",
        "plt.scatter([0.35, 0.67, 0.93], predictions, label='test data')\n",
        "plt.plot(x, model_fun.predict(x), color='r', label='Planck formulas')\n",
        "plt.text(0.5, 0, 'r2_score=%.4f' % r2_score(y, model_fun.predict(x)) )\n",
        "\n",
        "plt.legend()\n",
        "plt.show()"
      ]
    }
  ],
  "metadata": {
    "colab": {
      "collapsed_sections": [],
      "name": "regression_tf_nn.ipynb",
      "provenance": []
    },
    "kernelspec": {
      "display_name": "Python 3 (ipykernel)",
      "language": "python",
      "name": "python3"
    },
    "language_info": {
      "codemirror_mode": {
        "name": "ipython",
        "version": 3
      },
      "file_extension": ".py",
      "mimetype": "text/x-python",
      "name": "python",
      "nbconvert_exporter": "python",
      "pygments_lexer": "ipython3",
      "version": "3.9.7"
    }
  },
  "nbformat": 4,
  "nbformat_minor": 0
}
